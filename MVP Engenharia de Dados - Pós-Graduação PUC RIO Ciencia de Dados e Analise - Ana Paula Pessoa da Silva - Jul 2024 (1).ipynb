{
 "cells": [
  {
   "cell_type": "markdown",
   "metadata": {
    "application/vnd.databricks.v1+cell": {
     "cellMetadata": {
      "byteLimit": 2048000,
      "rowLimit": 10000
     },
     "inputWidgets": {},
     "nuid": "f5c6fd06-0a51-4beb-933e-e51567dda408",
     "showTitle": false,
     "title": ""
    }
   },
   "source": [
    "<div style=\"text-align: justify;\">\n",
    "INTRODUÇÃO: APRESENTAÇÃO DO PROBLEMA E A ESCOLHA DO DATASET PARA O MVP\n",
    "\n",
    "\n",
    "Hoje vivemos em um cenário, bastante preocupante, onde não e mais possível tolerar ações predatórias contra o meio ambiente, sejam estas os desmatamentos; os incêndios contra vegetações; emissões de poluentes na atmosfera, solos, rios e mares.  Não importa qual seja a ação. Todas geram efeitos adversos e nos cobrarão faturas cada vez mais alta em prazos cada vez mais curtos. As consequências das ações predatórias ambientais não se restringem apenas ao declínio ou mesmo a extinção de espécies da fauna e flora, mas se estende sobre nós, sociedade, expondo-nos a maiores riscos de toda ordem e piorando muito a nossa qualidade de vida. Com esta reflexão em mente, busquei por um conjunto de dados que tratasse dessas mazelas que atingem a natureza e a sociedade simultaneamente.\n",
    " \n",
    "\n",
    "O Instituto Chico Mendes de Conservação da Biodiversidade, ICMBio, disponibiliza no Portal de Dados do Governo Federal, Gov.BR, dados que se alinham ao desejo manifestado acima e, assim, foi selecionado o arquivo intitulado de [Áreas queimadas em unidades de conservação federais](https://dados.gov.br/dados/conjuntos-dados/incendios-em-ucs) para ser utilizado neste MVP.  Outro dataset, localizado no mesmo ambiente, a ser utilizado para dar mais qualidade aos dados é o [Atributos das Unidades de Conservacao Federais]( (https://dados.gov.br/dados/conjuntos-dados/atributos-das-unidades-de-conservacao-federais) .  Mais adiante será aprofundado sobre os conjuntos de dados utilizados aqui na sessão de Metadado e  Catálago, mas deixo já a disposição o [link](https://www.gov.br/icmbio/pt-br/acesso-a-informacao/dados-abertos) que disponibiliza de forma resumida informações sobre as tabelas disponibilizadas.\n",
    "\n",
    "Após a estruturação dos dados provenientes destes arquivos buscar-se-á as respostas para as seguintes questões: Quais Unidades de Conservação tiveram as maiores áreas queimadas atingidas por incêndios? Entre o intervalo de tempo escolhido, 2018-2023, quais UCs sofreram com as maiores frequências de queimadas? Considerando o Bioma predominante de cada UCs, quais foram as mais afetadas por incêndio? E por fim, tem se a ideia de unir as tabelas de incêndio, que originalmente, estão separadas por ano, para visualizar em gráfico de linha e avaliar como foi a evolução dos incêndios nas Unidades de Conservação ao longo deste período.\n",
    "\n",
    "Obs1.: os arquivos originais estão formato em excel, sendo necessário a conversão para CSV para o UPLOAD dentro da nuvem do Databricks Community, a versão gratuita para usuários. Para tornar este processo mais ágil, a conversão foi feita no Google Colab onde foi realizada antes uma formatação nos valores dos atributos, transformando letras minúsculas em maiúsculas; retirando os caracteres especiais e acentuações e, no caso, dos títulos das colunas também retirando os espaços em branco, substituindo-os por underline (_). Toda essas ações foram feitas visado evitar problemas na conversão e no carregamento dos arquivos CSV dentro do Databricks. Para verificar como se deu este etapa inicial do trabalho, [ir no Google Colab](https://colab.research.google.com/drive/10mFX7G46NC4IOu58o_YTPW3TM2xAvgrE?authuser=1) .\n",
    "\n",
    "\n",
    "Obs2:  O código deste notebook desenvolvido também está disponível no [meu GitHub](https://github.com/anapessoapcrj/incedio_uc/blob/main/MVP%20Engenharia%20de%20Dados%20-%20P%C3%B3s-Gradua%C3%A7%C3%A3o%20Ciencia%20de%20Dados%20e%20Analise%20-%20Ana%20Paula%20Pessoa%20da%20Silva%20-%20Jul%202024.py)\n",
    "\n",
    "\n"
   ]
  },
  {
   "cell_type": "markdown",
   "metadata": {
    "application/vnd.databricks.v1+cell": {
     "cellMetadata": {
      "byteLimit": 2048000,
      "rowLimit": 10000
     },
     "inputWidgets": {},
     "nuid": "f59774a0-9545-4fa1-a037-61559a8921e0",
     "showTitle": false,
     "title": ""
    }
   },
   "source": [
    "1 - UPLOAD dos arquivos CSV para o Unity Catalog do Databricks"
   ]
  },
  {
   "cell_type": "markdown",
   "metadata": {
    "application/vnd.databricks.v1+cell": {
     "cellMetadata": {
      "byteLimit": 2048000,
      "rowLimit": 10000
     },
     "inputWidgets": {},
     "nuid": "738b1f11-418d-429a-9aa9-2fcd9aca7db9",
     "showTitle": false,
     "title": ""
    }
   },
   "source": [
    "<div style=\"text-align: justify;\">\n",
    "O início da pipeline de dados dentro do Databricks é a partir do UPLOAD dos arquivos csv para este notebook. Como são vários arquivos, foi criado códigos para iterar e agilizar esta etapa. Para isto, foi criado objetos que carregam e salvam dentro de um diretório do Unity Catalog do Databricks. Na mesma linha de código abaixo, foram criadas duas listas, Uma com as urls dos arquivos convertidos em CSV, hospedados no [GitHub](https://raw.githubusercontent.com/anapessoapcrj/incedio_uc) e a outra com os nomes dos arquivos csv. Ambas as listas, além dos referidos objetos, são utilizados na iteração, sendo possível visualizar na execução deste código, onde e como os arquivos CSV foram salvos."
   ]
  },
  {
   "cell_type": "code",
   "execution_count": 0,
   "metadata": {
    "application/vnd.databricks.v1+cell": {
     "cellMetadata": {
      "byteLimit": 2048000,
      "rowLimit": 10000
     },
     "inputWidgets": {},
     "nuid": "81d0079a-37a2-42eb-83a7-66ae55c5d471",
     "showTitle": false,
     "title": ""
    }
   },
   "outputs": [
    {
     "output_type": "stream",
     "name": "stdout",
     "output_type": "stream",
     "text": [
      "Arquivo dadosgerais_uc.csv baixado para: /Volumes/incedio/dados_uc/incedio_historico/dadosgerais_uc.csv\nArquivo area_atingida_2023.csv baixado para: /Volumes/incedio/dados_uc/incedio_historico/area_atingida_2023.csv\nArquivo area_atingida_2022.csv baixado para: /Volumes/incedio/dados_uc/incedio_historico/area_atingida_2022.csv\nArquivo area_atingida_2021.csv baixado para: /Volumes/incedio/dados_uc/incedio_historico/area_atingida_2021.csv\nArquivo area_atingida_2020.csv baixado para: /Volumes/incedio/dados_uc/incedio_historico/area_atingida_2020.csv\nArquivo area_atingida_2019.csv baixado para: /Volumes/incedio/dados_uc/incedio_historico/area_atingida_2019.csv\nArquivo area_atingida_2018.csv baixado para: /Volumes/incedio/dados_uc/incedio_historico/area_atingida_2018.csv\n+--------+---------+-----------+\n|database|tableName|isTemporary|\n+--------+---------+-----------+\n+--------+---------+-----------+\n\n"
     ]
    }
   ],
   "source": [
    "\n",
    "\n",
    "catalog = \"incedio\"\n",
    "schema = \"dados_uc\"\n",
    "volume = \"incedio_historico\"\n",
    "path_volume = f\"/Volumes/{catalog}/{schema}/{volume}\"\n",
    "\n",
    "# Lista dos URLs dos arquivos CSV\n",
    "urls = [\n",
    "    \"https://raw.githubusercontent.com/anapessoapcrj/incedio_uc/main/dadosgerais_uc.csv\",\n",
    "    \"https://raw.githubusercontent.com/anapessoapcrj/incedio_uc/main/area_atingida_2023.csv\",\n",
    "    \"https://raw.githubusercontent.com/anapessoapcrj/incedio_uc/main/area_atingida_2022.csv\",\n",
    "    \"https://raw.githubusercontent.com/anapessoapcrj/incedio_uc/main/area_atingida_2021.csv\",\n",
    "    \"https://raw.githubusercontent.com/anapessoapcrj/incedio_uc/main/area_atingida_2020.csv\",\n",
    "    \"https://raw.githubusercontent.com/anapessoapcrj/incedio_uc/main/area_atingida_2019.csv\",\n",
    "    \"https://raw.githubusercontent.com/anapessoapcrj/incedio_uc/main/area_atingida_2018.csv\"\n",
    "]\n",
    "\n",
    "# Lista dos nomes dos arquivos CSV\n",
    "file_names = [\n",
    "    \"dadosgerais_uc.csv\",\n",
    "    \"area_atingida_2023.csv\",\n",
    "    \"area_atingida_2022.csv\",\n",
    "    \"area_atingida_2021.csv\",\n",
    "    \"area_atingida_2020.csv\",\n",
    "    \"area_atingida_2019.csv\",\n",
    "    \"area_atingida_2018.csv\"\n",
    "]\n",
    "\n",
    "# Loop para baixar cada arquivo CSV e ler como tabela\n",
    "for url, file_name in zip(urls, file_names):\n",
    "    # Caminho completo do arquivo no Databricks\n",
    "    file_path = f\"{path_volume}/{file_name}\"\n",
    "    \n",
    "    # Baixar o arquivo CSV usando dbutils.fs\n",
    "    dbutils.fs.cp(url, file_path, recurse=False)\n",
    "    print(f\"Arquivo {file_name} baixado para: {file_path}\")\n",
    "\n",
    "\n",
    "# Exemplo de consulta para verificar as tabelas registradas\n",
    "spark.sql(\"SHOW TABLES\").show()\n"
   ]
  },
  {
   "cell_type": "markdown",
   "metadata": {
    "application/vnd.databricks.v1+cell": {
     "cellMetadata": {
      "byteLimit": 2048000,
      "rowLimit": 10000
     },
     "inputWidgets": {},
     "nuid": "2694b0af-f783-4cf0-9e8e-3266c505031f",
     "showTitle": false,
     "title": ""
    }
   },
   "source": [
    "<div style=\"text-align: justify;\">\n",
    "Agora os arquivos serão visualizados como DataFrames atraves do pyspark. Para isto foi criada sessão spark para carregar os csvs em dataframes. Para usar novamente o iterador, desta vez para enxergar como ficará a estrutura de cada arquivo em Dataframe, foi criado objeto que é a lista das tabelas (arquivos_csv) e outros objetos que são opções usadas para o carregamento CSV para DataFrame. A opção FAILFAST, por exemplo, foi utilizada para interromper este processo caso o CSV tenha alguma falha importante que provoque a perda de dados ou deformação na estruturação das tabelas E de fato, o arquivo csv dadosgerais_uc estava com problema, a mensagem de erro indicou onde estava o problema. Feita a correção, no Github, o arquivo foi transferido para Databricks sem problemas. Apos a execução do código abaixo, verificou-se que o tipo de dados de cada coluna se comportou conforme esperado, inclusive as colunas com informações sobre data (foi utilizado encoding UTF-8 para evitar que a data que estava em formato brasileiro se convertesse em string).   "
   ]
  },
  {
   "cell_type": "code",
   "execution_count": 0,
   "metadata": {
    "application/vnd.databricks.v1+cell": {
     "cellMetadata": {
      "byteLimit": 2048000,
      "rowLimit": 10000
     },
     "inputWidgets": {},
     "nuid": "1373d92c-f023-40fb-8811-4f7cfcc044cd",
     "showTitle": false,
     "title": ""
    }
   },
   "outputs": [
    {
     "output_type": "stream",
     "name": "stdout",
     "output_type": "stream",
     "text": [
      "Esquema da tabela /Volumes/incedio/dados_uc/incedio_historico/dadosgerais_uc.csv:\nroot\n |-- id: integer (nullable = true)\n |-- TIPO_NOME: string (nullable = true)\n |-- TIPO: string (nullable = true)\n |-- Nome_UC: string (nullable = true)\n |-- NGI: string (nullable = true)\n |-- GR: string (nullable = true)\n |-- CNUC: string (nullable = true)\n |-- Atos_legais: string (nullable = true)\n |-- UF: string (nullable = true)\n |-- Bioma_predominante: string (nullable = true)\n |-- Bioma_comp_RL: string (nullable = true)\n |-- Area: double (nullable = true)\n\n----------------------------------\nEsquema da tabela /Volumes/incedio/dados_uc/incedio_historico/area_atingida_2023.csv:\nroot\n |-- ind: integer (nullable = true)\n |-- UC: string (nullable = true)\n |-- NGI: string (nullable = true)\n |-- Incendio: double (nullable = true)\n |-- Queima_prescrita: double (nullable = true)\n |-- Queima_controlada: double (nullable = true)\n |-- Aceiro: double (nullable = true)\n |-- Fogo_natural: double (nullable = true)\n |-- Indigena_isolado: double (nullable = true)\n |-- Total_prevencao: double (nullable = true)\n |-- Total_combate: double (nullable = true)\n |-- Area_total: double (nullable = true)\n |-- Area_UC: double (nullable = true)\n |-- Perc_AAF_UC: double (nullable = true)\n\n----------------------------------\nEsquema da tabela /Volumes/incedio/dados_uc/incedio_historico/area_atingida_2022.csv:\nroot\n |-- ind: integer (nullable = true)\n |-- UC: string (nullable = true)\n |-- Incendio: double (nullable = true)\n |-- Queima_prescrita: double (nullable = true)\n |-- Queima_controlada: double (nullable = true)\n |-- Aceiro: double (nullable = true)\n |-- Fogo_natural: double (nullable = true)\n |-- Queima_indigena: double (nullable = true)\n |-- Raio: double (nullable = true)\n |-- Area_total: double (nullable = true)\n |-- Area_UC: double (nullable = true)\n |-- Perc_AAF_UC: double (nullable = true)\n\n----------------------------------\nEsquema da tabela /Volumes/incedio/dados_uc/incedio_historico/area_atingida_2021.csv:\nroot\n |-- _c0: integer (nullable = true)\n |-- UC: string (nullable = true)\n |-- Bioma: string (nullable = true)\n |-- Fogo_natural: double (nullable = true)\n |-- Queima_indig_isol: double (nullable = true)\n |-- Incendio: double (nullable = true)\n |-- Queima_controlada: double (nullable = true)\n |-- Queima_prescrita: double (nullable = true)\n |-- Gestao_raio: double (nullable = true)\n |-- Aceiro_negro: double (nullable = true)\n |-- Area_queimada: double (nullable = true)\n |-- Area_UC: double (nullable = true)\n |-- `Perc_UC: double (nullable = true)\n |-- Data_ult_atual: date (nullable = true)\n |-- Satelite: string (nullable = true)\n\n----------------------------------\nEsquema da tabela /Volumes/incedio/dados_uc/incedio_historico/area_atingida_2020.csv:\nroot\n |-- ind: integer (nullable = true)\n |-- UC: string (nullable = true)\n |-- Bioma: string (nullable = true)\n |-- Incendio: double (nullable = true)\n |-- MIF: double (nullable = true)\n |-- Area_queimada: double (nullable = true)\n |-- Area_UC: double (nullable = true)\n |-- Perc_UC: double (nullable = true)\n |-- Data_ult_atual: date (nullable = true)\n |-- Satelite: string (nullable = true)\n\n----------------------------------\nEsquema da tabela /Volumes/incedio/dados_uc/incedio_historico/area_atingida_2019.csv:\nroot\n |-- ind: integer (nullable = true)\n |-- UC: string (nullable = true)\n |-- Bioma: string (nullable = true)\n |-- Area_queimada: double (nullable = true)\n |-- Area_UC: double (nullable = true)\n |-- Perc_UC: double (nullable = true)\n |-- Data_ult_atual: date (nullable = true)\n |-- Satelite: string (nullable = true)\n\n----------------------------------\nEsquema da tabela /Volumes/incedio/dados_uc/incedio_historico/area_atingida_2018.csv:\nroot\n |-- ind: integer (nullable = true)\n |-- UC: string (nullable = true)\n |-- Bioma: string (nullable = true)\n |-- Area_queimada: double (nullable = true)\n |-- Area_UC: double (nullable = true)\n |-- Perc_UC: double (nullable = true)\n |-- Data_ult_atual: date (nullable = true)\n |-- Satelite: string (nullable = true)\n\n----------------------------------\n"
     ]
    }
   ],
   "source": [
    "from pyspark.sql import SparkSession\n",
    "from pyspark.sql.functions import col\n",
    "from delta.tables import DeltaTable\n",
    "\n",
    "# Cria uma sessão Spark\n",
    "spark = SparkSession.builder \\\n",
    "    .appName(\"Carregamento de CSVs em DataFrames\") \\\n",
    "    .getOrCreate()\n",
    "\n",
    "# Lista de caminhos dos arquivos CSV ou nomes de tabelas\n",
    "lista_tabelas = [\n",
    "    \"/Volumes/incedio/dados_uc/incedio_historico/dadosgerais_uc.csv\",\n",
    "    \"/Volumes/incedio/dados_uc/incedio_historico/area_atingida_2023.csv\",\n",
    "    \"/Volumes/incedio/dados_uc/incedio_historico/area_atingida_2022.csv\",\n",
    "    \"/Volumes/incedio/dados_uc/incedio_historico/area_atingida_2021.csv\",\n",
    "    \"/Volumes/incedio/dados_uc/incedio_historico/area_atingida_2020.csv\",\n",
    "    \"/Volumes/incedio/dados_uc/incedio_historico/area_atingida_2019.csv\",\n",
    "    \"/Volumes/incedio/dados_uc/incedio_historico/area_atingida_2018.csv\"\n",
    "]\n",
    "\n",
    "# Configurações CSV comuns\n",
    "file_type = \"csv\"\n",
    "infer_schema = \"true\" #infere a estrutura da tabela \n",
    "first_row_is_header = \"true\"\n",
    "modo = \"FAILFAST\" #evita que caso arquivo csv tenha alguma falha ocorra o carregamento dados de forma errônea \n",
    "delimiter = \",\"\n",
    "encoding = \"utf-8\"\n",
    "\n",
    "# Lista para armazenar os DataFrames carregados\n",
    "dataframes = []\n",
    "\n",
    "# Iterar sobre cada tabela na lista e imprimir o esquema\n",
    "for tabela in lista_tabelas:\n",
    "    # Carregar o arquivo CSV para DataFrame\n",
    "    df = spark.read.format(file_type) \\\n",
    "      .option(\"inferSchema\", infer_schema) \\\n",
    "      .option(\"header\", first_row_is_header) \\\n",
    "      .option(\"mode\", modo) \\\n",
    "      .option(\"sep\", delimiter) \\\n",
    "      .option(\"encoding\", encoding) \\\n",
    "      .load(tabela)\n",
    "    \n",
    "    # Adicionar o DataFrame à lista de DataFrames\n",
    "    dataframes.append(df)\n",
    "\n",
    "    # Imprimir o esquema do DataFrame\n",
    "    print(f\"Esquema da tabela {tabela}:\")\n",
    "    df.printSchema()\n",
    "    print(\"----------------------------------\")\n",
    "\n",
    "#objetos para cada dataframe\n",
    "dados_uc = dataframes[0]\n",
    "incendio_2023_df = dataframes[1]\n",
    "incendio_2022_df = dataframes[2]\n",
    "incendio_2021_df = dataframes[3]\n",
    "incendio_2020_df = dataframes[4]\n",
    "incendio_2019_df = dataframes[5]\n",
    "incendio_2018_df = dataframes[6]\n",
    "\n",
    "# Aqui você pode realizar operações adicionais com cada DataFrame, se necessário\n"
   ]
  },
  {
   "cell_type": "markdown",
   "metadata": {
    "application/vnd.databricks.v1+cell": {
     "cellMetadata": {
      "byteLimit": 2048000,
      "rowLimit": 10000
     },
     "inputWidgets": {},
     "nuid": "760a28ac-40c8-48b2-8a74-c20685d975d1",
     "showTitle": false,
     "title": ""
    }
   },
   "source": [
    "2 - Transformação dos Dados"
   ]
  },
  {
   "cell_type": "markdown",
   "metadata": {
    "application/vnd.databricks.v1+cell": {
     "cellMetadata": {
      "byteLimit": 2048000,
      "rowLimit": 10000
     },
     "inputWidgets": {},
     "nuid": "ba0bf73d-2729-40d7-8b25-6035438621a5",
     "showTitle": false,
     "title": ""
    }
   },
   "source": [
    "<div style=\"text-align: justify;\">\n",
    "Observando como ficou o nome de algumas colunas, vê se a necessidade de alguma padronização ou correção nos nomes das colunas (ainda que isto já tenha feito no Gooogle Colab), especialmente na tabelas relacionadas a incêndios.   "
   ]
  },
  {
   "cell_type": "code",
   "execution_count": 0,
   "metadata": {
    "application/vnd.databricks.v1+cell": {
     "cellMetadata": {
      "byteLimit": 2048000,
      "rowLimit": 10000
     },
     "inputWidgets": {},
     "nuid": "a0979d3c-5056-4180-a81b-ec3457729082",
     "showTitle": false,
     "title": ""
    }
   },
   "outputs": [],
   "source": [
    "## Padronização/correção no nome das colunas\n",
    "\n",
    "incendio_2023_df = incendio_2023_df.withColumnRenamed('Perc_AAF_UC', 'Perc_UC')\n",
    "incendio_2022_df = incendio_2022_df.withColumnRenamed('Perc_AAF_UC', 'Perc_UC')\n",
    "incendio_2021_df = incendio_2021_df.withColumnRenamed('`Perc_UC', 'Perc_UC')\n",
    "incendio_2023_df = incendio_2023_df.withColumnRenamed('Area_total', 'Area_queimada')\n",
    "incendio_2022_df = incendio_2022_df.withColumnRenamed('Area_total', 'Area_queimada')\n",
    "incendio_2021_df = incendio_2021_df.withColumnRenamed('_c0', 'ind')\n"
   ]
  },
  {
   "cell_type": "markdown",
   "metadata": {
    "application/vnd.databricks.v1+cell": {
     "cellMetadata": {
      "byteLimit": 2048000,
      "rowLimit": 10000
     },
     "inputWidgets": {},
     "nuid": "38a0bde8-20b4-4d10-baf7-a28f219a2775",
     "showTitle": false,
     "title": ""
    }
   },
   "source": [
    "<div style=\"text-align: justify;\">\n",
    "Area_total foi substituída por Area_queimada nas tabelas incendio_2023_df e incendio_2022_df para ficar congruente com as tabelas dos anos anteriores. Area_total significa as áreas queimadas menos as Áreas de prevenção de incêndios florestais. Também foi substituída Perc_AAF_UC por Perc_UC por entender que o significado é o mesmo, ou seja, percentual de área atingida por incêndio em relação à área da UC"
   ]
  },
  {
   "cell_type": "code",
   "execution_count": 0,
   "metadata": {
    "application/vnd.databricks.v1+cell": {
     "cellMetadata": {
      "byteLimit": 2048000,
      "rowLimit": 10000
     },
     "inputWidgets": {},
     "nuid": "92cc0686-4d0a-4c8d-81e9-cc5617e2d4d6",
     "showTitle": false,
     "title": ""
    }
   },
   "outputs": [
    {
     "output_type": "stream",
     "name": "stdout",
     "output_type": "stream",
     "text": [
      "+---+---+---+--------+----------------+-----------------+------+------------+----------------+---------------+-------------+-------------+-------+-------+\n|ind| UC|NGI|Incendio|Queima_prescrita|Queima_controlada|Aceiro|Fogo_natural|Indigena_isolado|Total_prevencao|Total_combate|Area_queimada|Area_UC|Perc_UC|\n+---+---+---+--------+----------------+-----------------+------+------------+----------------+---------------+-------------+-------------+-------+-------+\n+---+---+---+--------+----------------+-----------------+------+------------+----------------+---------------+-------------+-------------+-------+-------+\nonly showing top 0 rows\n\n"
     ]
    }
   ],
   "source": [
    "incendio_2023_df.show(n=0)"
   ]
  },
  {
   "cell_type": "code",
   "execution_count": 0,
   "metadata": {
    "application/vnd.databricks.v1+cell": {
     "cellMetadata": {
      "byteLimit": 2048000,
      "rowLimit": 10000
     },
     "inputWidgets": {},
     "nuid": "defeca4f-167a-441f-b667-9ec1f342ddc5",
     "showTitle": false,
     "title": ""
    }
   },
   "outputs": [
    {
     "output_type": "stream",
     "name": "stdout",
     "output_type": "stream",
     "text": [
      "+---+---+--------+----------------+-----------------+------+------------+---------------+----+-------------+-------+-------+\n|ind| UC|Incendio|Queima_prescrita|Queima_controlada|Aceiro|Fogo_natural|Queima_indigena|Raio|Area_queimada|Area_UC|Perc_UC|\n+---+---+--------+----------------+-----------------+------+------------+---------------+----+-------------+-------+-------+\n+---+---+--------+----------------+-----------------+------+------------+---------------+----+-------------+-------+-------+\nonly showing top 0 rows\n\n"
     ]
    }
   ],
   "source": [
    "incendio_2022_df.show(n=0)"
   ]
  },
  {
   "cell_type": "code",
   "execution_count": 0,
   "metadata": {
    "application/vnd.databricks.v1+cell": {
     "cellMetadata": {
      "byteLimit": 2048000,
      "rowLimit": 10000
     },
     "inputWidgets": {},
     "nuid": "c63a6b5b-13e3-4dee-8677-7fffd12d31f3",
     "showTitle": false,
     "title": ""
    }
   },
   "outputs": [
    {
     "output_type": "stream",
     "name": "stdout",
     "output_type": "stream",
     "text": [
      "+---+---+-----+------------+-----------------+--------+-----------------+----------------+-----------+------------+-------------+-------+-------+--------------+--------+\n|ind| UC|Bioma|Fogo_natural|Queima_indig_isol|Incendio|Queima_controlada|Queima_prescrita|Gestao_raio|Aceiro_negro|Area_queimada|Area_UC|Perc_UC|Data_ult_atual|Satelite|\n+---+---+-----+------------+-----------------+--------+-----------------+----------------+-----------+------------+-------------+-------+-------+--------------+--------+\n+---+---+-----+------------+-----------------+--------+-----------------+----------------+-----------+------------+-------------+-------+-------+--------------+--------+\nonly showing top 0 rows\n\n"
     ]
    }
   ],
   "source": [
    "#Verificando o dataframe incendio_2021_df que teve mais colunas renomeadas\n",
    "\n",
    "incendio_2021_df.show(n=0)"
   ]
  },
  {
   "cell_type": "markdown",
   "metadata": {
    "application/vnd.databricks.v1+cell": {
     "cellMetadata": {
      "byteLimit": 2048000,
      "rowLimit": 10000
     },
     "inputWidgets": {},
     "nuid": "8a9c8685-fbdc-452d-b226-278e41e0cc78",
     "showTitle": false,
     "title": ""
    }
   },
   "source": [
    "<div style=\"text-align: justify;\">\n",
    "Também será excluída a coluna id de dados_uc, pois nela já existem três chaves primarias: CNUC, TIPO_NOME e NOME_UC. O primeiro é o Código da Unidade de Conservação, o segundo a Unidade de Conservação com a Categoria abreviada ou com iniciais e a última e Unidade de Conservação escrita por extenso."
   ]
  },
  {
   "cell_type": "code",
   "execution_count": 0,
   "metadata": {
    "application/vnd.databricks.v1+cell": {
     "cellMetadata": {
      "byteLimit": 2048000,
      "rowLimit": 10000
     },
     "inputWidgets": {},
     "nuid": "0cefa285-7cc4-47bf-badf-d574fffb3a62",
     "showTitle": false,
     "title": ""
    }
   },
   "outputs": [],
   "source": [
    "dados_uc = dados_uc.drop('id')"
   ]
  },
  {
   "cell_type": "code",
   "execution_count": 0,
   "metadata": {
    "application/vnd.databricks.v1+cell": {
     "cellMetadata": {
      "byteLimit": 2048000,
      "rowLimit": 10000
     },
     "inputWidgets": {},
     "nuid": "6c53e716-30db-474b-9427-48e4f5736d46",
     "showTitle": false,
     "title": ""
    }
   },
   "outputs": [
    {
     "output_type": "stream",
     "name": "stdout",
     "output_type": "stream",
     "text": [
      "+---------+----+-------+---+---+----+-----------+---+------------------+-------------+----+\n|TIPO_NOME|TIPO|Nome_UC|NGI| GR|CNUC|Atos_legais| UF|Bioma_predominante|Bioma_comp_RL|Area|\n+---------+----+-------+---+---+----+-----------+---+------------------+-------------+----+\n+---------+----+-------+---+---+----+-----------+---+------------------+-------------+----+\nonly showing top 0 rows\n\n"
     ]
    }
   ],
   "source": [
    "dados_uc.show(n=0)"
   ]
  },
  {
   "cell_type": "markdown",
   "metadata": {
    "application/vnd.databricks.v1+cell": {
     "cellMetadata": {
      "byteLimit": 2048000,
      "rowLimit": 10000
     },
     "inputWidgets": {},
     "nuid": "aba3b649-db48-4fc3-8bea-234f6ac4111b",
     "showTitle": false,
     "title": ""
    },
    "jupyter": {
     "outputs_hidden": true
    }
   },
   "source": [
    "2.1 - Verificação de problemas nas inconsistência dos dados"
   ]
  },
  {
   "cell_type": "markdown",
   "metadata": {
    "application/vnd.databricks.v1+cell": {
     "cellMetadata": {
      "byteLimit": 2048000,
      "rowLimit": 10000
     },
     "inputWidgets": {},
     "nuid": "5facb714-5c1a-4947-a8f7-b452237aef44",
     "showTitle": false,
     "title": ""
    }
   },
   "source": [
    "<div style=\"text-align: justify;\">\n",
    "Os datasets escolhidos para este MVP, apesar de tabelas, não estão estruturada para ser um banco de dados relacional. Portanto, não podem ser utilizados de imediato para consultas sem antes ter um tratamento corretivo e adaptações.  Este fato é mais perceptível nas tabelas que correspondem às ocorrências de incêndios, onde a escritas dos nomes das Unidades de Conservação ocorre de maneira livre, sem uma preocupação em preservar integridade referencial, sem seguir necessariamente um padrão. Tampouco não têm o CNUC, Código Nacional da Unidade de Conservação, condição ideal para união entre tabelas com colunas com atributos equivalentes.  Posto isto, a seguir teremos consultas para identificar os casos onde não houveram intersecções das Unidades de Conservações registradas nas tabelas de ocorrências de incêndio com a tabela de Atributos das Unidades de Conservação. Ora, as colunas UCs presentes nas tabelas de ocorrências de incêndios deveriam ter 100% de correspondência com a coluna TIPO_NOME da tabela dados_uc, pois este dataset tem o registro atualizado de todas as UCs. No entanto tal condição não se satisfaz, pelo divergência da escrita no nome da Unidades de Conservação, por esta razão é necessário a correção e ajuste. Após a localização dos problemas, os dataframes serão salvos em formato de Tabela Delta onde serão realizados as correções e atualizações."
   ]
  },
  {
   "cell_type": "code",
   "execution_count": 0,
   "metadata": {
    "application/vnd.databricks.v1+cell": {
     "cellMetadata": {
      "byteLimit": 2048000,
      "rowLimit": 10000
     },
     "inputWidgets": {},
     "nuid": "d7259fc3-391f-4508-bf98-a8daaea5c8ea",
     "showTitle": false,
     "title": ""
    }
   },
   "outputs": [],
   "source": [
    "##Gerando visualizacao temporaria dos dataframes para realizar a consulta pelo spark.sql\n",
    "\n",
    "dados_uc.createOrReplaceTempView(\"dados_uc_temp\")\n",
    "incendio_2023_df.createOrReplaceTempView(\"incendio_2023_temp\")\n",
    "incendio_2022_df.createOrReplaceTempView(\"incendio_2022_temp\")\n",
    "incendio_2021_df.createOrReplaceTempView(\"incendio_2021_temp\")\n",
    "incendio_2020_df.createOrReplaceTempView(\"incendio_2020_temp\")\n",
    "incendio_2019_df.createOrReplaceTempView(\"incendio_2019_temp\")\n",
    "incendio_2018_df.createOrReplaceTempView(\"incendio_2018_temp\")"
   ]
  },
  {
   "cell_type": "code",
   "execution_count": 0,
   "metadata": {
    "application/vnd.databricks.v1+cell": {
     "cellMetadata": {
      "byteLimit": 2048000,
      "rowLimit": 10000
     },
     "inputWidgets": {},
     "nuid": "ed9f3766-7fa0-41f0-beda-39fe549fde81",
     "showTitle": false,
     "title": ""
    }
   },
   "outputs": [],
   "source": [
    "# Criando as query para identificar os casos de nao interseccoes inadequadas.\n",
    "# As consultas onde o problema não existir devera retorna com reposta vazia.  \n",
    "\n",
    "\n",
    "query1 = \"\"\"\n",
    "    SELECT UC\n",
    "    FROM incendio_2023_temp\n",
    "    WHERE UC NOT IN\n",
    "            (SELECT TIPO_NOME \n",
    "            FROM dados_uc_temp);\n",
    "\"\"\"\n",
    "\n",
    "query2 = \"\"\"\n",
    "    SELECT UC\n",
    "    FROM incendio_2022_temp\n",
    "    WHERE UC NOT IN\n",
    "            (SELECT TIPO_NOME \n",
    "            FROM dados_uc_temp);\n",
    "\"\"\"\n",
    "\n",
    "query3 = \"\"\"\n",
    "    SELECT UC\n",
    "    FROM incendio_2021_temp\n",
    "    WHERE UC NOT IN\n",
    "            (SELECT TIPO_NOME \n",
    "            FROM dados_uc_temp);\n",
    "\"\"\"\n",
    "query4 = \"\"\"\n",
    "    SELECT incendio_2020_temp.*\n",
    "    FROM incendio_2020_temp\n",
    "    WHERE UC NOT IN\n",
    "            (SELECT TIPO_NOME \n",
    "            FROM dados_uc_temp);\n",
    "\"\"\"\n",
    "query5 = \"\"\"\n",
    "    SELECT UC\n",
    "    FROM incendio_2019_temp\n",
    "    WHERE UC NOT IN\n",
    "            (SELECT TIPO_NOME \n",
    "            FROM dados_uc_temp);\n",
    "\"\"\"\n",
    "query6 = \"\"\"\n",
    "    SELECT UC\n",
    "    FROM incendio_2018_temp\n",
    "    WHERE UC NOT IN\n",
    "            (SELECT TIPO_NOME \n",
    "            FROM dados_uc_temp);\n",
    "\"\"\""
   ]
  },
  {
   "cell_type": "code",
   "execution_count": 0,
   "metadata": {
    "application/vnd.databricks.v1+cell": {
     "cellMetadata": {
      "byteLimit": 2048000,
      "rowLimit": 10000
     },
     "inputWidgets": {},
     "nuid": "d6884078-2d3e-4bee-8b9d-5656bbf36f7f",
     "showTitle": false,
     "title": ""
    }
   },
   "outputs": [],
   "source": [
    "# Executar a consulta SQL usando spark.sql\n",
    "\n",
    "resultado_join_INC23_DGER = spark.sql(query1)\n",
    "resultado_join_INC22_DGER = spark.sql(query2)\n",
    "resultado_join_INC21_DGER = spark.sql(query3)\n",
    "resultado_join_INC20_DGER = spark.sql(query4)\n",
    "resultado_join_INC19_DGER = spark.sql(query5)\n",
    "resultado_join_INC18_DGER = spark.sql(query6)"
   ]
  },
  {
   "cell_type": "markdown",
   "metadata": {
    "application/vnd.databricks.v1+cell": {
     "cellMetadata": {
      "byteLimit": 2048000,
      "rowLimit": 10000
     },
     "inputWidgets": {},
     "nuid": "dde6505d-eb52-4cac-b731-91f17ef25848",
     "showTitle": false,
     "title": ""
    }
   },
   "source": [
    "Visualizando o resultado para verificar onde serao necessária as correções."
   ]
  },
  {
   "cell_type": "code",
   "execution_count": 0,
   "metadata": {
    "application/vnd.databricks.v1+cell": {
     "cellMetadata": {
      "byteLimit": 2048000,
      "rowLimit": 10000
     },
     "inputWidgets": {},
     "nuid": "d53ee545-f271-4f03-bf07-13ab572f7a9c",
     "showTitle": false,
     "title": ""
    }
   },
   "outputs": [
    {
     "output_type": "display_data",
     "data": {
      "text/html": [
       "<style scoped>\n",
       "  .table-result-container {\n",
       "    max-height: 300px;\n",
       "    overflow: auto;\n",
       "  }\n",
       "  table, th, td {\n",
       "    border: 1px solid black;\n",
       "    border-collapse: collapse;\n",
       "  }\n",
       "  th, td {\n",
       "    padding: 5px;\n",
       "  }\n",
       "  th {\n",
       "    text-align: left;\n",
       "  }\n",
       "</style><div class='table-result-container'><table class='table-result'><thead style='background-color: white'><tr><th>UC</th></tr></thead><tbody><tr><td>APA DA BACIA PARAIBA DO SUL</td></tr></tbody></table></div>"
      ]
     },
     "metadata": {
      "application/vnd.databricks.v1+output": {
       "addedWidgets": {},
       "aggData": [],
       "aggError": "",
       "aggOverflow": false,
       "aggSchema": [],
       "aggSeriesLimitReached": false,
       "aggType": "",
       "arguments": {},
       "columnCustomDisplayInfos": {},
       "data": [
        [
         "APA DA BACIA PARAIBA DO SUL"
        ]
       ],
       "datasetInfos": [],
       "dbfsResultPath": null,
       "isJsonSchema": true,
       "metadata": {},
       "overflow": false,
       "plotOptions": {
        "customPlotOptions": {},
        "displayType": "table",
        "pivotAggregation": null,
        "pivotColumns": null,
        "xColumns": null,
        "yColumns": null
       },
       "removedWidgets": [],
       "schema": [
        {
         "metadata": "{}",
         "name": "UC",
         "type": "\"string\""
        }
       ],
       "type": "table"
      }
     },
     "output_type": "display_data"
    }
   ],
   "source": [
    "display(resultado_join_INC23_DGER)"
   ]
  },
  {
   "cell_type": "code",
   "execution_count": 0,
   "metadata": {
    "application/vnd.databricks.v1+cell": {
     "cellMetadata": {
      "byteLimit": 2048000,
      "rowLimit": 10000
     },
     "inputWidgets": {},
     "nuid": "202256d5-cacd-45af-bcbe-56800683c5d5",
     "showTitle": false,
     "title": ""
    }
   },
   "outputs": [
    {
     "output_type": "display_data",
     "data": {
      "text/html": [
       "<style scoped>\n",
       "  .table-result-container {\n",
       "    max-height: 300px;\n",
       "    overflow: auto;\n",
       "  }\n",
       "  table, th, td {\n",
       "    border: 1px solid black;\n",
       "    border-collapse: collapse;\n",
       "  }\n",
       "  th, td {\n",
       "    padding: 5px;\n",
       "  }\n",
       "  th {\n",
       "    text-align: left;\n",
       "  }\n",
       "</style><div class='table-result-container'><table class='table-result'><thead style='background-color: white'><tr><th>UC</th></tr></thead><tbody><tr><td>APA BACIA DO PARAIBA DO SUL</td></tr></tbody></table></div>"
      ]
     },
     "metadata": {
      "application/vnd.databricks.v1+output": {
       "addedWidgets": {},
       "aggData": [],
       "aggError": "",
       "aggOverflow": false,
       "aggSchema": [],
       "aggSeriesLimitReached": false,
       "aggType": "",
       "arguments": {},
       "columnCustomDisplayInfos": {},
       "data": [
        [
         "APA BACIA DO PARAIBA DO SUL"
        ]
       ],
       "datasetInfos": [],
       "dbfsResultPath": null,
       "isJsonSchema": true,
       "metadata": {},
       "overflow": false,
       "plotOptions": {
        "customPlotOptions": {},
        "displayType": "table",
        "pivotAggregation": null,
        "pivotColumns": null,
        "xColumns": null,
        "yColumns": null
       },
       "removedWidgets": [],
       "schema": [
        {
         "metadata": "{}",
         "name": "UC",
         "type": "\"string\""
        }
       ],
       "type": "table"
      }
     },
     "output_type": "display_data"
    }
   ],
   "source": [
    "display(resultado_join_INC22_DGER)"
   ]
  },
  {
   "cell_type": "code",
   "execution_count": 0,
   "metadata": {
    "application/vnd.databricks.v1+cell": {
     "cellMetadata": {
      "byteLimit": 2048000,
      "rowLimit": 10000
     },
     "inputWidgets": {},
     "nuid": "30501b7c-ad86-48bf-92ba-db2298a25c65",
     "showTitle": false,
     "title": ""
    }
   },
   "outputs": [
    {
     "output_type": "display_data",
     "data": {
      "text/html": [
       "<style scoped>\n",
       "  .table-result-container {\n",
       "    max-height: 300px;\n",
       "    overflow: auto;\n",
       "  }\n",
       "  table, th, td {\n",
       "    border: 1px solid black;\n",
       "    border-collapse: collapse;\n",
       "  }\n",
       "  th, td {\n",
       "    padding: 5px;\n",
       "  }\n",
       "  th {\n",
       "    text-align: left;\n",
       "  }\n",
       "</style><div class='table-result-container'><table class='table-result'><thead style='background-color: white'><tr><th>UC</th></tr></thead><tbody></tbody></table></div>"
      ]
     },
     "metadata": {
      "application/vnd.databricks.v1+output": {
       "addedWidgets": {},
       "aggData": [],
       "aggError": "",
       "aggOverflow": false,
       "aggSchema": [],
       "aggSeriesLimitReached": false,
       "aggType": "",
       "arguments": {},
       "columnCustomDisplayInfos": {},
       "data": [],
       "datasetInfos": [],
       "dbfsResultPath": null,
       "isJsonSchema": true,
       "metadata": {},
       "overflow": false,
       "plotOptions": {
        "customPlotOptions": {},
        "displayType": "table",
        "pivotAggregation": null,
        "pivotColumns": null,
        "xColumns": null,
        "yColumns": null
       },
       "removedWidgets": [],
       "schema": [
        {
         "metadata": "{}",
         "name": "UC",
         "type": "\"string\""
        }
       ],
       "type": "table"
      }
     },
     "output_type": "display_data"
    }
   ],
   "source": [
    "display(resultado_join_INC21_DGER)"
   ]
  },
  {
   "cell_type": "code",
   "execution_count": 0,
   "metadata": {
    "application/vnd.databricks.v1+cell": {
     "cellMetadata": {
      "byteLimit": 2048000,
      "rowLimit": 10000
     },
     "inputWidgets": {},
     "nuid": "f4351d66-5191-4244-b0c3-f154342807e1",
     "showTitle": false,
     "title": ""
    }
   },
   "outputs": [
    {
     "output_type": "display_data",
     "data": {
      "text/html": [
       "<style scoped>\n",
       "  .table-result-container {\n",
       "    max-height: 300px;\n",
       "    overflow: auto;\n",
       "  }\n",
       "  table, th, td {\n",
       "    border: 1px solid black;\n",
       "    border-collapse: collapse;\n",
       "  }\n",
       "  th, td {\n",
       "    padding: 5px;\n",
       "  }\n",
       "  th {\n",
       "    text-align: left;\n",
       "  }\n",
       "</style><div class='table-result-container'><table class='table-result'><thead style='background-color: white'><tr><th>ind</th><th>UC</th><th>Bioma</th><th>Incendio</th><th>MIF</th><th>Area_queimada</th><th>Area_UC</th><th>Perc_UC</th><th>Data_ult_atual</th><th>Satelite</th></tr></thead><tbody><tr><td>1</td><td>APA DA BACIA DO RIO PARNAIBA DO SUL</td><td>CERRADO</td><td>null</td><td>null</td><td>187.92</td><td>292599.9242</td><td>0.064224213</td><td>2020-07-20</td><td>Landsat / Sentinel</td></tr></tbody></table></div>"
      ]
     },
     "metadata": {
      "application/vnd.databricks.v1+output": {
       "addedWidgets": {},
       "aggData": [],
       "aggError": "",
       "aggOverflow": false,
       "aggSchema": [],
       "aggSeriesLimitReached": false,
       "aggType": "",
       "arguments": {},
       "columnCustomDisplayInfos": {},
       "data": [
        [
         1,
         "APA DA BACIA DO RIO PARNAIBA DO SUL",
         "CERRADO",
         null,
         null,
         187.92,
         292599.9242,
         0.064224213,
         "2020-07-20",
         "Landsat / Sentinel"
        ]
       ],
       "datasetInfos": [],
       "dbfsResultPath": null,
       "isJsonSchema": true,
       "metadata": {},
       "overflow": false,
       "plotOptions": {
        "customPlotOptions": {},
        "displayType": "table",
        "pivotAggregation": null,
        "pivotColumns": null,
        "xColumns": null,
        "yColumns": null
       },
       "removedWidgets": [],
       "schema": [
        {
         "metadata": "{}",
         "name": "ind",
         "type": "\"integer\""
        },
        {
         "metadata": "{}",
         "name": "UC",
         "type": "\"string\""
        },
        {
         "metadata": "{}",
         "name": "Bioma",
         "type": "\"string\""
        },
        {
         "metadata": "{}",
         "name": "Incendio",
         "type": "\"double\""
        },
        {
         "metadata": "{}",
         "name": "MIF",
         "type": "\"double\""
        },
        {
         "metadata": "{}",
         "name": "Area_queimada",
         "type": "\"double\""
        },
        {
         "metadata": "{}",
         "name": "Area_UC",
         "type": "\"double\""
        },
        {
         "metadata": "{}",
         "name": "Perc_UC",
         "type": "\"double\""
        },
        {
         "metadata": "{\"__detected_date_formats\":\"d/M/yyyy\"}",
         "name": "Data_ult_atual",
         "type": "\"date\""
        },
        {
         "metadata": "{}",
         "name": "Satelite",
         "type": "\"string\""
        }
       ],
       "type": "table"
      }
     },
     "output_type": "display_data"
    }
   ],
   "source": [
    "display(resultado_join_INC20_DGER)"
   ]
  },
  {
   "cell_type": "markdown",
   "metadata": {
    "application/vnd.databricks.v1+cell": {
     "cellMetadata": {
      "byteLimit": 2048000,
      "rowLimit": 10000
     },
     "inputWidgets": {},
     "nuid": "9a0f5390-b9f8-4d81-993e-cac9a9e99d6b",
     "showTitle": false,
     "title": ""
    }
   },
   "source": [
    "No caso da base de incêndio de 2020 foi necessário verificar todas as colunas, pois não existe APA da Bacia do Rio Parnaíba do Sul. Parece ser um erro de digitação, e ser a APA Bacia Paraíba do Sul. Porém se este for o caso, o Bioma está errado. Não é Cerrado, e sim Mata Atlântica. Será consultada pela palavra PARNAIBA em dados_uc para ver se a área informada sobre APA Bacia do Paraíba do Sul é equivalente ou aproximada. Na tabela de incêndios 2020 o valor informado é 292599.9242 ha. Esta pesquisa será feita mais adiante em conjunto com nomes de UCs não encontrados."
   ]
  },
  {
   "cell_type": "code",
   "execution_count": 0,
   "metadata": {
    "application/vnd.databricks.v1+cell": {
     "cellMetadata": {
      "byteLimit": 2048000,
      "rowLimit": 10000
     },
     "inputWidgets": {},
     "nuid": "2e13c39e-bb0f-4458-aa17-cb65efd4438e",
     "showTitle": false,
     "title": ""
    }
   },
   "outputs": [
    {
     "output_type": "display_data",
     "data": {
      "text/html": [
       "<style scoped>\n",
       "  .table-result-container {\n",
       "    max-height: 300px;\n",
       "    overflow: auto;\n",
       "  }\n",
       "  table, th, td {\n",
       "    border: 1px solid black;\n",
       "    border-collapse: collapse;\n",
       "  }\n",
       "  th, td {\n",
       "    padding: 5px;\n",
       "  }\n",
       "  th {\n",
       "    text-align: left;\n",
       "  }\n",
       "</style><div class='table-result-container'><table class='table-result'><thead style='background-color: white'><tr><th>UC</th></tr></thead><tbody></tbody></table></div>"
      ]
     },
     "metadata": {
      "application/vnd.databricks.v1+output": {
       "addedWidgets": {},
       "aggData": [],
       "aggError": "",
       "aggOverflow": false,
       "aggSchema": [],
       "aggSeriesLimitReached": false,
       "aggType": "",
       "arguments": {},
       "columnCustomDisplayInfos": {},
       "data": [],
       "datasetInfos": [],
       "dbfsResultPath": null,
       "isJsonSchema": true,
       "metadata": {},
       "overflow": false,
       "plotOptions": {
        "customPlotOptions": {},
        "displayType": "table",
        "pivotAggregation": null,
        "pivotColumns": null,
        "xColumns": null,
        "yColumns": null
       },
       "removedWidgets": [],
       "schema": [
        {
         "metadata": "{}",
         "name": "UC",
         "type": "\"string\""
        }
       ],
       "type": "table"
      }
     },
     "output_type": "display_data"
    }
   ],
   "source": [
    "display(resultado_join_INC19_DGER)"
   ]
  },
  {
   "cell_type": "code",
   "execution_count": 0,
   "metadata": {
    "application/vnd.databricks.v1+cell": {
     "cellMetadata": {
      "byteLimit": 2048000,
      "rowLimit": 10000
     },
     "inputWidgets": {},
     "nuid": "827ba42a-ed72-45d8-9ff8-7921e1a27990",
     "showTitle": false,
     "title": ""
    }
   },
   "outputs": [
    {
     "output_type": "display_data",
     "data": {
      "text/html": [
       "<style scoped>\n",
       "  .table-result-container {\n",
       "    max-height: 300px;\n",
       "    overflow: auto;\n",
       "  }\n",
       "  table, th, td {\n",
       "    border: 1px solid black;\n",
       "    border-collapse: collapse;\n",
       "  }\n",
       "  th, td {\n",
       "    padding: 5px;\n",
       "  }\n",
       "  th {\n",
       "    text-align: left;\n",
       "  }\n",
       "</style><div class='table-result-container'><table class='table-result'><thead style='background-color: white'><tr><th>UC</th></tr></thead><tbody><tr><td>PARNA DA SERRA DOS ORGAOS </td></tr><tr><td>PARNA DAS SEMPRE VIVAS</td></tr><tr><td>REBIO DAS NASCENTES DA SERRA DO CACHIMBO</td></tr></tbody></table></div>"
      ]
     },
     "metadata": {
      "application/vnd.databricks.v1+output": {
       "addedWidgets": {},
       "aggData": [],
       "aggError": "",
       "aggOverflow": false,
       "aggSchema": [],
       "aggSeriesLimitReached": false,
       "aggType": "",
       "arguments": {},
       "columnCustomDisplayInfos": {},
       "data": [
        [
         "PARNA DA SERRA DOS ORGAOS "
        ],
        [
         "PARNA DAS SEMPRE VIVAS"
        ],
        [
         "REBIO DAS NASCENTES DA SERRA DO CACHIMBO"
        ]
       ],
       "datasetInfos": [],
       "dbfsResultPath": null,
       "isJsonSchema": true,
       "metadata": {},
       "overflow": false,
       "plotOptions": {
        "customPlotOptions": {},
        "displayType": "table",
        "pivotAggregation": null,
        "pivotColumns": null,
        "xColumns": null,
        "yColumns": null
       },
       "removedWidgets": [],
       "schema": [
        {
         "metadata": "{}",
         "name": "UC",
         "type": "\"string\""
        }
       ],
       "type": "table"
      }
     },
     "output_type": "display_data"
    }
   ],
   "source": [
    "display(resultado_join_INC18_DGER)"
   ]
  },
  {
   "cell_type": "markdown",
   "metadata": {
    "application/vnd.databricks.v1+cell": {
     "cellMetadata": {
      "byteLimit": 2048000,
      "rowLimit": 10000
     },
     "inputWidgets": {},
     "nuid": "4c799d97-2ec7-49b4-8e66-413158c8b2ad",
     "showTitle": false,
     "title": ""
    }
   },
   "source": [
    "<div style=\"text-align: justify;\">\n",
    "É possível verificar que a APA DA BACIA PARAIBA DO SUL, PARNA DA SERRA DOS ORGAOS, PARNA DAS SEMPRE VIVAS E REBIO DAS NASCENTES DA SERRA DO CACHIMBO não foram encontrado na tabela Dados Gerais UC. Vamos pesquisar agora em Dados_Gerais_UC como está escrito estas UCs para substituir a digitação de maneira igual a Dados_Gerais_UC para que seja possível a perfeita junção entre as tabelas de incêndio com a de atributos."
   ]
  },
  {
   "cell_type": "code",
   "execution_count": 0,
   "metadata": {
    "application/vnd.databricks.v1+cell": {
     "cellMetadata": {
      "byteLimit": 2048000,
      "rowLimit": 10000
     },
     "inputWidgets": {},
     "nuid": "19844454-528a-41b9-a331-da8d2b67a7db",
     "showTitle": false,
     "title": ""
    }
   },
   "outputs": [],
   "source": [
    "query7 = \"\"\"\n",
    "    SELECT TIPO_NOME, NOME_UC, Area\n",
    "    FROM dados_uc_temp\n",
    "    WHERE NOME_UC LIKE '%CACHIMBO%' OR NOME_UC LIKE '%SEMPRE%' OR NOME_UC LIKE '%ORGAOS%' OR NOME_UC LIKE '%ORGAOS%' OR NOME_UC LIKE '%PARAIBA%' OR NOME_UC LIKE '%PARNAIBA%'\n",
    "\"\"\""
   ]
  },
  {
   "cell_type": "code",
   "execution_count": 0,
   "metadata": {
    "application/vnd.databricks.v1+cell": {
     "cellMetadata": {
      "byteLimit": 2048000,
      "rowLimit": 10000
     },
     "inputWidgets": {},
     "nuid": "56e4f729-380b-4521-b80c-6a9b6a88ccb7",
     "showTitle": false,
     "title": ""
    }
   },
   "outputs": [],
   "source": [
    "pesquisa_nomes_uc = spark.sql(query7)"
   ]
  },
  {
   "cell_type": "markdown",
   "metadata": {
    "application/vnd.databricks.v1+cell": {
     "cellMetadata": {
      "byteLimit": 2048000,
      "rowLimit": 10000
     },
     "inputWidgets": {},
     "nuid": "33f7a143-697e-4ca3-adda-41e2b1f4b676",
     "showTitle": false,
     "title": ""
    }
   },
   "source": [
    "<div style=\"text-align: justify;\">\n",
    "A suspeita de erro na digitação em APA da Bacia do Rio Parnaíba do Sul ao inves de APA Bacia da Paraíba do Sul foi confirmada, pois o área da UC informada na tabela de incêndio \"bate\" com a informada na tabela, 292599.9242 ha, com Atributos das Unidades de Conservação, conforme é possível ver em tabela abaixo. "
   ]
  },
  {
   "cell_type": "code",
   "execution_count": 0,
   "metadata": {
    "application/vnd.databricks.v1+cell": {
     "cellMetadata": {
      "byteLimit": 2048000,
      "rowLimit": 10000
     },
     "inputWidgets": {},
     "nuid": "61059f09-248c-4324-a2ee-c37c4e81d7ce",
     "showTitle": false,
     "title": ""
    }
   },
   "outputs": [
    {
     "output_type": "display_data",
     "data": {
      "text/html": [
       "<style scoped>\n",
       "  .table-result-container {\n",
       "    max-height: 300px;\n",
       "    overflow: auto;\n",
       "  }\n",
       "  table, th, td {\n",
       "    border: 1px solid black;\n",
       "    border-collapse: collapse;\n",
       "  }\n",
       "  th, td {\n",
       "    padding: 5px;\n",
       "  }\n",
       "  th {\n",
       "    text-align: left;\n",
       "  }\n",
       "</style><div class='table-result-container'><table class='table-result'><thead style='background-color: white'><tr><th>TIPO_NOME</th><th>NOME_UC</th><th>Area</th></tr></thead><tbody><tr><td>APA BACIA PARAIBA DO SUL</td><td>AREA DE PROTECAO AMBIENTAL BACIA DO PARAIBA DO SUL</td><td>292599.924223634</td></tr><tr><td>APA DELTA DO PARNAIBA</td><td>AREA DE PROTECAO AMBIENTAL DELTA DO PARNAIBA</td><td>309593.770698495</td></tr><tr><td>PARNA DA SERRA DOS ORGAOS</td><td>PARQUE NACIONAL DA SERRA DOS ORGAOS</td><td>19850.3065728119</td></tr><tr><td>PARNA DAS NASCENTES DO RIO PARNAIBA</td><td>PARQUE NACIONAL DAS NASCENTES DO RIO PARNAIBA</td><td>749774.175082093</td></tr><tr><td>PARNA DAS SEMPRE-VIVAS</td><td>PARQUE NACIONAL DAS SEMPRE-VIVAS</td><td>124155.899321356</td></tr><tr><td>REBIO NASCENTES DA SERRA DO CACHIMBO</td><td>RESERVA BIOLOGICA NASCENTES DA SERRA DO CACHIMBO</td><td>342195.772904465</td></tr><tr><td>RESEX MARINHA DO DELTA DO PARNAIBA</td><td>RESERVA EXTRATIVISTA MARINHA DO DELTA DO PARNAIBA</td><td>27022.0734188426</td></tr><tr><td>RESEX VERDE PARA SEMPRE</td><td>RESERVA EXTRATIVISTA VERDE PARA SEMPRE</td><td>1289379.74234782</td></tr></tbody></table></div>"
      ]
     },
     "metadata": {
      "application/vnd.databricks.v1+output": {
       "addedWidgets": {},
       "aggData": [],
       "aggError": "",
       "aggOverflow": false,
       "aggSchema": [],
       "aggSeriesLimitReached": false,
       "aggType": "",
       "arguments": {},
       "columnCustomDisplayInfos": {},
       "data": [
        [
         "APA BACIA PARAIBA DO SUL",
         "AREA DE PROTECAO AMBIENTAL BACIA DO PARAIBA DO SUL",
         292599.924223634
        ],
        [
         "APA DELTA DO PARNAIBA",
         "AREA DE PROTECAO AMBIENTAL DELTA DO PARNAIBA",
         309593.770698495
        ],
        [
         "PARNA DA SERRA DOS ORGAOS",
         "PARQUE NACIONAL DA SERRA DOS ORGAOS",
         19850.3065728119
        ],
        [
         "PARNA DAS NASCENTES DO RIO PARNAIBA",
         "PARQUE NACIONAL DAS NASCENTES DO RIO PARNAIBA",
         749774.175082093
        ],
        [
         "PARNA DAS SEMPRE-VIVAS",
         "PARQUE NACIONAL DAS SEMPRE-VIVAS",
         124155.899321356
        ],
        [
         "REBIO NASCENTES DA SERRA DO CACHIMBO",
         "RESERVA BIOLOGICA NASCENTES DA SERRA DO CACHIMBO",
         342195.772904465
        ],
        [
         "RESEX MARINHA DO DELTA DO PARNAIBA",
         "RESERVA EXTRATIVISTA MARINHA DO DELTA DO PARNAIBA",
         27022.0734188426
        ],
        [
         "RESEX VERDE PARA SEMPRE",
         "RESERVA EXTRATIVISTA VERDE PARA SEMPRE",
         1289379.74234782
        ]
       ],
       "datasetInfos": [],
       "dbfsResultPath": null,
       "isJsonSchema": true,
       "metadata": {},
       "overflow": false,
       "plotOptions": {
        "customPlotOptions": {},
        "displayType": "table",
        "pivotAggregation": null,
        "pivotColumns": null,
        "xColumns": null,
        "yColumns": null
       },
       "removedWidgets": [],
       "schema": [
        {
         "metadata": "{}",
         "name": "TIPO_NOME",
         "type": "\"string\""
        },
        {
         "metadata": "{}",
         "name": "NOME_UC",
         "type": "\"string\""
        },
        {
         "metadata": "{}",
         "name": "Area",
         "type": "\"double\""
        }
       ],
       "type": "table"
      }
     },
     "output_type": "display_data"
    }
   ],
   "source": [
    "display(pesquisa_nomes_uc)"
   ]
  },
  {
   "cell_type": "markdown",
   "metadata": {
    "application/vnd.databricks.v1+cell": {
     "cellMetadata": {
      "byteLimit": 2048000,
      "rowLimit": 10000
     },
     "inputWidgets": {},
     "nuid": "72aeecc8-57c6-4212-88b3-0be5508814b9",
     "showTitle": false,
     "title": ""
    }
   },
   "source": [
    "<div style=\"text-align: justify;\">\n",
    "Agora que foi finalizado a verificação dos problemas, os dataframes serão salvos para formato de tabela delta.  As correções e ajustes necessários serão feito na sequência. A forma de salvar deste arquivos foram definidos com o modo de sobreescrever tabelas e seus esquemas, assim é possivel reexecutar as linhas de código sem problema interrupção."
   ]
  },
  {
   "cell_type": "code",
   "execution_count": 0,
   "metadata": {
    "application/vnd.databricks.v1+cell": {
     "cellMetadata": {
      "byteLimit": 2048000,
      "rowLimit": 10000
     },
     "inputWidgets": {},
     "nuid": "51c9a07e-b60c-4970-b433-3a2ae637bd14",
     "showTitle": false,
     "title": ""
    }
   },
   "outputs": [],
   "source": [
    "spark.conf.set(\"spark.databricks.delta.schema.autoMerge.enabled\", \"true\")"
   ]
  },
  {
   "cell_type": "code",
   "execution_count": 0,
   "metadata": {
    "application/vnd.databricks.v1+cell": {
     "cellMetadata": {
      "byteLimit": 2048000,
      "rowLimit": 10000
     },
     "inputWidgets": {},
     "nuid": "0c6d1b23-9847-4cea-9527-ff3c8f0f7573",
     "showTitle": false,
     "title": ""
    }
   },
   "outputs": [],
   "source": [
    "dados_uc.write.format(\"delta\").mode(\"overwrite\").option(\"overwriteSchema\", \"true\").save(\"/FileStore/tables/uc_atualizado_jun_2024\")"
   ]
  },
  {
   "cell_type": "code",
   "execution_count": 0,
   "metadata": {
    "application/vnd.databricks.v1+cell": {
     "cellMetadata": {
      "byteLimit": 2048000,
      "rowLimit": 10000
     },
     "inputWidgets": {},
     "nuid": "921628d6-cd43-47a9-8183-0521fff58719",
     "showTitle": false,
     "title": ""
    }
   },
   "outputs": [],
   "source": [
    "incendio_2023_df.write.format(\"delta\").mode(\"overwrite\").option(\"overwriteSchema\", \"true\").save(\"/FileStore/tables/uc_2023_incendio\")"
   ]
  },
  {
   "cell_type": "code",
   "execution_count": 0,
   "metadata": {
    "application/vnd.databricks.v1+cell": {
     "cellMetadata": {
      "byteLimit": 2048000,
      "rowLimit": 10000
     },
     "inputWidgets": {},
     "nuid": "1e264c19-f81c-446f-a1dc-26debb93c61c",
     "showTitle": false,
     "title": ""
    }
   },
   "outputs": [],
   "source": [
    "incendio_2022_df.write.format(\"delta\").mode(\"overwrite\").option(\"overwriteSchema\", \"true\").save(\"/FileStore/tables/uc_2022_incendio\")"
   ]
  },
  {
   "cell_type": "code",
   "execution_count": 0,
   "metadata": {
    "application/vnd.databricks.v1+cell": {
     "cellMetadata": {
      "byteLimit": 2048000,
      "rowLimit": 10000
     },
     "inputWidgets": {},
     "nuid": "c7efbfee-b063-4ace-a573-d7d7a64895da",
     "showTitle": false,
     "title": ""
    }
   },
   "outputs": [],
   "source": [
    "incendio_2021_df.write.format(\"delta\").mode(\"overwrite\").option(\"overwriteSchema\", \"true\").save(\"/FileStore/tables/uc_2021_incendio\")"
   ]
  },
  {
   "cell_type": "code",
   "execution_count": 0,
   "metadata": {
    "application/vnd.databricks.v1+cell": {
     "cellMetadata": {
      "byteLimit": 2048000,
      "rowLimit": 10000
     },
     "inputWidgets": {},
     "nuid": "60d054d3-49aa-4a4a-9b4c-7e8446311d1c",
     "showTitle": false,
     "title": ""
    }
   },
   "outputs": [],
   "source": [
    "incendio_2020_df.write.format(\"delta\").mode(\"overwrite\").option(\"overwriteSchema\", \"true\").save(\"/FileStore/tables/uc_2020_incendio\")"
   ]
  },
  {
   "cell_type": "code",
   "execution_count": 0,
   "metadata": {
    "application/vnd.databricks.v1+cell": {
     "cellMetadata": {
      "byteLimit": 2048000,
      "rowLimit": 10000
     },
     "inputWidgets": {},
     "nuid": "433261d8-3791-471b-bad4-a858e0f2a28f",
     "showTitle": false,
     "title": ""
    }
   },
   "outputs": [],
   "source": [
    "incendio_2019_df.write.format(\"delta\").mode(\"overwrite\").option(\"overwriteSchema\", \"true\").save(\"/FileStore/tables/uc_2019_incendio\")"
   ]
  },
  {
   "cell_type": "code",
   "execution_count": 0,
   "metadata": {
    "application/vnd.databricks.v1+cell": {
     "cellMetadata": {
      "byteLimit": 2048000,
      "rowLimit": 10000
     },
     "inputWidgets": {},
     "nuid": "dbb1a0a2-61af-4dc4-a609-1dc681dc2fa1",
     "showTitle": false,
     "title": ""
    }
   },
   "outputs": [],
   "source": [
    "incendio_2018_df.write.format(\"delta\").mode(\"overwrite\").option(\"overwriteSchema\", \"true\").save(\"/FileStore/tables/uc_2018_incendio\")"
   ]
  },
  {
   "cell_type": "markdown",
   "metadata": {
    "application/vnd.databricks.v1+cell": {
     "cellMetadata": {
      "byteLimit": 2048000,
      "rowLimit": 10000
     },
     "inputWidgets": {},
     "nuid": "0f4e6a8a-caf9-4884-85c6-4cc2d759f692",
     "showTitle": false,
     "title": ""
    }
   },
   "source": [
    "Correção da digitação da Unidades de Conservação e outros.\n",
    "  \n",
    "Será criado uma lista com o caminho onde estão as tabelas Delta e depois em cima desta lista iterar as correções."
   ]
  },
  {
   "cell_type": "code",
   "execution_count": 0,
   "metadata": {
    "application/vnd.databricks.v1+cell": {
     "cellMetadata": {
      "byteLimit": 2048000,
      "rowLimit": 10000
     },
     "inputWidgets": {},
     "nuid": "9c10b293-aa04-47c1-98fb-ef995cf5764d",
     "showTitle": false,
     "title": ""
    }
   },
   "outputs": [],
   "source": [
    "# Lista de caminhos das tabelas Delta Lake\n",
    "caminhos_tabelas_delta = [\"/FileStore/tables/uc_2023_incendio\", \"/FileStore/tables/uc_2022_incendio\", \"/FileStore/tables/uc_2021_incendio\", \"/FileStore/tables/uc_2020_incendio\", \"/FileStore/tables/uc_2019_incendio\",\"/FileStore/tables/uc_2018_incendio\",]\n",
    "\n",
    "# Carregar todas as tabelas Delta Lake\n",
    "delta_tables = [DeltaTable.forPath(spark, caminho) for caminho in caminhos_tabelas_delta]"
   ]
  },
  {
   "cell_type": "code",
   "execution_count": 0,
   "metadata": {
    "application/vnd.databricks.v1+cell": {
     "cellMetadata": {
      "byteLimit": 2048000,
      "rowLimit": 10000
     },
     "inputWidgets": {},
     "nuid": "be6ce801-4ba1-42cb-b9cd-cda6c115f726",
     "showTitle": false,
     "title": ""
    }
   },
   "outputs": [],
   "source": [
    "# Iterar sobre todas as tabelas Delta Lake e executar a atualização\n",
    "for delta_tab in delta_tables:\n",
    "    delta_tab.update(\n",
    "        condition=\"UC = 'APA BACIA DO PARAIBA DO SUL'\",\n",
    "        set={\"UC\": \"'APA BACIA PARAIBA DO SUL'\"}\n",
    "    )"
   ]
  },
  {
   "cell_type": "code",
   "execution_count": 0,
   "metadata": {
    "application/vnd.databricks.v1+cell": {
     "cellMetadata": {
      "byteLimit": 2048000,
      "rowLimit": 10000
     },
     "inputWidgets": {},
     "nuid": "5dfdbc66-eca7-4a76-b3d3-ccf96a7fd6b0",
     "showTitle": false,
     "title": ""
    }
   },
   "outputs": [],
   "source": [
    "for delta_tab in delta_tables:\n",
    "    delta_tab.update(\n",
    "        condition=\"UC = 'APA DA BACIA PARAIBA DO SUL'\",\n",
    "        set={\"UC\": \"'APA BACIA PARAIBA DO SUL'\"}\n",
    "    )"
   ]
  },
  {
   "cell_type": "code",
   "execution_count": 0,
   "metadata": {
    "application/vnd.databricks.v1+cell": {
     "cellMetadata": {
      "byteLimit": 2048000,
      "rowLimit": 10000
     },
     "inputWidgets": {},
     "nuid": "70579995-e6d0-4931-9c3d-74b8313002ba",
     "showTitle": false,
     "title": ""
    }
   },
   "outputs": [],
   "source": [
    "for delta_tab in delta_tables:\n",
    "    delta_tab.update(\n",
    "        condition=\"UC = 'APA DA BACIA DO RIO PARNAIBA DO SUL'\",\n",
    "        set={\"UC\": \"'APA BACIA PARAIBA DO SUL'\"}\n",
    "    )"
   ]
  },
  {
   "cell_type": "markdown",
   "metadata": {
    "application/vnd.databricks.v1+cell": {
     "cellMetadata": {
      "byteLimit": 2048000,
      "rowLimit": 10000
     },
     "inputWidgets": {},
     "nuid": "557e25b3-5b33-457d-b81c-259c13f8addf",
     "showTitle": false,
     "title": ""
    }
   },
   "source": [
    "<div style=\"text-align: justify;\">\n",
    "Nem todas as tabelas com registros de incêndio têm a coluna Bioma, não sendo possível iterar a sua correção. Neste caso, esta ação sera feita pontualmente na tabela de incêndios em 2020 para corrigir o Bioma da APA Bacia Paraíba do Sul. O ajuste será substituir CERRADO por MATA ATLANTICA."
   ]
  },
  {
   "cell_type": "code",
   "execution_count": 0,
   "metadata": {
    "application/vnd.databricks.v1+cell": {
     "cellMetadata": {
      "byteLimit": 2048000,
      "rowLimit": 10000
     },
     "inputWidgets": {},
     "nuid": "ca63d8e4-5c21-4140-87f8-9a55cd36daa9",
     "showTitle": false,
     "title": ""
    }
   },
   "outputs": [],
   "source": [
    "caminhos_tabelas_delta2 = \"/FileStore/tables/uc_2020_incendio\"\n",
    "\n",
    "delta_table2 = DeltaTable.forPath(spark, caminhos_tabelas_delta2)\n",
    "\n",
    "delta_table2.update(\n",
    "        condition=\"UC == 'APA BACIA PARAIBA DO SUL'\",\n",
    "        set={\"Bioma\": \"'MATA ATLANTICA'\"}\n",
    ")"
   ]
  },
  {
   "cell_type": "code",
   "execution_count": 0,
   "metadata": {
    "application/vnd.databricks.v1+cell": {
     "cellMetadata": {
      "byteLimit": 2048000,
      "rowLimit": 10000
     },
     "inputWidgets": {},
     "nuid": "2acd7d17-ccac-4a9d-9667-2cf8560422d2",
     "showTitle": false,
     "title": ""
    }
   },
   "outputs": [],
   "source": [
    "for delta_tab in delta_tables:\n",
    "    delta_tab.update(\n",
    "        condition=\"UC = 'REBIO DAS NASCENTES DA SERRA DO CACHIMBO'\",\n",
    "        set={\"UC\": \"'REBIO NASCENTES DA SERRA DO CACHIMBO'\"}\n",
    "    )"
   ]
  },
  {
   "cell_type": "code",
   "execution_count": 0,
   "metadata": {
    "application/vnd.databricks.v1+cell": {
     "cellMetadata": {
      "byteLimit": 2048000,
      "rowLimit": 10000
     },
     "inputWidgets": {},
     "nuid": "0a94a308-9da8-406a-9ac6-a66fd0555241",
     "showTitle": false,
     "title": ""
    }
   },
   "outputs": [],
   "source": [
    "for delta_tab in delta_tables:\n",
    "    delta_tab.update(\n",
    "        condition=\"UC = 'PARNA DAS SEMPRE VIVAS'\",\n",
    "        set={\"UC\": \"'PARNA DAS SEMPRE-VIVAS'\"}\n",
    "    )"
   ]
  },
  {
   "cell_type": "code",
   "execution_count": 0,
   "metadata": {
    "application/vnd.databricks.v1+cell": {
     "cellMetadata": {
      "byteLimit": 2048000,
      "rowLimit": 10000
     },
     "inputWidgets": {},
     "nuid": "00233ff0-0d09-41c1-b57e-d4e10153e3c8",
     "showTitle": false,
     "title": ""
    }
   },
   "outputs": [],
   "source": [
    "for delta_tab in delta_tables:\n",
    "    delta_tab.update(\n",
    "        condition=\"UC = 'PARNA DA SERRA DOS ORGAOS '\",\n",
    "        set={\"UC\": \"'PARNA DA SERRA DOS ORGAOS'\"}\n",
    "    )"
   ]
  },
  {
   "cell_type": "markdown",
   "metadata": {
    "application/vnd.databricks.v1+cell": {
     "cellMetadata": {
      "byteLimit": 2048000,
      "rowLimit": 10000
     },
     "inputWidgets": {},
     "nuid": "890a0590-6c83-478d-b846-217e569b2f91",
     "showTitle": false,
     "title": ""
    }
   },
   "source": [
    "2.2 - Terminado a correção dos atributos das tabelas, daremos inicio a processo de construção de Metadados. Etapa fundamental para a organização e governança dos dados.  "
   ]
  },
  {
   "cell_type": "markdown",
   "metadata": {
    "application/vnd.databricks.v1+cell": {
     "cellMetadata": {
      "byteLimit": 2048000,
      "rowLimit": 10000
     },
     "inputWidgets": {},
     "nuid": "0c24bffc-bce3-47f2-be09-d3132172974d",
     "showTitle": false,
     "title": ""
    }
   },
   "source": [
    "<div style=\"text-align: justify;\">\n",
    "Para realização desta etapa foi necessário registrar as tabelas deltas no catálogo Spark. Ao fazer isto, é criado um catálogo onde possível inserir comentários que descrevem as características de cada coluna. Esta ação fez-se pelo uso combinado dos comandos ALTER TABLE e CHANGE COLUMN pelo pyspark, além do comando CREATE TABLE e USING delta LOCATION para apontar a tabela delta de referência para criação do catálogo. Outro acréscimo foi sobre informações gerais de cada tabela: como a origem dos dados; quem é o controlador e quem o mantenedor; o período em que este dado é atualizado e quando foi a última atualização; quem modificou o dado e em que período ocorreu. Para esta operação, foi usado a linguagem SQL aplicando em conjunto os comandos ALTER TABLE DELTA e SET TBLPROPERTIES. Estas informações ficam em Table Properties do catálogo da tabela delta disponível na última linha do catálogo.\n",
    "\n",
    "No percurso deste trabalho foi percebido a necessidade de criar uma coluna ano para cada tabela relacionada a incêndio. Na etapa final deste trabalho ficará bem evidente que a criação do campo ano é fundamental para verificar a evolução dos incêndio nas UCs entre os anos de 2018 à 2023.  Optou-se em adicionar estas colunas já dentro do formato delta através da linguagem SQL e os comentários relativos ao ano foram adicionados nos catálogos das tabelas. Os comandos utilizados foram ALTER TABLE; ADD COLUMN para criar a coluna com o tipo de dado Inteiro e, para preencher com os valores predefinido - os anos dos incêndios, UPDATE; SET. A sintaxe para as tabelas ficaram desta forma na primeira linha de código: ALTER TABLE delta./FileStore/tables/uc_2023_incendio ADD COLUMN ano INT;. Na segunda linha: UPDATE delta./FileStore/tables/uc_2023_incendio SET ano = 2023;. Este padrão se repetiu para as tabelas incêndios de outros anos."
   ]
  },
  {
   "cell_type": "code",
   "execution_count": 0,
   "metadata": {
    "application/vnd.databricks.v1+cell": {
     "cellMetadata": {
      "byteLimit": 2048000,
      "rowLimit": 10000
     },
     "inputWidgets": {},
     "nuid": "98679e28-4598-41a4-9de9-54c4adf667dc",
     "showTitle": false,
     "title": ""
    }
   },
   "outputs": [
    {
     "output_type": "stream",
     "name": "stdout",
     "output_type": "stream",
     "text": [
      "Out[37]: DataFrame[]"
     ]
    }
   ],
   "source": [
    "caminho_tabela_delta = \"/FileStore/tables/uc_atualizado_jun_2024\"\n",
    "\n",
    "# Registrar a tabela Delta no catálogo do Spark\n",
    "spark.sql(f\"CREATE TABLE info_dados_uc1 USING delta LOCATION '{caminho_tabela_delta}'\")"
   ]
  },
  {
   "cell_type": "code",
   "execution_count": 0,
   "metadata": {
    "application/vnd.databricks.v1+cell": {
     "cellMetadata": {
      "byteLimit": 2048000,
      "rowLimit": 10000
     },
     "inputWidgets": {},
     "nuid": "7a1ce630-5474-4d64-be13-3c84b66d6ffe",
     "showTitle": false,
     "title": ""
    }
   },
   "outputs": [
    {
     "output_type": "stream",
     "name": "stdout",
     "output_type": "stream",
     "text": [
      "Out[38]: DataFrame[]"
     ]
    }
   ],
   "source": [
    "spark.sql(f\"ALTER TABLE info_dados_uc1 CHANGE COLUMN TIPO_NOME TIPO_NOME STRING COMMENT 'Unidade de Conservacao com a Categoria abreviada ou com iniciais'\")\n",
    "spark.sql(f\"ALTER TABLE info_dados_uc1 CHANGE COLUMN TIPO TIPO STRING COMMENT 'Categorias de Unidade de Conservacao abreviado ou com iniciais. Ver mais em Lei 9985/2000-SNUC'\")\n",
    "spark.sql(f\"ALTER TABLE info_dados_uc1 CHANGE COLUMN Nome_UC Nome_UC STRING COMMENT 'Unidade de Conservacao com descricao completa'\")\n",
    "spark.sql(f\"ALTER TABLE info_dados_uc1 CHANGE COLUMN NGI NGI STRING COMMENT 'Nucleo de Gestao Integrada'\")\n",
    "spark.sql(f\"ALTER TABLE info_dados_uc1 CHANGE COLUMN GR GR STRING COMMENT 'Gerencia Regional'\")\n",
    "spark.sql(f\"ALTER TABLE info_dados_uc1 CHANGE COLUMN CNUC CNUC STRING COMMENT 'Codigo CNUC (MMA)'\")\n",
    "spark.sql(f\"ALTER TABLE info_dados_uc1 CHANGE COLUMN Atos_legais Atos_legais STRING COMMENT 'Atos legais (Criacao ou redefinicao)'\")\n",
    "spark.sql(f\"ALTER TABLE info_dados_uc1 CHANGE COLUMN UF UF STRING COMMENT 'UF de Abrangencia'\")\n",
    "spark.sql(f\"ALTER TABLE info_dados_uc1 CHANGE COLUMN Bioma_predominante Bioma_predominante STRING COMMENT 'Bioma (IBGE 1:250mil). Para as UCs que ocorrem em mais de um bioma considera-se a que abrange 50% ou mais de seu territorio'\")\n",
    "spark.sql(f\"ALTER TABLE info_dados_uc1 CHANGE COLUMN Bioma_comp_RL Bioma_comp_RL STRING COMMENT 'Bioma para fins de Compensacao de Reserva Legal'\")\n",
    "spark.sql(f\"ALTER TABLE info_dados_uc1 CHANGE COLUMN Area Area DOUBLE COMMENT 'Area em hectares'\")"
   ]
  },
  {
   "cell_type": "code",
   "execution_count": 0,
   "metadata": {
    "application/vnd.databricks.v1+cell": {
     "cellMetadata": {
      "byteLimit": 2048000,
      "rowLimit": 10000
     },
     "inputWidgets": {},
     "nuid": "52ad3665-8741-4338-a4cc-6e4f988bc4ff",
     "showTitle": false,
     "title": ""
    }
   },
   "outputs": [
    {
     "output_type": "stream",
     "name": "stdout",
     "output_type": "stream",
     "text": [
      "Out[96]: DataFrame[]"
     ]
    }
   ],
   "source": [
    "spark.sql(f\"\"\"\n",
    "    ALTER TABLE delta.`{caminho_tabela_delta}`\n",
    "    SET TBLPROPERTIES (\n",
    "        ' Info' = 'Tabela modificada cujo dados sao provenientes do dataset Atributos das Unidades de Conservação Federais disponivel em https://dados.gov.br/dados/conjuntos-dados/atributos-das-unidades-de-conservacao-federais .  Controlador: ICMBio. Mantenedor: Coordenação-Geral de Consolidação Territorial - CGTER. Frequencia de atualizacao: Quadrimestral. Ultima atualizacao: Junho/2024. Modificado por Ana Paula Pessoa da Silva para entrega de trabalho de Eng. De Dados da Pos-Graduacao em Ciencia de Dados e Analiticas do PUC-Rio de Janeiro entre periodo de junho a julho deste ano (2024)  '\n",
    "    )\n",
    "\"\"\")\n"
   ]
  },
  {
   "cell_type": "markdown",
   "metadata": {
    "application/vnd.databricks.v1+cell": {
     "cellMetadata": {
      "byteLimit": 2048000,
      "rowLimit": 10000
     },
     "inputWidgets": {},
     "nuid": "db19d59d-920d-4b0c-987e-fad33d565db7",
     "showTitle": false,
     "title": ""
    }
   },
   "source": [
    "Visualizando o Catálago pertinentes aos Atributos de Unidades de Conservação Federais"
   ]
  },
  {
   "cell_type": "code",
   "execution_count": 0,
   "metadata": {
    "application/vnd.databricks.v1+cell": {
     "cellMetadata": {
      "byteLimit": 2048000,
      "implicitDf": true,
      "rowLimit": 10000
     },
     "inputWidgets": {},
     "nuid": "9840e0ab-d57c-4b81-8d26-ddefcf152f73",
     "showTitle": false,
     "title": ""
    }
   },
   "outputs": [
    {
     "output_type": "display_data",
     "data": {
      "text/html": [
       "<style scoped>\n",
       "  .table-result-container {\n",
       "    max-height: 300px;\n",
       "    overflow: auto;\n",
       "  }\n",
       "  table, th, td {\n",
       "    border: 1px solid black;\n",
       "    border-collapse: collapse;\n",
       "  }\n",
       "  th, td {\n",
       "    padding: 5px;\n",
       "  }\n",
       "  th {\n",
       "    text-align: left;\n",
       "  }\n",
       "</style><div class='table-result-container'><table class='table-result'><thead style='background-color: white'><tr><th>col_name</th><th>data_type</th><th>comment</th></tr></thead><tbody><tr><td>TIPO_NOME</td><td>string</td><td>Unidade de Conservacao com a Categoria abreviada ou com iniciais</td></tr><tr><td>TIPO</td><td>string</td><td>Categorias de Unidade de Conservacao abreviado ou com iniciais. Ver mais em Lei 9985/2000-SNUC</td></tr><tr><td>Nome_UC</td><td>string</td><td>Unidade de Conservacao com descricao completa</td></tr><tr><td>NGI</td><td>string</td><td>Nucleo de Gestao Integrada</td></tr><tr><td>GR</td><td>string</td><td>Gerencia Regional</td></tr><tr><td>CNUC</td><td>string</td><td>Codigo CNUC (MMA)</td></tr><tr><td>Atos_legais</td><td>string</td><td>Atos legais (Criacao ou redefinicao)</td></tr><tr><td>UF</td><td>string</td><td>UF de Abrangencia</td></tr><tr><td>Bioma_predominante</td><td>string</td><td>Bioma (IBGE 1:250mil). Para as UCs que ocorrem em mais de um bioma considera-se a que abrange 50% ou mais de seu territorio</td></tr><tr><td>Bioma_comp_RL</td><td>string</td><td>Bioma para fins de Compensacao de Reserva Legal</td></tr><tr><td>Area</td><td>double</td><td>Area em hectares</td></tr><tr><td></td><td></td><td></td></tr><tr><td># Detailed Table Information</td><td></td><td></td></tr><tr><td>Catalog</td><td>spark_catalog</td><td></td></tr><tr><td>Database</td><td>delta</td><td></td></tr><tr><td>Table</td><td>/FileStore/tables/uc_atualizado_jun_2024</td><td></td></tr><tr><td>Type</td><td>MANAGED</td><td></td></tr><tr><td>Location</td><td>/FileStore/tables/uc_atualizado_jun_2024</td><td></td></tr><tr><td>Provider</td><td>delta</td><td></td></tr><tr><td>Table Properties</td><td>[ Info=Tabela modificada cujo dados sao provenientes do dataset Atributos das Unidades de Conservação Federais disponivel em https://dados.gov.br/dados/conjuntos-dados/atributos-das-unidades-de-conservacao-federais .  Controlador: ICMBio. Mantenedor: Coordenação-Geral de Consolidação Territorial - CGTER. Frequencia de atualizacao: Quadrimestral. Ultima atualizacao: Junho/2024. Modificado por Ana Paula Pessoa da Silva para entrega de trabalho de Eng. De Dados da Pos-Graduacao em Ciencia de Dados e Analiticas do PUC-Rio de Janeiro entre periodo de junho a julho deste ano (2024)  ,delta.minReaderVersion=1,delta.minWriterVersion=2]</td><td></td></tr></tbody></table></div>"
      ]
     },
     "metadata": {
      "application/vnd.databricks.v1+output": {
       "addedWidgets": {},
       "aggData": [],
       "aggError": "",
       "aggOverflow": false,
       "aggSchema": [],
       "aggSeriesLimitReached": false,
       "aggType": "",
       "arguments": {},
       "columnCustomDisplayInfos": {},
       "data": [
        [
         "TIPO_NOME",
         "string",
         "Unidade de Conservacao com a Categoria abreviada ou com iniciais"
        ],
        [
         "TIPO",
         "string",
         "Categorias de Unidade de Conservacao abreviado ou com iniciais. Ver mais em Lei 9985/2000-SNUC"
        ],
        [
         "Nome_UC",
         "string",
         "Unidade de Conservacao com descricao completa"
        ],
        [
         "NGI",
         "string",
         "Nucleo de Gestao Integrada"
        ],
        [
         "GR",
         "string",
         "Gerencia Regional"
        ],
        [
         "CNUC",
         "string",
         "Codigo CNUC (MMA)"
        ],
        [
         "Atos_legais",
         "string",
         "Atos legais (Criacao ou redefinicao)"
        ],
        [
         "UF",
         "string",
         "UF de Abrangencia"
        ],
        [
         "Bioma_predominante",
         "string",
         "Bioma (IBGE 1:250mil). Para as UCs que ocorrem em mais de um bioma considera-se a que abrange 50% ou mais de seu territorio"
        ],
        [
         "Bioma_comp_RL",
         "string",
         "Bioma para fins de Compensacao de Reserva Legal"
        ],
        [
         "Area",
         "double",
         "Area em hectares"
        ],
        [
         "",
         "",
         ""
        ],
        [
         "# Detailed Table Information",
         "",
         ""
        ],
        [
         "Catalog",
         "spark_catalog",
         ""
        ],
        [
         "Database",
         "delta",
         ""
        ],
        [
         "Table",
         "/FileStore/tables/uc_atualizado_jun_2024",
         ""
        ],
        [
         "Type",
         "MANAGED",
         ""
        ],
        [
         "Location",
         "/FileStore/tables/uc_atualizado_jun_2024",
         ""
        ],
        [
         "Provider",
         "delta",
         ""
        ],
        [
         "Table Properties",
         "[ Info=Tabela modificada cujo dados sao provenientes do dataset Atributos das Unidades de Conservação Federais disponivel em https://dados.gov.br/dados/conjuntos-dados/atributos-das-unidades-de-conservacao-federais .  Controlador: ICMBio. Mantenedor: Coordenação-Geral de Consolidação Territorial - CGTER. Frequencia de atualizacao: Quadrimestral. Ultima atualizacao: Junho/2024. Modificado por Ana Paula Pessoa da Silva para entrega de trabalho de Eng. De Dados da Pos-Graduacao em Ciencia de Dados e Analiticas do PUC-Rio de Janeiro entre periodo de junho a julho deste ano (2024)  ,delta.minReaderVersion=1,delta.minWriterVersion=2]",
         ""
        ]
       ],
       "datasetInfos": [],
       "dbfsResultPath": null,
       "isJsonSchema": true,
       "metadata": {},
       "overflow": false,
       "plotOptions": {
        "customPlotOptions": {},
        "displayType": "table",
        "pivotAggregation": null,
        "pivotColumns": null,
        "xColumns": null,
        "yColumns": null
       },
       "removedWidgets": [],
       "schema": [
        {
         "metadata": "{\"comment\":\"name of the column\"}",
         "name": "col_name",
         "type": "\"string\""
        },
        {
         "metadata": "{\"comment\":\"data type of the column\"}",
         "name": "data_type",
         "type": "\"string\""
        },
        {
         "metadata": "{\"comment\":\"comment of the column\"}",
         "name": "comment",
         "type": "\"string\""
        }
       ],
       "type": "table"
      }
     },
     "output_type": "display_data"
    }
   ],
   "source": [
    "%sql\n",
    "DESCRIBE EXTENDED delta.`/FileStore/tables/uc_atualizado_jun_2024`;"
   ]
  },
  {
   "cell_type": "code",
   "execution_count": 0,
   "metadata": {
    "application/vnd.databricks.v1+cell": {
     "cellMetadata": {
      "byteLimit": 2048000,
      "implicitDf": true,
      "rowLimit": 10000
     },
     "inputWidgets": {},
     "nuid": "a2c03ddf-ea8d-415f-a2e2-7a11478bd814",
     "showTitle": false,
     "title": ""
    }
   },
   "outputs": [
    {
     "output_type": "display_data",
     "data": {
      "text/html": [
       "<style scoped>\n",
       "  .table-result-container {\n",
       "    max-height: 300px;\n",
       "    overflow: auto;\n",
       "  }\n",
       "  table, th, td {\n",
       "    border: 1px solid black;\n",
       "    border-collapse: collapse;\n",
       "  }\n",
       "  th, td {\n",
       "    padding: 5px;\n",
       "  }\n",
       "  th {\n",
       "    text-align: left;\n",
       "  }\n",
       "</style><div class='table-result-container'><table class='table-result'><thead style='background-color: white'><tr></tr></thead><tbody></tbody></table></div>"
      ]
     },
     "metadata": {
      "application/vnd.databricks.v1+output": {
       "addedWidgets": {},
       "aggData": [],
       "aggError": "",
       "aggOverflow": false,
       "aggSchema": [],
       "aggSeriesLimitReached": false,
       "aggType": "",
       "arguments": {},
       "columnCustomDisplayInfos": {},
       "data": [],
       "datasetInfos": [],
       "dbfsResultPath": null,
       "isJsonSchema": true,
       "metadata": {},
       "overflow": false,
       "plotOptions": {
        "customPlotOptions": {},
        "displayType": "table",
        "pivotAggregation": null,
        "pivotColumns": null,
        "xColumns": null,
        "yColumns": null
       },
       "removedWidgets": [],
       "schema": [],
       "type": "table"
      }
     },
     "output_type": "display_data"
    }
   ],
   "source": [
    "%sql\n",
    "\n",
    "ALTER TABLE delta.`/FileStore/tables/uc_2023_incendio` ADD COLUMN ano INT;"
   ]
  },
  {
   "cell_type": "code",
   "execution_count": 0,
   "metadata": {
    "application/vnd.databricks.v1+cell": {
     "cellMetadata": {
      "byteLimit": 2048000,
      "implicitDf": true,
      "rowLimit": 10000
     },
     "inputWidgets": {},
     "nuid": "18cc6c66-c34b-4136-8dad-a38a9a9b97d3",
     "showTitle": false,
     "title": ""
    }
   },
   "outputs": [
    {
     "output_type": "display_data",
     "data": {
      "text/html": [
       "<style scoped>\n",
       "  .table-result-container {\n",
       "    max-height: 300px;\n",
       "    overflow: auto;\n",
       "  }\n",
       "  table, th, td {\n",
       "    border: 1px solid black;\n",
       "    border-collapse: collapse;\n",
       "  }\n",
       "  th, td {\n",
       "    padding: 5px;\n",
       "  }\n",
       "  th {\n",
       "    text-align: left;\n",
       "  }\n",
       "</style><div class='table-result-container'><table class='table-result'><thead style='background-color: white'><tr><th>num_affected_rows</th></tr></thead><tbody><tr><td>132</td></tr></tbody></table></div>"
      ]
     },
     "metadata": {
      "application/vnd.databricks.v1+output": {
       "addedWidgets": {},
       "aggData": [],
       "aggError": "",
       "aggOverflow": false,
       "aggSchema": [],
       "aggSeriesLimitReached": false,
       "aggType": "",
       "arguments": {},
       "columnCustomDisplayInfos": {},
       "data": [
        [
         132
        ]
       ],
       "datasetInfos": [],
       "dbfsResultPath": null,
       "isJsonSchema": true,
       "metadata": {},
       "overflow": false,
       "plotOptions": {
        "customPlotOptions": {},
        "displayType": "table",
        "pivotAggregation": null,
        "pivotColumns": null,
        "xColumns": null,
        "yColumns": null
       },
       "removedWidgets": [],
       "schema": [
        {
         "metadata": "{}",
         "name": "num_affected_rows",
         "type": "\"long\""
        }
       ],
       "type": "table"
      }
     },
     "output_type": "display_data"
    }
   ],
   "source": [
    "%sql\n",
    "\n",
    "UPDATE delta.`/FileStore/tables/uc_2023_incendio` SET ano = 2023;"
   ]
  },
  {
   "cell_type": "code",
   "execution_count": 0,
   "metadata": {
    "application/vnd.databricks.v1+cell": {
     "cellMetadata": {
      "byteLimit": 2048000,
      "rowLimit": 10000
     },
     "inputWidgets": {},
     "nuid": "86be57c9-fe4c-476c-b053-8a315e1b628f",
     "showTitle": false,
     "title": ""
    }
   },
   "outputs": [
    {
     "output_type": "stream",
     "name": "stdout",
     "output_type": "stream",
     "text": [
      "Out[42]: DataFrame[]"
     ]
    }
   ],
   "source": [
    "caminho_ano_2023 = \"/FileStore/tables/uc_2023_incendio\"\n",
    "\n",
    "# Registrar a tabela Delta no catálogo do Spark\n",
    "spark.sql(f\"CREATE TABLE info_incendio_2023 USING delta LOCATION '{caminho_ano_2023}'\")"
   ]
  },
  {
   "cell_type": "code",
   "execution_count": 0,
   "metadata": {
    "application/vnd.databricks.v1+cell": {
     "cellMetadata": {
      "byteLimit": 2048000,
      "rowLimit": 10000
     },
     "inputWidgets": {},
     "nuid": "25e7054f-1bd5-4a26-95dd-cfca8fb662dc",
     "showTitle": false,
     "title": ""
    }
   },
   "outputs": [
    {
     "output_type": "stream",
     "name": "stdout",
     "output_type": "stream",
     "text": [
      "Out[43]: DataFrame[]"
     ]
    }
   ],
   "source": [
    "spark.sql(f\"ALTER TABLE info_incendio_2023 CHANGE COLUMN ind ind INT COMMENT 'index gerado'\")\n",
    "spark.sql(f\"ALTER TABLE info_incendio_2023 CHANGE COLUMN UC UC STRING COMMENT 'Unidade de Conservacao com a Categoria abreviada ou com iniciais'\")\n",
    "spark.sql(f\"ALTER TABLE info_incendio_2023 CHANGE COLUMN NGI NGI STRING COMMENT 'Nucleo de Gestao Integrada'\")\n",
    "spark.sql(f\"ALTER TABLE info_incendio_2023 CHANGE COLUMN Incendio Incendio DOUBLE COMMENT 'Area em hectares da UC atingida por incendio'\")\n",
    "spark.sql(f\"ALTER TABLE info_incendio_2023 CHANGE COLUMN Queima_prescrita Queima_prescrita DOUBLE COMMENT 'Queimada prescrita em hectares'\")\n",
    "spark.sql(f\"ALTER TABLE info_incendio_2023 CHANGE COLUMN Queima_controlada Queima_controlada DOUBLE COMMENT 'Queimada controlada em hectares'\")\n",
    "spark.sql(f\"ALTER TABLE info_incendio_2023 CHANGE COLUMN Aceiro Aceiro DOUBLE COMMENT 'Area queimada em hectares por fogo controlado para servir como barreira natural contra incendios florestais'\")\n",
    "spark.sql(f\"ALTER TABLE info_incendio_2023 CHANGE COLUMN Fogo_natural Fogo_natural DOUBLE COMMENT 'Area queimada em hectares cuja as causas do fogo foram naturais'\")\n",
    "spark.sql(f\"ALTER TABLE info_incendio_2023 CHANGE COLUMN Indigena_isolado Indigena_isolado DOUBLE COMMENT 'Area queimada em hectares por grupos indigenas isolados'\")\n",
    "spark.sql(f\"ALTER TABLE info_incendio_2023 CHANGE COLUMN Total_prevencao Total_prevencao DOUBLE COMMENT 'Area em hectares com prevencao de incendios'\")\n",
    "spark.sql(f\"ALTER TABLE info_incendio_2023 CHANGE COLUMN Total_combate Total_combate DOUBLE COMMENT 'Area em hectares de combate a incendios'\")\n",
    "spark.sql(f\"ALTER TABLE info_incendio_2023 CHANGE COLUMN Area_queimada Area_queimada DOUBLE COMMENT 'Area Queimada total em hectares. Nao e incluido o total de area com prevencao de incendios florestais'\")\n",
    "spark.sql(f\"ALTER TABLE info_incendio_2023 CHANGE COLUMN Area_UC Area_UC DOUBLE COMMENT 'Area em hectares da UC'\")\n",
    "spark.sql(f\"ALTER TABLE info_incendio_2023 CHANGE COLUMN Perc_UC Perc_UC DOUBLE COMMENT 'Percentual de area afetada pelo incendio em relacao a area da UC'\")\n",
    "spark.sql(f\"ALTER TABLE info_incendio_2023 CHANGE COLUMN ano ano INT COMMENT 'Ano da ocorrencia do incendio'\")"
   ]
  },
  {
   "cell_type": "code",
   "execution_count": 0,
   "metadata": {
    "application/vnd.databricks.v1+cell": {
     "cellMetadata": {
      "byteLimit": 2048000,
      "rowLimit": 10000
     },
     "inputWidgets": {},
     "nuid": "ec402ba1-ddb2-488a-b884-6aa3a8314347",
     "showTitle": false,
     "title": ""
    }
   },
   "outputs": [
    {
     "output_type": "stream",
     "name": "stdout",
     "output_type": "stream",
     "text": [
      "Out[44]: DataFrame[]"
     ]
    }
   ],
   "source": [
    "spark.sql(f\"\"\"\n",
    "    ALTER TABLE delta.`{caminho_ano_2023}`\n",
    "    SET TBLPROPERTIES (\n",
    "        ' Info' = 'Tabela modificada cujo dados sao provenientes do dataset Áreas Queimadas em Unidades de Conservação Federais disponivel em https://dados.gov.br/dados/conjuntos-dados/incendios-em-ucs .  Controlador ICMBio. Mantenedor: Divisão de Informações Geoespaciais e Monitoramento - DGEO. Frequencia de atualizacao: Anual. Ultima atualizacao: Outubro/2023. Modificado por Ana Paula Pessoa da Silva para entrega de trabalho de Eng. De Dados da Pos-Graduacao em Ciencia de Dados e Analiticas do PUC-Rio de Janeiro entre periodo de junho a julho deste ano (2024)  '\n",
    "    )\n",
    "\"\"\")\n"
   ]
  },
  {
   "cell_type": "markdown",
   "metadata": {
    "application/vnd.databricks.v1+cell": {
     "cellMetadata": {
      "byteLimit": 2048000,
      "rowLimit": 10000
     },
     "inputWidgets": {},
     "nuid": "d692a55c-0f96-4e5b-93e1-4d8ebd50600f",
     "showTitle": false,
     "title": ""
    }
   },
   "source": [
    "Será acrescentado a coluna ano para as tabelas que registram ocorrência de incêndio para o próxima etapa consulta e análise da evolução temporal dos incêndios nas UC.  "
   ]
  },
  {
   "cell_type": "markdown",
   "metadata": {
    "application/vnd.databricks.v1+cell": {
     "cellMetadata": {
      "byteLimit": 2048000,
      "rowLimit": 10000
     },
     "inputWidgets": {},
     "nuid": "73c5ecaa-8570-43ab-9250-44a358e5d621",
     "showTitle": false,
     "title": ""
    }
   },
   "source": [
    "Visualizando o catálago pertinentes aos Dados de Registro de Incendios nas UCs de 2023  "
   ]
  },
  {
   "cell_type": "code",
   "execution_count": 0,
   "metadata": {
    "application/vnd.databricks.v1+cell": {
     "cellMetadata": {
      "byteLimit": 2048000,
      "implicitDf": true,
      "rowLimit": 10000
     },
     "inputWidgets": {},
     "nuid": "fc60c4d9-22a2-4136-b2b2-47bd9ee8c32a",
     "showTitle": false,
     "title": ""
    }
   },
   "outputs": [
    {
     "output_type": "display_data",
     "data": {
      "text/html": [
       "<style scoped>\n",
       "  .table-result-container {\n",
       "    max-height: 300px;\n",
       "    overflow: auto;\n",
       "  }\n",
       "  table, th, td {\n",
       "    border: 1px solid black;\n",
       "    border-collapse: collapse;\n",
       "  }\n",
       "  th, td {\n",
       "    padding: 5px;\n",
       "  }\n",
       "  th {\n",
       "    text-align: left;\n",
       "  }\n",
       "</style><div class='table-result-container'><table class='table-result'><thead style='background-color: white'><tr><th>col_name</th><th>data_type</th><th>comment</th></tr></thead><tbody><tr><td>ind</td><td>int</td><td>index gerado</td></tr><tr><td>UC</td><td>string</td><td>Unidade de Conservacao com a Categoria abreviada ou com iniciais</td></tr><tr><td>NGI</td><td>string</td><td>Nucleo de Gestao Integrada</td></tr><tr><td>Incendio</td><td>double</td><td>Area em hectares da UC atingida por incendio</td></tr><tr><td>Queima_prescrita</td><td>double</td><td>Queimada prescrita em hectares</td></tr><tr><td>Queima_controlada</td><td>double</td><td>Queimada controlada em hectares</td></tr><tr><td>Aceiro</td><td>double</td><td>Area queimada em hectares por fogo controlado para servir como barreira natural contra incendios florestais</td></tr><tr><td>Fogo_natural</td><td>double</td><td>Area queimada em hectares cuja as causas do fogo foram naturais</td></tr><tr><td>Indigena_isolado</td><td>double</td><td>Area queimada em hectares por grupos indigenas isolados</td></tr><tr><td>Total_prevencao</td><td>double</td><td>Area em hectares com prevencao de incendios</td></tr><tr><td>Total_combate</td><td>double</td><td>Area em hectares de combate a incendios</td></tr><tr><td>Area_queimada</td><td>double</td><td>Area Queimada total em hectares. Nao e incluido o total de area com prevencao de incendios florestais</td></tr><tr><td>Area_UC</td><td>double</td><td>Area em hectares da UC</td></tr><tr><td>Perc_UC</td><td>double</td><td>Percentual de area afetada pelo incendio em relacao a area da UC</td></tr><tr><td>ano</td><td>int</td><td>Ano da ocorrencia do incendio</td></tr><tr><td></td><td></td><td></td></tr><tr><td># Detailed Table Information</td><td></td><td></td></tr><tr><td>Catalog</td><td>spark_catalog</td><td></td></tr><tr><td>Database</td><td>delta</td><td></td></tr><tr><td>Table</td><td>/FileStore/tables/uc_2023_incendio</td><td></td></tr><tr><td>Type</td><td>MANAGED</td><td></td></tr><tr><td>Location</td><td>/FileStore/tables/uc_2023_incendio</td><td></td></tr><tr><td>Provider</td><td>delta</td><td></td></tr><tr><td>Table Properties</td><td>[ Info=Tabela modificada cujo dados sao provenientes do dataset Áreas Queimadas em Unidades de Conservação Federais disponivel em https://dados.gov.br/dados/conjuntos-dados/incendios-em-ucs .  Controlador ICMBio. Mantenedor: Divisão de Informações Geoespaciais e Monitoramento - DGEO. Frequencia de atualizacao: Anual. Ultima atualizacao: Outubro/2023. Modificado por Ana Paula Pessoa da Silva para entrega de trabalho de Eng. De Dados da Pos-Graduacao em Ciencia de Dados e Analiticas do PUC-Rio de Janeiro entre periodo de junho a julho deste ano (2024)  ,delta.minReaderVersion=1,delta.minWriterVersion=2]</td><td></td></tr></tbody></table></div>"
      ]
     },
     "metadata": {
      "application/vnd.databricks.v1+output": {
       "addedWidgets": {},
       "aggData": [],
       "aggError": "",
       "aggOverflow": false,
       "aggSchema": [],
       "aggSeriesLimitReached": false,
       "aggType": "",
       "arguments": {},
       "columnCustomDisplayInfos": {},
       "data": [
        [
         "ind",
         "int",
         "index gerado"
        ],
        [
         "UC",
         "string",
         "Unidade de Conservacao com a Categoria abreviada ou com iniciais"
        ],
        [
         "NGI",
         "string",
         "Nucleo de Gestao Integrada"
        ],
        [
         "Incendio",
         "double",
         "Area em hectares da UC atingida por incendio"
        ],
        [
         "Queima_prescrita",
         "double",
         "Queimada prescrita em hectares"
        ],
        [
         "Queima_controlada",
         "double",
         "Queimada controlada em hectares"
        ],
        [
         "Aceiro",
         "double",
         "Area queimada em hectares por fogo controlado para servir como barreira natural contra incendios florestais"
        ],
        [
         "Fogo_natural",
         "double",
         "Area queimada em hectares cuja as causas do fogo foram naturais"
        ],
        [
         "Indigena_isolado",
         "double",
         "Area queimada em hectares por grupos indigenas isolados"
        ],
        [
         "Total_prevencao",
         "double",
         "Area em hectares com prevencao de incendios"
        ],
        [
         "Total_combate",
         "double",
         "Area em hectares de combate a incendios"
        ],
        [
         "Area_queimada",
         "double",
         "Area Queimada total em hectares. Nao e incluido o total de area com prevencao de incendios florestais"
        ],
        [
         "Area_UC",
         "double",
         "Area em hectares da UC"
        ],
        [
         "Perc_UC",
         "double",
         "Percentual de area afetada pelo incendio em relacao a area da UC"
        ],
        [
         "ano",
         "int",
         "Ano da ocorrencia do incendio"
        ],
        [
         "",
         "",
         ""
        ],
        [
         "# Detailed Table Information",
         "",
         ""
        ],
        [
         "Catalog",
         "spark_catalog",
         ""
        ],
        [
         "Database",
         "delta",
         ""
        ],
        [
         "Table",
         "/FileStore/tables/uc_2023_incendio",
         ""
        ],
        [
         "Type",
         "MANAGED",
         ""
        ],
        [
         "Location",
         "/FileStore/tables/uc_2023_incendio",
         ""
        ],
        [
         "Provider",
         "delta",
         ""
        ],
        [
         "Table Properties",
         "[ Info=Tabela modificada cujo dados sao provenientes do dataset Áreas Queimadas em Unidades de Conservação Federais disponivel em https://dados.gov.br/dados/conjuntos-dados/incendios-em-ucs .  Controlador ICMBio. Mantenedor: Divisão de Informações Geoespaciais e Monitoramento - DGEO. Frequencia de atualizacao: Anual. Ultima atualizacao: Outubro/2023. Modificado por Ana Paula Pessoa da Silva para entrega de trabalho de Eng. De Dados da Pos-Graduacao em Ciencia de Dados e Analiticas do PUC-Rio de Janeiro entre periodo de junho a julho deste ano (2024)  ,delta.minReaderVersion=1,delta.minWriterVersion=2]",
         ""
        ]
       ],
       "datasetInfos": [],
       "dbfsResultPath": null,
       "isJsonSchema": true,
       "metadata": {},
       "overflow": false,
       "plotOptions": {
        "customPlotOptions": {},
        "displayType": "table",
        "pivotAggregation": null,
        "pivotColumns": null,
        "xColumns": null,
        "yColumns": null
       },
       "removedWidgets": [],
       "schema": [
        {
         "metadata": "{\"comment\":\"name of the column\"}",
         "name": "col_name",
         "type": "\"string\""
        },
        {
         "metadata": "{\"comment\":\"data type of the column\"}",
         "name": "data_type",
         "type": "\"string\""
        },
        {
         "metadata": "{\"comment\":\"comment of the column\"}",
         "name": "comment",
         "type": "\"string\""
        }
       ],
       "type": "table"
      }
     },
     "output_type": "display_data"
    }
   ],
   "source": [
    "%sql\n",
    "DESCRIBE EXTENDED delta.`/FileStore/tables/uc_2023_incendio`;\n"
   ]
  },
  {
   "cell_type": "code",
   "execution_count": 0,
   "metadata": {
    "application/vnd.databricks.v1+cell": {
     "cellMetadata": {
      "byteLimit": 2048000,
      "implicitDf": true,
      "rowLimit": 10000
     },
     "inputWidgets": {},
     "nuid": "91f06df2-3e40-49d9-855c-72ced2020760",
     "showTitle": false,
     "title": ""
    }
   },
   "outputs": [
    {
     "output_type": "display_data",
     "data": {
      "text/html": [
       "<style scoped>\n",
       "  .table-result-container {\n",
       "    max-height: 300px;\n",
       "    overflow: auto;\n",
       "  }\n",
       "  table, th, td {\n",
       "    border: 1px solid black;\n",
       "    border-collapse: collapse;\n",
       "  }\n",
       "  th, td {\n",
       "    padding: 5px;\n",
       "  }\n",
       "  th {\n",
       "    text-align: left;\n",
       "  }\n",
       "</style><div class='table-result-container'><table class='table-result'><thead style='background-color: white'><tr></tr></thead><tbody></tbody></table></div>"
      ]
     },
     "metadata": {
      "application/vnd.databricks.v1+output": {
       "addedWidgets": {},
       "aggData": [],
       "aggError": "",
       "aggOverflow": false,
       "aggSchema": [],
       "aggSeriesLimitReached": false,
       "aggType": "",
       "arguments": {},
       "columnCustomDisplayInfos": {},
       "data": [],
       "datasetInfos": [],
       "dbfsResultPath": null,
       "isJsonSchema": true,
       "metadata": {},
       "overflow": false,
       "plotOptions": {
        "customPlotOptions": {},
        "displayType": "table",
        "pivotAggregation": null,
        "pivotColumns": null,
        "xColumns": null,
        "yColumns": null
       },
       "removedWidgets": [],
       "schema": [],
       "type": "table"
      }
     },
     "output_type": "display_data"
    }
   ],
   "source": [
    "%sql\n",
    "ALTER TABLE delta.`/FileStore/tables/uc_2022_incendio`\n",
    "ADD COLUMN ano INT;"
   ]
  },
  {
   "cell_type": "code",
   "execution_count": 0,
   "metadata": {
    "application/vnd.databricks.v1+cell": {
     "cellMetadata": {
      "byteLimit": 2048000,
      "implicitDf": true,
      "rowLimit": 10000
     },
     "inputWidgets": {},
     "nuid": "e234ad9c-06c2-4f21-8cd5-3a3877fa8674",
     "showTitle": false,
     "title": ""
    }
   },
   "outputs": [
    {
     "output_type": "display_data",
     "data": {
      "text/html": [
       "<style scoped>\n",
       "  .table-result-container {\n",
       "    max-height: 300px;\n",
       "    overflow: auto;\n",
       "  }\n",
       "  table, th, td {\n",
       "    border: 1px solid black;\n",
       "    border-collapse: collapse;\n",
       "  }\n",
       "  th, td {\n",
       "    padding: 5px;\n",
       "  }\n",
       "  th {\n",
       "    text-align: left;\n",
       "  }\n",
       "</style><div class='table-result-container'><table class='table-result'><thead style='background-color: white'><tr><th>num_affected_rows</th></tr></thead><tbody><tr><td>97</td></tr></tbody></table></div>"
      ]
     },
     "metadata": {
      "application/vnd.databricks.v1+output": {
       "addedWidgets": {},
       "aggData": [],
       "aggError": "",
       "aggOverflow": false,
       "aggSchema": [],
       "aggSeriesLimitReached": false,
       "aggType": "",
       "arguments": {},
       "columnCustomDisplayInfos": {},
       "data": [
        [
         97
        ]
       ],
       "datasetInfos": [],
       "dbfsResultPath": null,
       "isJsonSchema": true,
       "metadata": {},
       "overflow": false,
       "plotOptions": {
        "customPlotOptions": {},
        "displayType": "table",
        "pivotAggregation": null,
        "pivotColumns": null,
        "xColumns": null,
        "yColumns": null
       },
       "removedWidgets": [],
       "schema": [
        {
         "metadata": "{}",
         "name": "num_affected_rows",
         "type": "\"long\""
        }
       ],
       "type": "table"
      }
     },
     "output_type": "display_data"
    }
   ],
   "source": [
    "%sql\n",
    "UPDATE delta.`/FileStore/tables/uc_2022_incendio`\n",
    "SET ano = 2022;"
   ]
  },
  {
   "cell_type": "code",
   "execution_count": 0,
   "metadata": {
    "application/vnd.databricks.v1+cell": {
     "cellMetadata": {
      "byteLimit": 2048000,
      "rowLimit": 10000
     },
     "inputWidgets": {},
     "nuid": "0f9fb151-9dcf-4291-8ce4-256e05dd6cea",
     "showTitle": false,
     "title": ""
    }
   },
   "outputs": [
    {
     "output_type": "stream",
     "name": "stdout",
     "output_type": "stream",
     "text": [
      "Out[48]: DataFrame[]"
     ]
    }
   ],
   "source": [
    "caminho_ano_2022 = \"/FileStore/tables/uc_2022_incendio\"\n",
    "\n",
    "# Registrar a tabela Delta no catálogo do Spark\n",
    "spark.sql(f\"CREATE TABLE info_incendio_2022 USING delta LOCATION '{caminho_ano_2022}'\")"
   ]
  },
  {
   "cell_type": "code",
   "execution_count": 0,
   "metadata": {
    "application/vnd.databricks.v1+cell": {
     "cellMetadata": {
      "byteLimit": 2048000,
      "rowLimit": 10000
     },
     "inputWidgets": {},
     "nuid": "1171fae6-73c2-4275-8203-cb2c8ef6fa91",
     "showTitle": false,
     "title": ""
    }
   },
   "outputs": [
    {
     "output_type": "stream",
     "name": "stdout",
     "output_type": "stream",
     "text": [
      "Out[50]: DataFrame[]"
     ]
    }
   ],
   "source": [
    "spark.sql(f\"ALTER TABLE info_incendio_2022 CHANGE COLUMN ind ind INT COMMENT 'index gerado'\")\n",
    "spark.sql(f\"ALTER TABLE info_incendio_2022 CHANGE COLUMN UC UC STRING COMMENT 'Unidade de Conservacao com a Categoria abreviada ou com iniciais'\")\n",
    "spark.sql(f\"ALTER TABLE info_incendio_2022 CHANGE COLUMN Incendio Incendio DOUBLE COMMENT 'Area em hectares da UC atingida por incendio'\")\n",
    "spark.sql(f\"ALTER TABLE info_incendio_2022 CHANGE COLUMN Queima_prescrita Queima_prescrita DOUBLE COMMENT 'Queimada prescrita em hectares'\")\n",
    "spark.sql(f\"ALTER TABLE info_incendio_2022 CHANGE COLUMN Queima_controlada Queima_controlada DOUBLE COMMENT 'Queimada controlada em hectares'\")\n",
    "spark.sql(f\"ALTER TABLE info_incendio_2022 CHANGE COLUMN Aceiro Aceiro DOUBLE COMMENT 'Area queimada em hectares por fogo controlado para servir como barreira natural contra incendios florestais'\")\n",
    "spark.sql(f\"ALTER TABLE info_incendio_2022 CHANGE COLUMN Fogo_natural Fogo_natural DOUBLE COMMENT 'Area queimada em hectares cuja as causas do fogo foram naturais'\")\n",
    "spark.sql(f\"ALTER TABLE info_incendio_2022 CHANGE COLUMN Queima_indigena Queima_indigena DOUBLE COMMENT 'Area queimada em hectares por grupos indigenas'\")\n",
    "spark.sql(f\"ALTER TABLE info_incendio_2022 CHANGE COLUMN Raio Raio DOUBLE COMMENT 'Area queimada em hectares causado por raio'\")\n",
    "spark.sql(f\"ALTER TABLE info_incendio_2022 CHANGE COLUMN Area_queimada Area_queimada DOUBLE COMMENT 'Area Queimada total em hectares. Nao e incluido o total de area com prevencao de incendios florestais'\")\n",
    "spark.sql(f\"ALTER TABLE info_incendio_2022 CHANGE COLUMN Area_UC Area_UC DOUBLE COMMENT 'Area em hectares da UC'\")\n",
    "spark.sql(f\"ALTER TABLE info_incendio_2022 CHANGE COLUMN Perc_UC Perc_UC DOUBLE COMMENT 'Percentual de area afetada pelo incendio em relacao a area da UC'\")\n",
    "spark.sql(f\"ALTER TABLE info_incendio_2022 CHANGE COLUMN ano ano INT COMMENT 'Ano da ocorrencia do incendio'\")"
   ]
  },
  {
   "cell_type": "code",
   "execution_count": 0,
   "metadata": {
    "application/vnd.databricks.v1+cell": {
     "cellMetadata": {
      "byteLimit": 2048000,
      "rowLimit": 10000
     },
     "inputWidgets": {},
     "nuid": "d903b68d-b0ec-41fb-b2cd-d9dcd040576e",
     "showTitle": false,
     "title": ""
    }
   },
   "outputs": [
    {
     "output_type": "stream",
     "name": "stdout",
     "output_type": "stream",
     "text": [
      "Out[51]: DataFrame[]"
     ]
    }
   ],
   "source": [
    "spark.sql(f\"\"\"\n",
    "    ALTER TABLE delta.`{caminho_ano_2022}`\n",
    "    SET TBLPROPERTIES (\n",
    "        ' Info' = 'Tabela modificada cujo dados sao provenientes do dataset Áreas Queimadas em Unidades de Conservação Federais disponivel em https://dados.gov.br/dados/conjuntos-dados/incendios-em-ucs .  Controlador ICMBio. Mantenedor: Divisão de Informações Geoespaciais e Monitoramento - DGEO. Frequencia de atualizacao: Anual. Ultima atualizacao: Outubro/2023. Modificado por Ana Paula Pessoa da Silva para entrega de trabalho de Eng. De Dados da Pos-Graduacao em Ciencia de Dados e Analiticas do PUC-Rio de Janeiro entre periodo de junho a julho deste ano (2024)  '\n",
    "    )\n",
    "\"\"\")"
   ]
  },
  {
   "cell_type": "markdown",
   "metadata": {
    "application/vnd.databricks.v1+cell": {
     "cellMetadata": {
      "byteLimit": 2048000,
      "rowLimit": 10000
     },
     "inputWidgets": {},
     "nuid": "46f9bc49-1999-4090-9d97-426fb2826fd2",
     "showTitle": false,
     "title": ""
    }
   },
   "source": [
    "Visualizando o catálago pertinentes aos Dados de Registro de Incendios nas UCs de 2022  "
   ]
  },
  {
   "cell_type": "code",
   "execution_count": 0,
   "metadata": {
    "application/vnd.databricks.v1+cell": {
     "cellMetadata": {
      "byteLimit": 2048000,
      "implicitDf": true,
      "rowLimit": 10000
     },
     "inputWidgets": {},
     "nuid": "46a07325-09b1-4cdc-8f06-19712d60c92e",
     "showTitle": false,
     "title": ""
    }
   },
   "outputs": [
    {
     "output_type": "display_data",
     "data": {
      "text/html": [
       "<style scoped>\n",
       "  .table-result-container {\n",
       "    max-height: 300px;\n",
       "    overflow: auto;\n",
       "  }\n",
       "  table, th, td {\n",
       "    border: 1px solid black;\n",
       "    border-collapse: collapse;\n",
       "  }\n",
       "  th, td {\n",
       "    padding: 5px;\n",
       "  }\n",
       "  th {\n",
       "    text-align: left;\n",
       "  }\n",
       "</style><div class='table-result-container'><table class='table-result'><thead style='background-color: white'><tr><th>col_name</th><th>data_type</th><th>comment</th></tr></thead><tbody><tr><td>ind</td><td>int</td><td>index gerado</td></tr><tr><td>UC</td><td>string</td><td>Unidade de Conservacao com a Categoria abreviada ou com iniciais</td></tr><tr><td>Incendio</td><td>double</td><td>Area em hectares da UC atingida por incendio</td></tr><tr><td>Queima_prescrita</td><td>double</td><td>Queimada prescrita em hectares</td></tr><tr><td>Queima_controlada</td><td>double</td><td>Queimada controlada em hectares</td></tr><tr><td>Aceiro</td><td>double</td><td>Area queimada em hectares por fogo controlado para servir como barreira natural contra incendios florestais</td></tr><tr><td>Fogo_natural</td><td>double</td><td>Area queimada em hectares cuja as causas do fogo foram naturais</td></tr><tr><td>Queima_indigena</td><td>double</td><td>Area queimada em hectares por grupos indigenas</td></tr><tr><td>Raio</td><td>double</td><td>Area queimada em hectares causado por raio</td></tr><tr><td>Area_queimada</td><td>double</td><td>Area Queimada total em hectares. Nao e incluido o total de area com prevencao de incendios florestais</td></tr><tr><td>Area_UC</td><td>double</td><td>Area em hectares da UC</td></tr><tr><td>Perc_UC</td><td>double</td><td>Percentual de area afetada pelo incendio em relacao a area da UC</td></tr><tr><td>ano</td><td>int</td><td>Ano da ocorrencia do incendio</td></tr><tr><td></td><td></td><td></td></tr><tr><td># Detailed Table Information</td><td></td><td></td></tr><tr><td>Catalog</td><td>spark_catalog</td><td></td></tr><tr><td>Database</td><td>delta</td><td></td></tr><tr><td>Table</td><td>/FileStore/tables/uc_2022_incendio</td><td></td></tr><tr><td>Type</td><td>MANAGED</td><td></td></tr><tr><td>Location</td><td>/FileStore/tables/uc_2022_incendio</td><td></td></tr><tr><td>Provider</td><td>delta</td><td></td></tr><tr><td>Table Properties</td><td>[ Info=Tabela modificada cujo dados sao provenientes do dataset Áreas Queimadas em Unidades de Conservação Federais disponivel em https://dados.gov.br/dados/conjuntos-dados/incendios-em-ucs .  Controlador ICMBio. Mantenedor: Divisão de Informações Geoespaciais e Monitoramento - DGEO. Frequencia de atualizacao: Anual. Ultima atualizacao: Outubro/2023. Modificado por Ana Paula Pessoa da Silva para entrega de trabalho de Eng. De Dados da Pos-Graduacao em Ciencia de Dados e Analiticas do PUC-Rio de Janeiro entre periodo de junho a julho deste ano (2024)  ,delta.minReaderVersion=1,delta.minWriterVersion=2]</td><td></td></tr></tbody></table></div>"
      ]
     },
     "metadata": {
      "application/vnd.databricks.v1+output": {
       "addedWidgets": {},
       "aggData": [],
       "aggError": "",
       "aggOverflow": false,
       "aggSchema": [],
       "aggSeriesLimitReached": false,
       "aggType": "",
       "arguments": {},
       "columnCustomDisplayInfos": {},
       "data": [
        [
         "ind",
         "int",
         "index gerado"
        ],
        [
         "UC",
         "string",
         "Unidade de Conservacao com a Categoria abreviada ou com iniciais"
        ],
        [
         "Incendio",
         "double",
         "Area em hectares da UC atingida por incendio"
        ],
        [
         "Queima_prescrita",
         "double",
         "Queimada prescrita em hectares"
        ],
        [
         "Queima_controlada",
         "double",
         "Queimada controlada em hectares"
        ],
        [
         "Aceiro",
         "double",
         "Area queimada em hectares por fogo controlado para servir como barreira natural contra incendios florestais"
        ],
        [
         "Fogo_natural",
         "double",
         "Area queimada em hectares cuja as causas do fogo foram naturais"
        ],
        [
         "Queima_indigena",
         "double",
         "Area queimada em hectares por grupos indigenas"
        ],
        [
         "Raio",
         "double",
         "Area queimada em hectares causado por raio"
        ],
        [
         "Area_queimada",
         "double",
         "Area Queimada total em hectares. Nao e incluido o total de area com prevencao de incendios florestais"
        ],
        [
         "Area_UC",
         "double",
         "Area em hectares da UC"
        ],
        [
         "Perc_UC",
         "double",
         "Percentual de area afetada pelo incendio em relacao a area da UC"
        ],
        [
         "ano",
         "int",
         "Ano da ocorrencia do incendio"
        ],
        [
         "",
         "",
         ""
        ],
        [
         "# Detailed Table Information",
         "",
         ""
        ],
        [
         "Catalog",
         "spark_catalog",
         ""
        ],
        [
         "Database",
         "delta",
         ""
        ],
        [
         "Table",
         "/FileStore/tables/uc_2022_incendio",
         ""
        ],
        [
         "Type",
         "MANAGED",
         ""
        ],
        [
         "Location",
         "/FileStore/tables/uc_2022_incendio",
         ""
        ],
        [
         "Provider",
         "delta",
         ""
        ],
        [
         "Table Properties",
         "[ Info=Tabela modificada cujo dados sao provenientes do dataset Áreas Queimadas em Unidades de Conservação Federais disponivel em https://dados.gov.br/dados/conjuntos-dados/incendios-em-ucs .  Controlador ICMBio. Mantenedor: Divisão de Informações Geoespaciais e Monitoramento - DGEO. Frequencia de atualizacao: Anual. Ultima atualizacao: Outubro/2023. Modificado por Ana Paula Pessoa da Silva para entrega de trabalho de Eng. De Dados da Pos-Graduacao em Ciencia de Dados e Analiticas do PUC-Rio de Janeiro entre periodo de junho a julho deste ano (2024)  ,delta.minReaderVersion=1,delta.minWriterVersion=2]",
         ""
        ]
       ],
       "datasetInfos": [],
       "dbfsResultPath": null,
       "isJsonSchema": true,
       "metadata": {},
       "overflow": false,
       "plotOptions": {
        "customPlotOptions": {},
        "displayType": "table",
        "pivotAggregation": null,
        "pivotColumns": null,
        "xColumns": null,
        "yColumns": null
       },
       "removedWidgets": [],
       "schema": [
        {
         "metadata": "{\"comment\":\"name of the column\"}",
         "name": "col_name",
         "type": "\"string\""
        },
        {
         "metadata": "{\"comment\":\"data type of the column\"}",
         "name": "data_type",
         "type": "\"string\""
        },
        {
         "metadata": "{\"comment\":\"comment of the column\"}",
         "name": "comment",
         "type": "\"string\""
        }
       ],
       "type": "table"
      }
     },
     "output_type": "display_data"
    }
   ],
   "source": [
    "%sql\n",
    "DESCRIBE EXTENDED delta.`/FileStore/tables/uc_2022_incendio`;\n"
   ]
  },
  {
   "cell_type": "code",
   "execution_count": 0,
   "metadata": {
    "application/vnd.databricks.v1+cell": {
     "cellMetadata": {
      "byteLimit": 2048000,
      "implicitDf": true,
      "rowLimit": 10000
     },
     "inputWidgets": {},
     "nuid": "726a7d94-d1b3-4c76-b092-c5b1af6014a3",
     "showTitle": false,
     "title": ""
    }
   },
   "outputs": [
    {
     "output_type": "display_data",
     "data": {
      "text/html": [
       "<style scoped>\n",
       "  .table-result-container {\n",
       "    max-height: 300px;\n",
       "    overflow: auto;\n",
       "  }\n",
       "  table, th, td {\n",
       "    border: 1px solid black;\n",
       "    border-collapse: collapse;\n",
       "  }\n",
       "  th, td {\n",
       "    padding: 5px;\n",
       "  }\n",
       "  th {\n",
       "    text-align: left;\n",
       "  }\n",
       "</style><div class='table-result-container'><table class='table-result'><thead style='background-color: white'><tr></tr></thead><tbody></tbody></table></div>"
      ]
     },
     "metadata": {
      "application/vnd.databricks.v1+output": {
       "addedWidgets": {},
       "aggData": [],
       "aggError": "",
       "aggOverflow": false,
       "aggSchema": [],
       "aggSeriesLimitReached": false,
       "aggType": "",
       "arguments": {},
       "columnCustomDisplayInfos": {},
       "data": [],
       "datasetInfos": [],
       "dbfsResultPath": null,
       "isJsonSchema": true,
       "metadata": {},
       "overflow": false,
       "plotOptions": {
        "customPlotOptions": {},
        "displayType": "table",
        "pivotAggregation": null,
        "pivotColumns": null,
        "xColumns": null,
        "yColumns": null
       },
       "removedWidgets": [],
       "schema": [],
       "type": "table"
      }
     },
     "output_type": "display_data"
    }
   ],
   "source": [
    "%sql\n",
    "ALTER TABLE delta.`/FileStore/tables/uc_2021_incendio` ADD COLUMN ano INT;"
   ]
  },
  {
   "cell_type": "code",
   "execution_count": 0,
   "metadata": {
    "application/vnd.databricks.v1+cell": {
     "cellMetadata": {
      "byteLimit": 2048000,
      "implicitDf": true,
      "rowLimit": 10000
     },
     "inputWidgets": {},
     "nuid": "bd34d686-0ef4-47f8-9b31-70b932c8f25a",
     "showTitle": false,
     "title": ""
    }
   },
   "outputs": [
    {
     "output_type": "display_data",
     "data": {
      "text/html": [
       "<style scoped>\n",
       "  .table-result-container {\n",
       "    max-height: 300px;\n",
       "    overflow: auto;\n",
       "  }\n",
       "  table, th, td {\n",
       "    border: 1px solid black;\n",
       "    border-collapse: collapse;\n",
       "  }\n",
       "  th, td {\n",
       "    padding: 5px;\n",
       "  }\n",
       "  th {\n",
       "    text-align: left;\n",
       "  }\n",
       "</style><div class='table-result-container'><table class='table-result'><thead style='background-color: white'><tr><th>num_affected_rows</th></tr></thead><tbody><tr><td>44</td></tr></tbody></table></div>"
      ]
     },
     "metadata": {
      "application/vnd.databricks.v1+output": {
       "addedWidgets": {},
       "aggData": [],
       "aggError": "",
       "aggOverflow": false,
       "aggSchema": [],
       "aggSeriesLimitReached": false,
       "aggType": "",
       "arguments": {},
       "columnCustomDisplayInfos": {},
       "data": [
        [
         44
        ]
       ],
       "datasetInfos": [],
       "dbfsResultPath": null,
       "isJsonSchema": true,
       "metadata": {},
       "overflow": false,
       "plotOptions": {
        "customPlotOptions": {},
        "displayType": "table",
        "pivotAggregation": null,
        "pivotColumns": null,
        "xColumns": null,
        "yColumns": null
       },
       "removedWidgets": [],
       "schema": [
        {
         "metadata": "{}",
         "name": "num_affected_rows",
         "type": "\"long\""
        }
       ],
       "type": "table"
      }
     },
     "output_type": "display_data"
    }
   ],
   "source": [
    "%sql\n",
    "UPDATE delta.`/FileStore/tables/uc_2021_incendio`\n",
    "SET ano = 2021;"
   ]
  },
  {
   "cell_type": "code",
   "execution_count": 0,
   "metadata": {
    "application/vnd.databricks.v1+cell": {
     "cellMetadata": {
      "byteLimit": 2048000,
      "rowLimit": 10000
     },
     "inputWidgets": {},
     "nuid": "3a57c26a-2104-4f2e-8f44-8b5b27d448a1",
     "showTitle": false,
     "title": ""
    }
   },
   "outputs": [
    {
     "output_type": "stream",
     "name": "stdout",
     "output_type": "stream",
     "text": [
      "Out[55]: DataFrame[]"
     ]
    }
   ],
   "source": [
    "caminho_ano_2021 = \"/FileStore/tables/uc_2021_incendio\"\n",
    "\n",
    "# Registrar a tabela Delta no catálogo do Spark\n",
    "spark.sql(f\"CREATE TABLE info_incendio_2021 USING delta LOCATION '{caminho_ano_2021}'\")"
   ]
  },
  {
   "cell_type": "code",
   "execution_count": 0,
   "metadata": {
    "application/vnd.databricks.v1+cell": {
     "cellMetadata": {
      "byteLimit": 2048000,
      "rowLimit": 10000
     },
     "inputWidgets": {},
     "nuid": "5d574656-cf49-4d58-b670-a86930897107",
     "showTitle": false,
     "title": ""
    }
   },
   "outputs": [
    {
     "output_type": "stream",
     "name": "stdout",
     "output_type": "stream",
     "text": [
      "Out[56]: DataFrame[]"
     ]
    }
   ],
   "source": [
    "spark.sql(f\"ALTER TABLE info_incendio_2021 CHANGE COLUMN ind ind INT COMMENT 'index gerado'\")\n",
    "spark.sql(f\"ALTER TABLE info_incendio_2021 CHANGE COLUMN UC UC STRING COMMENT 'Unidade de Conservacao com a Categoria abreviada ou com iniciais'\")\n",
    "spark.sql(f\"ALTER TABLE info_incendio_2021 CHANGE COLUMN Bioma Bioma STRING COMMENT 'Conjunto de vida vegetal e animal, constituído pelo agrupamento de tipos de vegetação que são próximos e que podem ser identificados em nível regional, com condições de geologia e clima semelhantes e que, historicamente, sofreram os mesmos processos de formação da paisagem - https://educa.ibge.gov.br/criancas/brasil/nosso-territorio/19635-ecossistemas.html'\")\n",
    "spark.sql(f\"ALTER TABLE info_incendio_2021 CHANGE COLUMN Fogo_natural Fogo_natural DOUBLE COMMENT 'Area queimada em hectares cuja as causas do fogo foram naturais'\")\n",
    "spark.sql(f\"ALTER TABLE info_incendio_2021 CHANGE COLUMN Queima_indig_isol Queima_indig_isol DOUBLE COMMENT 'Area queimada em hectares por grupos indigenas isolados'\")\n",
    "spark.sql(f\"ALTER TABLE info_incendio_2021 CHANGE COLUMN Incendio Incendio DOUBLE COMMENT 'Area em hectares da UC atingida por incendio'\")\n",
    "spark.sql(f\"ALTER TABLE info_incendio_2021 CHANGE COLUMN Queima_controlada Queima_controlada DOUBLE COMMENT 'Queimada controlada em hectares'\")\n",
    "spark.sql(f\"ALTER TABLE info_incendio_2021 CHANGE COLUMN Queima_prescrita Queima_prescrita DOUBLE COMMENT 'Queimada prescrita em hectares'\")\n",
    "spark.sql(f\"ALTER TABLE info_incendio_2021 CHANGE COLUMN Gestao_raio Gestao_raio DOUBLE COMMENT 'Area queimada em hectares causado por raio'\")\n",
    "spark.sql(f\"ALTER TABLE info_incendio_2021 CHANGE COLUMN Aceiro_negro Aceiro_negro DOUBLE COMMENT 'Area queimada em hectares por fogo controlado para servir como barreira natural contra incendios florestais'\")\n",
    "spark.sql(f\"ALTER TABLE info_incendio_2021 CHANGE COLUMN Area_queimada Area_queimada DOUBLE COMMENT 'Area Queimada em hectares'\")\n",
    "spark.sql(f\"ALTER TABLE info_incendio_2021 CHANGE COLUMN Area_UC Area_UC DOUBLE COMMENT 'Area em hectares da UC'\")\n",
    "spark.sql(f\"ALTER TABLE info_incendio_2021 CHANGE COLUMN Perc_UC Perc_UC DOUBLE COMMENT 'Percentual de area afetada pelo incendio em relacao a area da UC'\")\n",
    "spark.sql(f\"ALTER TABLE info_incendio_2021 CHANGE COLUMN Data_ult_atual Data_ult_atual DATE COMMENT 'Data da ultima atualizacao do conjunto de dados original'\")\n",
    "spark.sql(f\"ALTER TABLE info_incendio_2021 CHANGE COLUMN Satelite Satelite STRING COMMENT 'Imagem de satelite utilizada para identificar focos de incendios florestais'\")\n",
    "spark.sql(f\"ALTER TABLE info_incendio_2021 CHANGE COLUMN ano ano INT COMMENT 'Ano da ocorrencia do incendio'\")"
   ]
  },
  {
   "cell_type": "code",
   "execution_count": 0,
   "metadata": {
    "application/vnd.databricks.v1+cell": {
     "cellMetadata": {
      "byteLimit": 2048000,
      "rowLimit": 10000
     },
     "inputWidgets": {},
     "nuid": "81c193f6-1096-4165-9a30-c6d68c7d1686",
     "showTitle": false,
     "title": ""
    }
   },
   "outputs": [
    {
     "output_type": "stream",
     "name": "stdout",
     "output_type": "stream",
     "text": [
      "Out[57]: DataFrame[]"
     ]
    }
   ],
   "source": [
    "spark.sql(f\"\"\"\n",
    "    ALTER TABLE delta.`{caminho_ano_2021}`\n",
    "    SET TBLPROPERTIES (\n",
    "        ' Info' = 'Tabela modificada cujo dados sao provenientes do dataset Áreas Queimadas em Unidades de Conservação Federais disponivel em https://dados.gov.br/dados/conjuntos-dados/incendios-em-ucs .  Controlador ICMBio. Mantenedor: Divisão de Informações Geoespaciais e Monitoramento - DGEO. Frequencia de atualizacao: Anual. Ultima atualizacao: Outubro/2023. Modificado por Ana Paula Pessoa da Silva para entrega de trabalho de Eng. De Dados da Pos-Graduacao em Ciencia de Dados e Analiticas do PUC-Rio de Janeiro entre periodo de junho a julho deste ano (2024)  '\n",
    "    )\n",
    "\"\"\")"
   ]
  },
  {
   "cell_type": "markdown",
   "metadata": {
    "application/vnd.databricks.v1+cell": {
     "cellMetadata": {
      "byteLimit": 2048000,
      "rowLimit": 10000
     },
     "inputWidgets": {},
     "nuid": "4364774d-d936-451a-8f57-5f6641c2884f",
     "showTitle": false,
     "title": ""
    }
   },
   "source": [
    "Visualizando o catálago pertinentes aos Dados de Registro de Incendios nas UCs de 2021"
   ]
  },
  {
   "cell_type": "code",
   "execution_count": 0,
   "metadata": {
    "application/vnd.databricks.v1+cell": {
     "cellMetadata": {
      "byteLimit": 2048000,
      "implicitDf": true,
      "rowLimit": 10000
     },
     "inputWidgets": {},
     "nuid": "79c249c2-8b97-4886-9533-c573bb82f28d",
     "showTitle": false,
     "title": ""
    }
   },
   "outputs": [
    {
     "output_type": "display_data",
     "data": {
      "text/html": [
       "<style scoped>\n",
       "  .table-result-container {\n",
       "    max-height: 300px;\n",
       "    overflow: auto;\n",
       "  }\n",
       "  table, th, td {\n",
       "    border: 1px solid black;\n",
       "    border-collapse: collapse;\n",
       "  }\n",
       "  th, td {\n",
       "    padding: 5px;\n",
       "  }\n",
       "  th {\n",
       "    text-align: left;\n",
       "  }\n",
       "</style><div class='table-result-container'><table class='table-result'><thead style='background-color: white'><tr><th>col_name</th><th>data_type</th><th>comment</th></tr></thead><tbody><tr><td>ind</td><td>int</td><td>index gerado</td></tr><tr><td>UC</td><td>string</td><td>Unidade de Conservacao com a Categoria abreviada ou com iniciais</td></tr><tr><td>Bioma</td><td>string</td><td>Conjunto de vida vegetal e animal, constituído pelo agrupamento de tipos de vegetação que são próximos e que podem ser identificados em nível regional, com condições de geologia e clima semelhantes e que, historicamente, sofreram os mesmos processos de formação da paisagem - https://educa.ibge.gov.br/criancas/brasil/nosso-territorio/19635-ecossistemas.html</td></tr><tr><td>Fogo_natural</td><td>double</td><td>Area queimada em hectares cuja as causas do fogo foram naturais</td></tr><tr><td>Queima_indig_isol</td><td>double</td><td>Area queimada em hectares por grupos indigenas isolados</td></tr><tr><td>Incendio</td><td>double</td><td>Area em hectares da UC atingida por incendio</td></tr><tr><td>Queima_controlada</td><td>double</td><td>Queimada controlada em hectares</td></tr><tr><td>Queima_prescrita</td><td>double</td><td>Queimada prescrita em hectares</td></tr><tr><td>Gestao_raio</td><td>double</td><td>Area queimada em hectares causado por raio</td></tr><tr><td>Aceiro_negro</td><td>double</td><td>Area queimada em hectares por fogo controlado para servir como barreira natural contra incendios florestais</td></tr><tr><td>Area_queimada</td><td>double</td><td>Area Queimada em hectares</td></tr><tr><td>Area_UC</td><td>double</td><td>Area em hectares da UC</td></tr><tr><td>Perc_UC</td><td>double</td><td>Percentual de area afetada pelo incendio em relacao a area da UC</td></tr><tr><td>Data_ult_atual</td><td>date</td><td>Data da ultima atualizacao do conjunto de dados original</td></tr><tr><td>Satelite</td><td>string</td><td>Imagem de satelite utilizada para identificar focos de incendios florestais</td></tr><tr><td>ano</td><td>int</td><td>Ano da ocorrencia do incendio</td></tr><tr><td></td><td></td><td></td></tr><tr><td># Detailed Table Information</td><td></td><td></td></tr><tr><td>Catalog</td><td>spark_catalog</td><td></td></tr><tr><td>Database</td><td>delta</td><td></td></tr><tr><td>Table</td><td>/FileStore/tables/uc_2021_incendio</td><td></td></tr><tr><td>Type</td><td>MANAGED</td><td></td></tr><tr><td>Location</td><td>/FileStore/tables/uc_2021_incendio</td><td></td></tr><tr><td>Provider</td><td>delta</td><td></td></tr><tr><td>Table Properties</td><td>[ Info=Tabela modificada cujo dados sao provenientes do dataset Áreas Queimadas em Unidades de Conservação Federais disponivel em https://dados.gov.br/dados/conjuntos-dados/incendios-em-ucs .  Controlador ICMBio. Mantenedor: Divisão de Informações Geoespaciais e Monitoramento - DGEO. Frequencia de atualizacao: Anual. Ultima atualizacao: Outubro/2023. Modificado por Ana Paula Pessoa da Silva para entrega de trabalho de Eng. De Dados da Pos-Graduacao em Ciencia de Dados e Analiticas do PUC-Rio de Janeiro entre periodo de junho a julho deste ano (2024)  ,delta.minReaderVersion=1,delta.minWriterVersion=2]</td><td></td></tr></tbody></table></div>"
      ]
     },
     "metadata": {
      "application/vnd.databricks.v1+output": {
       "addedWidgets": {},
       "aggData": [],
       "aggError": "",
       "aggOverflow": false,
       "aggSchema": [],
       "aggSeriesLimitReached": false,
       "aggType": "",
       "arguments": {},
       "columnCustomDisplayInfos": {},
       "data": [
        [
         "ind",
         "int",
         "index gerado"
        ],
        [
         "UC",
         "string",
         "Unidade de Conservacao com a Categoria abreviada ou com iniciais"
        ],
        [
         "Bioma",
         "string",
         "Conjunto de vida vegetal e animal, constituído pelo agrupamento de tipos de vegetação que são próximos e que podem ser identificados em nível regional, com condições de geologia e clima semelhantes e que, historicamente, sofreram os mesmos processos de formação da paisagem - https://educa.ibge.gov.br/criancas/brasil/nosso-territorio/19635-ecossistemas.html"
        ],
        [
         "Fogo_natural",
         "double",
         "Area queimada em hectares cuja as causas do fogo foram naturais"
        ],
        [
         "Queima_indig_isol",
         "double",
         "Area queimada em hectares por grupos indigenas isolados"
        ],
        [
         "Incendio",
         "double",
         "Area em hectares da UC atingida por incendio"
        ],
        [
         "Queima_controlada",
         "double",
         "Queimada controlada em hectares"
        ],
        [
         "Queima_prescrita",
         "double",
         "Queimada prescrita em hectares"
        ],
        [
         "Gestao_raio",
         "double",
         "Area queimada em hectares causado por raio"
        ],
        [
         "Aceiro_negro",
         "double",
         "Area queimada em hectares por fogo controlado para servir como barreira natural contra incendios florestais"
        ],
        [
         "Area_queimada",
         "double",
         "Area Queimada em hectares"
        ],
        [
         "Area_UC",
         "double",
         "Area em hectares da UC"
        ],
        [
         "Perc_UC",
         "double",
         "Percentual de area afetada pelo incendio em relacao a area da UC"
        ],
        [
         "Data_ult_atual",
         "date",
         "Data da ultima atualizacao do conjunto de dados original"
        ],
        [
         "Satelite",
         "string",
         "Imagem de satelite utilizada para identificar focos de incendios florestais"
        ],
        [
         "ano",
         "int",
         "Ano da ocorrencia do incendio"
        ],
        [
         "",
         "",
         ""
        ],
        [
         "# Detailed Table Information",
         "",
         ""
        ],
        [
         "Catalog",
         "spark_catalog",
         ""
        ],
        [
         "Database",
         "delta",
         ""
        ],
        [
         "Table",
         "/FileStore/tables/uc_2021_incendio",
         ""
        ],
        [
         "Type",
         "MANAGED",
         ""
        ],
        [
         "Location",
         "/FileStore/tables/uc_2021_incendio",
         ""
        ],
        [
         "Provider",
         "delta",
         ""
        ],
        [
         "Table Properties",
         "[ Info=Tabela modificada cujo dados sao provenientes do dataset Áreas Queimadas em Unidades de Conservação Federais disponivel em https://dados.gov.br/dados/conjuntos-dados/incendios-em-ucs .  Controlador ICMBio. Mantenedor: Divisão de Informações Geoespaciais e Monitoramento - DGEO. Frequencia de atualizacao: Anual. Ultima atualizacao: Outubro/2023. Modificado por Ana Paula Pessoa da Silva para entrega de trabalho de Eng. De Dados da Pos-Graduacao em Ciencia de Dados e Analiticas do PUC-Rio de Janeiro entre periodo de junho a julho deste ano (2024)  ,delta.minReaderVersion=1,delta.minWriterVersion=2]",
         ""
        ]
       ],
       "datasetInfos": [],
       "dbfsResultPath": null,
       "isJsonSchema": true,
       "metadata": {},
       "overflow": false,
       "plotOptions": {
        "customPlotOptions": {},
        "displayType": "table",
        "pivotAggregation": null,
        "pivotColumns": null,
        "xColumns": null,
        "yColumns": null
       },
       "removedWidgets": [],
       "schema": [
        {
         "metadata": "{\"comment\":\"name of the column\"}",
         "name": "col_name",
         "type": "\"string\""
        },
        {
         "metadata": "{\"comment\":\"data type of the column\"}",
         "name": "data_type",
         "type": "\"string\""
        },
        {
         "metadata": "{\"comment\":\"comment of the column\"}",
         "name": "comment",
         "type": "\"string\""
        }
       ],
       "type": "table"
      }
     },
     "output_type": "display_data"
    }
   ],
   "source": [
    "%sql\n",
    "DESCRIBE EXTENDED delta.`/FileStore/tables/uc_2021_incendio`;"
   ]
  },
  {
   "cell_type": "code",
   "execution_count": 0,
   "metadata": {
    "application/vnd.databricks.v1+cell": {
     "cellMetadata": {
      "byteLimit": 2048000,
      "implicitDf": true,
      "rowLimit": 10000
     },
     "inputWidgets": {},
     "nuid": "29321810-582f-4c2d-93fa-72f55722a0c9",
     "showTitle": false,
     "title": ""
    }
   },
   "outputs": [
    {
     "output_type": "display_data",
     "data": {
      "text/html": [
       "<style scoped>\n",
       "  .table-result-container {\n",
       "    max-height: 300px;\n",
       "    overflow: auto;\n",
       "  }\n",
       "  table, th, td {\n",
       "    border: 1px solid black;\n",
       "    border-collapse: collapse;\n",
       "  }\n",
       "  th, td {\n",
       "    padding: 5px;\n",
       "  }\n",
       "  th {\n",
       "    text-align: left;\n",
       "  }\n",
       "</style><div class='table-result-container'><table class='table-result'><thead style='background-color: white'><tr></tr></thead><tbody></tbody></table></div>"
      ]
     },
     "metadata": {
      "application/vnd.databricks.v1+output": {
       "addedWidgets": {},
       "aggData": [],
       "aggError": "",
       "aggOverflow": false,
       "aggSchema": [],
       "aggSeriesLimitReached": false,
       "aggType": "",
       "arguments": {},
       "columnCustomDisplayInfos": {},
       "data": [],
       "datasetInfos": [],
       "dbfsResultPath": null,
       "isJsonSchema": true,
       "metadata": {},
       "overflow": false,
       "plotOptions": {
        "customPlotOptions": {},
        "displayType": "table",
        "pivotAggregation": null,
        "pivotColumns": null,
        "xColumns": null,
        "yColumns": null
       },
       "removedWidgets": [],
       "schema": [],
       "type": "table"
      }
     },
     "output_type": "display_data"
    }
   ],
   "source": [
    "%sql\n",
    "ALTER TABLE delta.`/FileStore/tables/uc_2020_incendio` ADD COLUMN ano INT;"
   ]
  },
  {
   "cell_type": "code",
   "execution_count": 0,
   "metadata": {
    "application/vnd.databricks.v1+cell": {
     "cellMetadata": {
      "byteLimit": 2048000,
      "implicitDf": true,
      "rowLimit": 10000
     },
     "inputWidgets": {},
     "nuid": "ce80050c-cc66-4860-9ea6-16708e11a5a7",
     "showTitle": false,
     "title": ""
    }
   },
   "outputs": [
    {
     "output_type": "display_data",
     "data": {
      "text/html": [
       "<style scoped>\n",
       "  .table-result-container {\n",
       "    max-height: 300px;\n",
       "    overflow: auto;\n",
       "  }\n",
       "  table, th, td {\n",
       "    border: 1px solid black;\n",
       "    border-collapse: collapse;\n",
       "  }\n",
       "  th, td {\n",
       "    padding: 5px;\n",
       "  }\n",
       "  th {\n",
       "    text-align: left;\n",
       "  }\n",
       "</style><div class='table-result-container'><table class='table-result'><thead style='background-color: white'><tr><th>num_affected_rows</th></tr></thead><tbody><tr><td>47</td></tr></tbody></table></div>"
      ]
     },
     "metadata": {
      "application/vnd.databricks.v1+output": {
       "addedWidgets": {},
       "aggData": [],
       "aggError": "",
       "aggOverflow": false,
       "aggSchema": [],
       "aggSeriesLimitReached": false,
       "aggType": "",
       "arguments": {},
       "columnCustomDisplayInfos": {},
       "data": [
        [
         47
        ]
       ],
       "datasetInfos": [],
       "dbfsResultPath": null,
       "isJsonSchema": true,
       "metadata": {},
       "overflow": false,
       "plotOptions": {
        "customPlotOptions": {},
        "displayType": "table",
        "pivotAggregation": null,
        "pivotColumns": null,
        "xColumns": null,
        "yColumns": null
       },
       "removedWidgets": [],
       "schema": [
        {
         "metadata": "{}",
         "name": "num_affected_rows",
         "type": "\"long\""
        }
       ],
       "type": "table"
      }
     },
     "output_type": "display_data"
    }
   ],
   "source": [
    "%sql\n",
    "UPDATE delta.`/FileStore/tables/uc_2020_incendio`\n",
    "SET ano = 2020;"
   ]
  },
  {
   "cell_type": "code",
   "execution_count": 0,
   "metadata": {
    "application/vnd.databricks.v1+cell": {
     "cellMetadata": {
      "byteLimit": 2048000,
      "rowLimit": 10000
     },
     "inputWidgets": {},
     "nuid": "48a94b4b-4b3d-48c3-a404-e2bdfc5413e3",
     "showTitle": false,
     "title": ""
    }
   },
   "outputs": [
    {
     "output_type": "stream",
     "name": "stdout",
     "output_type": "stream",
     "text": [
      "Out[61]: DataFrame[]"
     ]
    }
   ],
   "source": [
    "caminho_ano_2020 = \"/FileStore/tables/uc_2020_incendio\"\n",
    "\n",
    "# Registrar a tabela Delta no catálogo do Spark\n",
    "spark.sql(f\"CREATE TABLE info_incendio_2020 USING delta LOCATION '{caminho_ano_2020}'\")"
   ]
  },
  {
   "cell_type": "code",
   "execution_count": 0,
   "metadata": {
    "application/vnd.databricks.v1+cell": {
     "cellMetadata": {
      "byteLimit": 2048000,
      "rowLimit": 10000
     },
     "inputWidgets": {},
     "nuid": "7e2131f8-6fca-43a7-8513-3ca6e733065d",
     "showTitle": false,
     "title": ""
    }
   },
   "outputs": [
    {
     "output_type": "stream",
     "name": "stdout",
     "output_type": "stream",
     "text": [
      "Out[62]: DataFrame[]"
     ]
    }
   ],
   "source": [
    "spark.sql(f\"ALTER TABLE info_incendio_2020 CHANGE COLUMN ind ind INT COMMENT 'index gerado'\")\n",
    "spark.sql(f\"ALTER TABLE info_incendio_2020 CHANGE COLUMN UC UC STRING COMMENT 'Unidade de Conservacao com a Categoria abreviada ou com iniciais'\")\n",
    "spark.sql(f\"ALTER TABLE info_incendio_2020 CHANGE COLUMN Bioma Bioma STRING COMMENT 'Conjunto de vida vegetal e animal, constituído pelo agrupamento de tipos de vegetação que são próximos e que podem ser identificados em nível regional, com condições de geologia e clima semelhantes e que, historicamente, sofreram os mesmos processos de formação da paisagem - https://educa.ibge.gov.br/criancas/brasil/nosso-territorio/19635-ecossistemas.html'\")\n",
    "spark.sql(f\"ALTER TABLE info_incendio_2020 CHANGE COLUMN Incendio Incendio DOUBLE COMMENT 'Area em hectares da UC atingida por incendio'\")\n",
    "spark.sql(f\"ALTER TABLE info_incendio_2020 CHANGE COLUMN MIF MIF DOUBLE COMMENT 'Area em hectares do Manejo Imtegrado do Fogo'\")\n",
    "spark.sql(f\"ALTER TABLE info_incendio_2020 CHANGE COLUMN Area_queimada Area_queimada DOUBLE COMMENT 'Area Queimada em hectares'\")\n",
    "spark.sql(f\"ALTER TABLE info_incendio_2020 CHANGE COLUMN Area_UC Area_UC DOUBLE COMMENT 'Area em hectares da UC'\")\n",
    "spark.sql(f\"ALTER TABLE info_incendio_2020 CHANGE COLUMN Perc_UC Perc_UC DOUBLE COMMENT 'Percentual de area afetada pelo incendio em relacao a area da UC'\")\n",
    "spark.sql(f\"ALTER TABLE info_incendio_2020 CHANGE COLUMN Data_ult_atual Data_ult_atual DATE COMMENT 'Data da ultima atualizacao do conjunto de dados original'\")\n",
    "spark.sql(f\"ALTER TABLE info_incendio_2020 CHANGE COLUMN Satelite Satelite STRING COMMENT 'Imagem de satelite utilizada para identificar focos de incendios florestais'\")\n",
    "spark.sql(f\"ALTER TABLE info_incendio_2020 CHANGE COLUMN ano ano INT COMMENT 'Ano da ocorrencia do incendio'\")"
   ]
  },
  {
   "cell_type": "code",
   "execution_count": 0,
   "metadata": {
    "application/vnd.databricks.v1+cell": {
     "cellMetadata": {
      "byteLimit": 2048000,
      "rowLimit": 10000
     },
     "inputWidgets": {},
     "nuid": "99dc4861-2a02-43d3-93d2-eaa387bd26a6",
     "showTitle": false,
     "title": ""
    }
   },
   "outputs": [
    {
     "output_type": "stream",
     "name": "stdout",
     "output_type": "stream",
     "text": [
      "Out[63]: DataFrame[]"
     ]
    }
   ],
   "source": [
    "spark.sql(f\"\"\"\n",
    "    ALTER TABLE delta.`{caminho_ano_2020}`\n",
    "    SET TBLPROPERTIES (\n",
    "        ' Info' = 'Tabela modificada cujo dados sao provenientes do dataset Áreas Queimadas em Unidades de Conservação Federais disponivel em https://dados.gov.br/dados/conjuntos-dados/incendios-em-ucs .  Controlador ICMBio. Mantenedor: Divisão de Informações Geoespaciais e Monitoramento - DGEO. Frequencia de atualizacao: Anual. Ultima atualizacao: Outubro/2023. Modificado por Ana Paula Pessoa da Silva para entrega de trabalho de Eng. De Dados da Pos-Graduacao em Ciencia de Dados e Analiticas do PUC-Rio de Janeiro entre periodo de junho a julho deste ano (2024)  '\n",
    "    )\n",
    "\"\"\")"
   ]
  },
  {
   "cell_type": "markdown",
   "metadata": {
    "application/vnd.databricks.v1+cell": {
     "cellMetadata": {
      "byteLimit": 2048000,
      "rowLimit": 10000
     },
     "inputWidgets": {},
     "nuid": "4368dd0f-1236-4f85-8310-edc741929233",
     "showTitle": false,
     "title": ""
    }
   },
   "source": [
    "Visualizando o catálago pertinentes aos Dados de Registro de Incendios nas UCs de 2020"
   ]
  },
  {
   "cell_type": "code",
   "execution_count": 0,
   "metadata": {
    "application/vnd.databricks.v1+cell": {
     "cellMetadata": {
      "byteLimit": 2048000,
      "implicitDf": true,
      "rowLimit": 10000
     },
     "inputWidgets": {},
     "nuid": "c4a597eb-6495-43ff-86e4-9f6fec3c8ef6",
     "showTitle": false,
     "title": ""
    }
   },
   "outputs": [
    {
     "output_type": "display_data",
     "data": {
      "text/html": [
       "<style scoped>\n",
       "  .table-result-container {\n",
       "    max-height: 300px;\n",
       "    overflow: auto;\n",
       "  }\n",
       "  table, th, td {\n",
       "    border: 1px solid black;\n",
       "    border-collapse: collapse;\n",
       "  }\n",
       "  th, td {\n",
       "    padding: 5px;\n",
       "  }\n",
       "  th {\n",
       "    text-align: left;\n",
       "  }\n",
       "</style><div class='table-result-container'><table class='table-result'><thead style='background-color: white'><tr><th>col_name</th><th>data_type</th><th>comment</th></tr></thead><tbody><tr><td>ind</td><td>int</td><td>index gerado</td></tr><tr><td>UC</td><td>string</td><td>Unidade de Conservacao com a Categoria abreviada ou com iniciais</td></tr><tr><td>Bioma</td><td>string</td><td>Conjunto de vida vegetal e animal, constituído pelo agrupamento de tipos de vegetação que são próximos e que podem ser identificados em nível regional, com condições de geologia e clima semelhantes e que, historicamente, sofreram os mesmos processos de formação da paisagem - https://educa.ibge.gov.br/criancas/brasil/nosso-territorio/19635-ecossistemas.html</td></tr><tr><td>Incendio</td><td>double</td><td>Area em hectares da UC atingida por incendio</td></tr><tr><td>MIF</td><td>double</td><td>Area em hectares do Manejo Imtegrado do Fogo</td></tr><tr><td>Area_queimada</td><td>double</td><td>Area Queimada em hectares</td></tr><tr><td>Area_UC</td><td>double</td><td>Area em hectares da UC</td></tr><tr><td>Perc_UC</td><td>double</td><td>Percentual de area afetada pelo incendio em relacao a area da UC</td></tr><tr><td>Data_ult_atual</td><td>date</td><td>Data da ultima atualizacao do conjunto de dados original</td></tr><tr><td>Satelite</td><td>string</td><td>Imagem de satelite utilizada para identificar focos de incendios florestais</td></tr><tr><td>ano</td><td>int</td><td>Ano da ocorrencia do incendio</td></tr><tr><td></td><td></td><td></td></tr><tr><td># Detailed Table Information</td><td></td><td></td></tr><tr><td>Catalog</td><td>spark_catalog</td><td></td></tr><tr><td>Database</td><td>delta</td><td></td></tr><tr><td>Table</td><td>/FileStore/tables/uc_2020_incendio</td><td></td></tr><tr><td>Type</td><td>MANAGED</td><td></td></tr><tr><td>Location</td><td>/FileStore/tables/uc_2020_incendio</td><td></td></tr><tr><td>Provider</td><td>delta</td><td></td></tr><tr><td>Table Properties</td><td>[ Info=Tabela modificada cujo dados sao provenientes do dataset Áreas Queimadas em Unidades de Conservação Federais disponivel em https://dados.gov.br/dados/conjuntos-dados/incendios-em-ucs .  Controlador ICMBio. Mantenedor: Divisão de Informações Geoespaciais e Monitoramento - DGEO. Frequencia de atualizacao: Anual. Ultima atualizacao: Outubro/2023. Modificado por Ana Paula Pessoa da Silva para entrega de trabalho de Eng. De Dados da Pos-Graduacao em Ciencia de Dados e Analiticas do PUC-Rio de Janeiro entre periodo de junho a julho deste ano (2024)  ,delta.minReaderVersion=1,delta.minWriterVersion=2]</td><td></td></tr></tbody></table></div>"
      ]
     },
     "metadata": {
      "application/vnd.databricks.v1+output": {
       "addedWidgets": {},
       "aggData": [],
       "aggError": "",
       "aggOverflow": false,
       "aggSchema": [],
       "aggSeriesLimitReached": false,
       "aggType": "",
       "arguments": {},
       "columnCustomDisplayInfos": {},
       "data": [
        [
         "ind",
         "int",
         "index gerado"
        ],
        [
         "UC",
         "string",
         "Unidade de Conservacao com a Categoria abreviada ou com iniciais"
        ],
        [
         "Bioma",
         "string",
         "Conjunto de vida vegetal e animal, constituído pelo agrupamento de tipos de vegetação que são próximos e que podem ser identificados em nível regional, com condições de geologia e clima semelhantes e que, historicamente, sofreram os mesmos processos de formação da paisagem - https://educa.ibge.gov.br/criancas/brasil/nosso-territorio/19635-ecossistemas.html"
        ],
        [
         "Incendio",
         "double",
         "Area em hectares da UC atingida por incendio"
        ],
        [
         "MIF",
         "double",
         "Area em hectares do Manejo Imtegrado do Fogo"
        ],
        [
         "Area_queimada",
         "double",
         "Area Queimada em hectares"
        ],
        [
         "Area_UC",
         "double",
         "Area em hectares da UC"
        ],
        [
         "Perc_UC",
         "double",
         "Percentual de area afetada pelo incendio em relacao a area da UC"
        ],
        [
         "Data_ult_atual",
         "date",
         "Data da ultima atualizacao do conjunto de dados original"
        ],
        [
         "Satelite",
         "string",
         "Imagem de satelite utilizada para identificar focos de incendios florestais"
        ],
        [
         "ano",
         "int",
         "Ano da ocorrencia do incendio"
        ],
        [
         "",
         "",
         ""
        ],
        [
         "# Detailed Table Information",
         "",
         ""
        ],
        [
         "Catalog",
         "spark_catalog",
         ""
        ],
        [
         "Database",
         "delta",
         ""
        ],
        [
         "Table",
         "/FileStore/tables/uc_2020_incendio",
         ""
        ],
        [
         "Type",
         "MANAGED",
         ""
        ],
        [
         "Location",
         "/FileStore/tables/uc_2020_incendio",
         ""
        ],
        [
         "Provider",
         "delta",
         ""
        ],
        [
         "Table Properties",
         "[ Info=Tabela modificada cujo dados sao provenientes do dataset Áreas Queimadas em Unidades de Conservação Federais disponivel em https://dados.gov.br/dados/conjuntos-dados/incendios-em-ucs .  Controlador ICMBio. Mantenedor: Divisão de Informações Geoespaciais e Monitoramento - DGEO. Frequencia de atualizacao: Anual. Ultima atualizacao: Outubro/2023. Modificado por Ana Paula Pessoa da Silva para entrega de trabalho de Eng. De Dados da Pos-Graduacao em Ciencia de Dados e Analiticas do PUC-Rio de Janeiro entre periodo de junho a julho deste ano (2024)  ,delta.minReaderVersion=1,delta.minWriterVersion=2]",
         ""
        ]
       ],
       "datasetInfos": [],
       "dbfsResultPath": null,
       "isJsonSchema": true,
       "metadata": {},
       "overflow": false,
       "plotOptions": {
        "customPlotOptions": {},
        "displayType": "table",
        "pivotAggregation": null,
        "pivotColumns": null,
        "xColumns": null,
        "yColumns": null
       },
       "removedWidgets": [],
       "schema": [
        {
         "metadata": "{\"comment\":\"name of the column\"}",
         "name": "col_name",
         "type": "\"string\""
        },
        {
         "metadata": "{\"comment\":\"data type of the column\"}",
         "name": "data_type",
         "type": "\"string\""
        },
        {
         "metadata": "{\"comment\":\"comment of the column\"}",
         "name": "comment",
         "type": "\"string\""
        }
       ],
       "type": "table"
      }
     },
     "output_type": "display_data"
    }
   ],
   "source": [
    "%sql\n",
    "DESCRIBE EXTENDED delta.`/FileStore/tables/uc_2020_incendio`;"
   ]
  },
  {
   "cell_type": "code",
   "execution_count": 0,
   "metadata": {
    "application/vnd.databricks.v1+cell": {
     "cellMetadata": {
      "byteLimit": 2048000,
      "implicitDf": true,
      "rowLimit": 10000
     },
     "inputWidgets": {},
     "nuid": "76f0f7ab-f484-4fc3-a655-0c0afe23f957",
     "showTitle": false,
     "title": ""
    }
   },
   "outputs": [
    {
     "output_type": "display_data",
     "data": {
      "text/html": [
       "<style scoped>\n",
       "  .table-result-container {\n",
       "    max-height: 300px;\n",
       "    overflow: auto;\n",
       "  }\n",
       "  table, th, td {\n",
       "    border: 1px solid black;\n",
       "    border-collapse: collapse;\n",
       "  }\n",
       "  th, td {\n",
       "    padding: 5px;\n",
       "  }\n",
       "  th {\n",
       "    text-align: left;\n",
       "  }\n",
       "</style><div class='table-result-container'><table class='table-result'><thead style='background-color: white'><tr></tr></thead><tbody></tbody></table></div>"
      ]
     },
     "metadata": {
      "application/vnd.databricks.v1+output": {
       "addedWidgets": {},
       "aggData": [],
       "aggError": "",
       "aggOverflow": false,
       "aggSchema": [],
       "aggSeriesLimitReached": false,
       "aggType": "",
       "arguments": {},
       "columnCustomDisplayInfos": {},
       "data": [],
       "datasetInfos": [],
       "dbfsResultPath": null,
       "isJsonSchema": true,
       "metadata": {},
       "overflow": false,
       "plotOptions": {
        "customPlotOptions": {},
        "displayType": "table",
        "pivotAggregation": null,
        "pivotColumns": null,
        "xColumns": null,
        "yColumns": null
       },
       "removedWidgets": [],
       "schema": [],
       "type": "table"
      }
     },
     "output_type": "display_data"
    }
   ],
   "source": [
    "%sql\n",
    "ALTER TABLE delta.`/FileStore/tables/uc_2019_incendio` ADD COLUMN ano INT;"
   ]
  },
  {
   "cell_type": "code",
   "execution_count": 0,
   "metadata": {
    "application/vnd.databricks.v1+cell": {
     "cellMetadata": {
      "byteLimit": 2048000,
      "implicitDf": true,
      "rowLimit": 10000
     },
     "inputWidgets": {},
     "nuid": "89b01c2b-2ab6-4d81-87d2-66b95f49ea85",
     "showTitle": false,
     "title": ""
    }
   },
   "outputs": [
    {
     "output_type": "display_data",
     "data": {
      "text/html": [
       "<style scoped>\n",
       "  .table-result-container {\n",
       "    max-height: 300px;\n",
       "    overflow: auto;\n",
       "  }\n",
       "  table, th, td {\n",
       "    border: 1px solid black;\n",
       "    border-collapse: collapse;\n",
       "  }\n",
       "  th, td {\n",
       "    padding: 5px;\n",
       "  }\n",
       "  th {\n",
       "    text-align: left;\n",
       "  }\n",
       "</style><div class='table-result-container'><table class='table-result'><thead style='background-color: white'><tr><th>num_affected_rows</th></tr></thead><tbody><tr><td>61</td></tr></tbody></table></div>"
      ]
     },
     "metadata": {
      "application/vnd.databricks.v1+output": {
       "addedWidgets": {},
       "aggData": [],
       "aggError": "",
       "aggOverflow": false,
       "aggSchema": [],
       "aggSeriesLimitReached": false,
       "aggType": "",
       "arguments": {},
       "columnCustomDisplayInfos": {},
       "data": [
        [
         61
        ]
       ],
       "datasetInfos": [],
       "dbfsResultPath": null,
       "isJsonSchema": true,
       "metadata": {},
       "overflow": false,
       "plotOptions": {
        "customPlotOptions": {},
        "displayType": "table",
        "pivotAggregation": null,
        "pivotColumns": null,
        "xColumns": null,
        "yColumns": null
       },
       "removedWidgets": [],
       "schema": [
        {
         "metadata": "{}",
         "name": "num_affected_rows",
         "type": "\"long\""
        }
       ],
       "type": "table"
      }
     },
     "output_type": "display_data"
    }
   ],
   "source": [
    "%sql\n",
    "UPDATE delta.`/FileStore/tables/uc_2019_incendio`\n",
    "SET ano = 2019;"
   ]
  },
  {
   "cell_type": "code",
   "execution_count": 0,
   "metadata": {
    "application/vnd.databricks.v1+cell": {
     "cellMetadata": {
      "byteLimit": 2048000,
      "rowLimit": 10000
     },
     "inputWidgets": {},
     "nuid": "acf65417-b152-4685-b786-b3072fe8b6a1",
     "showTitle": false,
     "title": ""
    }
   },
   "outputs": [
    {
     "output_type": "stream",
     "name": "stdout",
     "output_type": "stream",
     "text": [
      "Out[67]: DataFrame[]"
     ]
    }
   ],
   "source": [
    "caminho_ano_2019 = \"/FileStore/tables/uc_2019_incendio\"\n",
    "\n",
    "# Registrar a tabela Delta no catálogo do Spark\n",
    "spark.sql(f\"CREATE TABLE info_incendio_2019 USING delta LOCATION '{caminho_ano_2019}'\")"
   ]
  },
  {
   "cell_type": "code",
   "execution_count": 0,
   "metadata": {
    "application/vnd.databricks.v1+cell": {
     "cellMetadata": {
      "byteLimit": 2048000,
      "rowLimit": 10000
     },
     "inputWidgets": {},
     "nuid": "b9d92ca8-23c1-4758-ba36-faebb9866627",
     "showTitle": false,
     "title": ""
    }
   },
   "outputs": [
    {
     "output_type": "stream",
     "name": "stdout",
     "output_type": "stream",
     "text": [
      "Out[68]: DataFrame[]"
     ]
    }
   ],
   "source": [
    "spark.sql(f\"ALTER TABLE info_incendio_2019 CHANGE COLUMN ind ind INT COMMENT 'index gerado'\")\n",
    "spark.sql(f\"ALTER TABLE info_incendio_2019 CHANGE COLUMN UC UC STRING COMMENT 'Unidade de Conservacao com a Categoria abreviada ou com iniciais'\")\n",
    "spark.sql(f\"ALTER TABLE info_incendio_2019 CHANGE COLUMN Bioma Bioma STRING COMMENT 'Conjunto de vida vegetal e animal, constituído pelo agrupamento de tipos de vegetação que são próximos e que podem ser identificados em nível regional, com condições de geologia e clima semelhantes e que, historicamente, sofreram os mesmos processos de formação da paisagem - https://educa.ibge.gov.br/criancas/brasil/nosso-territorio/19635-ecossistemas.html'\")\n",
    "spark.sql(f\"ALTER TABLE info_incendio_2019 CHANGE COLUMN Area_queimada Area_queimada DOUBLE COMMENT 'Area Queimada em hectares'\")\n",
    "spark.sql(f\"ALTER TABLE info_incendio_2019 CHANGE COLUMN Area_UC Area_UC DOUBLE COMMENT 'Area em hectares da UC'\")\n",
    "spark.sql(f\"ALTER TABLE info_incendio_2019 CHANGE COLUMN Perc_UC Perc_UC DOUBLE COMMENT 'Percentual de area afetada pelo incendio em relacao a area da UC'\")\n",
    "spark.sql(f\"ALTER TABLE info_incendio_2019 CHANGE COLUMN Data_ult_atual Data_ult_atual DATE COMMENT 'Data da ultima atualizacao do conjunto de dados original'\")\n",
    "spark.sql(f\"ALTER TABLE info_incendio_2019 CHANGE COLUMN Satelite Satelite STRING COMMENT 'Imagem de satelite utilizada para identificar focos de incendios florestais'\")\n",
    "spark.sql(f\"ALTER TABLE info_incendio_2019 CHANGE COLUMN ano ano INT COMMENT 'Ano da ocorrencia do incendio'\")"
   ]
  },
  {
   "cell_type": "code",
   "execution_count": 0,
   "metadata": {
    "application/vnd.databricks.v1+cell": {
     "cellMetadata": {
      "byteLimit": 2048000,
      "rowLimit": 10000
     },
     "inputWidgets": {},
     "nuid": "1af051b0-903d-4969-afc2-a1753d49bba5",
     "showTitle": false,
     "title": ""
    }
   },
   "outputs": [
    {
     "output_type": "stream",
     "name": "stdout",
     "output_type": "stream",
     "text": [
      "Out[69]: DataFrame[]"
     ]
    }
   ],
   "source": [
    "spark.sql(f\"\"\"\n",
    "    ALTER TABLE delta.`{caminho_ano_2019}`\n",
    "    SET TBLPROPERTIES (\n",
    "        ' Info' = 'Tabela modificada cujo dados sao provenientes do dataset Áreas Queimadas em Unidades de Conservação Federais disponivel em https://dados.gov.br/dados/conjuntos-dados/incendios-em-ucs .  Controlador ICMBio. Mantenedor: Divisão de Informações Geoespaciais e Monitoramento - DGEO. Frequencia de atualizacao: Anual. Ultima atualizacao: Outubro/2023. Modificado por Ana Paula Pessoa da Silva para entrega de trabalho de Eng. De Dados da Pos-Graduacao em Ciencia de Dados e Analiticas do PUC-Rio de Janeiro entre periodo de junho a julho deste ano (2024)  '\n",
    "    )\n",
    "\"\"\")"
   ]
  },
  {
   "cell_type": "markdown",
   "metadata": {
    "application/vnd.databricks.v1+cell": {
     "cellMetadata": {
      "byteLimit": 2048000,
      "rowLimit": 10000
     },
     "inputWidgets": {},
     "nuid": "330d5dbc-714f-46eb-ba76-e98983204b42",
     "showTitle": false,
     "title": ""
    }
   },
   "source": [
    "Visualizando o catálago pertinentes aos Dados de Registro de Incendios nas UCs de 2019"
   ]
  },
  {
   "cell_type": "code",
   "execution_count": 0,
   "metadata": {
    "application/vnd.databricks.v1+cell": {
     "cellMetadata": {
      "byteLimit": 2048000,
      "implicitDf": true,
      "rowLimit": 10000
     },
     "inputWidgets": {},
     "nuid": "222d4d1b-48bf-4c98-9736-1ed6fb250676",
     "showTitle": false,
     "title": ""
    }
   },
   "outputs": [
    {
     "output_type": "display_data",
     "data": {
      "text/html": [
       "<style scoped>\n",
       "  .table-result-container {\n",
       "    max-height: 300px;\n",
       "    overflow: auto;\n",
       "  }\n",
       "  table, th, td {\n",
       "    border: 1px solid black;\n",
       "    border-collapse: collapse;\n",
       "  }\n",
       "  th, td {\n",
       "    padding: 5px;\n",
       "  }\n",
       "  th {\n",
       "    text-align: left;\n",
       "  }\n",
       "</style><div class='table-result-container'><table class='table-result'><thead style='background-color: white'><tr><th>col_name</th><th>data_type</th><th>comment</th></tr></thead><tbody><tr><td>ind</td><td>int</td><td>index gerado</td></tr><tr><td>UC</td><td>string</td><td>Unidade de Conservacao com a Categoria abreviada ou com iniciais</td></tr><tr><td>Bioma</td><td>string</td><td>Conjunto de vida vegetal e animal, constituído pelo agrupamento de tipos de vegetação que são próximos e que podem ser identificados em nível regional, com condições de geologia e clima semelhantes e que, historicamente, sofreram os mesmos processos de formação da paisagem - https://educa.ibge.gov.br/criancas/brasil/nosso-territorio/19635-ecossistemas.html</td></tr><tr><td>Area_queimada</td><td>double</td><td>Area Queimada em hectares</td></tr><tr><td>Area_UC</td><td>double</td><td>Area em hectares da UC</td></tr><tr><td>Perc_UC</td><td>double</td><td>Percentual de area afetada pelo incendio em relacao a area da UC</td></tr><tr><td>Data_ult_atual</td><td>date</td><td>Data da ultima atualizacao do conjunto de dados original</td></tr><tr><td>Satelite</td><td>string</td><td>Imagem de satelite utilizada para identificar focos de incendios florestais</td></tr><tr><td>ano</td><td>int</td><td>Ano da ocorrencia do incendio</td></tr><tr><td></td><td></td><td></td></tr><tr><td># Detailed Table Information</td><td></td><td></td></tr><tr><td>Catalog</td><td>spark_catalog</td><td></td></tr><tr><td>Database</td><td>delta</td><td></td></tr><tr><td>Table</td><td>/FileStore/tables/uc_2019_incendio</td><td></td></tr><tr><td>Type</td><td>MANAGED</td><td></td></tr><tr><td>Location</td><td>/FileStore/tables/uc_2019_incendio</td><td></td></tr><tr><td>Provider</td><td>delta</td><td></td></tr><tr><td>Table Properties</td><td>[ Info=Tabela modificada cujo dados sao provenientes do dataset Áreas Queimadas em Unidades de Conservação Federais disponivel em https://dados.gov.br/dados/conjuntos-dados/incendios-em-ucs .  Controlador ICMBio. Mantenedor: Divisão de Informações Geoespaciais e Monitoramento - DGEO. Frequencia de atualizacao: Anual. Ultima atualizacao: Outubro/2023. Modificado por Ana Paula Pessoa da Silva para entrega de trabalho de Eng. De Dados da Pos-Graduacao em Ciencia de Dados e Analiticas do PUC-Rio de Janeiro entre periodo de junho a julho deste ano (2024)  ,delta.minReaderVersion=1,delta.minWriterVersion=2]</td><td></td></tr></tbody></table></div>"
      ]
     },
     "metadata": {
      "application/vnd.databricks.v1+output": {
       "addedWidgets": {},
       "aggData": [],
       "aggError": "",
       "aggOverflow": false,
       "aggSchema": [],
       "aggSeriesLimitReached": false,
       "aggType": "",
       "arguments": {},
       "columnCustomDisplayInfos": {},
       "data": [
        [
         "ind",
         "int",
         "index gerado"
        ],
        [
         "UC",
         "string",
         "Unidade de Conservacao com a Categoria abreviada ou com iniciais"
        ],
        [
         "Bioma",
         "string",
         "Conjunto de vida vegetal e animal, constituído pelo agrupamento de tipos de vegetação que são próximos e que podem ser identificados em nível regional, com condições de geologia e clima semelhantes e que, historicamente, sofreram os mesmos processos de formação da paisagem - https://educa.ibge.gov.br/criancas/brasil/nosso-territorio/19635-ecossistemas.html"
        ],
        [
         "Area_queimada",
         "double",
         "Area Queimada em hectares"
        ],
        [
         "Area_UC",
         "double",
         "Area em hectares da UC"
        ],
        [
         "Perc_UC",
         "double",
         "Percentual de area afetada pelo incendio em relacao a area da UC"
        ],
        [
         "Data_ult_atual",
         "date",
         "Data da ultima atualizacao do conjunto de dados original"
        ],
        [
         "Satelite",
         "string",
         "Imagem de satelite utilizada para identificar focos de incendios florestais"
        ],
        [
         "ano",
         "int",
         "Ano da ocorrencia do incendio"
        ],
        [
         "",
         "",
         ""
        ],
        [
         "# Detailed Table Information",
         "",
         ""
        ],
        [
         "Catalog",
         "spark_catalog",
         ""
        ],
        [
         "Database",
         "delta",
         ""
        ],
        [
         "Table",
         "/FileStore/tables/uc_2019_incendio",
         ""
        ],
        [
         "Type",
         "MANAGED",
         ""
        ],
        [
         "Location",
         "/FileStore/tables/uc_2019_incendio",
         ""
        ],
        [
         "Provider",
         "delta",
         ""
        ],
        [
         "Table Properties",
         "[ Info=Tabela modificada cujo dados sao provenientes do dataset Áreas Queimadas em Unidades de Conservação Federais disponivel em https://dados.gov.br/dados/conjuntos-dados/incendios-em-ucs .  Controlador ICMBio. Mantenedor: Divisão de Informações Geoespaciais e Monitoramento - DGEO. Frequencia de atualizacao: Anual. Ultima atualizacao: Outubro/2023. Modificado por Ana Paula Pessoa da Silva para entrega de trabalho de Eng. De Dados da Pos-Graduacao em Ciencia de Dados e Analiticas do PUC-Rio de Janeiro entre periodo de junho a julho deste ano (2024)  ,delta.minReaderVersion=1,delta.minWriterVersion=2]",
         ""
        ]
       ],
       "datasetInfos": [],
       "dbfsResultPath": null,
       "isJsonSchema": true,
       "metadata": {},
       "overflow": false,
       "plotOptions": {
        "customPlotOptions": {},
        "displayType": "table",
        "pivotAggregation": null,
        "pivotColumns": null,
        "xColumns": null,
        "yColumns": null
       },
       "removedWidgets": [],
       "schema": [
        {
         "metadata": "{\"comment\":\"name of the column\"}",
         "name": "col_name",
         "type": "\"string\""
        },
        {
         "metadata": "{\"comment\":\"data type of the column\"}",
         "name": "data_type",
         "type": "\"string\""
        },
        {
         "metadata": "{\"comment\":\"comment of the column\"}",
         "name": "comment",
         "type": "\"string\""
        }
       ],
       "type": "table"
      }
     },
     "output_type": "display_data"
    }
   ],
   "source": [
    "%sql\n",
    "DESCRIBE EXTENDED delta.`/FileStore/tables/uc_2019_incendio`;"
   ]
  },
  {
   "cell_type": "code",
   "execution_count": 0,
   "metadata": {
    "application/vnd.databricks.v1+cell": {
     "cellMetadata": {
      "byteLimit": 2048000,
      "implicitDf": true,
      "rowLimit": 10000
     },
     "inputWidgets": {},
     "nuid": "4b9f64a9-2920-49ca-ba55-b29ab94d27b4",
     "showTitle": false,
     "title": ""
    }
   },
   "outputs": [
    {
     "output_type": "display_data",
     "data": {
      "text/html": [
       "<style scoped>\n",
       "  .table-result-container {\n",
       "    max-height: 300px;\n",
       "    overflow: auto;\n",
       "  }\n",
       "  table, th, td {\n",
       "    border: 1px solid black;\n",
       "    border-collapse: collapse;\n",
       "  }\n",
       "  th, td {\n",
       "    padding: 5px;\n",
       "  }\n",
       "  th {\n",
       "    text-align: left;\n",
       "  }\n",
       "</style><div class='table-result-container'><table class='table-result'><thead style='background-color: white'><tr></tr></thead><tbody></tbody></table></div>"
      ]
     },
     "metadata": {
      "application/vnd.databricks.v1+output": {
       "addedWidgets": {},
       "aggData": [],
       "aggError": "",
       "aggOverflow": false,
       "aggSchema": [],
       "aggSeriesLimitReached": false,
       "aggType": "",
       "arguments": {},
       "columnCustomDisplayInfos": {},
       "data": [],
       "datasetInfos": [],
       "dbfsResultPath": null,
       "isJsonSchema": true,
       "metadata": {},
       "overflow": false,
       "plotOptions": {
        "customPlotOptions": {},
        "displayType": "table",
        "pivotAggregation": null,
        "pivotColumns": null,
        "xColumns": null,
        "yColumns": null
       },
       "removedWidgets": [],
       "schema": [],
       "type": "table"
      }
     },
     "output_type": "display_data"
    }
   ],
   "source": [
    "%sql\n",
    "ALTER TABLE delta.`/FileStore/tables/uc_2018_incendio` ADD COLUMN ano INT;"
   ]
  },
  {
   "cell_type": "code",
   "execution_count": 0,
   "metadata": {
    "application/vnd.databricks.v1+cell": {
     "cellMetadata": {
      "byteLimit": 2048000,
      "implicitDf": true,
      "rowLimit": 10000
     },
     "inputWidgets": {},
     "nuid": "cc812170-e7b3-44a3-81a0-572f58336715",
     "showTitle": false,
     "title": ""
    }
   },
   "outputs": [
    {
     "output_type": "display_data",
     "data": {
      "text/html": [
       "<style scoped>\n",
       "  .table-result-container {\n",
       "    max-height: 300px;\n",
       "    overflow: auto;\n",
       "  }\n",
       "  table, th, td {\n",
       "    border: 1px solid black;\n",
       "    border-collapse: collapse;\n",
       "  }\n",
       "  th, td {\n",
       "    padding: 5px;\n",
       "  }\n",
       "  th {\n",
       "    text-align: left;\n",
       "  }\n",
       "</style><div class='table-result-container'><table class='table-result'><thead style='background-color: white'><tr><th>num_affected_rows</th></tr></thead><tbody><tr><td>43</td></tr></tbody></table></div>"
      ]
     },
     "metadata": {
      "application/vnd.databricks.v1+output": {
       "addedWidgets": {},
       "aggData": [],
       "aggError": "",
       "aggOverflow": false,
       "aggSchema": [],
       "aggSeriesLimitReached": false,
       "aggType": "",
       "arguments": {},
       "columnCustomDisplayInfos": {},
       "data": [
        [
         43
        ]
       ],
       "datasetInfos": [],
       "dbfsResultPath": null,
       "isJsonSchema": true,
       "metadata": {},
       "overflow": false,
       "plotOptions": {
        "customPlotOptions": {},
        "displayType": "table",
        "pivotAggregation": null,
        "pivotColumns": null,
        "xColumns": null,
        "yColumns": null
       },
       "removedWidgets": [],
       "schema": [
        {
         "metadata": "{}",
         "name": "num_affected_rows",
         "type": "\"long\""
        }
       ],
       "type": "table"
      }
     },
     "output_type": "display_data"
    }
   ],
   "source": [
    "%sql\n",
    "UPDATE delta.`/FileStore/tables/uc_2018_incendio`\n",
    "SET ano = 2018;"
   ]
  },
  {
   "cell_type": "code",
   "execution_count": 0,
   "metadata": {
    "application/vnd.databricks.v1+cell": {
     "cellMetadata": {
      "byteLimit": 2048000,
      "rowLimit": 10000
     },
     "inputWidgets": {},
     "nuid": "0618b672-5291-41d1-8e47-c7bf3258d201",
     "showTitle": false,
     "title": ""
    }
   },
   "outputs": [
    {
     "output_type": "stream",
     "name": "stdout",
     "output_type": "stream",
     "text": [
      "Out[73]: DataFrame[]"
     ]
    }
   ],
   "source": [
    "caminho_ano_2018 = \"/FileStore/tables/uc_2018_incendio\"\n",
    "\n",
    "# Registrar a tabela Delta no catálogo do Spark\n",
    "spark.sql(f\"CREATE TABLE info_incendio_2018 USING delta LOCATION '{caminho_ano_2018}'\")"
   ]
  },
  {
   "cell_type": "code",
   "execution_count": 0,
   "metadata": {
    "application/vnd.databricks.v1+cell": {
     "cellMetadata": {
      "byteLimit": 2048000,
      "rowLimit": 10000
     },
     "inputWidgets": {},
     "nuid": "5c4de0e7-d34d-47c9-ba68-7814ee62d13e",
     "showTitle": false,
     "title": ""
    }
   },
   "outputs": [
    {
     "output_type": "stream",
     "name": "stdout",
     "output_type": "stream",
     "text": [
      "Out[74]: DataFrame[]"
     ]
    }
   ],
   "source": [
    "spark.sql(f\"ALTER TABLE info_incendio_2018 CHANGE COLUMN ind ind INT COMMENT 'index gerado'\")\n",
    "spark.sql(f\"ALTER TABLE info_incendio_2018 CHANGE COLUMN UC UC STRING COMMENT 'Unidade de Conservacao com a Categoria abreviada ou com iniciais'\")\n",
    "spark.sql(f\"ALTER TABLE info_incendio_2018 CHANGE COLUMN Bioma Bioma STRING COMMENT 'Conjunto de vida vegetal e animal, constituído pelo agrupamento de tipos de vegetação que são próximos e que podem ser identificados em nível regional, com condições de geologia e clima semelhantes e que, historicamente, sofreram os mesmos processos de formação da paisagem - https://educa.ibge.gov.br/criancas/brasil/nosso-territorio/19635-ecossistemas.html'\")\n",
    "spark.sql(f\"ALTER TABLE info_incendio_2018 CHANGE COLUMN Area_queimada Area_queimada DOUBLE COMMENT 'Area Queimada em hectares'\")\n",
    "spark.sql(f\"ALTER TABLE info_incendio_2018 CHANGE COLUMN Area_UC Area_UC DOUBLE COMMENT 'Area em hectares da UC'\")\n",
    "spark.sql(f\"ALTER TABLE info_incendio_2018 CHANGE COLUMN Perc_UC Perc_UC DOUBLE COMMENT 'Percentual de area afetada pelo incendio em relacao a area da UC'\")\n",
    "spark.sql(f\"ALTER TABLE info_incendio_2018 CHANGE COLUMN Data_ult_atual Data_ult_atual DATE COMMENT 'Data da ultima atualizacao'\")\n",
    "spark.sql(f\"ALTER TABLE info_incendio_2018 CHANGE COLUMN Satelite Satelite STRING COMMENT 'Imagem de satelite utilizada para identificar focos de incendios florestais'\")\n",
    "spark.sql(f\"ALTER TABLE info_incendio_2018 CHANGE COLUMN ano ano INT COMMENT 'Ano da ocorrencia do incendio'\")"
   ]
  },
  {
   "cell_type": "code",
   "execution_count": 0,
   "metadata": {
    "application/vnd.databricks.v1+cell": {
     "cellMetadata": {
      "byteLimit": 2048000,
      "rowLimit": 10000
     },
     "inputWidgets": {},
     "nuid": "0e801663-8584-4c97-b0ad-f5e980cf969a",
     "showTitle": false,
     "title": ""
    }
   },
   "outputs": [
    {
     "output_type": "stream",
     "name": "stdout",
     "output_type": "stream",
     "text": [
      "Out[75]: DataFrame[]"
     ]
    }
   ],
   "source": [
    "spark.sql(f\"\"\"\n",
    "    ALTER TABLE delta.`{caminho_ano_2018}`\n",
    "    SET TBLPROPERTIES (\n",
    "        ' Info' = 'Tabela modificada cujo dados sao provenientes do dataset Áreas Queimadas em Unidades de Conservação Federais disponivel em https://dados.gov.br/dados/conjuntos-dados/incendios-em-ucs .  Controlador ICMBio. Mantenedor: Divisão de Informações Geoespaciais e Monitoramento - DGEO. Frequencia de atualizacao: Anual. Ultima atualizacao: Outubro/2023. Modificado por Ana Paula Pessoa da Silva para entrega de trabalho de Eng. De Dados da Pos-Graduacao em Ciencia de Dados e Analiticas do PUC-Rio de Janeiro entre periodo de junho a julho deste ano (2024)  '\n",
    "    )\n",
    "\"\"\")"
   ]
  },
  {
   "cell_type": "markdown",
   "metadata": {
    "application/vnd.databricks.v1+cell": {
     "cellMetadata": {
      "byteLimit": 2048000,
      "rowLimit": 10000
     },
     "inputWidgets": {},
     "nuid": "3c6a2697-56e3-4d7b-a3c1-5b408648b101",
     "showTitle": false,
     "title": ""
    }
   },
   "source": [
    "Visualizando o catálago pertinentes aos Dados de Registro de Incendios nas UCs de 2018"
   ]
  },
  {
   "cell_type": "code",
   "execution_count": 0,
   "metadata": {
    "application/vnd.databricks.v1+cell": {
     "cellMetadata": {
      "byteLimit": 2048000,
      "implicitDf": true,
      "rowLimit": 10000
     },
     "inputWidgets": {},
     "nuid": "f666598a-607d-4c9e-ade3-fd7ddcc7e30a",
     "showTitle": false,
     "title": ""
    }
   },
   "outputs": [
    {
     "output_type": "display_data",
     "data": {
      "text/html": [
       "<style scoped>\n",
       "  .table-result-container {\n",
       "    max-height: 300px;\n",
       "    overflow: auto;\n",
       "  }\n",
       "  table, th, td {\n",
       "    border: 1px solid black;\n",
       "    border-collapse: collapse;\n",
       "  }\n",
       "  th, td {\n",
       "    padding: 5px;\n",
       "  }\n",
       "  th {\n",
       "    text-align: left;\n",
       "  }\n",
       "</style><div class='table-result-container'><table class='table-result'><thead style='background-color: white'><tr><th>col_name</th><th>data_type</th><th>comment</th></tr></thead><tbody><tr><td>ind</td><td>int</td><td>index gerado</td></tr><tr><td>UC</td><td>string</td><td>Unidade de Conservacao com a Categoria abreviada ou com iniciais</td></tr><tr><td>Bioma</td><td>string</td><td>Conjunto de vida vegetal e animal, constituído pelo agrupamento de tipos de vegetação que são próximos e que podem ser identificados em nível regional, com condições de geologia e clima semelhantes e que, historicamente, sofreram os mesmos processos de formação da paisagem - https://educa.ibge.gov.br/criancas/brasil/nosso-territorio/19635-ecossistemas.html</td></tr><tr><td>Area_queimada</td><td>double</td><td>Area Queimada em hectares</td></tr><tr><td>Area_UC</td><td>double</td><td>Area em hectares da UC</td></tr><tr><td>Perc_UC</td><td>double</td><td>Percentual de area afetada pelo incendio em relacao a area da UC</td></tr><tr><td>Data_ult_atual</td><td>date</td><td>Data da ultima atualizacao</td></tr><tr><td>Satelite</td><td>string</td><td>Imagem de satelite utilizada para identificar focos de incendios florestais</td></tr><tr><td>ano</td><td>int</td><td>Ano da ocorrencia do incendio</td></tr><tr><td></td><td></td><td></td></tr><tr><td># Detailed Table Information</td><td></td><td></td></tr><tr><td>Catalog</td><td>spark_catalog</td><td></td></tr><tr><td>Database</td><td>delta</td><td></td></tr><tr><td>Table</td><td>/FileStore/tables/uc_2018_incendio</td><td></td></tr><tr><td>Type</td><td>MANAGED</td><td></td></tr><tr><td>Location</td><td>/FileStore/tables/uc_2018_incendio</td><td></td></tr><tr><td>Provider</td><td>delta</td><td></td></tr><tr><td>Table Properties</td><td>[ Info=Tabela modificada cujo dados sao provenientes do dataset Áreas Queimadas em Unidades de Conservação Federais disponivel em https://dados.gov.br/dados/conjuntos-dados/incendios-em-ucs .  Controlador ICMBio. Mantenedor: Divisão de Informações Geoespaciais e Monitoramento - DGEO. Frequencia de atualizacao: Anual. Ultima atualizacao: Outubro/2023. Modificado por Ana Paula Pessoa da Silva para entrega de trabalho de Eng. De Dados da Pos-Graduacao em Ciencia de Dados e Analiticas do PUC-Rio de Janeiro entre periodo de junho a julho deste ano (2024)  ,delta.minReaderVersion=1,delta.minWriterVersion=2]</td><td></td></tr></tbody></table></div>"
      ]
     },
     "metadata": {
      "application/vnd.databricks.v1+output": {
       "addedWidgets": {},
       "aggData": [],
       "aggError": "",
       "aggOverflow": false,
       "aggSchema": [],
       "aggSeriesLimitReached": false,
       "aggType": "",
       "arguments": {},
       "columnCustomDisplayInfos": {},
       "data": [
        [
         "ind",
         "int",
         "index gerado"
        ],
        [
         "UC",
         "string",
         "Unidade de Conservacao com a Categoria abreviada ou com iniciais"
        ],
        [
         "Bioma",
         "string",
         "Conjunto de vida vegetal e animal, constituído pelo agrupamento de tipos de vegetação que são próximos e que podem ser identificados em nível regional, com condições de geologia e clima semelhantes e que, historicamente, sofreram os mesmos processos de formação da paisagem - https://educa.ibge.gov.br/criancas/brasil/nosso-territorio/19635-ecossistemas.html"
        ],
        [
         "Area_queimada",
         "double",
         "Area Queimada em hectares"
        ],
        [
         "Area_UC",
         "double",
         "Area em hectares da UC"
        ],
        [
         "Perc_UC",
         "double",
         "Percentual de area afetada pelo incendio em relacao a area da UC"
        ],
        [
         "Data_ult_atual",
         "date",
         "Data da ultima atualizacao"
        ],
        [
         "Satelite",
         "string",
         "Imagem de satelite utilizada para identificar focos de incendios florestais"
        ],
        [
         "ano",
         "int",
         "Ano da ocorrencia do incendio"
        ],
        [
         "",
         "",
         ""
        ],
        [
         "# Detailed Table Information",
         "",
         ""
        ],
        [
         "Catalog",
         "spark_catalog",
         ""
        ],
        [
         "Database",
         "delta",
         ""
        ],
        [
         "Table",
         "/FileStore/tables/uc_2018_incendio",
         ""
        ],
        [
         "Type",
         "MANAGED",
         ""
        ],
        [
         "Location",
         "/FileStore/tables/uc_2018_incendio",
         ""
        ],
        [
         "Provider",
         "delta",
         ""
        ],
        [
         "Table Properties",
         "[ Info=Tabela modificada cujo dados sao provenientes do dataset Áreas Queimadas em Unidades de Conservação Federais disponivel em https://dados.gov.br/dados/conjuntos-dados/incendios-em-ucs .  Controlador ICMBio. Mantenedor: Divisão de Informações Geoespaciais e Monitoramento - DGEO. Frequencia de atualizacao: Anual. Ultima atualizacao: Outubro/2023. Modificado por Ana Paula Pessoa da Silva para entrega de trabalho de Eng. De Dados da Pos-Graduacao em Ciencia de Dados e Analiticas do PUC-Rio de Janeiro entre periodo de junho a julho deste ano (2024)  ,delta.minReaderVersion=1,delta.minWriterVersion=2]",
         ""
        ]
       ],
       "datasetInfos": [],
       "dbfsResultPath": null,
       "isJsonSchema": true,
       "metadata": {},
       "overflow": false,
       "plotOptions": {
        "customPlotOptions": {},
        "displayType": "table",
        "pivotAggregation": null,
        "pivotColumns": null,
        "xColumns": null,
        "yColumns": null
       },
       "removedWidgets": [],
       "schema": [
        {
         "metadata": "{\"comment\":\"name of the column\"}",
         "name": "col_name",
         "type": "\"string\""
        },
        {
         "metadata": "{\"comment\":\"data type of the column\"}",
         "name": "data_type",
         "type": "\"string\""
        },
        {
         "metadata": "{\"comment\":\"comment of the column\"}",
         "name": "comment",
         "type": "\"string\""
        }
       ],
       "type": "table"
      }
     },
     "output_type": "display_data"
    }
   ],
   "source": [
    "%sql\n",
    "DESCRIBE EXTENDED delta.`/FileStore/tables/uc_2018_incendio`;"
   ]
  },
  {
   "cell_type": "markdown",
   "metadata": {
    "application/vnd.databricks.v1+cell": {
     "cellMetadata": {
      "byteLimit": 2048000,
      "rowLimit": 10000
     },
     "inputWidgets": {},
     "nuid": "4fbd85ce-9ab2-413e-bec3-f6eee81e4dd4",
     "showTitle": false,
     "title": ""
    }
   },
   "source": [
    "3 - Extração de Dados - Consultas"
   ]
  },
  {
   "cell_type": "markdown",
   "metadata": {
    "application/vnd.databricks.v1+cell": {
     "cellMetadata": {
      "byteLimit": 2048000,
      "rowLimit": 10000
     },
     "inputWidgets": {},
     "nuid": "abffbae6-a2dd-40e3-9d26-49e3ad4c9b2f",
     "showTitle": false,
     "title": ""
    }
   },
   "source": [
    "<div style=\"text-align: justify;\">\n",
    "Agora é o momento de realizar as consultas para extrair as informações a respeito das ocorrências de incêndios. Para isto, as tabelas deltas serão lidas como janelas temporárias.  Além disso, serão criadas tabelas temporárias de ocorrencia de incêndio com mesmo esquema para viabilizar a reunião destas em uma, só através do comando UNION ALL do SQL      "
   ]
  },
  {
   "cell_type": "code",
   "execution_count": 0,
   "metadata": {
    "application/vnd.databricks.v1+cell": {
     "cellMetadata": {
      "byteLimit": 2048000,
      "rowLimit": 10000
     },
     "inputWidgets": {},
     "nuid": "7f5c9335-0f3d-474d-a88f-37953178b7a9",
     "showTitle": false,
     "title": ""
    }
   },
   "outputs": [],
   "source": [
    "\n",
    "spark.read.format(\"delta\").load(\"dbfs:/FileStore/tables/uc_2018_incendio\").createOrReplaceTempView(\"incendio_2018\")\n",
    "spark.read.format(\"delta\").load(\"dbfs:/FileStore/tables/uc_2019_incendio\").createOrReplaceTempView(\"incendio_2019\")\n",
    "spark.read.format(\"delta\").load(\"dbfs:/FileStore/tables/uc_2020_incendio\").createOrReplaceTempView(\"incendio_2020\")\n",
    "spark.read.format(\"delta\").load(\"dbfs:/FileStore/tables/uc_2021_incendio\").createOrReplaceTempView(\"incendio_2021\")\n",
    "spark.read.format(\"delta\").load(\"dbfs:/FileStore/tables/uc_2022_incendio\").createOrReplaceTempView(\"incendio_2022\")\n",
    "spark.read.format(\"delta\").load(\"dbfs:/FileStore/tables/uc_2023_incendio\").createOrReplaceTempView(\"incendio_2023\")\n",
    "spark.read.format(\"delta\").load(\"dbfs:/FileStore/tables/uc_atualizado_jun_2024\").createOrReplaceTempView(\"dados_uc\")"
   ]
  },
  {
   "cell_type": "code",
   "execution_count": 0,
   "metadata": {
    "application/vnd.databricks.v1+cell": {
     "cellMetadata": {
      "byteLimit": 2048000,
      "implicitDf": true,
      "rowLimit": 10000
     },
     "inputWidgets": {},
     "nuid": "7b1b57a0-6f68-4c82-b338-4cc3accc2e40",
     "showTitle": false,
     "title": ""
    }
   },
   "outputs": [
    {
     "output_type": "display_data",
     "data": {
      "text/html": [
       "<style scoped>\n",
       "  .table-result-container {\n",
       "    max-height: 300px;\n",
       "    overflow: auto;\n",
       "  }\n",
       "  table, th, td {\n",
       "    border: 1px solid black;\n",
       "    border-collapse: collapse;\n",
       "  }\n",
       "  th, td {\n",
       "    padding: 5px;\n",
       "  }\n",
       "  th {\n",
       "    text-align: left;\n",
       "  }\n",
       "</style><div class='table-result-container'><table class='table-result'><thead style='background-color: white'><tr></tr></thead><tbody></tbody></table></div>"
      ]
     },
     "metadata": {
      "application/vnd.databricks.v1+output": {
       "addedWidgets": {},
       "aggData": [],
       "aggError": "",
       "aggOverflow": false,
       "aggSchema": [],
       "aggSeriesLimitReached": false,
       "aggType": "",
       "arguments": {},
       "columnCustomDisplayInfos": {},
       "data": [],
       "datasetInfos": [],
       "dbfsResultPath": null,
       "isJsonSchema": true,
       "metadata": {},
       "overflow": false,
       "plotOptions": {
        "customPlotOptions": {},
        "displayType": "table",
        "pivotAggregation": null,
        "pivotColumns": null,
        "xColumns": null,
        "yColumns": null
       },
       "removedWidgets": [],
       "schema": [],
       "type": "table"
      }
     },
     "output_type": "display_data"
    }
   ],
   "source": [
    "%sql\n",
    "CREATE OR REPLACE TEMPORARY VIEW DADOS_UC AS\n",
    "SELECT *\n",
    "FROM delta.`dbfs:/FileStore/tables/uc_atualizado_jun_2024`;"
   ]
  },
  {
   "cell_type": "code",
   "execution_count": 0,
   "metadata": {
    "application/vnd.databricks.v1+cell": {
     "cellMetadata": {
      "byteLimit": 2048000,
      "implicitDf": true,
      "rowLimit": 10000
     },
     "inputWidgets": {},
     "nuid": "ff26ec4a-2228-4b7c-885a-7947ecc3ac7d",
     "showTitle": false,
     "title": ""
    }
   },
   "outputs": [
    {
     "output_type": "display_data",
     "data": {
      "text/html": [
       "<style scoped>\n",
       "  .table-result-container {\n",
       "    max-height: 300px;\n",
       "    overflow: auto;\n",
       "  }\n",
       "  table, th, td {\n",
       "    border: 1px solid black;\n",
       "    border-collapse: collapse;\n",
       "  }\n",
       "  th, td {\n",
       "    padding: 5px;\n",
       "  }\n",
       "  th {\n",
       "    text-align: left;\n",
       "  }\n",
       "</style><div class='table-result-container'><table class='table-result'><thead style='background-color: white'><tr></tr></thead><tbody></tbody></table></div>"
      ]
     },
     "metadata": {
      "application/vnd.databricks.v1+output": {
       "addedWidgets": {},
       "aggData": [],
       "aggError": "",
       "aggOverflow": false,
       "aggSchema": [],
       "aggSeriesLimitReached": false,
       "aggType": "",
       "arguments": {},
       "columnCustomDisplayInfos": {},
       "data": [],
       "datasetInfos": [],
       "dbfsResultPath": null,
       "isJsonSchema": true,
       "metadata": {},
       "overflow": false,
       "plotOptions": {
        "customPlotOptions": {},
        "displayType": "table",
        "pivotAggregation": null,
        "pivotColumns": null,
        "xColumns": null,
        "yColumns": null
       },
       "removedWidgets": [],
       "schema": [],
       "type": "table"
      }
     },
     "output_type": "display_data"
    }
   ],
   "source": [
    "%sql\n",
    "CREATE OR REPLACE TEMPORARY VIEW INCEND_2023 AS\n",
    "SELECT UC, Area_queimada, Perc_UC, ano\n",
    "FROM delta.`dbfs:/FileStore/tables/uc_2023_incendio`;"
   ]
  },
  {
   "cell_type": "code",
   "execution_count": 0,
   "metadata": {
    "application/vnd.databricks.v1+cell": {
     "cellMetadata": {
      "byteLimit": 2048000,
      "implicitDf": true,
      "rowLimit": 10000
     },
     "inputWidgets": {},
     "nuid": "9fa4cd7a-0d9b-4859-85a1-a1a2bbfdb908",
     "showTitle": false,
     "title": ""
    }
   },
   "outputs": [
    {
     "output_type": "display_data",
     "data": {
      "text/html": [
       "<style scoped>\n",
       "  .table-result-container {\n",
       "    max-height: 300px;\n",
       "    overflow: auto;\n",
       "  }\n",
       "  table, th, td {\n",
       "    border: 1px solid black;\n",
       "    border-collapse: collapse;\n",
       "  }\n",
       "  th, td {\n",
       "    padding: 5px;\n",
       "  }\n",
       "  th {\n",
       "    text-align: left;\n",
       "  }\n",
       "</style><div class='table-result-container'><table class='table-result'><thead style='background-color: white'><tr></tr></thead><tbody></tbody></table></div>"
      ]
     },
     "metadata": {
      "application/vnd.databricks.v1+output": {
       "addedWidgets": {},
       "aggData": [],
       "aggError": "",
       "aggOverflow": false,
       "aggSchema": [],
       "aggSeriesLimitReached": false,
       "aggType": "",
       "arguments": {},
       "columnCustomDisplayInfos": {},
       "data": [],
       "datasetInfos": [],
       "dbfsResultPath": null,
       "isJsonSchema": true,
       "metadata": {},
       "overflow": false,
       "plotOptions": {
        "customPlotOptions": {},
        "displayType": "table",
        "pivotAggregation": null,
        "pivotColumns": null,
        "xColumns": null,
        "yColumns": null
       },
       "removedWidgets": [],
       "schema": [],
       "type": "table"
      }
     },
     "output_type": "display_data"
    }
   ],
   "source": [
    "%sql\n",
    "CREATE OR REPLACE TEMPORARY VIEW INCEND_2022 AS\n",
    "SELECT UC, Area_queimada, Perc_UC, ano\n",
    "FROM delta.`dbfs:/FileStore/tables/uc_2022_incendio`;"
   ]
  },
  {
   "cell_type": "code",
   "execution_count": 0,
   "metadata": {
    "application/vnd.databricks.v1+cell": {
     "cellMetadata": {
      "byteLimit": 2048000,
      "implicitDf": true,
      "rowLimit": 10000
     },
     "inputWidgets": {},
     "nuid": "012c1649-754b-4580-a3e3-b986a9a54c13",
     "showTitle": false,
     "title": ""
    }
   },
   "outputs": [
    {
     "output_type": "display_data",
     "data": {
      "text/html": [
       "<style scoped>\n",
       "  .table-result-container {\n",
       "    max-height: 300px;\n",
       "    overflow: auto;\n",
       "  }\n",
       "  table, th, td {\n",
       "    border: 1px solid black;\n",
       "    border-collapse: collapse;\n",
       "  }\n",
       "  th, td {\n",
       "    padding: 5px;\n",
       "  }\n",
       "  th {\n",
       "    text-align: left;\n",
       "  }\n",
       "</style><div class='table-result-container'><table class='table-result'><thead style='background-color: white'><tr></tr></thead><tbody></tbody></table></div>"
      ]
     },
     "metadata": {
      "application/vnd.databricks.v1+output": {
       "addedWidgets": {},
       "aggData": [],
       "aggError": "",
       "aggOverflow": false,
       "aggSchema": [],
       "aggSeriesLimitReached": false,
       "aggType": "",
       "arguments": {},
       "columnCustomDisplayInfos": {},
       "data": [],
       "datasetInfos": [],
       "dbfsResultPath": null,
       "isJsonSchema": true,
       "metadata": {},
       "overflow": false,
       "plotOptions": {
        "customPlotOptions": {},
        "displayType": "table",
        "pivotAggregation": null,
        "pivotColumns": null,
        "xColumns": null,
        "yColumns": null
       },
       "removedWidgets": [],
       "schema": [],
       "type": "table"
      }
     },
     "output_type": "display_data"
    }
   ],
   "source": [
    "%sql\n",
    "CREATE OR REPLACE TEMPORARY VIEW INCEND_2021 AS\n",
    "SELECT UC, Area_queimada, Perc_UC, ano\n",
    "FROM delta.`dbfs:/FileStore/tables/uc_2021_incendio`;"
   ]
  },
  {
   "cell_type": "code",
   "execution_count": 0,
   "metadata": {
    "application/vnd.databricks.v1+cell": {
     "cellMetadata": {
      "byteLimit": 2048000,
      "implicitDf": true,
      "rowLimit": 10000
     },
     "inputWidgets": {},
     "nuid": "97182396-9a16-4359-ac0e-d939c8aba638",
     "showTitle": false,
     "title": ""
    }
   },
   "outputs": [
    {
     "output_type": "display_data",
     "data": {
      "text/html": [
       "<style scoped>\n",
       "  .table-result-container {\n",
       "    max-height: 300px;\n",
       "    overflow: auto;\n",
       "  }\n",
       "  table, th, td {\n",
       "    border: 1px solid black;\n",
       "    border-collapse: collapse;\n",
       "  }\n",
       "  th, td {\n",
       "    padding: 5px;\n",
       "  }\n",
       "  th {\n",
       "    text-align: left;\n",
       "  }\n",
       "</style><div class='table-result-container'><table class='table-result'><thead style='background-color: white'><tr></tr></thead><tbody></tbody></table></div>"
      ]
     },
     "metadata": {
      "application/vnd.databricks.v1+output": {
       "addedWidgets": {},
       "aggData": [],
       "aggError": "",
       "aggOverflow": false,
       "aggSchema": [],
       "aggSeriesLimitReached": false,
       "aggType": "",
       "arguments": {},
       "columnCustomDisplayInfos": {},
       "data": [],
       "datasetInfos": [],
       "dbfsResultPath": null,
       "isJsonSchema": true,
       "metadata": {},
       "overflow": false,
       "plotOptions": {
        "customPlotOptions": {},
        "displayType": "table",
        "pivotAggregation": null,
        "pivotColumns": null,
        "xColumns": null,
        "yColumns": null
       },
       "removedWidgets": [],
       "schema": [],
       "type": "table"
      }
     },
     "output_type": "display_data"
    }
   ],
   "source": [
    "%sql\n",
    "CREATE OR REPLACE TEMPORARY VIEW INCEND_2020 AS\n",
    "SELECT UC, Area_queimada, Perc_UC, ano\n",
    "FROM delta.`dbfs:/FileStore/tables/uc_2020_incendio`;"
   ]
  },
  {
   "cell_type": "code",
   "execution_count": 0,
   "metadata": {
    "application/vnd.databricks.v1+cell": {
     "cellMetadata": {
      "byteLimit": 2048000,
      "implicitDf": true,
      "rowLimit": 10000
     },
     "inputWidgets": {},
     "nuid": "e41283b0-1d65-4c1f-9d6a-c8620c27912d",
     "showTitle": false,
     "title": ""
    }
   },
   "outputs": [
    {
     "output_type": "display_data",
     "data": {
      "text/html": [
       "<style scoped>\n",
       "  .table-result-container {\n",
       "    max-height: 300px;\n",
       "    overflow: auto;\n",
       "  }\n",
       "  table, th, td {\n",
       "    border: 1px solid black;\n",
       "    border-collapse: collapse;\n",
       "  }\n",
       "  th, td {\n",
       "    padding: 5px;\n",
       "  }\n",
       "  th {\n",
       "    text-align: left;\n",
       "  }\n",
       "</style><div class='table-result-container'><table class='table-result'><thead style='background-color: white'><tr></tr></thead><tbody></tbody></table></div>"
      ]
     },
     "metadata": {
      "application/vnd.databricks.v1+output": {
       "addedWidgets": {},
       "aggData": [],
       "aggError": "",
       "aggOverflow": false,
       "aggSchema": [],
       "aggSeriesLimitReached": false,
       "aggType": "",
       "arguments": {},
       "columnCustomDisplayInfos": {},
       "data": [],
       "datasetInfos": [],
       "dbfsResultPath": null,
       "isJsonSchema": true,
       "metadata": {},
       "overflow": false,
       "plotOptions": {
        "customPlotOptions": {},
        "displayType": "table",
        "pivotAggregation": null,
        "pivotColumns": null,
        "xColumns": null,
        "yColumns": null
       },
       "removedWidgets": [],
       "schema": [],
       "type": "table"
      }
     },
     "output_type": "display_data"
    }
   ],
   "source": [
    "%sql\n",
    "CREATE OR REPLACE TEMPORARY VIEW INCEND_2019 AS\n",
    "SELECT UC, Area_queimada, Perc_UC, ano\n",
    "FROM delta.`dbfs:/FileStore/tables/uc_2019_incendio`;"
   ]
  },
  {
   "cell_type": "code",
   "execution_count": 0,
   "metadata": {
    "application/vnd.databricks.v1+cell": {
     "cellMetadata": {
      "byteLimit": 2048000,
      "implicitDf": true,
      "rowLimit": 10000
     },
     "inputWidgets": {},
     "nuid": "585b83a5-8ab6-4905-9989-054b1afae420",
     "showTitle": false,
     "title": ""
    }
   },
   "outputs": [
    {
     "output_type": "display_data",
     "data": {
      "text/html": [
       "<style scoped>\n",
       "  .table-result-container {\n",
       "    max-height: 300px;\n",
       "    overflow: auto;\n",
       "  }\n",
       "  table, th, td {\n",
       "    border: 1px solid black;\n",
       "    border-collapse: collapse;\n",
       "  }\n",
       "  th, td {\n",
       "    padding: 5px;\n",
       "  }\n",
       "  th {\n",
       "    text-align: left;\n",
       "  }\n",
       "</style><div class='table-result-container'><table class='table-result'><thead style='background-color: white'><tr></tr></thead><tbody></tbody></table></div>"
      ]
     },
     "metadata": {
      "application/vnd.databricks.v1+output": {
       "addedWidgets": {},
       "aggData": [],
       "aggError": "",
       "aggOverflow": false,
       "aggSchema": [],
       "aggSeriesLimitReached": false,
       "aggType": "",
       "arguments": {},
       "columnCustomDisplayInfos": {},
       "data": [],
       "datasetInfos": [],
       "dbfsResultPath": null,
       "isJsonSchema": true,
       "metadata": {},
       "overflow": false,
       "plotOptions": {
        "customPlotOptions": {},
        "displayType": "table",
        "pivotAggregation": null,
        "pivotColumns": null,
        "xColumns": null,
        "yColumns": null
       },
       "removedWidgets": [],
       "schema": [],
       "type": "table"
      }
     },
     "output_type": "display_data"
    }
   ],
   "source": [
    "%sql\n",
    "CREATE OR REPLACE TEMPORARY VIEW INCEND_2018 AS\n",
    "SELECT UC, Area_queimada, Perc_UC, ano\n",
    "FROM delta.`dbfs:/FileStore/tables/uc_2018_incendio`;"
   ]
  },
  {
   "cell_type": "code",
   "execution_count": 0,
   "metadata": {
    "application/vnd.databricks.v1+cell": {
     "cellMetadata": {
      "byteLimit": 2048000,
      "implicitDf": true,
      "rowLimit": 10000
     },
     "inputWidgets": {},
     "nuid": "0a93200b-46b4-4da9-8b95-8da2b28b820a",
     "showTitle": false,
     "title": ""
    }
   },
   "outputs": [
    {
     "output_type": "display_data",
     "data": {
      "text/html": [
       "<style scoped>\n",
       "  .table-result-container {\n",
       "    max-height: 300px;\n",
       "    overflow: auto;\n",
       "  }\n",
       "  table, th, td {\n",
       "    border: 1px solid black;\n",
       "    border-collapse: collapse;\n",
       "  }\n",
       "  th, td {\n",
       "    padding: 5px;\n",
       "  }\n",
       "  th {\n",
       "    text-align: left;\n",
       "  }\n",
       "</style><div class='table-result-container'><table class='table-result'><thead style='background-color: white'><tr></tr></thead><tbody></tbody></table></div>"
      ]
     },
     "metadata": {
      "application/vnd.databricks.v1+output": {
       "addedWidgets": {},
       "aggData": [],
       "aggError": "",
       "aggOverflow": false,
       "aggSchema": [],
       "aggSeriesLimitReached": false,
       "aggType": "",
       "arguments": {},
       "columnCustomDisplayInfos": {},
       "data": [],
       "datasetInfos": [],
       "dbfsResultPath": null,
       "isJsonSchema": true,
       "metadata": {},
       "overflow": false,
       "plotOptions": {
        "customPlotOptions": {},
        "displayType": "table",
        "pivotAggregation": null,
        "pivotColumns": null,
        "xColumns": null,
        "yColumns": null
       },
       "removedWidgets": [],
       "schema": [],
       "type": "table"
      }
     },
     "output_type": "display_data"
    }
   ],
   "source": [
    "%sql\n",
    "\n",
    "CREATE OR REPLACE TEMPORARY VIEW HISTORICO AS\n",
    "SELECT *\n",
    "FROM INCEND_2023\n",
    "UNION ALL\n",
    "SELECT *\n",
    "FROM INCEND_2022\n",
    "UNION ALL\n",
    "SELECT *\n",
    "FROM INCEND_2021\n",
    "UNION ALL\n",
    "SELECT *\n",
    "FROM INCEND_2020\n",
    "UNION ALL\n",
    "SELECT *\n",
    "FROM INCEND_2019\n",
    "UNION ALL\n",
    "SELECT *\n",
    "FROM INCEND_2018\n"
   ]
  },
  {
   "cell_type": "markdown",
   "metadata": {
    "application/vnd.databricks.v1+cell": {
     "cellMetadata": {
      "byteLimit": 2048000,
      "rowLimit": 10000
     },
     "inputWidgets": {},
     "nuid": "bf6638ca-42f1-40db-883d-24ec11d72d7a",
     "showTitle": false,
     "title": ""
    }
   },
   "source": [
    "Aproveitando que foi criado uma tabela temporaria única para as ocorrências de incêndio será feito uma outra acrescentando os atributos da Tabela com Informações Gerais das Unidades de Conservação."
   ]
  },
  {
   "cell_type": "code",
   "execution_count": 0,
   "metadata": {
    "application/vnd.databricks.v1+cell": {
     "cellMetadata": {
      "byteLimit": 2048000,
      "implicitDf": true,
      "rowLimit": 10000
     },
     "inputWidgets": {},
     "nuid": "63feda56-7259-4106-b5f4-3a97b8ebe864",
     "showTitle": false,
     "title": ""
    }
   },
   "outputs": [
    {
     "output_type": "display_data",
     "data": {
      "text/html": [
       "<style scoped>\n",
       "  .table-result-container {\n",
       "    max-height: 300px;\n",
       "    overflow: auto;\n",
       "  }\n",
       "  table, th, td {\n",
       "    border: 1px solid black;\n",
       "    border-collapse: collapse;\n",
       "  }\n",
       "  th, td {\n",
       "    padding: 5px;\n",
       "  }\n",
       "  th {\n",
       "    text-align: left;\n",
       "  }\n",
       "</style><div class='table-result-container'><table class='table-result'><thead style='background-color: white'><tr></tr></thead><tbody></tbody></table></div>"
      ]
     },
     "metadata": {
      "application/vnd.databricks.v1+output": {
       "addedWidgets": {},
       "aggData": [],
       "aggError": "",
       "aggOverflow": false,
       "aggSchema": [],
       "aggSeriesLimitReached": false,
       "aggType": "",
       "arguments": {},
       "columnCustomDisplayInfos": {},
       "data": [],
       "datasetInfos": [],
       "dbfsResultPath": null,
       "isJsonSchema": true,
       "metadata": {},
       "overflow": false,
       "plotOptions": {
        "customPlotOptions": {},
        "displayType": "table",
        "pivotAggregation": null,
        "pivotColumns": null,
        "xColumns": null,
        "yColumns": null
       },
       "removedWidgets": [],
       "schema": [],
       "type": "table"
      }
     },
     "output_type": "display_data"
    }
   ],
   "source": [
    "%sql\n",
    "CREATE OR REPLACE TEMPORARY VIEW HISTORICO_DADOS_UC AS\n",
    "SELECT CNUC, TIPO_NOME, NOME_UC, TIPO, Bioma_predominante, UF, Area_queimada, Perc_UC, ano\n",
    "FROM DADOS_UC\n",
    "INNER JOIN HISTORICO\n",
    "ON TIPO_NOME = UC\n"
   ]
  },
  {
   "cell_type": "code",
   "execution_count": 0,
   "metadata": {
    "application/vnd.databricks.v1+cell": {
     "cellMetadata": {
      "byteLimit": 2048000,
      "implicitDf": true,
      "rowLimit": 10000
     },
     "inputWidgets": {},
     "nuid": "1579d390-c65b-448b-a7c8-c49386d675b6",
     "showTitle": false,
     "title": ""
    }
   },
   "outputs": [
    {
     "output_type": "display_data",
     "data": {
      "text/html": [
       "<style scoped>\n",
       "  .table-result-container {\n",
       "    max-height: 300px;\n",
       "    overflow: auto;\n",
       "  }\n",
       "  table, th, td {\n",
       "    border: 1px solid black;\n",
       "    border-collapse: collapse;\n",
       "  }\n",
       "  th, td {\n",
       "    padding: 5px;\n",
       "  }\n",
       "  th {\n",
       "    text-align: left;\n",
       "  }\n",
       "</style><div class='table-result-container'><table class='table-result'><thead style='background-color: white'><tr><th>CNUC</th><th>TIPO_NOME</th><th>NOME_UC</th><th>TIPO</th><th>Bioma_predominante</th><th>UF</th><th>Area_queimada</th><th>Perc_UC</th><th>ano</th></tr></thead><tbody><tr><td>0000.00.0020</td><td>APA CARSTE DE LAGOA SANTA</td><td>AREA DE PROTECAO AMBIENTAL CARSTE DE LAGOA SANTA</td><td>APA</td><td>CERRADO</td><td>MG</td><td>162.8936726</td><td>0.43</td><td>2023</td></tr><tr><td>0000.00.0002</td><td>APA CAVERNAS DO PERUACU</td><td>AREA DE PROTECAO AMBIENTAL CAVERNAS DO PERUACU</td><td>APA</td><td>CERRADO</td><td>MG</td><td>388.4169684</td><td>0.34</td><td>2023</td></tr><tr><td>0000.00.0003</td><td>APA DA BACIA DO RIO DESCOBERTO</td><td>AREA DE PROTECAO AMBIENTAL DA BACIA DO RIO DESCOBERTO</td><td>APA</td><td>CERRADO</td><td>GO;DF</td><td>713.0488549</td><td>1.97</td><td>2023</td></tr><tr><td>0000.00.1521</td><td>APA BACIA PARAIBA DO SUL</td><td>AREA DE PROTECAO AMBIENTAL BACIA DO PARAIBA DO SUL</td><td>APA</td><td>MATA ATLANTICA</td><td>MG;RJ;SP</td><td>545.3385567</td><td>0.19</td><td>2023</td></tr><tr><td>0000.00.0004</td><td>APA DA BACIA DO RIO SAO BARTOLOMEU</td><td>AREA DE PROTECAO AMBIENTAL DA BACIA DO RIO SAO BARTOLOMEU</td><td>APA</td><td>CERRADO</td><td>DF</td><td>184.5129023</td><td>0.22</td><td>2023</td></tr><tr><td>0000.00.0005</td><td>APA DA BACIA DO RIO SAO JOAO/MICO-LEAO-DOURADO</td><td>AREA DE PROTECAO AMBIENTAL DA BACIA DO RIO SAO JOAO/MICO-LEAO-DOURADO</td><td>APA</td><td>MATA ATLANTICA</td><td>RJ</td><td>530.6036077</td><td>0.36</td><td>2023</td></tr><tr><td>0000.00.0006</td><td>APA DA BALEIA FRANCA</td><td>AREA DE PROTECAO AMBIENTAL DA BALEIA FRANCA</td><td>APA</td><td>MATA ATLANTICA</td><td>SC</td><td>106.6427139</td><td>0.07</td><td>2023</td></tr><tr><td>0000.00.0008</td><td>APA DA CHAPADA DO ARARIPE</td><td>AREA DE PROTECAO AMBIENTAL DA CHAPADA DO ARARIPE</td><td>APA</td><td>CAATINGA</td><td>PI;CE;PE</td><td>172.7711811</td><td>0.02</td><td>2023</td></tr><tr><td>0000.00.0010</td><td>APA DA REGIAO SERRANA DE PETROPOLIS</td><td>AREA DE PROTECAO AMBIENTAL DA REGIAO SERRANA DE PETROPOLIS</td><td>APA</td><td>MATA ATLANTICA</td><td>RJ</td><td>165.4501</td><td>0.34</td><td>2023</td></tr><tr><td>0000.00.0011</td><td>APA DA SERRA DA MANTIQUEIRA</td><td>AREA DE PROTECAO AMBIENTAL DA SERRA DA MANTIQUEIRA</td><td>APA</td><td>MATA ATLANTICA</td><td>MG;RJ;SP</td><td>247.6535041</td><td>0.06</td><td>2023</td></tr><tr><td>0000.00.0025</td><td>APA DAS ILHAS E VARZEAS DO RIO PARANA</td><td>AREA DE PROTECAO AMBIENTAL DAS ILHAS E VARZEAS DO RIO PARANA</td><td>APA</td><td>MATA ATLANTICA</td><td>SP;PR;MS</td><td>384.6209786</td><td>0.04</td><td>2023</td></tr><tr><td>0000.00.0028</td><td>APA DAS NASCENTES DO RIO VERMELHO</td><td>AREA DE PROTECAO AMBIENTAL DAS NASCENTES DO RIO VERMELHO</td><td>APA</td><td>CERRADO</td><td>BA;GO</td><td>1075.401662</td><td>0.62</td><td>2023</td></tr><tr><td>0000.00.0013</td><td>APA DE CAIRUCU</td><td>AREA DE PROTECAO AMBIENTAL DE CAIRUCU</td><td>APA</td><td>MATA ATLANTICA</td><td>RJ;SP</td><td>3.812422301</td><td>0.01</td><td>2023</td></tr><tr><td>0000.00.0014</td><td>APA DE CANANEIA-IGUAPE-PERUIBE</td><td>AREA DE PROTECAO AMBIENTAL DE CANANEIA-IGUAPE-PERUIBE</td><td>APA</td><td>MATA ATLANTICA</td><td>SP</td><td>2.71218249</td><td>0.0</td><td>2023</td></tr><tr><td>0000.00.0016</td><td>APA DE GUAPI-MIRIM</td><td>AREA DE PROTECAO AMBIENTAL DE GUAPI-MIRIM</td><td>APA</td><td>MATA ATLANTICA</td><td>RJ</td><td>159.6051426</td><td>1.34</td><td>2023</td></tr><tr><td>0000.00.3655</td><td>APA DO BOQUEIRAO DA ONCA</td><td>AREA DE PROTECAO AMBIENTAL DO BOQUEIRAO DA ONCA</td><td>APA</td><td>CAATINGA</td><td>BA</td><td>62.6674761</td><td>0.01</td><td>2023</td></tr><tr><td>0000.00.0021</td><td>APA DO IBIRAPUITA</td><td>AREA DE PROTECAO AMBIENTAL DO IBIRAPUITA</td><td>APA</td><td>PAMPA</td><td>RS</td><td>31.66824938</td><td>0.01</td><td>2023</td></tr><tr><td>0000.00.0023</td><td>APA DO PLANALTO CENTRAL</td><td>AREA DE PROTECAO AMBIENTAL DO PLANALTO CENTRAL</td><td>APA</td><td>CERRADO</td><td>GO;DF</td><td>9518.009136</td><td>1.96</td><td>2023</td></tr><tr><td>0000.00.0268</td><td>APA DO TAPAJOS</td><td>AREA DE PROTECAO AMBIENTAL DO TAPAJOS</td><td>APA</td><td>AMAZONIA</td><td>PA</td><td>1049.666285</td><td>0.05</td><td>2023</td></tr><tr><td>0000.00.0024</td><td>APA MEANDROS DO RIO ARAGUAIA</td><td>AREA DE PROTECAO AMBIENTAL DOS MEANDROS DO RIO ARAGUAIA</td><td>APA</td><td>CERRADO</td><td>MT;GO</td><td>59709.49648</td><td>16.62</td><td>2023</td></tr><tr><td>0000.00.0027</td><td>APA MORRO DA PEDREIRA</td><td>AREA DE PROTECAO AMBIENTAL MORRO DA PEDREIRA</td><td>APA</td><td>CERRADO</td><td>MG</td><td>250.8314845</td><td>0.25</td><td>2023</td></tr><tr><td>0000.00.0029</td><td>APA SERRA DA IBIAPABA</td><td>AREA DE PROTECAO AMBIENTAL SERRA DA IBIAPABA</td><td>APA</td><td>CAATINGA</td><td>PI;CE</td><td>10968.43504</td><td>0.68</td><td>2023</td></tr><tr><td>0000.00.0044</td><td>ARIE SERINGAL NOVA ESPERANCA</td><td>AREA DE RELEVANTE INTERESSE ECOLOGICO SERINGAL NOVA ESPERANCA</td><td>ARIE</td><td>AMAZONIA</td><td>AC</td><td>1.293673131</td><td>0.05</td><td>2023</td></tr><tr><td>0000.00.0045</td><td>ARIE SERRA DA ABELHA/RIO DA PRATA</td><td>AREA DE RELEVANTE INTERESSE ECOLOGICO SERRA DA ABELHA</td><td>ARIE</td><td>MATA ATLANTICA</td><td>SC</td><td>1.974132055</td><td>0.04</td><td>2023</td></tr><tr><td>0000.00.0075</td><td>ESEC DA SERRA DAS ARARAS</td><td>ESTACAO ECOLOGICA DA SERRA DAS ARARAS</td><td>ESEC</td><td>CERRADO</td><td>MT</td><td>1688.522689</td><td>6.22</td><td>2023</td></tr><tr><td>0000.00.0047</td><td>ESEC DA TERRA DO MEIO</td><td>ESTACAO ECOLOGICA DA TERRA DO MEIO</td><td>ESEC</td><td>AMAZONIA</td><td>PA</td><td>355.1575037</td><td>0.01</td><td>2023</td></tr><tr><td>0000.00.0048</td><td>ESEC DE AIUABA</td><td>ESTACAO ECOLOGICA DE AIUABA</td><td>ESEC</td><td>CAATINGA</td><td>CE</td><td>60.14277737</td><td>0.51</td><td>2023</td></tr><tr><td>0000.00.0053</td><td>ESEC DE CUNIA</td><td>ESTACAO ECOLOGICA DE CUNIA</td><td>ESEC</td><td>AMAZONIA</td><td>RO;AM</td><td>1043.962338</td><td>0.57</td><td>2023</td></tr><tr><td>0000.00.0065</td><td>ESEC DE URUCUI-UNA</td><td>ESTACAO ECOLOGICA DE URUCUI-UNA</td><td>ESEC</td><td>CERRADO</td><td>PI</td><td>40073.58193</td><td>29.66</td><td>2023</td></tr><tr><td>0000.00.0066</td><td>ESEC DO CASTANHAO</td><td>ESTACAO ECOLOGICA DO CASTANHAO</td><td>ESEC</td><td>CAATINGA</td><td>CE</td><td>5.099136617</td><td>0.04</td><td>2023</td></tr><tr><td>0000.00.0060</td><td>ESEC NIQUIA</td><td>ESTACAO ECOLOGICA NIQUIA</td><td>ESEC</td><td>AMAZONIA</td><td>RR</td><td>5454.284986</td><td>1.78</td><td>2023</td></tr><tr><td>0000.00.0076</td><td>ESEC SERRA GERAL DO TOCANTINS</td><td>ESTACAO ECOLOGICA SERRA GERAL DO TOCANTINS</td><td>ESEC</td><td>CERRADO</td><td>BA;TO</td><td>172718.7743</td><td>24.43</td><td>2023</td></tr><tr><td>0000.00.0128</td><td>FLONA DA MATA GRANDE</td><td>FLORESTA NACIONAL DA MATA GRANDE</td><td>FLONA</td><td>CERRADO</td><td>GO</td><td>258.7514255</td><td>12.87</td><td>2023</td></tr><tr><td>0000.00.0083</td><td>FLONA DE ALTAMIRA</td><td>FLORESTA NACIONAL DE ALTAMIRA</td><td>FLONA</td><td>AMAZONIA</td><td>PA</td><td>8300.771447</td><td>1.15</td><td>2023</td></tr><tr><td>0000.00.0085</td><td>FLONA DE BALATA-TUFARI</td><td>FLORESTA NACIONAL DE BALATA-TUFARI</td><td>FLONA</td><td>AMAZONIA</td><td>AM</td><td>592.5107666</td><td>0.06</td><td>2023</td></tr><tr><td>0000.00.0086</td><td>FLONA DE BRASILIA</td><td>FLORESTA NACIONAL DE BRASILIA</td><td>FLONA</td><td>CERRADO</td><td>DF</td><td>250.7012341</td><td>4.46</td><td>2023</td></tr><tr><td>0000.00.0089</td><td>FLONA DE CAXIUANA</td><td>FLORESTA NACIONAL DE CAXIUANA</td><td>FLONA</td><td>AMAZONIA</td><td>PA</td><td>76.65793044</td><td>0.02</td><td>2023</td></tr><tr><td>0000.00.0090</td><td>FLONA DE CRISTOPOLIS</td><td>FLORESTA NACIONAL DE CRISTOPOLIS</td><td>FLONA</td><td>CERRADO</td><td>BA</td><td>136.4019599</td><td>1.06</td><td>2023</td></tr><tr><td>0000.00.0094</td><td>FLONA DE IPANEMA</td><td>FLORESTA NACIONAL DE IPANEMA</td><td>FLONA</td><td>MATA ATLANTICA</td><td>SP</td><td>23.52974189</td><td>0.44</td><td>2023</td></tr><tr><td>0000.00.0096</td><td>FLONA DE ITAITUBA II</td><td>FLORESTA NACIONAL DE ITAITUBA II</td><td>FLONA</td><td>AMAZONIA</td><td>PA</td><td>651.7188422</td><td>0.16</td><td>2023</td></tr><tr><td>0000.00.0097</td><td>FLONA DE JACUNDA</td><td>FLORESTA NACIONAL DE JACUNDA</td><td>FLONA</td><td>AMAZONIA</td><td>RO</td><td>347.4811348</td><td>0.16</td><td>2023</td></tr><tr><td>0000.00.0106</td><td>FLONA DE RORAIMA</td><td>FLORESTA NACIONAL DE RORAIMA</td><td>FLONA</td><td>AMAZONIA</td><td>AM;RR</td><td>127.030179</td><td>0.07</td><td>2023</td></tr><tr><td>0000.00.0107</td><td>FLONA DE SANTA ROSA DO PURUS</td><td>FLORESTA NACIONAL DE SANTA ROSA DO PURUS</td><td>FLONA</td><td>AMAZONIA</td><td>AC</td><td>96.23633737</td><td>0.04</td><td>2023</td></tr><tr><td>0000.00.0109</td><td>FLONA DE SARACA-TAQUERA</td><td>FLORESTA NACIONAL DE SARACA-TAQUERA</td><td>FLONA</td><td>AMAZONIA</td><td>PA</td><td>0.695380057</td><td>0.0</td><td>2023</td></tr><tr><td>0000.00.3408</td><td>FLONA DE URUPADI</td><td>FLORESTA NACIONAL DE URUPADI</td><td>FLONA</td><td>AMAZONIA</td><td>AM</td><td>117.8031647</td><td>0.02</td><td>2023</td></tr><tr><td>0000.00.0114</td><td>FLONA DO AMAZONAS</td><td>FLORESTA NACIONAL DO AMAZONAS</td><td>FLONA</td><td>AMAZONIA</td><td>AM;RR</td><td>8.516145071</td><td>0.0</td><td>2023</td></tr><tr><td>0000.00.3409</td><td>FLONA DO ARIPUANA</td><td>FLORESTA NACIONAL DO ARIPUANA</td><td>FLONA</td><td>AMAZONIA</td><td>AM</td><td>2135.557241</td><td>0.28</td><td>2023</td></tr><tr><td>0000.00.0116</td><td>FLONA DO BOM FUTURO</td><td>FLORESTA NACIONAL DO BOM FUTURO</td><td>FLONA</td><td>AMAZONIA</td><td>RO</td><td>3652.183218</td><td>3.71</td><td>2023</td></tr><tr><td>0000.00.0270</td><td>FLONA DO CREPORI</td><td>FLORESTA NACIONAL DO CREPORI</td><td>FLONA</td><td>AMAZONIA</td><td>PA</td><td>137.3798821</td><td>0.02</td><td>2023</td></tr><tr><td>0000.00.0117</td><td>FLONA DO ITACAIUNAS</td><td>FLORESTA NACIONAL DO ITACAIUNAS</td><td>FLONA</td><td>AMAZONIA</td><td>PA</td><td>35.18142152</td><td>0.06</td><td>2023</td></tr><tr><td>0000.00.0266</td><td>FLONA DO JAMANXIM</td><td>FLORESTA NACIONAL DO JAMANXIM</td><td>FLONA</td><td>AMAZONIA</td><td>PA</td><td>2112.20021</td><td>0.16</td><td>2023</td></tr><tr><td>0000.00.0118</td><td>FLONA DO JAMARI</td><td>FLORESTA NACIONAL DO JAMARI</td><td>FLONA</td><td>AMAZONIA</td><td>RO</td><td>870.1753824</td><td>0.39</td><td>2023</td></tr><tr><td>0000.00.0119</td><td>FLONA DO JATUARANA</td><td>FLORESTA NACIONAL DO JATUARANA</td><td>FLONA</td><td>AMAZONIA</td><td>AM</td><td>44.34562534</td><td>0.01</td><td>2023</td></tr><tr><td>0000.00.0123</td><td>FLONA DO TAPAJOS</td><td>FLORESTA NACIONAL DO TAPAJOS</td><td>FLONA</td><td>AMAZONIA</td><td>PA</td><td>3194.744992</td><td>0.61</td><td>2023</td></tr><tr><td>0000.00.0265</td><td>FLONA DO TRAIRAO</td><td>FLORESTA NACIONAL DO TRAIRAO</td><td>FLONA</td><td>AMAZONIA</td><td>PA</td><td>284.1689887</td><td>0.11</td><td>2023</td></tr><tr><td>0000.00.0127</td><td>FLONA MARIO XAVIER</td><td>FLORESTA NACIONAL MARIO XAVIER</td><td>FLONA</td><td>MATA ATLANTICA</td><td>RJ</td><td>31.09627444</td><td>6.27</td><td>2023</td></tr><tr><td>0000.00.0136</td><td>PARNA DA AMAZONIA</td><td>PARQUE NACIONAL DA AMAZONIA</td><td>PARNA</td><td>AMAZONIA</td><td>AM;PA</td><td>56.1299964</td><td>0.01</td><td>2023</td></tr><tr><td>0000.00.0272</td><td>PARNA DA CHAPADA DAS MESAS</td><td>PARQUE NACIONAL DA CHAPADA DAS MESAS</td><td>PARNA</td><td>CERRADO</td><td>MA</td><td>35300.85149</td><td>22.07</td><td>2023</td></tr><tr><td>0000.00.0137</td><td>PARNA DA CHAPADA DIAMANTINA</td><td>PARQUE NACIONAL DA CHAPADA DA DIAMANTINA</td><td>PARNA</td><td>CAATINGA</td><td>BA</td><td>4110.457037</td><td>2.71</td><td>2023</td></tr><tr><td>0000.00.0138</td><td>PARNA DA CHAPADA DOS GUIMARAES</td><td>PARQUE NACIONAL DA CHAPADA DOS GUIMARAES</td><td>PARNA</td><td>CERRADO</td><td>MT</td><td>2176.79488</td><td>6.67</td><td>2023</td></tr><tr><td>0000.00.0139</td><td>PARNA DA CHAPADA DOS VEADEIROS</td><td>PARQUE NACIONAL DA CHAPADA DOS VEADEIROS</td><td>PARNA</td><td>CERRADO</td><td>GO</td><td>36092.03888</td><td>15.0</td><td>2023</td></tr><tr><td>0000.00.0262</td><td>PARNA DAS ARAUCARIAS</td><td>PARQUE NACIONAL DAS ARAUCARIAS</td><td>PARNA</td><td>MATA ATLANTICA</td><td>SC</td><td>15.33293735</td><td>0.12</td><td>2023</td></tr><tr><td>0000.00.0155</td><td>PARNA DAS EMAS</td><td>PARQUE NACIONAL DAS EMAS</td><td>PARNA</td><td>CERRADO</td><td>MS;GO</td><td>14894.93604</td><td>11.22</td><td>2023</td></tr><tr><td>0000.00.0142</td><td>PARNA DA SERRA DA BOCAINA</td><td>PARQUE NACIONAL DA SERRA DA BOCAINA</td><td>PARNA</td><td>MATA ATLANTICA</td><td>RJ;SP</td><td>292.5401894</td><td>0.27</td><td>2023</td></tr><tr><td>0000.00.0144</td><td>PARNA DA SERRA DA CANASTRA</td><td>PARQUE NACIONAL DA SERRA DA CANASTRA</td><td>PARNA</td><td>CERRADO</td><td>MG</td><td>46780.91214</td><td>23.63</td><td>2023</td></tr><tr><td>0000.00.0146</td><td>PARNA DA SERRA DAS CONFUSOES</td><td>PARQUE NACIONAL DA SERRA DAS CONFUSOES</td><td>PARNA</td><td>CAATINGA</td><td>PI</td><td>24688.54469</td><td>3.0</td><td>2023</td></tr><tr><td>0000.00.0148</td><td>PARNA DA SERRA DO CIPO</td><td>PARQUE NACIONAL DA SERRA DO CIPO</td><td>PARNA</td><td>CERRADO</td><td>MG</td><td>1304.865605</td><td>4.12</td><td>2023</td></tr><tr><td>0000.00.0149</td><td>PARNA DA SERRA DO DIVISOR</td><td>PARQUE NACIONAL DA SERRA DO DIVISOR</td><td>PARNA</td><td>AMAZONIA</td><td>AC</td><td>0.762244789</td><td>0.0</td><td>2023</td></tr><tr><td>0000.00.3136</td><td>PARNA DA SERRA DO GANDARELA</td><td>PARQUE NACIONAL DA SERRA DO GANDARELA</td><td>PARNA</td><td>MATA ATLANTICA</td><td>MG</td><td>541.6815694</td><td>1.73</td><td>2023</td></tr><tr><td>0000.00.0150</td><td>PARNA DA SERRA DO ITAJAI</td><td>PARQUE NACIONAL DA SERRA DO ITAJAI</td><td>PARNA</td><td>MATA ATLANTICA</td><td>SC</td><td>9.241054756</td><td>0.02</td><td>2023</td></tr><tr><td>0000.00.0151</td><td>PARNA DA SERRA DO PARDO</td><td>PARQUE NACIONAL DA SERRA DO PARDO</td><td>PARNA</td><td>AMAZONIA</td><td>PA</td><td>293.6330677</td><td>0.07</td><td>2023</td></tr><tr><td>0000.00.0152</td><td>PARNA DA SERRA DOS ORGAOS</td><td>PARQUE NACIONAL DA SERRA DOS ORGAOS</td><td>PARNA</td><td>MATA ATLANTICA</td><td>RJ</td><td>130.5750361</td><td>0.66</td><td>2023</td></tr><tr><td>0000.00.4581</td><td>PARNA DA SERRA DO TEIXEIRA</td><td>PARQUE NACIONAL DA SERRA DO TEIXEIRA</td><td>PARNA</td><td>CAATINGA</td><td>PB</td><td>403.636606</td><td>0.66</td><td>2023</td></tr><tr><td>0000.00.0153</td><td>PARNA DA SERRA GERAL</td><td>PARQUE NACIONAL DA SERRA GERAL</td><td>PARNA</td><td>MATA ATLANTICA</td><td>SC;RS</td><td>143.1962449</td><td>0.83</td><td>2023</td></tr><tr><td>0000.00.0156</td><td>PARNA DAS NASCENTES DO RIO PARNAIBA</td><td>PARQUE NACIONAL DAS NASCENTES DO RIO PARNAIBA</td><td>PARNA</td><td>CERRADO</td><td>MA;PI;BA</td><td>6486.107706</td><td>0.87</td><td>2023</td></tr><tr><td>0000.00.0157</td><td>PARNA DAS SEMPRE-VIVAS</td><td>PARQUE NACIONAL DAS SEMPRE-VIVAS</td><td>PARNA</td><td>CERRADO</td><td>MG</td><td>2736.208094</td><td>2.2</td><td>2023</td></tr><tr><td>0000.00.0158</td><td>PARNA DE APARADOS DA SERRA</td><td>PARQUE NACIONAL DE APARADOS DA SERRA</td><td>PARNA</td><td>MATA ATLANTICA</td><td>SC;RS</td><td>1483.810327</td><td>11.29</td><td>2023</td></tr><tr><td>0000.00.1908</td><td>PARNA DE BOA NOVA</td><td>PARQUE NACIONAL DE BOA NOVA</td><td>PARNA</td><td>MATA ATLANTICA</td><td>BA</td><td>0.001262865</td><td>0.0</td><td>2023</td></tr><tr><td>0000.00.0159</td><td>PARNA DE BRASILIA</td><td>PARQUE NACIONAL DE BRASILIA</td><td>PARNA</td><td>CERRADO</td><td>DF</td><td>1854.513468</td><td>4.38</td><td>2023</td></tr><tr><td>0000.00.0161</td><td>PARNA DE ILHA GRANDE</td><td>PARQUE NACIONAL DE ILHA GRANDE</td><td>PARNA</td><td>MATA ATLANTICA</td><td>MS;PR</td><td>17104.67275</td><td>22.47</td><td>2023</td></tr><tr><td>0000.00.0163</td><td>PARNA DE PACAAS NOVOS</td><td>PARQUE NACIONAL DE PACAAS NOVOS</td><td>PARNA</td><td>AMAZONIA</td><td>RO</td><td>8317.318637</td><td>1.18</td><td>2023</td></tr><tr><td>0000.00.0165</td><td>PARNA DE SAO JOAQUIM</td><td>PARQUE NACIONAL DE SAO JOAQUIM</td><td>PARNA</td><td>MATA ATLANTICA</td><td>SC</td><td>1322.925875</td><td>2.66</td><td>2023</td></tr><tr><td>0000.00.0166</td><td>PARNA DE SETE CIDADES</td><td>PARQUE NACIONAL DE SETE CIDADES</td><td>PARNA</td><td>CAATINGA</td><td>PI</td><td>58.21012206</td><td>0.92</td><td>2023</td></tr><tr><td>0000.00.3410</td><td>PARNA DO ACARI</td><td>PARQUE NACIONAL DO ACARI</td><td>PARNA</td><td>AMAZONIA</td><td>AM</td><td>964.3165675</td><td>0.11</td><td>2023</td></tr><tr><td>0000.00.0168</td><td>PARNA DO ARAGUAIA</td><td>PARQUE NACIONAL DO ARAGUAIA</td><td>PARNA</td><td>CERRADO</td><td>TO</td><td>155650.9251</td><td>28.02</td><td>2023</td></tr><tr><td>0000.00.0169</td><td>PARNA DO CABO ORANGE</td><td>PARQUE NACIONAL DO CABO ORANGE</td><td>PARNA</td><td>AMAZONIA</td><td>AP</td><td>32260.12546</td><td>4.91</td><td>2023</td></tr><tr><td>0000.00.0267</td><td>PARNA DO JAMANXIM</td><td>PARQUE NACIONAL DO JAMANXIM</td><td>PARNA</td><td>AMAZONIA</td><td>PA</td><td>90.61393924</td><td>0.01</td><td>2023</td></tr><tr><td>0000.00.0173</td><td>PARNA DO JAU</td><td>PARQUE NACIONAL DO JAU</td><td>PARNA</td><td>AMAZONIA</td><td>AM;RR</td><td>6.408852252</td><td>0.0</td><td>2023</td></tr><tr><td>0000.00.0281</td><td>PARNA DO JURUENA</td><td>PARQUE NACIONAL DO JURUENA</td><td>PARNA</td><td>AMAZONIA</td><td>AM;MT</td><td>906.6915674</td><td>0.05</td><td>2023</td></tr><tr><td>0000.00.0174</td><td>PARNA DO MONTE RORAIMA</td><td>PARQUE NACIONAL DO MONTE RORAIMA</td><td>PARNA</td><td>AMAZONIA</td><td>RR</td><td>1911.860935</td><td>1.64</td><td>2023</td></tr><tr><td>0000.00.0175</td><td>PARNA DO PANTANAL MATOGROSSENSE</td><td>PARQUE NACIONAL DO PANTANAL MATO-GROSSENSE</td><td>PARNA</td><td>PANTANAL</td><td>MS;MT</td><td>53291.3074</td><td>39.21</td><td>2023</td></tr><tr><td>0000.00.0177</td><td>PARNA DO PICO DA NEBLINA</td><td>PARQUE NACIONAL DO PICO DA NEBLINA</td><td>PARNA</td><td>AMAZONIA</td><td>AM</td><td>630.5932805</td><td>0.03</td><td>2023</td></tr><tr><td>0000.00.0264</td><td>PARNA DO RIO NOVO</td><td>PARQUE NACIONAL DO RIO NOVO</td><td>PARNA</td><td>AMAZONIA</td><td>PA</td><td>263.8657508</td><td>0.05</td><td>2023</td></tr><tr><td>0000.00.0284</td><td>PARNA DOS CAMPOS AMAZONICOS</td><td>PARQUE NACIONAL DOS CAMPOS AMAZONICOS</td><td>PARNA</td><td>AMAZONIA</td><td>RO;MT;AM</td><td>22672.8483</td><td>2.36</td><td>2023</td></tr><tr><td>0000.00.3519</td><td>PARNA DOS CAMPOS FERRUGINOSOS</td><td>PARQUE NACIONAL DOS CAMPOS FERRUGINOSOS</td><td>PARNA</td><td>AMAZONIA</td><td>PA</td><td>52.55272167</td><td>0.07</td><td>2023</td></tr><tr><td>0000.00.0180</td><td>PARNA DOS LENCOIS MARANHENSES</td><td>PARQUE NACIONAL DOS LENCOIS MARANHENSES</td><td>PARNA</td><td>CERRADO</td><td>MA</td><td>2.011534696</td><td>0.0</td><td>2023</td></tr><tr><td>0000.00.0179</td><td>PARNA DO VIRUA</td><td>PARQUE NACIONAL DO VIRUA</td><td>PARNA</td><td>AMAZONIA</td><td>RR</td><td>18231.61393</td><td>6.49</td><td>2023</td></tr><tr><td>0000.00.0182</td><td>PARNA E HISTORICO DO MONTE PASCOAL</td><td>PARQUE NACIONAL E HISTORICO DO MONTE PASCOAL</td><td>PARNA</td><td>MATA ATLANTICA</td><td>BA</td><td>1670.459979</td><td>7.51</td><td>2023</td></tr><tr><td>0000.00.0183</td><td>PARNA GRANDE SERTAO VEREDAS</td><td>PARQUE NACIONAL GRANDE SERTAO VEREDAS</td><td>PARNA</td><td>CERRADO</td><td>BA;MG</td><td>3045.391332</td><td>1.32</td><td>2023</td></tr><tr><td>0000.00.1633</td><td>PARNA MAPINGUARI</td><td>PARQUE NACIONAL MAPINGUARI</td><td>PARNA</td><td>AMAZONIA</td><td>AM;RO</td><td>533.8254008</td><td>0.03</td><td>2023</td></tr><tr><td>0000.00.0192</td><td>REBIO DA CONTAGEM</td><td>RESERVA BIOLOGICA DA CONTAGEM</td><td>REBIO</td><td>CERRADO</td><td>DF</td><td>257.7409307</td><td>7.55</td><td>2023</td></tr><tr><td>0000.00.0193</td><td>REBIO DA MATA ESCURA</td><td>RESERVA BIOLOGICA DA MATA ESCURA</td><td>REBIO</td><td>MATA ATLANTICA</td><td>MG</td><td>241.406316</td><td>0.47</td><td>2023</td></tr><tr><td>0000.00.0197</td><td>REBIO DE PEDRA TALHADA</td><td>RESERVA BIOLOGICA DE PEDRA TALHADA</td><td>REBIO</td><td>MATA ATLANTICA</td><td>PE;AL</td><td>8.052970062</td><td>0.18</td><td>2023</td></tr><tr><td>0000.00.0215</td><td>REBIO DE POCO DAS ANTAS</td><td>RESERVA BIOLOGICA DE POCO DAS ANTAS</td><td>REBIO</td><td>MATA ATLANTICA</td><td>RJ</td><td>361.4435855</td><td>7.15</td><td>2023</td></tr><tr><td>0000.00.0206</td><td>REBIO DO GUAPORE</td><td>RESERVA BIOLOGICA DO GUAPORE</td><td>REBIO</td><td>AMAZONIA</td><td>RO</td><td>30566.40184</td><td>4.96</td><td>2023</td></tr><tr><td>0000.00.0207</td><td>REBIO DO GURUPI</td><td>RESERVA BIOLOGICA DO GURUPI</td><td>REBIO</td><td>AMAZONIA</td><td>MA</td><td>227.6495309</td><td>0.08</td><td>2023</td></tr><tr><td>0000.00.0208</td><td>REBIO DO JARU</td><td>RESERVA BIOLOGICA DO JARU</td><td>REBIO</td><td>AMAZONIA</td><td>RO</td><td>248.9392602</td><td>0.07</td><td>2023</td></tr><tr><td>0000.00.0209</td><td>REBIO DO LAGO PIRATUBA</td><td>RESERVA BIOLOGICA DO LAGO PIRATUBA</td><td>REBIO</td><td>AMAZONIA</td><td>AP</td><td>14866.61399</td><td>3.79</td><td>2023</td></tr><tr><td>0000.00.3411</td><td>REBIO DO MANICORE</td><td>RESERVA BIOLOGICA DO MANICORE</td><td>REBIO</td><td>AMAZONIA</td><td>AM</td><td>115.899929</td><td>0.03</td><td>2023</td></tr><tr><td>0000.00.0210</td><td>REBIO DO RIO TROMBETAS</td><td>RESERVA BIOLOGICA DO RIO TROMBETAS</td><td>REBIO</td><td>AMAZONIA</td><td>PA</td><td>1457.063742</td><td>0.36</td><td>2023</td></tr><tr><td>0000.00.0212</td><td>REBIO DO TINGUA</td><td>RESERVA BIOLOGICA DO TINGUA</td><td>REBIO</td><td>MATA ATLANTICA</td><td>RJ</td><td>12.819554</td><td>0.05</td><td>2023</td></tr><tr><td>0000.00.0216</td><td>REBIO NASCENTES DA SERRA DO CACHIMBO</td><td>RESERVA BIOLOGICA NASCENTES DA SERRA DO CACHIMBO</td><td>REBIO</td><td>AMAZONIA</td><td>PA</td><td>15076.61752</td><td>4.41</td><td>2023</td></tr><tr><td>0000.00.1563</td><td>RESEX ACAU GOIANA</td><td>RESERVA EXTRATIVISTA ACAU-GOIANA</td><td>RESEX</td><td>MATA ATLANTICA</td><td>PB;PE</td><td>5.441303445</td><td>0.08</td><td>2023</td></tr><tr><td>0000.00.0285</td><td>RESEX ARAPIXI</td><td>RESERVA EXTRATIVISTA ARAPIXI</td><td>RESEX</td><td>AMAZONIA</td><td>AM</td><td>16.77752489</td><td>0.01</td><td>2023</td></tr><tr><td>0000.00.1564</td><td>RESEX CHAPADA LIMPA</td><td>RESERVA EXTRATIVISTA CHAPADA LIMPA</td><td>RESEX</td><td>CERRADO</td><td>MA</td><td>449.4512589</td><td>3.75</td><td>2023</td></tr><tr><td>0000.00.0226</td><td>RESEX DA MATA GRANDE</td><td>RESERVA EXTRATIVISTA MATA GRANDE</td><td>RESEX</td><td>CERRADO</td><td>MA</td><td>70.35686437</td><td>0.62</td><td>2023</td></tr><tr><td>0000.00.0253</td><td>RESEX DE CANAVIEIRAS</td><td>RESERVA EXTRATIVISTA DE CANAVIEIRAS</td><td>RESEX</td><td>MATA ATLANTICA</td><td>BA</td><td>39.42808491</td><td>0.04</td><td>2023</td></tr><tr><td>0000.00.1808</td><td>RESEX DE CASSURUBA</td><td>RESERVA EXTRATIVISTA DE CASSURUBA</td><td>RESEX</td><td>MATA ATLANTICA</td><td>BA</td><td>542.6315077</td><td>0.54</td><td>2023</td></tr><tr><td>0000.00.0286</td><td>RESEX DE RECANTO DAS ARARAS DE TERRA RONCA</td><td>RESERVA EXTRATIVISTA DE RECANTO DAS ARARAS DE TERRA RONCA</td><td>RESEX</td><td>CERRADO</td><td>GO</td><td>657.0441604</td><td>5.32</td><td>2023</td></tr><tr><td>0000.00.1517</td><td>RESEX DO ALTO JURUA</td><td>RESERVA EXTRATIVISTA DO ALTO JURUA</td><td>RESEX</td><td>AMAZONIA</td><td>AC</td><td>3.908764913</td><td>0.0</td><td>2023</td></tr><tr><td>0000.00.0232</td><td>RESEX DO CAZUMBA-IRACEMA</td><td>RESERVA EXTRATIVISTA DO CAZUMBA-IRACEMA</td><td>RESEX</td><td>AMAZONIA</td><td>AC</td><td>34.83638713</td><td>0.0</td><td>2023</td></tr><tr><td>0000.00.0256</td><td>RESEX DO RIO OURO PRETO</td><td>RESERVA EXTRATIVISTA DO RIO OURO PRETO</td><td>RESEX</td><td>AMAZONIA</td><td>RO</td><td>29.77001522</td><td>0.01</td><td>2023</td></tr><tr><td>0000.00.0245</td><td>RESEX MARINHA DA BAIA DO IGUAPE</td><td>RESERVA EXTRATIVISTA MARINHA DA BAIA DO IGUAPE</td><td>RESEX</td><td>MATA ATLANTICA</td><td>BA</td><td>1.935960328</td><td>0.02</td><td>2023</td></tr><tr><td>0000.00.0283</td><td>RESEX RIO UNINI</td><td>RESERVA EXTRATIVISTA RIO UNINI</td><td>RESEX</td><td>AMAZONIA</td><td>AM</td><td>0.040187666</td><td>0.0</td><td>2023</td></tr><tr><td>0000.00.1635</td><td>RESEX RIO XINGU</td><td>RESERVA EXTRATIVISTA RIO XINGU</td><td>RESEX</td><td>AMAZONIA</td><td>PA</td><td>23.67247956</td><td>0.01</td><td>2023</td></tr><tr><td>0000.00.0257</td><td>RESEX RIOZINHO DA LIBERDADE</td><td>RESERVA EXTRATIVISTA RIOZINHO DA LIBERDADE</td><td>RESEX</td><td>AMAZONIA</td><td>AC;AM</td><td>2.252330327</td><td>0.0</td><td>2023</td></tr><tr><td>0000.00.0259</td><td>RESEX TAPAJOS-ARAPIUNS</td><td>RESERVA EXTRATIVISTA TAPAJOS-ARAPIUNS</td><td>RESEX</td><td>AMAZONIA</td><td>PA</td><td>1246.117478</td><td>0.18</td><td>2023</td></tr><tr><td>0000.00.0260</td><td>RESEX VERDE PARA SEMPRE</td><td>RESERVA EXTRATIVISTA VERDE PARA SEMPRE</td><td>RESEX</td><td>AMAZONIA</td><td>PA</td><td>11050.26893</td><td>0.86</td><td>2023</td></tr><tr><td>0000.00.0219</td><td>REVIS DAS VEREDAS DO OESTE BAIANO</td><td>REFUGIO DE VIDA SILVESTRE DAS VEREDAS DO OESTE BAIANO</td><td>REVIS</td><td>CERRADO</td><td>BA</td><td>4891.439374</td><td>3.82</td><td>2023</td></tr><tr><td>0000.00.1907</td><td>REVIS DE BOA NOVA</td><td>REFUGIO DE VIDA SILVESTRE DE BOA NOVA</td><td>REVIS</td><td>MATA ATLANTICA</td><td>BA</td><td>21.39650747</td><td>0.14</td><td>2023</td></tr><tr><td>0000.00.1880</td><td>REVIS DE UNA</td><td>REFUGIO DE VIDA SILVESTRE DE UNA</td><td>REVIS</td><td>MATA ATLANTICA</td><td>BA</td><td>102.5190153</td><td>0.44</td><td>2023</td></tr><tr><td>0000.00.0278</td><td>REVIS DOS CAMPOS DE PALMAS</td><td>REFUGIO DE VIDA SILVESTRE DOS CAMPOS DE PALMAS</td><td>REVIS</td><td>MATA ATLANTICA</td><td>PR;SC</td><td>2485.281266</td><td>14.98</td><td>2023</td></tr><tr><td>0000.00.0002</td><td>APA CAVERNAS DO PERUACU</td><td>AREA DE PROTECAO AMBIENTAL CAVERNAS DO PERUACU</td><td>APA</td><td>CERRADO</td><td>MG</td><td>640.7274810021117</td><td>0.45</td><td>2022</td></tr><tr><td>0000.00.0003</td><td>APA DA BACIA DO RIO DESCOBERTO</td><td>AREA DE PROTECAO AMBIENTAL DA BACIA DO RIO DESCOBERTO</td><td>APA</td><td>CERRADO</td><td>GO;DF</td><td>2250.455588210946</td><td>5.39</td><td>2022</td></tr><tr><td>0000.00.1521</td><td>APA BACIA PARAIBA DO SUL</td><td>AREA DE PROTECAO AMBIENTAL BACIA DO PARAIBA DO SUL</td><td>APA</td><td>MATA ATLANTICA</td><td>MG;RJ;SP</td><td>647.0417257656574</td><td>0.22</td><td>2022</td></tr><tr><td>0000.00.0004</td><td>APA DA BACIA DO RIO SAO BARTOLOMEU</td><td>AREA DE PROTECAO AMBIENTAL DA BACIA DO RIO SAO BARTOLOMEU</td><td>APA</td><td>CERRADO</td><td>DF</td><td>557.2478398057513</td><td>0.67</td><td>2022</td></tr><tr><td>0000.00.0005</td><td>APA DA BACIA DO RIO SAO JOAO/MICO-LEAO-DOURADO</td><td>AREA DE PROTECAO AMBIENTAL DA BACIA DO RIO SAO JOAO/MICO-LEAO-DOURADO</td><td>APA</td><td>MATA ATLANTICA</td><td>RJ</td><td>148.5636849584413</td><td>0.1</td><td>2022</td></tr><tr><td>0000.00.0006</td><td>APA DA BALEIA FRANCA</td><td>AREA DE PROTECAO AMBIENTAL DA BALEIA FRANCA</td><td>APA</td><td>MATA ATLANTICA</td><td>SC</td><td>2.718304151692986</td><td>0.0</td><td>2022</td></tr><tr><td>0000.00.0008</td><td>APA DA CHAPADA DO ARARIPE</td><td>AREA DE PROTECAO AMBIENTAL DA CHAPADA DO ARARIPE</td><td>APA</td><td>CAATINGA</td><td>PI;CE;PE</td><td>0.5936993665357935</td><td>0.0</td><td>2022</td></tr><tr><td>0000.00.0010</td><td>APA DA REGIAO SERRANA DE PETROPOLIS</td><td>AREA DE PROTECAO AMBIENTAL DA REGIAO SERRANA DE PETROPOLIS</td><td>APA</td><td>MATA ATLANTICA</td><td>RJ</td><td>236.8810286742184</td><td>0.35</td><td>2022</td></tr><tr><td>0000.00.0011</td><td>APA DA SERRA DA MANTIQUEIRA</td><td>AREA DE PROTECAO AMBIENTAL DA SERRA DA MANTIQUEIRA</td><td>APA</td><td>MATA ATLANTICA</td><td>MG;RJ;SP</td><td>60.62824790369197</td><td>0.01</td><td>2022</td></tr><tr><td>0000.00.0025</td><td>APA DAS ILHAS E VARZEAS DO RIO PARANA</td><td>AREA DE PROTECAO AMBIENTAL DAS ILHAS E VARZEAS DO RIO PARANA</td><td>APA</td><td>MATA ATLANTICA</td><td>SP;PR;MS</td><td>1544.166238982511</td><td>0.15</td><td>2022</td></tr><tr><td>0000.00.0028</td><td>APA DAS NASCENTES DO RIO VERMELHO</td><td>AREA DE PROTECAO AMBIENTAL DAS NASCENTES DO RIO VERMELHO</td><td>APA</td><td>CERRADO</td><td>BA;GO</td><td>13652.24067096924</td><td>7.74</td><td>2022</td></tr><tr><td>0000.00.0019</td><td>APA DELTA DO PARNAIBA</td><td>AREA DE PROTECAO AMBIENTAL DELTA DO PARNAIBA</td><td>APA</td><td>CERRADO</td><td>MA;PI;CE</td><td>154.9667068602534</td><td>0.05</td><td>2022</td></tr><tr><td>0000.00.3655</td><td>APA DO BOQUEIRAO DA ONCA</td><td>AREA DE PROTECAO AMBIENTAL DO BOQUEIRAO DA ONCA</td><td>APA</td><td>CAATINGA</td><td>BA</td><td>1684.480470657638</td><td>0.33</td><td>2022</td></tr><tr><td>0000.00.0021</td><td>APA DO IBIRAPUITA</td><td>AREA DE PROTECAO AMBIENTAL DO IBIRAPUITA</td><td>APA</td><td>PAMPA</td><td>RS</td><td>3316.898246227431</td><td>1.05</td><td>2022</td></tr><tr><td>0000.00.0023</td><td>APA DO PLANALTO CENTRAL</td><td>AREA DE PROTECAO AMBIENTAL DO PLANALTO CENTRAL</td><td>APA</td><td>CERRADO</td><td>GO;DF</td><td>19507.94366517364</td><td>3.88</td><td>2022</td></tr><tr><td>0000.00.0024</td><td>APA MEANDROS DO RIO ARAGUAIA</td><td>AREA DE PROTECAO AMBIENTAL DOS MEANDROS DO RIO ARAGUAIA</td><td>APA</td><td>CERRADO</td><td>MT;GO</td><td>35269.48189254802</td><td>9.82</td><td>2022</td></tr><tr><td>0000.00.0027</td><td>APA MORRO DA PEDREIRA</td><td>AREA DE PROTECAO AMBIENTAL MORRO DA PEDREIRA</td><td>APA</td><td>CERRADO</td><td>MG</td><td>4977.367832354927</td><td>3.78</td><td>2022</td></tr><tr><td>0000.00.0029</td><td>APA SERRA DA IBIAPABA</td><td>AREA DE PROTECAO AMBIENTAL SERRA DA IBIAPABA</td><td>APA</td><td>CAATINGA</td><td>PI;CE</td><td>5102.337456956082</td><td>0.31</td><td>2022</td></tr><tr><td>0000.00.0012</td><td>APA SERRA DA TABATINGA</td><td>AREA DE PROTECAO AMBIENTAL SERRA DA TABATINGA</td><td>APA</td><td>CERRADO</td><td>MA;PI</td><td>72.52369509742857</td><td>0.17</td><td>2022</td></tr><tr><td>0000.00.0261</td><td>ESEC DA MATA PRETA</td><td>ESTACAO ECOLOGICA DA MATA PRETA</td><td>ESEC</td><td>MATA ATLANTICA</td><td>PR;SC</td><td>8.416584326437116</td><td>0.13</td><td>2022</td></tr><tr><td>0000.00.0075</td><td>ESEC DA SERRA DAS ARARAS</td><td>ESTACAO ECOLOGICA DA SERRA DAS ARARAS</td><td>ESEC</td><td>CERRADO</td><td>MT</td><td>844.2002399366688</td><td>3.11</td><td>2022</td></tr><tr><td>0000.00.0047</td><td>ESEC DA TERRA DO MEIO</td><td>ESTACAO ECOLOGICA DA TERRA DO MEIO</td><td>ESEC</td><td>AMAZONIA</td><td>PA</td><td>2941.719043101591</td><td>0.09</td><td>2022</td></tr><tr><td>0000.00.0053</td><td>ESEC DE CUNIA</td><td>ESTACAO ECOLOGICA DE CUNIA</td><td>ESEC</td><td>AMAZONIA</td><td>RO;AM</td><td>5145.325183476571</td><td>2.78</td><td>2022</td></tr><tr><td>0000.00.0065</td><td>ESEC DE URUCUI-UNA</td><td>ESTACAO ECOLOGICA DE URUCUI-UNA</td><td>ESEC</td><td>CERRADO</td><td>PI</td><td>40106.75417382266</td><td>29.68</td><td>2022</td></tr><tr><td>0000.00.0070</td><td>ESEC DO TAIM</td><td>ESTACAO ECOLOGICA DO TAIM</td><td>ESEC</td><td>PAMPA</td><td>RS</td><td>12096.25177966871</td><td>36.87</td><td>2022</td></tr><tr><td>0000.00.0076</td><td>ESEC SERRA GERAL DO TOCANTINS</td><td>ESTACAO ECOLOGICA SERRA GERAL DO TOCANTINS</td><td>ESEC</td><td>CERRADO</td><td>BA;TO</td><td>297816.7325890216</td><td>42.12</td><td>2022</td></tr><tr><td>0000.00.0086</td><td>FLONA DE BRASILIA</td><td>FLORESTA NACIONAL DE BRASILIA</td><td>FLONA</td><td>CERRADO</td><td>DF</td><td>2079.699321929818</td><td>22.28</td><td>2022</td></tr><tr><td>0000.00.0092</td><td>FLONA DE HUMAITA</td><td>FLORESTA NACIONAL DE HUMAITA</td><td>FLONA</td><td>AMAZONIA</td><td>AM</td><td>8.873351652006805</td><td>0.0</td><td>2022</td></tr><tr><td>0000.00.0097</td><td>FLONA DE JACUNDA</td><td>FLORESTA NACIONAL DE JACUNDA</td><td>FLONA</td><td>AMAZONIA</td><td>RO</td><td>126.3545094204835</td><td>0.06</td><td>2022</td></tr><tr><td>0000.00.0106</td><td>FLONA DE RORAIMA</td><td>FLORESTA NACIONAL DE RORAIMA</td><td>FLONA</td><td>AMAZONIA</td><td>AM;RR</td><td>52.70952430777503</td><td>0.03</td><td>2022</td></tr><tr><td>0000.00.0133</td><td>FLONA DE SAO FRANCISCO DE PAULA</td><td>FLORESTA NACIONAL DE SAO FRANCISCO DE PAULA</td><td>FLONA</td><td>MATA ATLANTICA</td><td>RS</td><td>2.537837538</td><td>0.16</td><td>2022</td></tr><tr><td>0000.00.0110</td><td>FLONA DE SILVANIA</td><td>FLORESTA NACIONAL DE SILVANIA</td><td>FLONA</td><td>CERRADO</td><td>GO</td><td>17.73353832064867</td><td>3.64</td><td>2022</td></tr><tr><td>0000.00.3409</td><td>FLONA DO ARIPUANA</td><td>FLORESTA NACIONAL DO ARIPUANA</td><td>FLONA</td><td>AMAZONIA</td><td>AM</td><td>1620.482895813206</td><td>0.22</td><td>2022</td></tr><tr><td>0000.00.0116</td><td>FLONA DO BOM FUTURO</td><td>FLORESTA NACIONAL DO BOM FUTURO</td><td>FLONA</td><td>AMAZONIA</td><td>RO</td><td>4435.065891</td><td>4.43</td><td>2022</td></tr><tr><td>0000.00.1612</td><td>FLONA DO IQUIRI</td><td>FLORESTA NACIONAL DO IQUIRI</td><td>FLONA</td><td>AMAZONIA</td><td>AM</td><td>336.5506083024353</td><td>0.02</td><td>2022</td></tr><tr><td>0000.00.0117</td><td>FLONA DO ITACAIUNAS</td><td>FLORESTA NACIONAL DO ITACAIUNAS</td><td>FLONA</td><td>AMAZONIA</td><td>PA</td><td>288.6692621531263</td><td>0.21</td><td>2022</td></tr><tr><td>0000.00.0266</td><td>FLONA DO JAMANXIM</td><td>FLORESTA NACIONAL DO JAMANXIM</td><td>FLONA</td><td>AMAZONIA</td><td>PA</td><td>42494.14533639582</td><td>3.26</td><td>2022</td></tr><tr><td>0000.00.0123</td><td>FLONA DO TAPAJOS</td><td>FLORESTA NACIONAL DO TAPAJOS</td><td>FLONA</td><td>AMAZONIA</td><td>PA</td><td>39.5520336</td><td>0.01</td><td>2022</td></tr><tr><td>0000.00.0136</td><td>PARNA DA AMAZONIA</td><td>PARQUE NACIONAL DA AMAZONIA</td><td>PARNA</td><td>AMAZONIA</td><td>AM;PA</td><td>1.811500137823448</td><td>0.0</td><td>2022</td></tr><tr><td>0000.00.0272</td><td>PARNA DA CHAPADA DAS MESAS</td><td>PARQUE NACIONAL DA CHAPADA DAS MESAS</td><td>PARNA</td><td>CERRADO</td><td>MA</td><td>63967.66737698494</td><td>39.99</td><td>2022</td></tr><tr><td>0000.00.0137</td><td>PARNA DA CHAPADA DIAMANTINA</td><td>PARQUE NACIONAL DA CHAPADA DA DIAMANTINA</td><td>PARNA</td><td>CAATINGA</td><td>BA</td><td>1265.470384</td><td>0.83</td><td>2022</td></tr><tr><td>0000.00.0138</td><td>PARNA DA CHAPADA DOS GUIMARAES</td><td>PARQUE NACIONAL DA CHAPADA DOS GUIMARAES</td><td>PARNA</td><td>CERRADO</td><td>MT</td><td>1930.715125479591</td><td>5.91</td><td>2022</td></tr><tr><td>0000.00.0139</td><td>PARNA DA CHAPADA DOS VEADEIROS</td><td>PARQUE NACIONAL DA CHAPADA DOS VEADEIROS</td><td>PARNA</td><td>CERRADO</td><td>GO</td><td>64619.17947</td><td>26.86</td><td>2022</td></tr><tr><td>0000.00.0155</td><td>PARNA DAS EMAS</td><td>PARQUE NACIONAL DAS EMAS</td><td>PARNA</td><td>CERRADO</td><td>MS;GO</td><td>14817.34939142367</td><td>11.16</td><td>2022</td></tr><tr><td>0000.00.0142</td><td>PARNA DA SERRA DA BOCAINA</td><td>PARQUE NACIONAL DA SERRA DA BOCAINA</td><td>PARNA</td><td>MATA ATLANTICA</td><td>RJ;SP</td><td>629.8043081480131</td><td>0.59</td><td>2022</td></tr><tr><td>0000.00.0143</td><td>PARNA DA SERRA DA BODOQUENA</td><td>PARQUE NACIONAL DA SERRA DA BODOQUENA</td><td>PARNA</td><td>CERRADO</td><td>MS</td><td>6.233298369152844</td><td>0.01</td><td>2022</td></tr><tr><td>0000.00.0144</td><td>PARNA DA SERRA DA CANASTRA</td><td>PARQUE NACIONAL DA SERRA DA CANASTRA</td><td>PARNA</td><td>CERRADO</td><td>MG</td><td>54959.17582680356</td><td>27.76</td><td>2022</td></tr><tr><td>0000.00.0145</td><td>PARNA DA SERRA DA CAPIVARA</td><td>PARQUE NACIONAL DA SERRA DA CAPIVARA</td><td>PARNA</td><td>CAATINGA</td><td>PI</td><td>41.53382271510213</td><td>0.04</td><td>2022</td></tr><tr><td>0000.00.0146</td><td>PARNA DA SERRA DAS CONFUSOES</td><td>PARQUE NACIONAL DA SERRA DAS CONFUSOES</td><td>PARNA</td><td>CAATINGA</td><td>PI</td><td>16301.52033857773</td><td>1.98</td><td>2022</td></tr><tr><td>0000.00.0148</td><td>PARNA DA SERRA DO CIPO</td><td>PARQUE NACIONAL DA SERRA DO CIPO</td><td>PARNA</td><td>CERRADO</td><td>MG</td><td>761.6145298466521</td><td>2.41</td><td>2022</td></tr><tr><td>0000.00.3136</td><td>PARNA DA SERRA DO GANDARELA</td><td>PARQUE NACIONAL DA SERRA DO GANDARELA</td><td>PARNA</td><td>MATA ATLANTICA</td><td>MG</td><td>2072.176226934783</td><td>6.63</td><td>2022</td></tr><tr><td>0000.00.0150</td><td>PARNA DA SERRA DO ITAJAI</td><td>PARQUE NACIONAL DA SERRA DO ITAJAI</td><td>PARNA</td><td>MATA ATLANTICA</td><td>SC</td><td>4.420108963432908</td><td>0.01</td><td>2022</td></tr><tr><td>0000.00.0151</td><td>PARNA DA SERRA DO PARDO</td><td>PARQUE NACIONAL DA SERRA DO PARDO</td><td>PARNA</td><td>AMAZONIA</td><td>PA</td><td>196.6176889859368</td><td>0.04</td><td>2022</td></tr><tr><td>0000.00.0152</td><td>PARNA DA SERRA DOS ORGAOS</td><td>PARQUE NACIONAL DA SERRA DOS ORGAOS</td><td>PARNA</td><td>MATA ATLANTICA</td><td>RJ</td><td>34.87399727248093</td><td>0.17</td><td>2022</td></tr><tr><td>0000.00.0153</td><td>PARNA DA SERRA GERAL</td><td>PARQUE NACIONAL DA SERRA GERAL</td><td>PARNA</td><td>MATA ATLANTICA</td><td>SC;RS</td><td>640.6834141016363</td><td>3.7</td><td>2022</td></tr><tr><td>0000.00.0156</td><td>PARNA DAS NASCENTES DO RIO PARNAIBA</td><td>PARQUE NACIONAL DAS NASCENTES DO RIO PARNAIBA</td><td>PARNA</td><td>CERRADO</td><td>MA;PI;BA</td><td>165651.8899353112</td><td>22.09</td><td>2022</td></tr><tr><td>0000.00.0157</td><td>PARNA DAS SEMPRE-VIVAS</td><td>PARQUE NACIONAL DAS SEMPRE-VIVAS</td><td>PARNA</td><td>CERRADO</td><td>MG</td><td>5366.887257507798</td><td>4.32</td><td>2022</td></tr><tr><td>0000.00.0158</td><td>PARNA DE APARADOS DA SERRA</td><td>PARQUE NACIONAL DE APARADOS DA SERRA</td><td>PARNA</td><td>MATA ATLANTICA</td><td>SC;RS</td><td>189.4068718466341</td><td>1.44</td><td>2022</td></tr><tr><td>0000.00.0159</td><td>PARNA DE BRASILIA</td><td>PARQUE NACIONAL DE BRASILIA</td><td>PARNA</td><td>CERRADO</td><td>DF</td><td>14675.94216165505</td><td>34.65</td><td>2022</td></tr><tr><td>0000.00.0184</td><td>PARNA DE ITATIAIA</td><td>PARQUE NACIONAL DE ITATIAIA</td><td>PARNA</td><td>MATA ATLANTICA</td><td>MG;RJ</td><td>147.0500073732611</td><td>0.52</td><td>2022</td></tr><tr><td>0000.00.0163</td><td>PARNA DE PACAAS NOVOS</td><td>PARQUE NACIONAL DE PACAAS NOVOS</td><td>PARNA</td><td>AMAZONIA</td><td>RO</td><td>10495.51191143831</td><td>1.48</td><td>2022</td></tr><tr><td>0000.00.0165</td><td>PARNA DE SAO JOAQUIM</td><td>PARQUE NACIONAL DE SAO JOAQUIM</td><td>PARNA</td><td>MATA ATLANTICA</td><td>SC</td><td>3372.458948027535</td><td>6.79</td><td>2022</td></tr><tr><td>0000.00.0168</td><td>PARNA DO ARAGUAIA</td><td>PARQUE NACIONAL DO ARAGUAIA</td><td>PARNA</td><td>CERRADO</td><td>TO</td><td>203292.5169332762</td><td>36.59</td><td>2022</td></tr><tr><td>0000.00.3652</td><td>PARNA DO BOQUEIRAO DA ONCA</td><td>PARQUE NACIONAL DO BOQUEIRAO DA ONCA</td><td>PARNA</td><td>CAATINGA</td><td>BA</td><td>635.7956299365637</td><td>0.18</td><td>2022</td></tr><tr><td>0000.00.0267</td><td>PARNA DO JAMANXIM</td><td>PARQUE NACIONAL DO JAMANXIM</td><td>PARNA</td><td>AMAZONIA</td><td>PA</td><td>2043.600403344188</td><td>0.24</td><td>2022</td></tr><tr><td>0000.00.0173</td><td>PARNA DO JAU</td><td>PARQUE NACIONAL DO JAU</td><td>PARNA</td><td>AMAZONIA</td><td>AM;RR</td><td>267.0671896980685</td><td>0.01</td><td>2022</td></tr><tr><td>0000.00.0281</td><td>PARNA DO JURUENA</td><td>PARQUE NACIONAL DO JURUENA</td><td>PARNA</td><td>AMAZONIA</td><td>AM;MT</td><td>883.2536552235869</td><td>0.05</td><td>2022</td></tr><tr><td>0000.00.0174</td><td>PARNA DO MONTE RORAIMA</td><td>PARQUE NACIONAL DO MONTE RORAIMA</td><td>PARNA</td><td>AMAZONIA</td><td>RR</td><td>0.8462349161542952</td><td>0.0</td><td>2022</td></tr><tr><td>0000.00.0175</td><td>PARNA DO PANTANAL MATOGROSSENSE</td><td>PARQUE NACIONAL DO PANTANAL MATO-GROSSENSE</td><td>PARNA</td><td>PANTANAL</td><td>MS;MT</td><td>18146.25257293748</td><td>13.35</td><td>2022</td></tr><tr><td>0000.00.0264</td><td>PARNA DO RIO NOVO</td><td>PARQUE NACIONAL DO RIO NOVO</td><td>PARNA</td><td>AMAZONIA</td><td>PA</td><td>1463.916343881122</td><td>0.27</td><td>2022</td></tr><tr><td>0000.00.0284</td><td>PARNA DOS CAMPOS AMAZONICOS</td><td>PARQUE NACIONAL DOS CAMPOS AMAZONICOS</td><td>PARNA</td><td>AMAZONIA</td><td>RO;MT;AM</td><td>25060.84610845047</td><td>2.61</td><td>2022</td></tr><tr><td>0000.00.3519</td><td>PARNA DOS CAMPOS FERRUGINOSOS</td><td>PARQUE NACIONAL DOS CAMPOS FERRUGINOSOS</td><td>PARNA</td><td>AMAZONIA</td><td>PA</td><td>2540.298912977985</td><td>3.21</td><td>2022</td></tr><tr><td>0000.00.0182</td><td>PARNA E HISTORICO DO MONTE PASCOAL</td><td>PARQUE NACIONAL E HISTORICO DO MONTE PASCOAL</td><td>PARNA</td><td>MATA ATLANTICA</td><td>BA</td><td>110.4524873893149</td><td>0.5</td><td>2022</td></tr><tr><td>0000.00.0183</td><td>PARNA GRANDE SERTAO VEREDAS</td><td>PARQUE NACIONAL GRANDE SERTAO VEREDAS</td><td>PARNA</td><td>CERRADO</td><td>BA;MG</td><td>6289.629999699486</td><td>2.72</td><td>2022</td></tr><tr><td>0000.00.1633</td><td>PARNA MAPINGUARI</td><td>PARQUE NACIONAL MAPINGUARI</td><td>PARNA</td><td>AMAZONIA</td><td>AM;RO</td><td>2876.322747</td><td>0.16</td><td>2022</td></tr><tr><td>0000.00.0192</td><td>REBIO DA CONTAGEM</td><td>RESERVA BIOLOGICA DA CONTAGEM</td><td>REBIO</td><td>CERRADO</td><td>DF</td><td>165.0701209690593</td><td>4.84</td><td>2022</td></tr><tr><td>0000.00.0193</td><td>REBIO DA MATA ESCURA</td><td>RESERVA BIOLOGICA DA MATA ESCURA</td><td>REBIO</td><td>MATA ATLANTICA</td><td>MG</td><td>191.7619821159042</td><td>0.38</td><td>2022</td></tr><tr><td>0000.00.0276</td><td>REBIO DAS ARAUCARIAS</td><td>RESERVA BIOLOGICA DAS ARAUCARIAS</td><td>REBIO</td><td>MATA ATLANTICA</td><td>PR</td><td>0.691386825</td><td>0.0</td><td>2022</td></tr><tr><td>0000.00.0197</td><td>REBIO DE PEDRA TALHADA</td><td>RESERVA BIOLOGICA DE PEDRA TALHADA</td><td>REBIO</td><td>MATA ATLANTICA</td><td>PE;AL</td><td>9.685647570481152</td><td>0.22</td><td>2022</td></tr><tr><td>0000.00.0215</td><td>REBIO DE POCO DAS ANTAS</td><td>RESERVA BIOLOGICA DE POCO DAS ANTAS</td><td>REBIO</td><td>MATA ATLANTICA</td><td>RJ</td><td>193.8972131244349</td><td>3.84</td><td>2022</td></tr><tr><td>0000.00.0206</td><td>REBIO DO GUAPORE</td><td>RESERVA BIOLOGICA DO GUAPORE</td><td>REBIO</td><td>AMAZONIA</td><td>RO</td><td>18517.33628560991</td><td>3.01</td><td>2022</td></tr><tr><td>0000.00.0207</td><td>REBIO DO GURUPI</td><td>RESERVA BIOLOGICA DO GURUPI</td><td>REBIO</td><td>AMAZONIA</td><td>MA</td><td>422.5123126035064</td><td>0.16</td><td>2022</td></tr><tr><td>0000.00.0208</td><td>REBIO DO JARU</td><td>RESERVA BIOLOGICA DO JARU</td><td>REBIO</td><td>AMAZONIA</td><td>RO</td><td>293.5354008392539</td><td>0.08</td><td>2022</td></tr><tr><td>0000.00.0212</td><td>REBIO DO TINGUA</td><td>RESERVA BIOLOGICA DO TINGUA</td><td>REBIO</td><td>MATA ATLANTICA</td><td>RJ</td><td>0.4539230657741428</td><td>0.0</td><td>2022</td></tr><tr><td>0000.00.0216</td><td>REBIO NASCENTES DA SERRA DO CACHIMBO</td><td>RESERVA BIOLOGICA NASCENTES DA SERRA DO CACHIMBO</td><td>REBIO</td><td>AMAZONIA</td><td>PA</td><td>16161.08937</td><td>4.72</td><td>2022</td></tr><tr><td>0000.00.1564</td><td>RESEX CHAPADA LIMPA</td><td>RESERVA EXTRATIVISTA CHAPADA LIMPA</td><td>RESEX</td><td>CERRADO</td><td>MA</td><td>488.6533488824398</td><td>4.08</td><td>2022</td></tr><tr><td>0000.00.0222</td><td>RESEX CHICO MENDES</td><td>RESERVA EXTRATIVISTA CHICO MENDES</td><td>RESEX</td><td>AMAZONIA</td><td>AC</td><td>102.6166378410463</td><td>0.01</td><td>2022</td></tr><tr><td>0000.00.0226</td><td>RESEX DA MATA GRANDE</td><td>RESERVA EXTRATIVISTA MATA GRANDE</td><td>RESEX</td><td>CERRADO</td><td>MA</td><td>207.5376882285468</td><td>1.82</td><td>2022</td></tr><tr><td>0000.00.0286</td><td>RESEX DE RECANTO DAS ARARAS DE TERRA RONCA</td><td>RESERVA EXTRATIVISTA DE RECANTO DAS ARARAS DE TERRA RONCA</td><td>RESEX</td><td>CERRADO</td><td>GO</td><td>1550.979128</td><td>12.56</td><td>2022</td></tr><tr><td>0000.00.1517</td><td>RESEX DO ALTO JURUA</td><td>RESERVA EXTRATIVISTA DO ALTO JURUA</td><td>RESEX</td><td>AMAZONIA</td><td>AC</td><td>0.8517544205702842</td><td>0.0</td><td>2022</td></tr><tr><td>0000.00.1518</td><td>RESEX DO RIO CAJARI</td><td>RESERVA EXTRATIVISTA DO RIO CAJARI</td><td>RESEX</td><td>AMAZONIA</td><td>AP</td><td>1898.542235052041</td><td>0.36</td><td>2022</td></tr><tr><td>0000.00.0256</td><td>RESEX DO RIO OURO PRETO</td><td>RESERVA EXTRATIVISTA DO RIO OURO PRETO</td><td>RESEX</td><td>AMAZONIA</td><td>RO</td><td>25.06254469134063</td><td>0.01</td><td>2022</td></tr><tr><td>0000.00.1628</td><td>RESEX ITUXI</td><td>RESERVA EXTRATIVISTA ITUXI</td><td>RESEX</td><td>AMAZONIA</td><td>AM</td><td>8.867539969944207</td><td>0.0</td><td>2022</td></tr><tr><td>0000.00.0257</td><td>RESEX RIOZINHO DA LIBERDADE</td><td>RESERVA EXTRATIVISTA RIOZINHO DA LIBERDADE</td><td>RESEX</td><td>AMAZONIA</td><td>AC;AM</td><td>1.388721966906614</td><td>0.0</td><td>2022</td></tr><tr><td>0000.00.0259</td><td>RESEX TAPAJOS-ARAPIUNS</td><td>RESERVA EXTRATIVISTA TAPAJOS-ARAPIUNS</td><td>RESEX</td><td>AMAZONIA</td><td>PA</td><td>14.32035699640438</td><td>0.0</td><td>2022</td></tr><tr><td>0000.00.0219</td><td>REVIS DAS VEREDAS DO OESTE BAIANO</td><td>REFUGIO DE VIDA SILVESTRE DAS VEREDAS DO OESTE BAIANO</td><td>REVIS</td><td>CERRADO</td><td>BA</td><td>9177.280584</td><td>7.17</td><td>2022</td></tr><tr><td>0000.00.0278</td><td>REVIS DOS CAMPOS DE PALMAS</td><td>REFUGIO DE VIDA SILVESTRE DOS CAMPOS DE PALMAS</td><td>REVIS</td><td>MATA ATLANTICA</td><td>PR;SC</td><td>1046.068004287936</td><td>6.3</td><td>2022</td></tr><tr><td>0000.00.0011</td><td>APA DA SERRA DA MANTIQUEIRA</td><td>AREA DE PROTECAO AMBIENTAL DA SERRA DA MANTIQUEIRA</td><td>APA</td><td>MATA ATLANTICA</td><td>MG;RJ;SP</td><td>1586.9</td><td>0.3626996321018411</td><td>2021</td></tr><tr><td>0000.00.0047</td><td>ESEC DA TERRA DO MEIO</td><td>ESTACAO ECOLOGICA DA TERRA DO MEIO</td><td>ESEC</td><td>AMAZONIA</td><td>PA</td><td>8117.579044</td><td>0.24065150586674502</td><td>2021</td></tr><tr><td>0000.00.0065</td><td>ESEC DE URUCUI-UNA</td><td>ESTACAO ECOLOGICA DE URUCUI-UNA</td><td>ESEC</td><td>CERRADO</td><td>PI</td><td>17915.96</td><td>13.259070595532625</td><td>2021</td></tr><tr><td>0000.00.0074</td><td>ESEC RASO DA CATARINA</td><td>ESTACAO ECOLOGICA RASO DA CATARINA</td><td>ESEC</td><td>CAATINGA</td><td>BA</td><td>556.68</td><td>0.5309582466466952</td><td>2021</td></tr><tr><td>0000.00.0076</td><td>ESEC SERRA GERAL DO TOCANTINS</td><td>ESTACAO ECOLOGICA SERRA GERAL DO TOCANTINS</td><td>ESEC</td><td>CERRADO</td><td>BA;TO</td><td>136794.97771</td><td>19.346252246008504</td><td>2021</td></tr><tr><td>0000.00.0083</td><td>FLONA DE ALTAMIRA</td><td>FLORESTA NACIONAL DE ALTAMIRA</td><td>FLONA</td><td>AMAZONIA</td><td>PA</td><td>11031.48</td><td>1.5259034517099295</td><td>2021</td></tr><tr><td>0000.00.0086</td><td>FLONA DE BRASILIA</td><td>FLORESTA NACIONAL DE BRASILIA</td><td>FLONA</td><td>CERRADO</td><td>DF</td><td>1988.87</td><td>21.302672608057573</td><td>2021</td></tr><tr><td>0000.00.0096</td><td>FLONA DE ITAITUBA II</td><td>FLORESTA NACIONAL DE ITAITUBA II</td><td>FLONA</td><td>AMAZONIA</td><td>PA</td><td>625.697569</td><td>0.15730750822336134</td><td>2021</td></tr><tr><td>0000.00.0116</td><td>FLONA DO BOM FUTURO</td><td>FLORESTA NACIONAL DO BOM FUTURO</td><td>FLONA</td><td>AMAZONIA</td><td>RO</td><td>7200.644236</td><td>7.195238607500101</td><td>2021</td></tr><tr><td>0000.00.0117</td><td>FLONA DO ITACAIUNAS</td><td>FLORESTA NACIONAL DO ITACAIUNAS</td><td>FLONA</td><td>AMAZONIA</td><td>PA</td><td>400.46</td><td>0.29298924935842313</td><td>2021</td></tr><tr><td>0000.00.0266</td><td>FLONA DO JAMANXIM</td><td>FLORESTA NACIONAL DO JAMANXIM</td><td>FLONA</td><td>AMAZONIA</td><td>PA</td><td>44461.549547</td><td>3.415659225557721</td><td>2021</td></tr><tr><td>0000.00.0135</td><td>PARNA CAVERNAS DO PERUACU</td><td>PARQUE NACIONAL CAVERNAS DO PERUACU</td><td>PARNA</td><td>CERRADO</td><td>MG</td><td>148.19</td><td>0.2625201323071599</td><td>2021</td></tr><tr><td>0000.00.0272</td><td>PARNA DA CHAPADA DAS MESAS</td><td>PARQUE NACIONAL DA CHAPADA DAS MESAS</td><td>PARNA</td><td>CERRADO</td><td>MA</td><td>33706.213584</td><td>21.072470715292887</td><td>2021</td></tr><tr><td>0000.00.0137</td><td>PARNA DA CHAPADA DIAMANTINA</td><td>PARQUE NACIONAL DA CHAPADA DA DIAMANTINA</td><td>PARNA</td><td>CAATINGA</td><td>BA</td><td>2765.26</td><td>1.8175291575345063</td><td>2021</td></tr><tr><td>0000.00.0138</td><td>PARNA DA CHAPADA DOS GUIMARAES</td><td>PARQUE NACIONAL DA CHAPADA DOS GUIMARAES</td><td>PARNA</td><td>CERRADO</td><td>MT</td><td>666.68</td><td>2.042097078364346</td><td>2021</td></tr><tr><td>0000.00.0139</td><td>PARNA DA CHAPADA DOS VEADEIROS</td><td>PARQUE NACIONAL DA CHAPADA DOS VEADEIROS</td><td>PARNA</td><td>CERRADO</td><td>GO</td><td>39125.913327999995</td><td>16.262717578446598</td><td>2021</td></tr><tr><td>0000.00.0141</td><td>PARNA DA RESTINGA DE JURUBATIBA</td><td>PARQUE NACIONAL DA RESTINGA DE JURUBATIBA</td><td>PARNA</td><td>MATA ATLANTICA</td><td>RJ</td><td>79.8</td><td>0.5348717301345105</td><td>2021</td></tr><tr><td>0000.00.0143</td><td>PARNA DA SERRA DA BODOQUENA</td><td>PARQUE NACIONAL DA SERRA DA BODOQUENA</td><td>PARNA</td><td>CERRADO</td><td>MS</td><td>13.62</td><td>0.017683259328503544</td><td>2021</td></tr><tr><td>0000.00.0144</td><td>PARNA DA SERRA DA CANASTRA</td><td>PARQUE NACIONAL DA SERRA DA CANASTRA</td><td>PARNA</td><td>CERRADO</td><td>MG</td><td>40667.717262</td><td>20.54216012352924</td><td>2021</td></tr><tr><td>0000.00.0146</td><td>PARNA DA SERRA DAS CONFUSOES</td><td>PARQUE NACIONAL DA SERRA DAS CONFUSOES</td><td>PARNA</td><td>CAATINGA</td><td>PI</td><td>39222.26</td><td>4.7608234388468285</td><td>2021</td></tr><tr><td>0000.00.0155</td><td>PARNA DAS EMAS</td><td>PARQUE NACIONAL DAS EMAS</td><td>PARNA</td><td>CERRADO</td><td>MS;GO</td><td>40029.19</td><td>30.145218018207434</td><td>2021</td></tr><tr><td>0000.00.0156</td><td>PARNA DAS NASCENTES DO RIO PARNAIBA</td><td>PARQUE NACIONAL DAS NASCENTES DO RIO PARNAIBA</td><td>PARNA</td><td>CERRADO</td><td>MA;PI;BA</td><td>159477.244095</td><td>21.27003694944607</td><td>2021</td></tr><tr><td>0000.00.0159</td><td>PARNA DE BRASILIA</td><td>PARQUE NACIONAL DE BRASILIA</td><td>PARNA</td><td>CERRADO</td><td>DF</td><td>9899.971341</td><td>23.373495868078493</td><td>2021</td></tr><tr><td>0000.00.0161</td><td>PARNA DE ILHA GRANDE</td><td>PARQUE NACIONAL DE ILHA GRANDE</td><td>PARNA</td><td>MATA ATLANTICA</td><td>MS;PR</td><td>42473.16</td><td>55.78430767207209</td><td>2021</td></tr><tr><td>0000.00.0163</td><td>PARNA DE PACAAS NOVOS</td><td>PARQUE NACIONAL DE PACAAS NOVOS</td><td>PARNA</td><td>AMAZONIA</td><td>RO</td><td>7671.681189999999</td><td>1.0825464923014851</td><td>2021</td></tr><tr><td>0000.00.0168</td><td>PARNA DO ARAGUAIA</td><td>PARQUE NACIONAL DO ARAGUAIA</td><td>PARNA</td><td>CERRADO</td><td>TO</td><td>243856.304718</td><td>43.896593535835905</td><td>2021</td></tr><tr><td>0000.00.3652</td><td>PARNA DO BOQUEIRAO DA ONCA</td><td>PARQUE NACIONAL DO BOQUEIRAO DA ONCA</td><td>PARNA</td><td>CAATINGA</td><td>BA</td><td>159.90241</td><td>0.04609359323758638</td><td>2021</td></tr><tr><td>0000.00.0267</td><td>PARNA DO JAMANXIM</td><td>PARQUE NACIONAL DO JAMANXIM</td><td>PARNA</td><td>AMAZONIA</td><td>PA</td><td>1033.83</td><td>0.1198094406424383</td><td>2021</td></tr><tr><td>0000.00.0284</td><td>PARNA DOS CAMPOS AMAZONICOS</td><td>PARQUE NACIONAL DOS CAMPOS AMAZONICOS</td><td>PARNA</td><td>AMAZONIA</td><td>RO;MT;AM</td><td>27950.969274</td><td>2.9075412919043075</td><td>2021</td></tr><tr><td>0000.00.3519</td><td>PARNA DOS CAMPOS FERRUGINOSOS</td><td>PARQUE NACIONAL DOS CAMPOS FERRUGINOSOS</td><td>PARNA</td><td>AMAZONIA</td><td>PA</td><td>649.04</td><td>0.8206758343770342</td><td>2021</td></tr><tr><td>0000.00.0182</td><td>PARNA E HISTORICO DO MONTE PASCOAL</td><td>PARQUE NACIONAL E HISTORICO DO MONTE PASCOAL</td><td>PARNA</td><td>MATA ATLANTICA</td><td>BA</td><td>830.59</td><td>3.7346933993010873</td><td>2021</td></tr><tr><td>0000.00.0183</td><td>PARNA GRANDE SERTAO VEREDAS</td><td>PARQUE NACIONAL GRANDE SERTAO VEREDAS</td><td>PARNA</td><td>CERRADO</td><td>BA;MG</td><td>826.7632140000001</td><td>0.3581291810065469</td><td>2021</td></tr><tr><td>0000.00.1633</td><td>PARNA MAPINGUARI</td><td>PARQUE NACIONAL MAPINGUARI</td><td>PARNA</td><td>AMAZONIA</td><td>AM;RO</td><td>16801.257114</td><td>0.9455242551918388</td><td>2021</td></tr><tr><td>0000.00.0192</td><td>REBIO DA CONTAGEM</td><td>RESERVA BIOLOGICA DA CONTAGEM</td><td>REBIO</td><td>CERRADO</td><td>DF</td><td>1945.8381</td><td>57.03398497080397</td><td>2021</td></tr><tr><td>0000.00.0193</td><td>REBIO DA MATA ESCURA</td><td>RESERVA BIOLOGICA DA MATA ESCURA</td><td>REBIO</td><td>MATA ATLANTICA</td><td>MG</td><td>921.387173</td><td>1.8104616617851166</td><td>2021</td></tr><tr><td>0000.00.0197</td><td>REBIO DE PEDRA TALHADA</td><td>RESERVA BIOLOGICA DE PEDRA TALHADA</td><td>REBIO</td><td>MATA ATLANTICA</td><td>PE;AL</td><td>9.954355</td><td>0.22714535105757935</td><td>2021</td></tr><tr><td>0000.00.0206</td><td>REBIO DO GUAPORE</td><td>RESERVA BIOLOGICA DO GUAPORE</td><td>REBIO</td><td>AMAZONIA</td><td>RO</td><td>9460.789153</td><td>1.536400264377731</td><td>2021</td></tr><tr><td>0000.00.0216</td><td>REBIO NASCENTES DA SERRA DO CACHIMBO</td><td>RESERVA BIOLOGICA NASCENTES DA SERRA DO CACHIMBO</td><td>REBIO</td><td>AMAZONIA</td><td>PA</td><td>5855.618579</td><td>1.7111896296400895</td><td>2021</td></tr><tr><td>0000.00.0222</td><td>RESEX CHICO MENDES</td><td>RESERVA EXTRATIVISTA CHICO MENDES</td><td>RESEX</td><td>AMAZONIA</td><td>AC</td><td>345.56</td><td>0.03709544502489046</td><td>2021</td></tr><tr><td>0000.00.1808</td><td>RESEX DE CASSURUBA</td><td>RESERVA EXTRATIVISTA DE CASSURUBA</td><td>RESEX</td><td>MATA ATLANTICA</td><td>BA</td><td>245.760115</td><td>0.24434686647329865</td><td>2021</td></tr><tr><td>0000.00.0286</td><td>RESEX DE RECANTO DAS ARARAS DE TERRA RONCA</td><td>RESERVA EXTRATIVISTA DE RECANTO DAS ARARAS DE TERRA RONCA</td><td>RESEX</td><td>CERRADO</td><td>GO</td><td>3982.085572</td><td>32.24535771765383</td><td>2021</td></tr><tr><td>0000.00.1518</td><td>RESEX DO RIO CAJARI</td><td>RESERVA EXTRATIVISTA DO RIO CAJARI</td><td>RESEX</td><td>AMAZONIA</td><td>AP</td><td>4931.07399</td><td>0.9261893715176188</td><td>2021</td></tr><tr><td>0000.00.0219</td><td>REVIS DAS VEREDAS DO OESTE BAIANO</td><td>REFUGIO DE VIDA SILVESTRE DAS VEREDAS DO OESTE BAIANO</td><td>REVIS</td><td>CERRADO</td><td>BA</td><td>52223.35</td><td>40.78338510689775</td><td>2021</td></tr><tr><td>0000.00.1813</td><td>REVIS DO RIO DOS FRADES</td><td>REFUGIO DE VIDA SILVESTRE DO RIO DOS FRADES</td><td>REVIS</td><td>MATA ATLANTICA</td><td>BA</td><td>38.931387</td><td>4.332071082006802</td><td>2021</td></tr><tr><td>0000.00.0002</td><td>APA CAVERNAS DO PERUACU</td><td>AREA DE PROTECAO AMBIENTAL CAVERNAS DO PERUACU</td><td>APA</td><td>CERRADO</td><td>MG</td><td>85.951499</td><td>0.059956854</td><td>2020</td></tr><tr><td>0000.00.1521</td><td>APA BACIA PARAIBA DO SUL</td><td>AREA DE PROTECAO AMBIENTAL BACIA DO PARAIBA DO SUL</td><td>APA</td><td>MATA ATLANTICA</td><td>MG;RJ;SP</td><td>187.92</td><td>0.064224213</td><td>2020</td></tr><tr><td>0000.00.0010</td><td>APA DA REGIAO SERRANA DE PETROPOLIS</td><td>AREA DE PROTECAO AMBIENTAL DA REGIAO SERRANA DE PETROPOLIS</td><td>APA</td><td>MATA ATLANTICA</td><td>RJ</td><td>549.993164</td><td>0.8061544141669784</td><td>2020</td></tr><tr><td>0000.00.0011</td><td>APA DA SERRA DA MANTIQUEIRA</td><td>AREA DE PROTECAO AMBIENTAL DA SERRA DA MANTIQUEIRA</td><td>APA</td><td>MATA ATLANTICA</td><td>MG;RJ;SP</td><td>547.590278</td><td>0.12515646378041773</td><td>2020</td></tr><tr><td>0000.00.0075</td><td>ESEC DA SERRA DAS ARARAS</td><td>ESTACAO ECOLOGICA DA SERRA DAS ARARAS</td><td>ESEC</td><td>CERRADO</td><td>MT</td><td>22664.36309</td><td>83.44847111</td><td>2020</td></tr><tr><td>0000.00.0047</td><td>ESEC DA TERRA DO MEIO</td><td>ESTACAO ECOLOGICA DA TERRA DO MEIO</td><td>ESEC</td><td>AMAZONIA</td><td>PA</td><td>8466.720824</td><td>0.25100155306860555</td><td>2020</td></tr><tr><td>0000.00.0053</td><td>ESEC DE CUNIA</td><td>ESTACAO ECOLOGICA DE CUNIA</td><td>ESEC</td><td>AMAZONIA</td><td>RO;AM</td><td>832.138542</td><td>0.44904340443041807</td><td>2020</td></tr><tr><td>0000.00.0062</td><td>ESEC DE TAIAMA</td><td>ESTACAO ECOLOGICA DE TAIAMA</td><td>ESEC</td><td>PANTANAL</td><td>MT</td><td>3996.831054</td><td>34.58967663531847</td><td>2020</td></tr><tr><td>0000.00.0065</td><td>ESEC DE URUCUI-UNA</td><td>ESTACAO ECOLOGICA DE URUCUI-UNA</td><td>ESEC</td><td>CERRADO</td><td>PI</td><td>43551.23092</td><td>32.23097424255375</td><td>2020</td></tr><tr><td>0000.00.0076</td><td>ESEC SERRA GERAL DO TOCANTINS</td><td>ESTACAO ECOLOGICA SERRA GERAL DO TOCANTINS</td><td>ESEC</td><td>CERRADO</td><td>BA;TO</td><td>261143.2174</td><td>36.932222524681485</td><td>2020</td></tr><tr><td>0000.00.0083</td><td>FLONA DE ALTAMIRA</td><td>FLORESTA NACIONAL DE ALTAMIRA</td><td>FLONA</td><td>AMAZONIA</td><td>PA</td><td>10442.96634</td><td>1.440460933875752</td><td>2020</td></tr><tr><td>0000.00.0086</td><td>FLONA DE BRASILIA</td><td>FLORESTA NACIONAL DE BRASILIA</td><td>FLONA</td><td>CERRADO</td><td>DF</td><td>445.481464</td><td>4.771526428241249</td><td>2020</td></tr><tr><td>0000.00.0088</td><td>FLONA DE CARAJAS</td><td>FLORESTA NACIONAL DE CARAJAS</td><td>FLONA</td><td>AMAZONIA</td><td>PA</td><td>10625.16781</td><td>2.7156073489998573</td><td>2020</td></tr><tr><td>0000.00.3409</td><td>FLONA DO ARIPUANA</td><td>FLORESTA NACIONAL DO ARIPUANA</td><td>FLONA</td><td>AMAZONIA</td><td>AM</td><td>2385.300613</td><td>0.3174888474228252</td><td>2020</td></tr><tr><td>0000.00.0116</td><td>FLONA DO BOM FUTURO</td><td>FLORESTA NACIONAL DO BOM FUTURO</td><td>FLONA</td><td>AMAZONIA</td><td>RO</td><td>3066.13866</td><td>3.0638368650519485</td><td>2020</td></tr><tr><td>0000.00.0266</td><td>FLONA DO JAMANXIM</td><td>FLORESTA NACIONAL DO JAMANXIM</td><td>FLONA</td><td>AMAZONIA</td><td>PA</td><td>66665.30269</td><td>5.121412962</td><td>2020</td></tr><tr><td>0000.00.0272</td><td>PARNA DA CHAPADA DAS MESAS</td><td>PARQUE NACIONAL DA CHAPADA DAS MESAS</td><td>PARNA</td><td>CERRADO</td><td>MA</td><td>38531.15625</td><td>24.088931343166756</td><td>2020</td></tr><tr><td>0000.00.0137</td><td>PARNA DA CHAPADA DIAMANTINA</td><td>PARQUE NACIONAL DA CHAPADA DA DIAMANTINA</td><td>PARNA</td><td>CAATINGA</td><td>BA</td><td>513.850939</td><td>0.3377400549167113</td><td>2020</td></tr><tr><td>0000.00.0138</td><td>PARNA DA CHAPADA DOS GUIMARAES</td><td>PARQUE NACIONAL DA CHAPADA DOS GUIMARAES</td><td>PARNA</td><td>CERRADO</td><td>MT</td><td>902.162026</td><td>2.763398388375668</td><td>2020</td></tr><tr><td>0000.00.0139</td><td>PARNA DA CHAPADA DOS VEADEIROS</td><td>PARQUE NACIONAL DA CHAPADA DOS VEADEIROS</td><td>PARNA</td><td>CERRADO</td><td>GO</td><td>42726.64233</td><td>17.759363504545753</td><td>2020</td></tr><tr><td>0000.00.0144</td><td>PARNA DA SERRA DA CANASTRA</td><td>PARQUE NACIONAL DA SERRA DA CANASTRA</td><td>PARNA</td><td>CERRADO</td><td>MG</td><td>84254.0174</td><td>42.55856076871611</td><td>2020</td></tr><tr><td>0000.00.0146</td><td>PARNA DA SERRA DAS CONFUSOES</td><td>PARQUE NACIONAL DA SERRA DAS CONFUSOES</td><td>PARNA</td><td>CAATINGA</td><td>PI</td><td>1070.108701</td><td>0.12989049039588063</td><td>2020</td></tr><tr><td>0000.00.0148</td><td>PARNA DA SERRA DO CIPO</td><td>PARQUE NACIONAL DA SERRA DO CIPO</td><td>PARNA</td><td>CERRADO</td><td>MG</td><td>18026.02072</td><td>56.973090477349125</td><td>2020</td></tr><tr><td>0000.00.3136</td><td>PARNA DA SERRA DO GANDARELA</td><td>PARQUE NACIONAL DA SERRA DO GANDARELA</td><td>PARNA</td><td>MATA ATLANTICA</td><td>MG</td><td>1437.74049</td><td>4.597705495071724</td><td>2020</td></tr><tr><td>0000.00.0150</td><td>PARNA DA SERRA DO ITAJAI</td><td>PARQUE NACIONAL DA SERRA DO ITAJAI</td><td>PARNA</td><td>MATA ATLANTICA</td><td>SC</td><td>2.92</td><td>0.005130177</td><td>2020</td></tr><tr><td>0000.00.0152</td><td>PARNA DA SERRA DOS ORGAOS</td><td>PARQUE NACIONAL DA SERRA DOS ORGAOS</td><td>PARNA</td><td>MATA ATLANTICA</td><td>RJ</td><td>328.358296</td><td>1.6400902090958116</td><td>2020</td></tr><tr><td>0000.00.0155</td><td>PARNA DAS EMAS</td><td>PARQUE NACIONAL DAS EMAS</td><td>PARNA</td><td>CERRADO</td><td>MS;GO</td><td>34436.51449</td><td>25.93348097097393</td><td>2020</td></tr><tr><td>0000.00.0156</td><td>PARNA DAS NASCENTES DO RIO PARNAIBA</td><td>PARQUE NACIONAL DAS NASCENTES DO RIO PARNAIBA</td><td>PARNA</td><td>CERRADO</td><td>MA;PI;BA</td><td>205335.9804</td><td>27.38637675361551</td><td>2020</td></tr><tr><td>0000.00.0157</td><td>PARNA DAS SEMPRE-VIVAS</td><td>PARQUE NACIONAL DAS SEMPRE-VIVAS</td><td>PARNA</td><td>CERRADO</td><td>MG</td><td>2409.912271</td><td>1.941037263856728</td><td>2020</td></tr><tr><td>0000.00.0159</td><td>PARNA DE BRASILIA</td><td>PARQUE NACIONAL DE BRASILIA</td><td>PARNA</td><td>CERRADO</td><td>DF</td><td>3037.617137</td><td>7.171711191637972</td><td>2020</td></tr><tr><td>0000.00.0161</td><td>PARNA DE ILHA GRANDE</td><td>PARQUE NACIONAL DE ILHA GRANDE</td><td>PARNA</td><td>MATA ATLANTICA</td><td>MS;PR</td><td>4306.114902</td><td>5.655657781680624</td><td>2020</td></tr><tr><td>0000.00.0163</td><td>PARNA DE PACAAS NOVOS</td><td>PARQUE NACIONAL DE PACAAS NOVOS</td><td>PARNA</td><td>AMAZONIA</td><td>RO</td><td>12130.53759</td><td>1.711733138654579</td><td>2020</td></tr><tr><td>0000.00.0165</td><td>PARNA DE SAO JOAQUIM</td><td>PARQUE NACIONAL DE SAO JOAQUIM</td><td>PARNA</td><td>MATA ATLANTICA</td><td>SC</td><td>4553.983848</td><td>9.168041160099387</td><td>2020</td></tr><tr><td>0000.00.0168</td><td>PARNA DO ARAGUAIA</td><td>PARQUE NACIONAL DO ARAGUAIA</td><td>PARNA</td><td>CERRADO</td><td>TO</td><td>254503.3305</td><td>45.81316553212965</td><td>2020</td></tr><tr><td>0000.00.0175</td><td>PARNA DO PANTANAL MATOGROSSENSE</td><td>PARQUE NACIONAL DO PANTANAL MATO-GROSSENSE</td><td>PARNA</td><td>PANTANAL</td><td>MS;MT</td><td>132679.51403299998</td><td>97.61398688681554</td><td>2020</td></tr><tr><td>0000.00.0264</td><td>PARNA DO RIO NOVO</td><td>PARQUE NACIONAL DO RIO NOVO</td><td>PARNA</td><td>AMAZONIA</td><td>PA</td><td>2272.033559</td><td>0.4221877518192064</td><td>2020</td></tr><tr><td>0000.00.0284</td><td>PARNA DOS CAMPOS AMAZONICOS</td><td>PARQUE NACIONAL DOS CAMPOS AMAZONICOS</td><td>PARNA</td><td>AMAZONIA</td><td>RO;MT;AM</td><td>20522.85743</td><td>2.1348474473511785</td><td>2020</td></tr><tr><td>0000.00.0182</td><td>PARNA E HISTORICO DO MONTE PASCOAL</td><td>PARQUE NACIONAL E HISTORICO DO MONTE PASCOAL</td><td>PARNA</td><td>MATA ATLANTICA</td><td>BA</td><td>322.124381</td><td>1.4484111288056065</td><td>2020</td></tr><tr><td>0000.00.0183</td><td>PARNA GRANDE SERTAO VEREDAS</td><td>PARQUE NACIONAL GRANDE SERTAO VEREDAS</td><td>PARNA</td><td>CERRADO</td><td>BA;MG</td><td>94140.23766</td><td>40.77874492042363</td><td>2020</td></tr><tr><td>0000.00.0192</td><td>REBIO DA CONTAGEM</td><td>RESERVA BIOLOGICA DA CONTAGEM</td><td>REBIO</td><td>CERRADO</td><td>DF</td><td>291.537871</td><td>3.1226454268581825</td><td>2020</td></tr><tr><td>0000.00.0193</td><td>REBIO DA MATA ESCURA</td><td>RESERVA BIOLOGICA DA MATA ESCURA</td><td>REBIO</td><td>MATA ATLANTICA</td><td>MG</td><td>2226.687908</td><td>4.375286750594372</td><td>2020</td></tr><tr><td>0000.00.0206</td><td>REBIO DO GUAPORE</td><td>RESERVA BIOLOGICA DO GUAPORE</td><td>REBIO</td><td>AMAZONIA</td><td>RO</td><td>47233.72187</td><td>7.670597198578037</td><td>2020</td></tr><tr><td>0000.00.3411</td><td>REBIO DO MANICORE</td><td>RESERVA BIOLOGICA DO MANICORE</td><td>REBIO</td><td>AMAZONIA</td><td>AM</td><td>1633.671454</td><td>0.4548874030303362</td><td>2020</td></tr><tr><td>0000.00.0216</td><td>REBIO NASCENTES DA SERRA DO CACHIMBO</td><td>RESERVA BIOLOGICA NASCENTES DA SERRA DO CACHIMBO</td><td>REBIO</td><td>AMAZONIA</td><td>PA</td><td>25926.71332</td><td>7.576573228</td><td>2020</td></tr><tr><td>0000.00.0286</td><td>RESEX DE RECANTO DAS ARARAS DE TERRA RONCA</td><td>RESERVA EXTRATIVISTA DE RECANTO DAS ARARAS DE TERRA RONCA</td><td>RESEX</td><td>CERRADO</td><td>GO</td><td>1363.117754</td><td>11.037989715258401</td><td>2020</td></tr><tr><td>0000.00.0242</td><td>RESEX DO LAGO DO CAPANA GRANDE</td><td>RESERVA EXTRATIVISTA DO LAGO DO CAPANA GRANDE</td><td>RESEX</td><td>AMAZONIA</td><td>AM</td><td>511.826749</td><td>0.16819064819740434</td><td>2020</td></tr><tr><td>0000.00.0219</td><td>REVIS DAS VEREDAS DO OESTE BAIANO</td><td>REFUGIO DE VIDA SILVESTRE DAS VEREDAS DO OESTE BAIANO</td><td>REVIS</td><td>CERRADO</td><td>BA</td><td>18139.17395</td><td>14.165635037980598</td><td>2020</td></tr><tr><td>0000.00.0002</td><td>APA CAVERNAS DO PERUACU</td><td>AREA DE PROTECAO AMBIENTAL CAVERNAS DO PERUACU</td><td>APA</td><td>CERRADO</td><td>MG</td><td>123.906377</td><td>0.086432894</td><td>2019</td></tr><tr><td>0000.00.0075</td><td>ESEC DA SERRA DAS ARARAS</td><td>ESTACAO ECOLOGICA DA SERRA DAS ARARAS</td><td>ESEC</td><td>CERRADO</td><td>MT</td><td>3482.467488</td><td>12.822182151429452</td><td>2019</td></tr><tr><td>0000.00.0047</td><td>ESEC DA TERRA DO MEIO</td><td>ESTACAO ECOLOGICA DA TERRA DO MEIO</td><td>ESEC</td><td>AMAZONIA</td><td>PA</td><td>8201.561971455063</td><td>0.24314074305937397</td><td>2019</td></tr><tr><td>0000.00.0048</td><td>ESEC DE AIUABA</td><td>ESTACAO ECOLOGICA DE AIUABA</td><td>ESEC</td><td>CAATINGA</td><td>CE</td><td>144.91</td><td>1.233614658655393</td><td>2019</td></tr><tr><td>0000.00.0053</td><td>ESEC DE CUNIA</td><td>ESTACAO ECOLOGICA DE CUNIA</td><td>ESEC</td><td>AMAZONIA</td><td>RO;AM</td><td>719.436725</td><td>0.3882265992509099</td><td>2019</td></tr><tr><td>0000.00.0065</td><td>ESEC DE URUCUI-UNA</td><td>ESTACAO ECOLOGICA DE URUCUI-UNA</td><td>ESEC</td><td>CERRADO</td><td>PI</td><td>39195.458277846126</td><td>22.742134069525566</td><td>2019</td></tr><tr><td>0000.00.0076</td><td>ESEC SERRA GERAL DO TOCANTINS</td><td>ESTACAO ECOLOGICA SERRA GERAL DO TOCANTINS</td><td>ESEC</td><td>CERRADO</td><td>BA;TO</td><td>172347.31867264572</td><td>24.37424792036406</td><td>2019</td></tr><tr><td>0000.00.0083</td><td>FLONA DE ALTAMIRA</td><td>FLORESTA NACIONAL DE ALTAMIRA</td><td>FLONA</td><td>AMAZONIA</td><td>PA</td><td>10089.86086</td><td>1.3917549791937052</td><td>2019</td></tr><tr><td>0000.00.0086</td><td>FLONA DE BRASILIA</td><td>FLORESTA NACIONAL DE BRASILIA</td><td>FLONA</td><td>CERRADO</td><td>DF</td><td>1523.819137</td><td>16.321539439080393</td><td>2019</td></tr><tr><td>0000.00.0106</td><td>FLONA DE RORAIMA</td><td>FLORESTA NACIONAL DE RORAIMA</td><td>FLONA</td><td>AMAZONIA</td><td>AM;RR</td><td>54500.40523772123</td><td>32.129235615823525</td><td>2019</td></tr><tr><td>0000.00.0114</td><td>FLONA DO AMAZONAS</td><td>FLORESTA NACIONAL DO AMAZONAS</td><td>FLONA</td><td>AMAZONIA</td><td>AM;RR</td><td>186.609476</td><td>0.009598117</td><td>2019</td></tr><tr><td>0000.00.0115</td><td>FLONA DO ARARIPE-APODI</td><td>FLORESTA NACIONAL DO ARARIPE-APODI</td><td>FLONA</td><td>CAATINGA</td><td>CE</td><td>999.451386</td><td>2.5679595201035146</td><td>2019</td></tr><tr><td>0000.00.3409</td><td>FLONA DO ARIPUANA</td><td>FLORESTA NACIONAL DO ARIPUANA</td><td>FLONA</td><td>AMAZONIA</td><td>AM</td><td>100.5273192</td><td>0.013380411064081981</td><td>2019</td></tr><tr><td>0000.00.0116</td><td>FLONA DO BOM FUTURO</td><td>FLORESTA NACIONAL DO BOM FUTURO</td><td>FLONA</td><td>AMAZONIA</td><td>RO</td><td>5069.957058</td><td>5.2060829861609825</td><td>2019</td></tr><tr><td>0000.00.0266</td><td>FLONA DO JAMANXIM</td><td>FLORESTA NACIONAL DO JAMANXIM</td><td>FLONA</td><td>AMAZONIA</td><td>PA</td><td>50227.77364861864</td><td>3.858636511549678</td><td>2019</td></tr><tr><td>0000.00.0118</td><td>FLONA DO JAMARI</td><td>FLORESTA NACIONAL DO JAMARI</td><td>FLONA</td><td>AMAZONIA</td><td>RO</td><td>1194.09</td><td>0.5374992961045446</td><td>2019</td></tr><tr><td>0000.00.0272</td><td>PARNA DA CHAPADA DAS MESAS</td><td>PARQUE NACIONAL DA CHAPADA DAS MESAS</td><td>PARNA</td><td>CERRADO</td><td>MA</td><td>14061.941247396777</td><td>8.791252817</td><td>2019</td></tr><tr><td>0000.00.0138</td><td>PARNA DA CHAPADA DOS GUIMARAES</td><td>PARQUE NACIONAL DA CHAPADA DOS GUIMARAES</td><td>PARNA</td><td>CERRADO</td><td>MT</td><td>7249.53083</td><td>22.205924473373614</td><td>2019</td></tr><tr><td>0000.00.0139</td><td>PARNA DA CHAPADA DOS VEADEIROS</td><td>PARQUE NACIONAL DA CHAPADA DOS VEADEIROS</td><td>PARNA</td><td>CERRADO</td><td>GO</td><td>41889.35384</td><td>17.411344107916918</td><td>2019</td></tr><tr><td>0000.00.0139</td><td>PARNA DA CHAPADA DOS VEADEIROS</td><td>PARQUE NACIONAL DA CHAPADA DOS VEADEIROS</td><td>PARNA</td><td>CERRADO</td><td>GO</td><td>1380.530609</td><td>0.5738186662725382</td><td>2019</td></tr><tr><td>0000.00.0140</td><td>PARNA DA LAGOA DO PEIXE</td><td>PARQUE NACIONAL DA LAGOA DO PEIXE</td><td>PARNA</td><td>PAMPA</td><td>RS</td><td>241.685005</td><td>0.6581489625793369</td><td>2019</td></tr><tr><td>0000.00.0144</td><td>PARNA DA SERRA DA CANASTRA</td><td>PARQUE NACIONAL DA SERRA DA CANASTRA</td><td>PARNA</td><td>CERRADO</td><td>MG</td><td>41897.359641467694</td><td>21.16327958521354</td><td>2019</td></tr><tr><td>0000.00.0146</td><td>PARNA DA SERRA DAS CONFUSOES</td><td>PARQUE NACIONAL DA SERRA DAS CONFUSOES</td><td>PARNA</td><td>CAATINGA</td><td>PI</td><td>2038.7282216990002</td><td>0.24746215778564504</td><td>2019</td></tr><tr><td>0000.00.0148</td><td>PARNA DA SERRA DO CIPO</td><td>PARQUE NACIONAL DA SERRA DO CIPO</td><td>PARNA</td><td>CERRADO</td><td>MG</td><td>5532.136346</td><td>17.48488529564634</td><td>2019</td></tr><tr><td>0000.00.0148</td><td>PARNA DA SERRA DO CIPO</td><td>PARQUE NACIONAL DA SERRA DO CIPO</td><td>PARNA</td><td>CERRADO</td><td>MG</td><td>884.561055</td><td>2.7957460945180608</td><td>2019</td></tr><tr><td>0000.00.3136</td><td>PARNA DA SERRA DO GANDARELA</td><td>PARQUE NACIONAL DA SERRA DO GANDARELA</td><td>PARNA</td><td>MATA ATLANTICA</td><td>MG</td><td>140.760147</td><td>0.45013248625209384</td><td>2019</td></tr><tr><td>0000.00.0151</td><td>PARNA DA SERRA DO PARDO</td><td>PARQUE NACIONAL DA SERRA DO PARDO</td><td>PARNA</td><td>AMAZONIA</td><td>PA</td><td>4765.906903069999</td><td>1.0699961872995964</td><td>2019</td></tr><tr><td>0000.00.0155</td><td>PARNA DAS EMAS</td><td>PARQUE NACIONAL DAS EMAS</td><td>PARNA</td><td>CERRADO</td><td>MS;GO</td><td>46500.66655</td><td>35.018763334492284</td><td>2019</td></tr><tr><td>0000.00.0156</td><td>PARNA DAS NASCENTES DO RIO PARNAIBA</td><td>PARQUE NACIONAL DAS NASCENTES DO RIO PARNAIBA</td><td>PARNA</td><td>CERRADO</td><td>MA;PI;BA</td><td>196611.26411856242</td><td>27.143905336548155</td><td>2019</td></tr><tr><td>0000.00.0157</td><td>PARNA DAS SEMPRE-VIVAS</td><td>PARQUE NACIONAL DAS SEMPRE-VIVAS</td><td>PARNA</td><td>CERRADO</td><td>MG</td><td>1421.781249</td><td>1.145158028769137</td><td>2019</td></tr><tr><td>0000.00.0158</td><td>PARNA DE APARADOS DA SERRA</td><td>PARQUE NACIONAL DE APARADOS DA SERRA</td><td>PARNA</td><td>MATA ATLANTICA</td><td>SC;RS</td><td>1661.399147</td><td>12.636010953648924</td><td>2019</td></tr><tr><td>0000.00.0159</td><td>PARNA DE BRASILIA</td><td>PARQUE NACIONAL DE BRASILIA</td><td>PARNA</td><td>CERRADO</td><td>DF</td><td>2722.693936</td><td>6.428188178942329</td><td>2019</td></tr><tr><td>0000.00.0161</td><td>PARNA DE ILHA GRANDE</td><td>PARQUE NACIONAL DE ILHA GRANDE</td><td>PARNA</td><td>MATA ATLANTICA</td><td>MS;PR</td><td>47440.619</td><td>62.30857526665513</td><td>2019</td></tr><tr><td>0000.00.0184</td><td>PARNA DE ITATIAIA</td><td>PARQUE NACIONAL DE ITATIAIA</td><td>PARNA</td><td>MATA ATLANTICA</td><td>MG;RJ</td><td>143.302753</td><td>0.5102220651489718</td><td>2019</td></tr><tr><td>0000.00.0165</td><td>PARNA DE SAO JOAQUIM</td><td>PARQUE NACIONAL DE SAO JOAQUIM</td><td>PARNA</td><td>MATA ATLANTICA</td><td>SC</td><td>1523.995841</td><td>3.0680953346473703</td><td>2019</td></tr><tr><td>0000.00.0153</td><td>PARNA DA SERRA GERAL</td><td>PARQUE NACIONAL DA SERRA GERAL</td><td>PARNA</td><td>MATA ATLANTICA</td><td>SC;RS</td><td>28.131898</td><td>0.16259323627717245</td><td>2019</td></tr><tr><td>0000.00.3410</td><td>PARNA DO ACARI</td><td>PARQUE NACIONAL DO ACARI</td><td>PARNA</td><td>AMAZONIA</td><td>AM</td><td>445.040838</td><td>0.049646966</td><td>2019</td></tr><tr><td>0000.00.0168</td><td>PARNA DO ARAGUAIA</td><td>PARQUE NACIONAL DO ARAGUAIA</td><td>PARNA</td><td>CERRADO</td><td>TO</td><td>329410.2527</td><td>59.29796076735725</td><td>2019</td></tr><tr><td>0000.00.0169</td><td>PARNA DO CABO ORANGE</td><td>PARQUE NACIONAL DO CABO ORANGE</td><td>PARNA</td><td>AMAZONIA</td><td>AP</td><td>1551.859206</td><td>0.23608605583178083</td><td>2019</td></tr><tr><td>0000.00.0267</td><td>PARNA DO JAMANXIM</td><td>PARQUE NACIONAL DO JAMANXIM</td><td>PARNA</td><td>AMAZONIA</td><td>PA</td><td>503.782865</td><td>0.058382851</td><td>2019</td></tr><tr><td>0000.00.0174</td><td>PARNA DO MONTE RORAIMA</td><td>PARQUE NACIONAL DO MONTE RORAIMA</td><td>PARNA</td><td>AMAZONIA</td><td>RR</td><td>609.535018</td><td>0.5220890671322571</td><td>2019</td></tr><tr><td>0000.00.0175</td><td>PARNA DO PANTANAL MATOGROSSENSE</td><td>PARQUE NACIONAL DO PANTANAL MATO-GROSSENSE</td><td>PARNA</td><td>PANTANAL</td><td>MS;MT</td><td>2176.66745</td><td>1.6014016140307235</td><td>2019</td></tr><tr><td>0000.00.0264</td><td>PARNA DO RIO NOVO</td><td>PARQUE NACIONAL DO RIO NOVO</td><td>PARNA</td><td>AMAZONIA</td><td>PA</td><td>1858.753911</td><td>0.3453924048620302</td><td>2019</td></tr><tr><td>0000.00.0179</td><td>PARNA DO VIRUA</td><td>PARQUE NACIONAL DO VIRUA</td><td>PARNA</td><td>AMAZONIA</td><td>RR</td><td>27780.26954</td><td>12.924029978412653</td><td>2019</td></tr><tr><td>0000.00.0284</td><td>PARNA DOS CAMPOS AMAZONICOS</td><td>PARQUE NACIONAL DOS CAMPOS AMAZONICOS</td><td>PARNA</td><td>AMAZONIA</td><td>RO;MT;AM</td><td>38784.29475</td><td>4.034455422352594</td><td>2019</td></tr><tr><td>0000.00.3519</td><td>PARNA DOS CAMPOS FERRUGINOSOS</td><td>PARQUE NACIONAL DOS CAMPOS FERRUGINOSOS</td><td>PARNA</td><td>AMAZONIA</td><td>PA</td><td>1354.43021</td><td>1.7126036165932215</td><td>2019</td></tr><tr><td>0000.00.0182</td><td>PARNA E HISTORICO DO MONTE PASCOAL</td><td>PARQUE NACIONAL E HISTORICO DO MONTE PASCOAL</td><td>PARNA</td><td>MATA ATLANTICA</td><td>BA</td><td>1479.45104</td><td>6.652254462101793</td><td>2019</td></tr><tr><td>0000.00.0183</td><td>PARNA GRANDE SERTAO VEREDAS</td><td>PARQUE NACIONAL GRANDE SERTAO VEREDAS</td><td>PARNA</td><td>CERRADO</td><td>BA;MG</td><td>1191.230374</td><td>0.5160054910603975</td><td>2019</td></tr><tr><td>0000.00.1633</td><td>PARNA MAPINGUARI</td><td>PARQUE NACIONAL MAPINGUARI</td><td>PARNA</td><td>AMAZONIA</td><td>AM;RO</td><td>4179.926998</td><td>0.2352332558854936</td><td>2019</td></tr><tr><td>0000.00.0189</td><td>PARNA SERRA DA MOCIDADE</td><td>PARQUE NACIONAL SERRA DA MOCIDADE</td><td>PARNA</td><td>AMAZONIA</td><td>AM;RR</td><td>10678.974588261002</td><td>2.966846517023324</td><td>2019</td></tr><tr><td>0000.00.0192</td><td>REBIO DA CONTAGEM</td><td>RESERVA BIOLOGICA DA CONTAGEM</td><td>REBIO</td><td>CERRADO</td><td>DF</td><td>1004.129931</td><td>29.43186645406556</td><td>2019</td></tr><tr><td>0000.00.0193</td><td>REBIO DA MATA ESCURA</td><td>RESERVA BIOLOGICA DA MATA ESCURA</td><td>REBIO</td><td>MATA ATLANTICA</td><td>MG</td><td>585.7591330386949</td><td>1.1509761049467424</td><td>2019</td></tr><tr><td>0000.00.0275</td><td>REBIO DAS PEROBAS</td><td>RESERVA BIOLOGICA DAS PEROBAS</td><td>REBIO</td><td>MATA ATLANTICA</td><td>PR</td><td>52.916817</td><td>0.6071093405656867</td><td>2019</td></tr><tr><td>0000.00.0206</td><td>REBIO DO GUAPORE</td><td>RESERVA BIOLOGICA DO GUAPORE</td><td>REBIO</td><td>AMAZONIA</td><td>RO</td><td>1748.698745</td><td>0.28398278104688074</td><td>2019</td></tr><tr><td>0000.00.0216</td><td>REBIO NASCENTES DA SERRA DO CACHIMBO</td><td>RESERVA BIOLOGICA NASCENTES DA SERRA DO CACHIMBO</td><td>REBIO</td><td>AMAZONIA</td><td>PA</td><td>8411.787483958882</td><td>2.4581798344770127</td><td>2019</td></tr><tr><td>0000.00.0253</td><td>RESEX DE CANAVIEIRAS</td><td>RESERVA EXTRATIVISTA DE CANAVIEIRAS</td><td>RESEX</td><td>MATA ATLANTICA</td><td>BA</td><td>1009.026612</td><td>1.0021278855600213</td><td>2019</td></tr><tr><td>0000.00.1808</td><td>RESEX DE CASSURUBA</td><td>RESERVA EXTRATIVISTA DE CASSURUBA</td><td>RESEX</td><td>MATA ATLANTICA</td><td>BA</td><td>36.7</td><td>0.036488956</td><td>2019</td></tr><tr><td>0000.00.0286</td><td>RESEX DE RECANTO DAS ARARAS DE TERRA RONCA</td><td>RESERVA EXTRATIVISTA DE RECANTO DAS ARARAS DE TERRA RONCA</td><td>RESEX</td><td>CERRADO</td><td>GO</td><td>407.35073994799995</td><td>3.2985655088008823</td><td>2019</td></tr><tr><td>0000.00.1518</td><td>RESEX DO RIO CAJARI</td><td>RESERVA EXTRATIVISTA DO RIO CAJARI</td><td>RESEX</td><td>AMAZONIA</td><td>AP</td><td>4661.468709</td><td>0.8755501919795909</td><td>2019</td></tr><tr><td>0000.00.1907</td><td>REVIS DE BOA NOVA</td><td>REFUGIO DE VIDA SILVESTRE DE BOA NOVA</td><td>REVIS</td><td>MATA ATLANTICA</td><td>BA</td><td>76.237451</td><td>0.5074358169518373</td><td>2019</td></tr><tr><td>0000.00.1813</td><td>REVIS DO RIO DOS FRADES</td><td>REFUGIO DE VIDA SILVESTRE DO RIO DOS FRADES</td><td>REVIS</td><td>MATA ATLANTICA</td><td>BA</td><td>75.314162</td><td>8.380546607953516</td><td>2019</td></tr><tr><td>0000.00.0047</td><td>ESEC DA TERRA DO MEIO</td><td>ESTACAO ECOLOGICA DA TERRA DO MEIO</td><td>ESEC</td><td>AMAZONIA</td><td>PA</td><td>365.316263</td><td>0.010830049777590384</td><td>2018</td></tr><tr><td>0000.00.0053</td><td>ESEC DE CUNIA</td><td>ESTACAO ECOLOGICA DE CUNIA</td><td>ESEC</td><td>AMAZONIA</td><td>RO;AM</td><td>1088.559555</td><td>0.5874147919259111</td><td>2018</td></tr><tr><td>0000.00.0060</td><td>ESEC NIQUIA</td><td>ESTACAO ECOLOGICA NIQUIA</td><td>ESEC</td><td>AMAZONIA</td><td>RR</td><td>71161.66</td><td>24.987360889905716</td><td>2018</td></tr><tr><td>0000.00.0065</td><td>ESEC DE URUCUI-UNA</td><td>ESTACAO ECOLOGICA DE URUCUI-UNA</td><td>ESEC</td><td>CERRADO</td><td>PI</td><td>19132.68</td><td>13.950389360398985</td><td>2018</td></tr><tr><td>0000.00.0066</td><td>ESEC DO CASTANHAO</td><td>ESTACAO ECOLOGICA DO CASTANHAO</td><td>ESEC</td><td>CAATINGA</td><td>CE</td><td>1513.108241</td><td>12.033023961738834</td><td>2018</td></tr><tr><td>0000.00.0076</td><td>ESEC SERRA GERAL DO TOCANTINS</td><td>ESTACAO ECOLOGICA SERRA GERAL DO TOCANTINS</td><td>ESEC</td><td>CERRADO</td><td>BA;TO</td><td>141042.1699</td><td>19.94691726963209</td><td>2018</td></tr><tr><td>0000.00.0083</td><td>FLONA DE ALTAMIRA</td><td>FLORESTA NACIONAL DE ALTAMIRA</td><td>FLONA</td><td>AMAZONIA</td><td>PA</td><td>306.78</td><td>0.042420623</td><td>2018</td></tr><tr><td>0000.00.0085</td><td>FLONA DE BALATA-TUFARI</td><td>FLORESTA NACIONAL DE BALATA-TUFARI</td><td>FLONA</td><td>AMAZONIA</td><td>AM</td><td>1103.92</td><td>0.1048401958176899</td><td>2018</td></tr><tr><td>0000.00.0090</td><td>FLONA DE CRISTOPOLIS</td><td>FLORESTA NACIONAL DE CRISTOPOLIS</td><td>FLONA</td><td>CERRADO</td><td>BA</td><td>328.796132</td><td>2.5605799376824763</td><td>2018</td></tr><tr><td>0000.00.0094</td><td>FLONA DE IPANEMA</td><td>FLORESTA NACIONAL DE IPANEMA</td><td>FLONA</td><td>MATA ATLANTICA</td><td>SP</td><td>11.37</td><td>0.21114911919061363</td><td>2018</td></tr><tr><td>0000.00.0120</td><td>FLONA DE MACAUA</td><td>FLORESTA NACIONAL DO MACAUA</td><td>FLONA</td><td>AMAZONIA</td><td>AC</td><td>13.603325</td><td>0.007713937</td><td>2018</td></tr><tr><td>0000.00.0106</td><td>FLONA DE RORAIMA</td><td>FLORESTA NACIONAL DE RORAIMA</td><td>FLONA</td><td>AMAZONIA</td><td>AM;RR</td><td>1382.426755</td><td>0.8152520630508365</td><td>2018</td></tr><tr><td>0000.00.0107</td><td>FLONA DE SANTA ROSA DO PURUS</td><td>FLORESTA NACIONAL DE SANTA ROSA DO PURUS</td><td>FLONA</td><td>AMAZONIA</td><td>AC</td><td>165.75107</td><td>0.071581147</td><td>2018</td></tr><tr><td>0000.00.3409</td><td>FLONA DO ARIPUANA</td><td>FLORESTA NACIONAL DO ARIPUANA</td><td>FLONA</td><td>AMAZONIA</td><td>AM</td><td>331.806381</td><td>0.044164171787231754</td><td>2018</td></tr><tr><td>0000.00.0116</td><td>FLONA DO BOM FUTURO</td><td>FLORESTA NACIONAL DO BOM FUTURO</td><td>FLONA</td><td>AMAZONIA</td><td>RO</td><td>2909.813681</td><td>2.987940790048372</td><td>2018</td></tr><tr><td>0000.00.0266</td><td>FLONA DO JAMANXIM</td><td>FLORESTA NACIONAL DO JAMANXIM</td><td>FLONA</td><td>AMAZONIA</td><td>PA</td><td>17203.86</td><td>1.3216502007946698</td><td>2018</td></tr><tr><td>0000.00.0272</td><td>PARNA DA CHAPADA DAS MESAS</td><td>PARQUE NACIONAL DA CHAPADA DAS MESAS</td><td>PARNA</td><td>CERRADO</td><td>MA</td><td>4045.109689</td><td>2.5289240985739756</td><td>2018</td></tr><tr><td>0000.00.0137</td><td>PARNA DA CHAPADA DIAMANTINA</td><td>PARQUE NACIONAL DA CHAPADA DA DIAMANTINA</td><td>PARNA</td><td>CAATINGA</td><td>BA</td><td>3958.817617</td><td>2.6020217417838154</td><td>2018</td></tr><tr><td>0000.00.0139</td><td>PARNA DA CHAPADA DOS VEADEIROS</td><td>PARQUE NACIONAL DA CHAPADA DOS VEADEIROS</td><td>PARNA</td><td>CERRADO</td><td>GO</td><td>13384.39355</td><td>5.563234101273156</td><td>2018</td></tr><tr><td>0000.00.0144</td><td>PARNA DA SERRA DA CANASTRA</td><td>PARQUE NACIONAL DA SERRA DA CANASTRA</td><td>PARNA</td><td>CERRADO</td><td>MG</td><td>44544.02514</td><td>22.51870498056206</td><td>2018</td></tr><tr><td>0000.00.0146</td><td>PARNA DA SERRA DAS CONFUSOES</td><td>PARQUE NACIONAL DA SERRA DAS CONFUSOES</td><td>PARNA</td><td>CAATINGA</td><td>PI</td><td>22306.62664</td><td>2.7075928522527777</td><td>2018</td></tr><tr><td>0000.00.3136</td><td>PARNA DA SERRA DO GANDARELA</td><td>PARQUE NACIONAL DA SERRA DO GANDARELA</td><td>PARNA</td><td>MATA ATLANTICA</td><td>MG</td><td>516.367451</td><td>1.6512756972794442</td><td>2018</td></tr><tr><td>0000.00.0152</td><td>PARNA DA SERRA DOS ORGAOS</td><td>PARQUE NACIONAL DA SERRA DOS ORGAOS</td><td>PARNA</td><td>MATA ATLANTICA</td><td>RJ</td><td>64.557317</td><td>0.322452202</td><td>2018</td></tr><tr><td>0000.00.0155</td><td>PARNA DAS EMAS</td><td>PARQUE NACIONAL DAS EMAS</td><td>PARNA</td><td>CERRADO</td><td>MS;GO</td><td>4491.172462</td><td>3.3822161619292617</td><td>2018</td></tr><tr><td>0000.00.0156</td><td>PARNA DAS NASCENTES DO RIO PARNAIBA</td><td>PARQUE NACIONAL DAS NASCENTES DO RIO PARNAIBA</td><td>PARNA</td><td>CERRADO</td><td>MA;PI;BA</td><td>84336.75101</td><td>11.643426412972797</td><td>2018</td></tr><tr><td>0000.00.0157</td><td>PARNA DAS SEMPRE-VIVAS</td><td>PARQUE NACIONAL DAS SEMPRE-VIVAS</td><td>PARNA</td><td>CERRADO</td><td>MG</td><td>311.38</td><td>0.25079758732001906</td><td>2018</td></tr><tr><td>0000.00.0163</td><td>PARNA DE PACAAS NOVOS</td><td>PARQUE NACIONAL DE PACAAS NOVOS</td><td>PARNA</td><td>AMAZONIA</td><td>RO</td><td>4706.298988</td><td>0.6641031301033103</td><td>2018</td></tr><tr><td>0000.00.0168</td><td>PARNA DO ARAGUAIA</td><td>PARQUE NACIONAL DO ARAGUAIA</td><td>PARNA</td><td>CERRADO</td><td>TO</td><td>138454.9113</td><td>24.92361372505252</td><td>2018</td></tr><tr><td>0000.00.3652</td><td>PARNA DO BOQUEIRAO DA ONCA</td><td>PARQUE NACIONAL DO BOQUEIRAO DA ONCA</td><td>PARNA</td><td>CAATINGA</td><td>BA</td><td>3224.423648</td><td>0.9294748805231127</td><td>2018</td></tr><tr><td>0000.00.0281</td><td>PARNA DO JURUENA</td><td>PARQUE NACIONAL DO JURUENA</td><td>PARNA</td><td>AMAZONIA</td><td>AM;MT</td><td>64.31</td><td>0.00328445</td><td>2018</td></tr><tr><td>0000.00.0264</td><td>PARNA DO RIO NOVO</td><td>PARQUE NACIONAL DO RIO NOVO</td><td>PARNA</td><td>AMAZONIA</td><td>PA</td><td>408.664484</td><td>0.075937761</td><td>2018</td></tr><tr><td>0000.00.0284</td><td>PARNA DOS CAMPOS AMAZONICOS</td><td>PARQUE NACIONAL DOS CAMPOS AMAZONICOS</td><td>PARNA</td><td>AMAZONIA</td><td>RO;MT;AM</td><td>26933.83285</td><td>2.801735822696019</td><td>2018</td></tr><tr><td>0000.00.1633</td><td>PARNA MAPINGUARI</td><td>PARQUE NACIONAL MAPINGUARI</td><td>PARNA</td><td>AMAZONIA</td><td>AM;RO</td><td>2241.437716</td><td>0.12614112448650575</td><td>2018</td></tr><tr><td>0000.00.0193</td><td>REBIO DA MATA ESCURA</td><td>RESERVA BIOLOGICA DA MATA ESCURA</td><td>REBIO</td><td>MATA ATLANTICA</td><td>MG</td><td>443.74</td><td>0.8719183500555486</td><td>2018</td></tr><tr><td>0000.00.0216</td><td>REBIO NASCENTES DA SERRA DO CACHIMBO</td><td>RESERVA BIOLOGICA NASCENTES DA SERRA DO CACHIMBO</td><td>REBIO</td><td>AMAZONIA</td><td>PA</td><td>2325.49</td><td>0.6795788270556353</td><td>2018</td></tr><tr><td>0000.00.0206</td><td>REBIO DO GUAPORE</td><td>RESERVA BIOLOGICA DO GUAPORE</td><td>REBIO</td><td>AMAZONIA</td><td>RO</td><td>18217.74436</td><td>2.9585003133930194</td><td>2018</td></tr><tr><td>0000.00.0209</td><td>REBIO DO LAGO PIRATUBA</td><td>RESERVA BIOLOGICA DO LAGO PIRATUBA</td><td>REBIO</td><td>AMAZONIA</td><td>AP</td><td>231.447624</td><td>0.058971328</td><td>2018</td></tr><tr><td>0000.00.3411</td><td>REBIO DO MANICORE</td><td>RESERVA BIOLOGICA DO MANICORE</td><td>REBIO</td><td>AMAZONIA</td><td>AM</td><td>716.663965</td><td>0.1995513933185598</td><td>2018</td></tr><tr><td>0000.00.0285</td><td>RESEX ARAPIXI</td><td>RESERVA EXTRATIVISTA ARAPIXI</td><td>RESEX</td><td>AMAZONIA</td><td>AM</td><td>113.5</td><td>0.084884241</td><td>2018</td></tr><tr><td>0000.00.0222</td><td>RESEX CHICO MENDES</td><td>RESERVA EXTRATIVISTA CHICO MENDES</td><td>RESEX</td><td>AMAZONIA</td><td>AC</td><td>6949.902096</td><td>0.7460635251016985</td><td>2018</td></tr><tr><td>0000.00.0286</td><td>RESEX DE RECANTO DAS ARARAS DE TERRA RONCA</td><td>RESERVA EXTRATIVISTA DE RECANTO DAS ARARAS DE TERRA RONCA</td><td>RESEX</td><td>CERRADO</td><td>GO</td><td>5763.329441</td><td>46.66916772870668</td><td>2018</td></tr><tr><td>0000.00.1518</td><td>RESEX DO RIO CAJARI</td><td>RESERVA EXTRATIVISTA DO RIO CAJARI</td><td>RESEX</td><td>AMAZONIA</td><td>AP</td><td>3218.483206</td><td>0.6045183957592879</td><td>2018</td></tr><tr><td>0000.00.0219</td><td>REVIS DAS VEREDAS DO OESTE BAIANO</td><td>REFUGIO DE VIDA SILVESTRE DAS VEREDAS DO OESTE BAIANO</td><td>REVIS</td><td>CERRADO</td><td>BA</td><td>321.24</td><td>0.25086967607714294</td><td>2018</td></tr></tbody></table></div>"
      ]
     },
     "metadata": {
      "application/vnd.databricks.v1+output": {
       "addedWidgets": {},
       "aggData": [],
       "aggError": "",
       "aggOverflow": false,
       "aggSchema": [],
       "aggSeriesLimitReached": false,
       "aggType": "",
       "arguments": {},
       "columnCustomDisplayInfos": {},
       "data": [
        [
         "0000.00.0020",
         "APA CARSTE DE LAGOA SANTA",
         "AREA DE PROTECAO AMBIENTAL CARSTE DE LAGOA SANTA",
         "APA",
         "CERRADO",
         "MG",
         162.8936726,
         0.43,
         2023
        ],
        [
         "0000.00.0002",
         "APA CAVERNAS DO PERUACU",
         "AREA DE PROTECAO AMBIENTAL CAVERNAS DO PERUACU",
         "APA",
         "CERRADO",
         "MG",
         388.4169684,
         0.34,
         2023
        ],
        [
         "0000.00.0003",
         "APA DA BACIA DO RIO DESCOBERTO",
         "AREA DE PROTECAO AMBIENTAL DA BACIA DO RIO DESCOBERTO",
         "APA",
         "CERRADO",
         "GO;DF",
         713.0488549,
         1.97,
         2023
        ],
        [
         "0000.00.1521",
         "APA BACIA PARAIBA DO SUL",
         "AREA DE PROTECAO AMBIENTAL BACIA DO PARAIBA DO SUL",
         "APA",
         "MATA ATLANTICA",
         "MG;RJ;SP",
         545.3385567,
         0.19,
         2023
        ],
        [
         "0000.00.0004",
         "APA DA BACIA DO RIO SAO BARTOLOMEU",
         "AREA DE PROTECAO AMBIENTAL DA BACIA DO RIO SAO BARTOLOMEU",
         "APA",
         "CERRADO",
         "DF",
         184.5129023,
         0.22,
         2023
        ],
        [
         "0000.00.0005",
         "APA DA BACIA DO RIO SAO JOAO/MICO-LEAO-DOURADO",
         "AREA DE PROTECAO AMBIENTAL DA BACIA DO RIO SAO JOAO/MICO-LEAO-DOURADO",
         "APA",
         "MATA ATLANTICA",
         "RJ",
         530.6036077,
         0.36,
         2023
        ],
        [
         "0000.00.0006",
         "APA DA BALEIA FRANCA",
         "AREA DE PROTECAO AMBIENTAL DA BALEIA FRANCA",
         "APA",
         "MATA ATLANTICA",
         "SC",
         106.6427139,
         0.07,
         2023
        ],
        [
         "0000.00.0008",
         "APA DA CHAPADA DO ARARIPE",
         "AREA DE PROTECAO AMBIENTAL DA CHAPADA DO ARARIPE",
         "APA",
         "CAATINGA",
         "PI;CE;PE",
         172.7711811,
         0.02,
         2023
        ],
        [
         "0000.00.0010",
         "APA DA REGIAO SERRANA DE PETROPOLIS",
         "AREA DE PROTECAO AMBIENTAL DA REGIAO SERRANA DE PETROPOLIS",
         "APA",
         "MATA ATLANTICA",
         "RJ",
         165.4501,
         0.34,
         2023
        ],
        [
         "0000.00.0011",
         "APA DA SERRA DA MANTIQUEIRA",
         "AREA DE PROTECAO AMBIENTAL DA SERRA DA MANTIQUEIRA",
         "APA",
         "MATA ATLANTICA",
         "MG;RJ;SP",
         247.6535041,
         0.06,
         2023
        ],
        [
         "0000.00.0025",
         "APA DAS ILHAS E VARZEAS DO RIO PARANA",
         "AREA DE PROTECAO AMBIENTAL DAS ILHAS E VARZEAS DO RIO PARANA",
         "APA",
         "MATA ATLANTICA",
         "SP;PR;MS",
         384.6209786,
         0.04,
         2023
        ],
        [
         "0000.00.0028",
         "APA DAS NASCENTES DO RIO VERMELHO",
         "AREA DE PROTECAO AMBIENTAL DAS NASCENTES DO RIO VERMELHO",
         "APA",
         "CERRADO",
         "BA;GO",
         1075.401662,
         0.62,
         2023
        ],
        [
         "0000.00.0013",
         "APA DE CAIRUCU",
         "AREA DE PROTECAO AMBIENTAL DE CAIRUCU",
         "APA",
         "MATA ATLANTICA",
         "RJ;SP",
         3.812422301,
         0.01,
         2023
        ],
        [
         "0000.00.0014",
         "APA DE CANANEIA-IGUAPE-PERUIBE",
         "AREA DE PROTECAO AMBIENTAL DE CANANEIA-IGUAPE-PERUIBE",
         "APA",
         "MATA ATLANTICA",
         "SP",
         2.71218249,
         0.0,
         2023
        ],
        [
         "0000.00.0016",
         "APA DE GUAPI-MIRIM",
         "AREA DE PROTECAO AMBIENTAL DE GUAPI-MIRIM",
         "APA",
         "MATA ATLANTICA",
         "RJ",
         159.6051426,
         1.34,
         2023
        ],
        [
         "0000.00.3655",
         "APA DO BOQUEIRAO DA ONCA",
         "AREA DE PROTECAO AMBIENTAL DO BOQUEIRAO DA ONCA",
         "APA",
         "CAATINGA",
         "BA",
         62.6674761,
         0.01,
         2023
        ],
        [
         "0000.00.0021",
         "APA DO IBIRAPUITA",
         "AREA DE PROTECAO AMBIENTAL DO IBIRAPUITA",
         "APA",
         "PAMPA",
         "RS",
         31.66824938,
         0.01,
         2023
        ],
        [
         "0000.00.0023",
         "APA DO PLANALTO CENTRAL",
         "AREA DE PROTECAO AMBIENTAL DO PLANALTO CENTRAL",
         "APA",
         "CERRADO",
         "GO;DF",
         9518.009136,
         1.96,
         2023
        ],
        [
         "0000.00.0268",
         "APA DO TAPAJOS",
         "AREA DE PROTECAO AMBIENTAL DO TAPAJOS",
         "APA",
         "AMAZONIA",
         "PA",
         1049.666285,
         0.05,
         2023
        ],
        [
         "0000.00.0024",
         "APA MEANDROS DO RIO ARAGUAIA",
         "AREA DE PROTECAO AMBIENTAL DOS MEANDROS DO RIO ARAGUAIA",
         "APA",
         "CERRADO",
         "MT;GO",
         59709.49648,
         16.62,
         2023
        ],
        [
         "0000.00.0027",
         "APA MORRO DA PEDREIRA",
         "AREA DE PROTECAO AMBIENTAL MORRO DA PEDREIRA",
         "APA",
         "CERRADO",
         "MG",
         250.8314845,
         0.25,
         2023
        ],
        [
         "0000.00.0029",
         "APA SERRA DA IBIAPABA",
         "AREA DE PROTECAO AMBIENTAL SERRA DA IBIAPABA",
         "APA",
         "CAATINGA",
         "PI;CE",
         10968.43504,
         0.68,
         2023
        ],
        [
         "0000.00.0044",
         "ARIE SERINGAL NOVA ESPERANCA",
         "AREA DE RELEVANTE INTERESSE ECOLOGICO SERINGAL NOVA ESPERANCA",
         "ARIE",
         "AMAZONIA",
         "AC",
         1.293673131,
         0.05,
         2023
        ],
        [
         "0000.00.0045",
         "ARIE SERRA DA ABELHA/RIO DA PRATA",
         "AREA DE RELEVANTE INTERESSE ECOLOGICO SERRA DA ABELHA",
         "ARIE",
         "MATA ATLANTICA",
         "SC",
         1.974132055,
         0.04,
         2023
        ],
        [
         "0000.00.0075",
         "ESEC DA SERRA DAS ARARAS",
         "ESTACAO ECOLOGICA DA SERRA DAS ARARAS",
         "ESEC",
         "CERRADO",
         "MT",
         1688.522689,
         6.22,
         2023
        ],
        [
         "0000.00.0047",
         "ESEC DA TERRA DO MEIO",
         "ESTACAO ECOLOGICA DA TERRA DO MEIO",
         "ESEC",
         "AMAZONIA",
         "PA",
         355.1575037,
         0.01,
         2023
        ],
        [
         "0000.00.0048",
         "ESEC DE AIUABA",
         "ESTACAO ECOLOGICA DE AIUABA",
         "ESEC",
         "CAATINGA",
         "CE",
         60.14277737,
         0.51,
         2023
        ],
        [
         "0000.00.0053",
         "ESEC DE CUNIA",
         "ESTACAO ECOLOGICA DE CUNIA",
         "ESEC",
         "AMAZONIA",
         "RO;AM",
         1043.962338,
         0.57,
         2023
        ],
        [
         "0000.00.0065",
         "ESEC DE URUCUI-UNA",
         "ESTACAO ECOLOGICA DE URUCUI-UNA",
         "ESEC",
         "CERRADO",
         "PI",
         40073.58193,
         29.66,
         2023
        ],
        [
         "0000.00.0066",
         "ESEC DO CASTANHAO",
         "ESTACAO ECOLOGICA DO CASTANHAO",
         "ESEC",
         "CAATINGA",
         "CE",
         5.099136617,
         0.04,
         2023
        ],
        [
         "0000.00.0060",
         "ESEC NIQUIA",
         "ESTACAO ECOLOGICA NIQUIA",
         "ESEC",
         "AMAZONIA",
         "RR",
         5454.284986,
         1.78,
         2023
        ],
        [
         "0000.00.0076",
         "ESEC SERRA GERAL DO TOCANTINS",
         "ESTACAO ECOLOGICA SERRA GERAL DO TOCANTINS",
         "ESEC",
         "CERRADO",
         "BA;TO",
         172718.7743,
         24.43,
         2023
        ],
        [
         "0000.00.0128",
         "FLONA DA MATA GRANDE",
         "FLORESTA NACIONAL DA MATA GRANDE",
         "FLONA",
         "CERRADO",
         "GO",
         258.7514255,
         12.87,
         2023
        ],
        [
         "0000.00.0083",
         "FLONA DE ALTAMIRA",
         "FLORESTA NACIONAL DE ALTAMIRA",
         "FLONA",
         "AMAZONIA",
         "PA",
         8300.771447,
         1.15,
         2023
        ],
        [
         "0000.00.0085",
         "FLONA DE BALATA-TUFARI",
         "FLORESTA NACIONAL DE BALATA-TUFARI",
         "FLONA",
         "AMAZONIA",
         "AM",
         592.5107666,
         0.06,
         2023
        ],
        [
         "0000.00.0086",
         "FLONA DE BRASILIA",
         "FLORESTA NACIONAL DE BRASILIA",
         "FLONA",
         "CERRADO",
         "DF",
         250.7012341,
         4.46,
         2023
        ],
        [
         "0000.00.0089",
         "FLONA DE CAXIUANA",
         "FLORESTA NACIONAL DE CAXIUANA",
         "FLONA",
         "AMAZONIA",
         "PA",
         76.65793044,
         0.02,
         2023
        ],
        [
         "0000.00.0090",
         "FLONA DE CRISTOPOLIS",
         "FLORESTA NACIONAL DE CRISTOPOLIS",
         "FLONA",
         "CERRADO",
         "BA",
         136.4019599,
         1.06,
         2023
        ],
        [
         "0000.00.0094",
         "FLONA DE IPANEMA",
         "FLORESTA NACIONAL DE IPANEMA",
         "FLONA",
         "MATA ATLANTICA",
         "SP",
         23.52974189,
         0.44,
         2023
        ],
        [
         "0000.00.0096",
         "FLONA DE ITAITUBA II",
         "FLORESTA NACIONAL DE ITAITUBA II",
         "FLONA",
         "AMAZONIA",
         "PA",
         651.7188422,
         0.16,
         2023
        ],
        [
         "0000.00.0097",
         "FLONA DE JACUNDA",
         "FLORESTA NACIONAL DE JACUNDA",
         "FLONA",
         "AMAZONIA",
         "RO",
         347.4811348,
         0.16,
         2023
        ],
        [
         "0000.00.0106",
         "FLONA DE RORAIMA",
         "FLORESTA NACIONAL DE RORAIMA",
         "FLONA",
         "AMAZONIA",
         "AM;RR",
         127.030179,
         0.07,
         2023
        ],
        [
         "0000.00.0107",
         "FLONA DE SANTA ROSA DO PURUS",
         "FLORESTA NACIONAL DE SANTA ROSA DO PURUS",
         "FLONA",
         "AMAZONIA",
         "AC",
         96.23633737,
         0.04,
         2023
        ],
        [
         "0000.00.0109",
         "FLONA DE SARACA-TAQUERA",
         "FLORESTA NACIONAL DE SARACA-TAQUERA",
         "FLONA",
         "AMAZONIA",
         "PA",
         0.695380057,
         0.0,
         2023
        ],
        [
         "0000.00.3408",
         "FLONA DE URUPADI",
         "FLORESTA NACIONAL DE URUPADI",
         "FLONA",
         "AMAZONIA",
         "AM",
         117.8031647,
         0.02,
         2023
        ],
        [
         "0000.00.0114",
         "FLONA DO AMAZONAS",
         "FLORESTA NACIONAL DO AMAZONAS",
         "FLONA",
         "AMAZONIA",
         "AM;RR",
         8.516145071,
         0.0,
         2023
        ],
        [
         "0000.00.3409",
         "FLONA DO ARIPUANA",
         "FLORESTA NACIONAL DO ARIPUANA",
         "FLONA",
         "AMAZONIA",
         "AM",
         2135.557241,
         0.28,
         2023
        ],
        [
         "0000.00.0116",
         "FLONA DO BOM FUTURO",
         "FLORESTA NACIONAL DO BOM FUTURO",
         "FLONA",
         "AMAZONIA",
         "RO",
         3652.183218,
         3.71,
         2023
        ],
        [
         "0000.00.0270",
         "FLONA DO CREPORI",
         "FLORESTA NACIONAL DO CREPORI",
         "FLONA",
         "AMAZONIA",
         "PA",
         137.3798821,
         0.02,
         2023
        ],
        [
         "0000.00.0117",
         "FLONA DO ITACAIUNAS",
         "FLORESTA NACIONAL DO ITACAIUNAS",
         "FLONA",
         "AMAZONIA",
         "PA",
         35.18142152,
         0.06,
         2023
        ],
        [
         "0000.00.0266",
         "FLONA DO JAMANXIM",
         "FLORESTA NACIONAL DO JAMANXIM",
         "FLONA",
         "AMAZONIA",
         "PA",
         2112.20021,
         0.16,
         2023
        ],
        [
         "0000.00.0118",
         "FLONA DO JAMARI",
         "FLORESTA NACIONAL DO JAMARI",
         "FLONA",
         "AMAZONIA",
         "RO",
         870.1753824,
         0.39,
         2023
        ],
        [
         "0000.00.0119",
         "FLONA DO JATUARANA",
         "FLORESTA NACIONAL DO JATUARANA",
         "FLONA",
         "AMAZONIA",
         "AM",
         44.34562534,
         0.01,
         2023
        ],
        [
         "0000.00.0123",
         "FLONA DO TAPAJOS",
         "FLORESTA NACIONAL DO TAPAJOS",
         "FLONA",
         "AMAZONIA",
         "PA",
         3194.744992,
         0.61,
         2023
        ],
        [
         "0000.00.0265",
         "FLONA DO TRAIRAO",
         "FLORESTA NACIONAL DO TRAIRAO",
         "FLONA",
         "AMAZONIA",
         "PA",
         284.1689887,
         0.11,
         2023
        ],
        [
         "0000.00.0127",
         "FLONA MARIO XAVIER",
         "FLORESTA NACIONAL MARIO XAVIER",
         "FLONA",
         "MATA ATLANTICA",
         "RJ",
         31.09627444,
         6.27,
         2023
        ],
        [
         "0000.00.0136",
         "PARNA DA AMAZONIA",
         "PARQUE NACIONAL DA AMAZONIA",
         "PARNA",
         "AMAZONIA",
         "AM;PA",
         56.1299964,
         0.01,
         2023
        ],
        [
         "0000.00.0272",
         "PARNA DA CHAPADA DAS MESAS",
         "PARQUE NACIONAL DA CHAPADA DAS MESAS",
         "PARNA",
         "CERRADO",
         "MA",
         35300.85149,
         22.07,
         2023
        ],
        [
         "0000.00.0137",
         "PARNA DA CHAPADA DIAMANTINA",
         "PARQUE NACIONAL DA CHAPADA DA DIAMANTINA",
         "PARNA",
         "CAATINGA",
         "BA",
         4110.457037,
         2.71,
         2023
        ],
        [
         "0000.00.0138",
         "PARNA DA CHAPADA DOS GUIMARAES",
         "PARQUE NACIONAL DA CHAPADA DOS GUIMARAES",
         "PARNA",
         "CERRADO",
         "MT",
         2176.79488,
         6.67,
         2023
        ],
        [
         "0000.00.0139",
         "PARNA DA CHAPADA DOS VEADEIROS",
         "PARQUE NACIONAL DA CHAPADA DOS VEADEIROS",
         "PARNA",
         "CERRADO",
         "GO",
         36092.03888,
         15.0,
         2023
        ],
        [
         "0000.00.0262",
         "PARNA DAS ARAUCARIAS",
         "PARQUE NACIONAL DAS ARAUCARIAS",
         "PARNA",
         "MATA ATLANTICA",
         "SC",
         15.33293735,
         0.12,
         2023
        ],
        [
         "0000.00.0155",
         "PARNA DAS EMAS",
         "PARQUE NACIONAL DAS EMAS",
         "PARNA",
         "CERRADO",
         "MS;GO",
         14894.93604,
         11.22,
         2023
        ],
        [
         "0000.00.0142",
         "PARNA DA SERRA DA BOCAINA",
         "PARQUE NACIONAL DA SERRA DA BOCAINA",
         "PARNA",
         "MATA ATLANTICA",
         "RJ;SP",
         292.5401894,
         0.27,
         2023
        ],
        [
         "0000.00.0144",
         "PARNA DA SERRA DA CANASTRA",
         "PARQUE NACIONAL DA SERRA DA CANASTRA",
         "PARNA",
         "CERRADO",
         "MG",
         46780.91214,
         23.63,
         2023
        ],
        [
         "0000.00.0146",
         "PARNA DA SERRA DAS CONFUSOES",
         "PARQUE NACIONAL DA SERRA DAS CONFUSOES",
         "PARNA",
         "CAATINGA",
         "PI",
         24688.54469,
         3.0,
         2023
        ],
        [
         "0000.00.0148",
         "PARNA DA SERRA DO CIPO",
         "PARQUE NACIONAL DA SERRA DO CIPO",
         "PARNA",
         "CERRADO",
         "MG",
         1304.865605,
         4.12,
         2023
        ],
        [
         "0000.00.0149",
         "PARNA DA SERRA DO DIVISOR",
         "PARQUE NACIONAL DA SERRA DO DIVISOR",
         "PARNA",
         "AMAZONIA",
         "AC",
         0.762244789,
         0.0,
         2023
        ],
        [
         "0000.00.3136",
         "PARNA DA SERRA DO GANDARELA",
         "PARQUE NACIONAL DA SERRA DO GANDARELA",
         "PARNA",
         "MATA ATLANTICA",
         "MG",
         541.6815694,
         1.73,
         2023
        ],
        [
         "0000.00.0150",
         "PARNA DA SERRA DO ITAJAI",
         "PARQUE NACIONAL DA SERRA DO ITAJAI",
         "PARNA",
         "MATA ATLANTICA",
         "SC",
         9.241054756,
         0.02,
         2023
        ],
        [
         "0000.00.0151",
         "PARNA DA SERRA DO PARDO",
         "PARQUE NACIONAL DA SERRA DO PARDO",
         "PARNA",
         "AMAZONIA",
         "PA",
         293.6330677,
         0.07,
         2023
        ],
        [
         "0000.00.0152",
         "PARNA DA SERRA DOS ORGAOS",
         "PARQUE NACIONAL DA SERRA DOS ORGAOS",
         "PARNA",
         "MATA ATLANTICA",
         "RJ",
         130.5750361,
         0.66,
         2023
        ],
        [
         "0000.00.4581",
         "PARNA DA SERRA DO TEIXEIRA",
         "PARQUE NACIONAL DA SERRA DO TEIXEIRA",
         "PARNA",
         "CAATINGA",
         "PB",
         403.636606,
         0.66,
         2023
        ],
        [
         "0000.00.0153",
         "PARNA DA SERRA GERAL",
         "PARQUE NACIONAL DA SERRA GERAL",
         "PARNA",
         "MATA ATLANTICA",
         "SC;RS",
         143.1962449,
         0.83,
         2023
        ],
        [
         "0000.00.0156",
         "PARNA DAS NASCENTES DO RIO PARNAIBA",
         "PARQUE NACIONAL DAS NASCENTES DO RIO PARNAIBA",
         "PARNA",
         "CERRADO",
         "MA;PI;BA",
         6486.107706,
         0.87,
         2023
        ],
        [
         "0000.00.0157",
         "PARNA DAS SEMPRE-VIVAS",
         "PARQUE NACIONAL DAS SEMPRE-VIVAS",
         "PARNA",
         "CERRADO",
         "MG",
         2736.208094,
         2.2,
         2023
        ],
        [
         "0000.00.0158",
         "PARNA DE APARADOS DA SERRA",
         "PARQUE NACIONAL DE APARADOS DA SERRA",
         "PARNA",
         "MATA ATLANTICA",
         "SC;RS",
         1483.810327,
         11.29,
         2023
        ],
        [
         "0000.00.1908",
         "PARNA DE BOA NOVA",
         "PARQUE NACIONAL DE BOA NOVA",
         "PARNA",
         "MATA ATLANTICA",
         "BA",
         0.001262865,
         0.0,
         2023
        ],
        [
         "0000.00.0159",
         "PARNA DE BRASILIA",
         "PARQUE NACIONAL DE BRASILIA",
         "PARNA",
         "CERRADO",
         "DF",
         1854.513468,
         4.38,
         2023
        ],
        [
         "0000.00.0161",
         "PARNA DE ILHA GRANDE",
         "PARQUE NACIONAL DE ILHA GRANDE",
         "PARNA",
         "MATA ATLANTICA",
         "MS;PR",
         17104.67275,
         22.47,
         2023
        ],
        [
         "0000.00.0163",
         "PARNA DE PACAAS NOVOS",
         "PARQUE NACIONAL DE PACAAS NOVOS",
         "PARNA",
         "AMAZONIA",
         "RO",
         8317.318637,
         1.18,
         2023
        ],
        [
         "0000.00.0165",
         "PARNA DE SAO JOAQUIM",
         "PARQUE NACIONAL DE SAO JOAQUIM",
         "PARNA",
         "MATA ATLANTICA",
         "SC",
         1322.925875,
         2.66,
         2023
        ],
        [
         "0000.00.0166",
         "PARNA DE SETE CIDADES",
         "PARQUE NACIONAL DE SETE CIDADES",
         "PARNA",
         "CAATINGA",
         "PI",
         58.21012206,
         0.92,
         2023
        ],
        [
         "0000.00.3410",
         "PARNA DO ACARI",
         "PARQUE NACIONAL DO ACARI",
         "PARNA",
         "AMAZONIA",
         "AM",
         964.3165675,
         0.11,
         2023
        ],
        [
         "0000.00.0168",
         "PARNA DO ARAGUAIA",
         "PARQUE NACIONAL DO ARAGUAIA",
         "PARNA",
         "CERRADO",
         "TO",
         155650.9251,
         28.02,
         2023
        ],
        [
         "0000.00.0169",
         "PARNA DO CABO ORANGE",
         "PARQUE NACIONAL DO CABO ORANGE",
         "PARNA",
         "AMAZONIA",
         "AP",
         32260.12546,
         4.91,
         2023
        ],
        [
         "0000.00.0267",
         "PARNA DO JAMANXIM",
         "PARQUE NACIONAL DO JAMANXIM",
         "PARNA",
         "AMAZONIA",
         "PA",
         90.61393924,
         0.01,
         2023
        ],
        [
         "0000.00.0173",
         "PARNA DO JAU",
         "PARQUE NACIONAL DO JAU",
         "PARNA",
         "AMAZONIA",
         "AM;RR",
         6.408852252,
         0.0,
         2023
        ],
        [
         "0000.00.0281",
         "PARNA DO JURUENA",
         "PARQUE NACIONAL DO JURUENA",
         "PARNA",
         "AMAZONIA",
         "AM;MT",
         906.6915674,
         0.05,
         2023
        ],
        [
         "0000.00.0174",
         "PARNA DO MONTE RORAIMA",
         "PARQUE NACIONAL DO MONTE RORAIMA",
         "PARNA",
         "AMAZONIA",
         "RR",
         1911.860935,
         1.64,
         2023
        ],
        [
         "0000.00.0175",
         "PARNA DO PANTANAL MATOGROSSENSE",
         "PARQUE NACIONAL DO PANTANAL MATO-GROSSENSE",
         "PARNA",
         "PANTANAL",
         "MS;MT",
         53291.3074,
         39.21,
         2023
        ],
        [
         "0000.00.0177",
         "PARNA DO PICO DA NEBLINA",
         "PARQUE NACIONAL DO PICO DA NEBLINA",
         "PARNA",
         "AMAZONIA",
         "AM",
         630.5932805,
         0.03,
         2023
        ],
        [
         "0000.00.0264",
         "PARNA DO RIO NOVO",
         "PARQUE NACIONAL DO RIO NOVO",
         "PARNA",
         "AMAZONIA",
         "PA",
         263.8657508,
         0.05,
         2023
        ],
        [
         "0000.00.0284",
         "PARNA DOS CAMPOS AMAZONICOS",
         "PARQUE NACIONAL DOS CAMPOS AMAZONICOS",
         "PARNA",
         "AMAZONIA",
         "RO;MT;AM",
         22672.8483,
         2.36,
         2023
        ],
        [
         "0000.00.3519",
         "PARNA DOS CAMPOS FERRUGINOSOS",
         "PARQUE NACIONAL DOS CAMPOS FERRUGINOSOS",
         "PARNA",
         "AMAZONIA",
         "PA",
         52.55272167,
         0.07,
         2023
        ],
        [
         "0000.00.0180",
         "PARNA DOS LENCOIS MARANHENSES",
         "PARQUE NACIONAL DOS LENCOIS MARANHENSES",
         "PARNA",
         "CERRADO",
         "MA",
         2.011534696,
         0.0,
         2023
        ],
        [
         "0000.00.0179",
         "PARNA DO VIRUA",
         "PARQUE NACIONAL DO VIRUA",
         "PARNA",
         "AMAZONIA",
         "RR",
         18231.61393,
         6.49,
         2023
        ],
        [
         "0000.00.0182",
         "PARNA E HISTORICO DO MONTE PASCOAL",
         "PARQUE NACIONAL E HISTORICO DO MONTE PASCOAL",
         "PARNA",
         "MATA ATLANTICA",
         "BA",
         1670.459979,
         7.51,
         2023
        ],
        [
         "0000.00.0183",
         "PARNA GRANDE SERTAO VEREDAS",
         "PARQUE NACIONAL GRANDE SERTAO VEREDAS",
         "PARNA",
         "CERRADO",
         "BA;MG",
         3045.391332,
         1.32,
         2023
        ],
        [
         "0000.00.1633",
         "PARNA MAPINGUARI",
         "PARQUE NACIONAL MAPINGUARI",
         "PARNA",
         "AMAZONIA",
         "AM;RO",
         533.8254008,
         0.03,
         2023
        ],
        [
         "0000.00.0192",
         "REBIO DA CONTAGEM",
         "RESERVA BIOLOGICA DA CONTAGEM",
         "REBIO",
         "CERRADO",
         "DF",
         257.7409307,
         7.55,
         2023
        ],
        [
         "0000.00.0193",
         "REBIO DA MATA ESCURA",
         "RESERVA BIOLOGICA DA MATA ESCURA",
         "REBIO",
         "MATA ATLANTICA",
         "MG",
         241.406316,
         0.47,
         2023
        ],
        [
         "0000.00.0197",
         "REBIO DE PEDRA TALHADA",
         "RESERVA BIOLOGICA DE PEDRA TALHADA",
         "REBIO",
         "MATA ATLANTICA",
         "PE;AL",
         8.052970062,
         0.18,
         2023
        ],
        [
         "0000.00.0215",
         "REBIO DE POCO DAS ANTAS",
         "RESERVA BIOLOGICA DE POCO DAS ANTAS",
         "REBIO",
         "MATA ATLANTICA",
         "RJ",
         361.4435855,
         7.15,
         2023
        ],
        [
         "0000.00.0206",
         "REBIO DO GUAPORE",
         "RESERVA BIOLOGICA DO GUAPORE",
         "REBIO",
         "AMAZONIA",
         "RO",
         30566.40184,
         4.96,
         2023
        ],
        [
         "0000.00.0207",
         "REBIO DO GURUPI",
         "RESERVA BIOLOGICA DO GURUPI",
         "REBIO",
         "AMAZONIA",
         "MA",
         227.6495309,
         0.08,
         2023
        ],
        [
         "0000.00.0208",
         "REBIO DO JARU",
         "RESERVA BIOLOGICA DO JARU",
         "REBIO",
         "AMAZONIA",
         "RO",
         248.9392602,
         0.07,
         2023
        ],
        [
         "0000.00.0209",
         "REBIO DO LAGO PIRATUBA",
         "RESERVA BIOLOGICA DO LAGO PIRATUBA",
         "REBIO",
         "AMAZONIA",
         "AP",
         14866.61399,
         3.79,
         2023
        ],
        [
         "0000.00.3411",
         "REBIO DO MANICORE",
         "RESERVA BIOLOGICA DO MANICORE",
         "REBIO",
         "AMAZONIA",
         "AM",
         115.899929,
         0.03,
         2023
        ],
        [
         "0000.00.0210",
         "REBIO DO RIO TROMBETAS",
         "RESERVA BIOLOGICA DO RIO TROMBETAS",
         "REBIO",
         "AMAZONIA",
         "PA",
         1457.063742,
         0.36,
         2023
        ],
        [
         "0000.00.0212",
         "REBIO DO TINGUA",
         "RESERVA BIOLOGICA DO TINGUA",
         "REBIO",
         "MATA ATLANTICA",
         "RJ",
         12.819554,
         0.05,
         2023
        ],
        [
         "0000.00.0216",
         "REBIO NASCENTES DA SERRA DO CACHIMBO",
         "RESERVA BIOLOGICA NASCENTES DA SERRA DO CACHIMBO",
         "REBIO",
         "AMAZONIA",
         "PA",
         15076.61752,
         4.41,
         2023
        ],
        [
         "0000.00.1563",
         "RESEX ACAU GOIANA",
         "RESERVA EXTRATIVISTA ACAU-GOIANA",
         "RESEX",
         "MATA ATLANTICA",
         "PB;PE",
         5.441303445,
         0.08,
         2023
        ],
        [
         "0000.00.0285",
         "RESEX ARAPIXI",
         "RESERVA EXTRATIVISTA ARAPIXI",
         "RESEX",
         "AMAZONIA",
         "AM",
         16.77752489,
         0.01,
         2023
        ],
        [
         "0000.00.1564",
         "RESEX CHAPADA LIMPA",
         "RESERVA EXTRATIVISTA CHAPADA LIMPA",
         "RESEX",
         "CERRADO",
         "MA",
         449.4512589,
         3.75,
         2023
        ],
        [
         "0000.00.0226",
         "RESEX DA MATA GRANDE",
         "RESERVA EXTRATIVISTA MATA GRANDE",
         "RESEX",
         "CERRADO",
         "MA",
         70.35686437,
         0.62,
         2023
        ],
        [
         "0000.00.0253",
         "RESEX DE CANAVIEIRAS",
         "RESERVA EXTRATIVISTA DE CANAVIEIRAS",
         "RESEX",
         "MATA ATLANTICA",
         "BA",
         39.42808491,
         0.04,
         2023
        ],
        [
         "0000.00.1808",
         "RESEX DE CASSURUBA",
         "RESERVA EXTRATIVISTA DE CASSURUBA",
         "RESEX",
         "MATA ATLANTICA",
         "BA",
         542.6315077,
         0.54,
         2023
        ],
        [
         "0000.00.0286",
         "RESEX DE RECANTO DAS ARARAS DE TERRA RONCA",
         "RESERVA EXTRATIVISTA DE RECANTO DAS ARARAS DE TERRA RONCA",
         "RESEX",
         "CERRADO",
         "GO",
         657.0441604,
         5.32,
         2023
        ],
        [
         "0000.00.1517",
         "RESEX DO ALTO JURUA",
         "RESERVA EXTRATIVISTA DO ALTO JURUA",
         "RESEX",
         "AMAZONIA",
         "AC",
         3.908764913,
         0.0,
         2023
        ],
        [
         "0000.00.0232",
         "RESEX DO CAZUMBA-IRACEMA",
         "RESERVA EXTRATIVISTA DO CAZUMBA-IRACEMA",
         "RESEX",
         "AMAZONIA",
         "AC",
         34.83638713,
         0.0,
         2023
        ],
        [
         "0000.00.0256",
         "RESEX DO RIO OURO PRETO",
         "RESERVA EXTRATIVISTA DO RIO OURO PRETO",
         "RESEX",
         "AMAZONIA",
         "RO",
         29.77001522,
         0.01,
         2023
        ],
        [
         "0000.00.0245",
         "RESEX MARINHA DA BAIA DO IGUAPE",
         "RESERVA EXTRATIVISTA MARINHA DA BAIA DO IGUAPE",
         "RESEX",
         "MATA ATLANTICA",
         "BA",
         1.935960328,
         0.02,
         2023
        ],
        [
         "0000.00.0283",
         "RESEX RIO UNINI",
         "RESERVA EXTRATIVISTA RIO UNINI",
         "RESEX",
         "AMAZONIA",
         "AM",
         0.040187666,
         0.0,
         2023
        ],
        [
         "0000.00.1635",
         "RESEX RIO XINGU",
         "RESERVA EXTRATIVISTA RIO XINGU",
         "RESEX",
         "AMAZONIA",
         "PA",
         23.67247956,
         0.01,
         2023
        ],
        [
         "0000.00.0257",
         "RESEX RIOZINHO DA LIBERDADE",
         "RESERVA EXTRATIVISTA RIOZINHO DA LIBERDADE",
         "RESEX",
         "AMAZONIA",
         "AC;AM",
         2.252330327,
         0.0,
         2023
        ],
        [
         "0000.00.0259",
         "RESEX TAPAJOS-ARAPIUNS",
         "RESERVA EXTRATIVISTA TAPAJOS-ARAPIUNS",
         "RESEX",
         "AMAZONIA",
         "PA",
         1246.117478,
         0.18,
         2023
        ],
        [
         "0000.00.0260",
         "RESEX VERDE PARA SEMPRE",
         "RESERVA EXTRATIVISTA VERDE PARA SEMPRE",
         "RESEX",
         "AMAZONIA",
         "PA",
         11050.26893,
         0.86,
         2023
        ],
        [
         "0000.00.0219",
         "REVIS DAS VEREDAS DO OESTE BAIANO",
         "REFUGIO DE VIDA SILVESTRE DAS VEREDAS DO OESTE BAIANO",
         "REVIS",
         "CERRADO",
         "BA",
         4891.439374,
         3.82,
         2023
        ],
        [
         "0000.00.1907",
         "REVIS DE BOA NOVA",
         "REFUGIO DE VIDA SILVESTRE DE BOA NOVA",
         "REVIS",
         "MATA ATLANTICA",
         "BA",
         21.39650747,
         0.14,
         2023
        ],
        [
         "0000.00.1880",
         "REVIS DE UNA",
         "REFUGIO DE VIDA SILVESTRE DE UNA",
         "REVIS",
         "MATA ATLANTICA",
         "BA",
         102.5190153,
         0.44,
         2023
        ],
        [
         "0000.00.0278",
         "REVIS DOS CAMPOS DE PALMAS",
         "REFUGIO DE VIDA SILVESTRE DOS CAMPOS DE PALMAS",
         "REVIS",
         "MATA ATLANTICA",
         "PR;SC",
         2485.281266,
         14.98,
         2023
        ],
        [
         "0000.00.0002",
         "APA CAVERNAS DO PERUACU",
         "AREA DE PROTECAO AMBIENTAL CAVERNAS DO PERUACU",
         "APA",
         "CERRADO",
         "MG",
         640.7274810021117,
         0.45,
         2022
        ],
        [
         "0000.00.0003",
         "APA DA BACIA DO RIO DESCOBERTO",
         "AREA DE PROTECAO AMBIENTAL DA BACIA DO RIO DESCOBERTO",
         "APA",
         "CERRADO",
         "GO;DF",
         2250.455588210946,
         5.39,
         2022
        ],
        [
         "0000.00.1521",
         "APA BACIA PARAIBA DO SUL",
         "AREA DE PROTECAO AMBIENTAL BACIA DO PARAIBA DO SUL",
         "APA",
         "MATA ATLANTICA",
         "MG;RJ;SP",
         647.0417257656574,
         0.22,
         2022
        ],
        [
         "0000.00.0004",
         "APA DA BACIA DO RIO SAO BARTOLOMEU",
         "AREA DE PROTECAO AMBIENTAL DA BACIA DO RIO SAO BARTOLOMEU",
         "APA",
         "CERRADO",
         "DF",
         557.2478398057513,
         0.67,
         2022
        ],
        [
         "0000.00.0005",
         "APA DA BACIA DO RIO SAO JOAO/MICO-LEAO-DOURADO",
         "AREA DE PROTECAO AMBIENTAL DA BACIA DO RIO SAO JOAO/MICO-LEAO-DOURADO",
         "APA",
         "MATA ATLANTICA",
         "RJ",
         148.5636849584413,
         0.1,
         2022
        ],
        [
         "0000.00.0006",
         "APA DA BALEIA FRANCA",
         "AREA DE PROTECAO AMBIENTAL DA BALEIA FRANCA",
         "APA",
         "MATA ATLANTICA",
         "SC",
         2.718304151692986,
         0.0,
         2022
        ],
        [
         "0000.00.0008",
         "APA DA CHAPADA DO ARARIPE",
         "AREA DE PROTECAO AMBIENTAL DA CHAPADA DO ARARIPE",
         "APA",
         "CAATINGA",
         "PI;CE;PE",
         0.5936993665357935,
         0.0,
         2022
        ],
        [
         "0000.00.0010",
         "APA DA REGIAO SERRANA DE PETROPOLIS",
         "AREA DE PROTECAO AMBIENTAL DA REGIAO SERRANA DE PETROPOLIS",
         "APA",
         "MATA ATLANTICA",
         "RJ",
         236.8810286742184,
         0.35,
         2022
        ],
        [
         "0000.00.0011",
         "APA DA SERRA DA MANTIQUEIRA",
         "AREA DE PROTECAO AMBIENTAL DA SERRA DA MANTIQUEIRA",
         "APA",
         "MATA ATLANTICA",
         "MG;RJ;SP",
         60.62824790369197,
         0.01,
         2022
        ],
        [
         "0000.00.0025",
         "APA DAS ILHAS E VARZEAS DO RIO PARANA",
         "AREA DE PROTECAO AMBIENTAL DAS ILHAS E VARZEAS DO RIO PARANA",
         "APA",
         "MATA ATLANTICA",
         "SP;PR;MS",
         1544.166238982511,
         0.15,
         2022
        ],
        [
         "0000.00.0028",
         "APA DAS NASCENTES DO RIO VERMELHO",
         "AREA DE PROTECAO AMBIENTAL DAS NASCENTES DO RIO VERMELHO",
         "APA",
         "CERRADO",
         "BA;GO",
         13652.24067096924,
         7.74,
         2022
        ],
        [
         "0000.00.0019",
         "APA DELTA DO PARNAIBA",
         "AREA DE PROTECAO AMBIENTAL DELTA DO PARNAIBA",
         "APA",
         "CERRADO",
         "MA;PI;CE",
         154.9667068602534,
         0.05,
         2022
        ],
        [
         "0000.00.3655",
         "APA DO BOQUEIRAO DA ONCA",
         "AREA DE PROTECAO AMBIENTAL DO BOQUEIRAO DA ONCA",
         "APA",
         "CAATINGA",
         "BA",
         1684.480470657638,
         0.33,
         2022
        ],
        [
         "0000.00.0021",
         "APA DO IBIRAPUITA",
         "AREA DE PROTECAO AMBIENTAL DO IBIRAPUITA",
         "APA",
         "PAMPA",
         "RS",
         3316.898246227431,
         1.05,
         2022
        ],
        [
         "0000.00.0023",
         "APA DO PLANALTO CENTRAL",
         "AREA DE PROTECAO AMBIENTAL DO PLANALTO CENTRAL",
         "APA",
         "CERRADO",
         "GO;DF",
         19507.94366517364,
         3.88,
         2022
        ],
        [
         "0000.00.0024",
         "APA MEANDROS DO RIO ARAGUAIA",
         "AREA DE PROTECAO AMBIENTAL DOS MEANDROS DO RIO ARAGUAIA",
         "APA",
         "CERRADO",
         "MT;GO",
         35269.48189254802,
         9.82,
         2022
        ],
        [
         "0000.00.0027",
         "APA MORRO DA PEDREIRA",
         "AREA DE PROTECAO AMBIENTAL MORRO DA PEDREIRA",
         "APA",
         "CERRADO",
         "MG",
         4977.367832354927,
         3.78,
         2022
        ],
        [
         "0000.00.0029",
         "APA SERRA DA IBIAPABA",
         "AREA DE PROTECAO AMBIENTAL SERRA DA IBIAPABA",
         "APA",
         "CAATINGA",
         "PI;CE",
         5102.337456956082,
         0.31,
         2022
        ],
        [
         "0000.00.0012",
         "APA SERRA DA TABATINGA",
         "AREA DE PROTECAO AMBIENTAL SERRA DA TABATINGA",
         "APA",
         "CERRADO",
         "MA;PI",
         72.52369509742857,
         0.17,
         2022
        ],
        [
         "0000.00.0261",
         "ESEC DA MATA PRETA",
         "ESTACAO ECOLOGICA DA MATA PRETA",
         "ESEC",
         "MATA ATLANTICA",
         "PR;SC",
         8.416584326437116,
         0.13,
         2022
        ],
        [
         "0000.00.0075",
         "ESEC DA SERRA DAS ARARAS",
         "ESTACAO ECOLOGICA DA SERRA DAS ARARAS",
         "ESEC",
         "CERRADO",
         "MT",
         844.2002399366688,
         3.11,
         2022
        ],
        [
         "0000.00.0047",
         "ESEC DA TERRA DO MEIO",
         "ESTACAO ECOLOGICA DA TERRA DO MEIO",
         "ESEC",
         "AMAZONIA",
         "PA",
         2941.719043101591,
         0.09,
         2022
        ],
        [
         "0000.00.0053",
         "ESEC DE CUNIA",
         "ESTACAO ECOLOGICA DE CUNIA",
         "ESEC",
         "AMAZONIA",
         "RO;AM",
         5145.325183476571,
         2.78,
         2022
        ],
        [
         "0000.00.0065",
         "ESEC DE URUCUI-UNA",
         "ESTACAO ECOLOGICA DE URUCUI-UNA",
         "ESEC",
         "CERRADO",
         "PI",
         40106.75417382266,
         29.68,
         2022
        ],
        [
         "0000.00.0070",
         "ESEC DO TAIM",
         "ESTACAO ECOLOGICA DO TAIM",
         "ESEC",
         "PAMPA",
         "RS",
         12096.25177966871,
         36.87,
         2022
        ],
        [
         "0000.00.0076",
         "ESEC SERRA GERAL DO TOCANTINS",
         "ESTACAO ECOLOGICA SERRA GERAL DO TOCANTINS",
         "ESEC",
         "CERRADO",
         "BA;TO",
         297816.7325890216,
         42.12,
         2022
        ],
        [
         "0000.00.0086",
         "FLONA DE BRASILIA",
         "FLORESTA NACIONAL DE BRASILIA",
         "FLONA",
         "CERRADO",
         "DF",
         2079.699321929818,
         22.28,
         2022
        ],
        [
         "0000.00.0092",
         "FLONA DE HUMAITA",
         "FLORESTA NACIONAL DE HUMAITA",
         "FLONA",
         "AMAZONIA",
         "AM",
         8.873351652006805,
         0.0,
         2022
        ],
        [
         "0000.00.0097",
         "FLONA DE JACUNDA",
         "FLORESTA NACIONAL DE JACUNDA",
         "FLONA",
         "AMAZONIA",
         "RO",
         126.3545094204835,
         0.06,
         2022
        ],
        [
         "0000.00.0106",
         "FLONA DE RORAIMA",
         "FLORESTA NACIONAL DE RORAIMA",
         "FLONA",
         "AMAZONIA",
         "AM;RR",
         52.70952430777503,
         0.03,
         2022
        ],
        [
         "0000.00.0133",
         "FLONA DE SAO FRANCISCO DE PAULA",
         "FLORESTA NACIONAL DE SAO FRANCISCO DE PAULA",
         "FLONA",
         "MATA ATLANTICA",
         "RS",
         2.537837538,
         0.16,
         2022
        ],
        [
         "0000.00.0110",
         "FLONA DE SILVANIA",
         "FLORESTA NACIONAL DE SILVANIA",
         "FLONA",
         "CERRADO",
         "GO",
         17.73353832064867,
         3.64,
         2022
        ],
        [
         "0000.00.3409",
         "FLONA DO ARIPUANA",
         "FLORESTA NACIONAL DO ARIPUANA",
         "FLONA",
         "AMAZONIA",
         "AM",
         1620.482895813206,
         0.22,
         2022
        ],
        [
         "0000.00.0116",
         "FLONA DO BOM FUTURO",
         "FLORESTA NACIONAL DO BOM FUTURO",
         "FLONA",
         "AMAZONIA",
         "RO",
         4435.065891,
         4.43,
         2022
        ],
        [
         "0000.00.1612",
         "FLONA DO IQUIRI",
         "FLORESTA NACIONAL DO IQUIRI",
         "FLONA",
         "AMAZONIA",
         "AM",
         336.5506083024353,
         0.02,
         2022
        ],
        [
         "0000.00.0117",
         "FLONA DO ITACAIUNAS",
         "FLORESTA NACIONAL DO ITACAIUNAS",
         "FLONA",
         "AMAZONIA",
         "PA",
         288.6692621531263,
         0.21,
         2022
        ],
        [
         "0000.00.0266",
         "FLONA DO JAMANXIM",
         "FLORESTA NACIONAL DO JAMANXIM",
         "FLONA",
         "AMAZONIA",
         "PA",
         42494.14533639582,
         3.26,
         2022
        ],
        [
         "0000.00.0123",
         "FLONA DO TAPAJOS",
         "FLORESTA NACIONAL DO TAPAJOS",
         "FLONA",
         "AMAZONIA",
         "PA",
         39.5520336,
         0.01,
         2022
        ],
        [
         "0000.00.0136",
         "PARNA DA AMAZONIA",
         "PARQUE NACIONAL DA AMAZONIA",
         "PARNA",
         "AMAZONIA",
         "AM;PA",
         1.811500137823448,
         0.0,
         2022
        ],
        [
         "0000.00.0272",
         "PARNA DA CHAPADA DAS MESAS",
         "PARQUE NACIONAL DA CHAPADA DAS MESAS",
         "PARNA",
         "CERRADO",
         "MA",
         63967.66737698494,
         39.99,
         2022
        ],
        [
         "0000.00.0137",
         "PARNA DA CHAPADA DIAMANTINA",
         "PARQUE NACIONAL DA CHAPADA DA DIAMANTINA",
         "PARNA",
         "CAATINGA",
         "BA",
         1265.470384,
         0.83,
         2022
        ],
        [
         "0000.00.0138",
         "PARNA DA CHAPADA DOS GUIMARAES",
         "PARQUE NACIONAL DA CHAPADA DOS GUIMARAES",
         "PARNA",
         "CERRADO",
         "MT",
         1930.715125479591,
         5.91,
         2022
        ],
        [
         "0000.00.0139",
         "PARNA DA CHAPADA DOS VEADEIROS",
         "PARQUE NACIONAL DA CHAPADA DOS VEADEIROS",
         "PARNA",
         "CERRADO",
         "GO",
         64619.17947,
         26.86,
         2022
        ],
        [
         "0000.00.0155",
         "PARNA DAS EMAS",
         "PARQUE NACIONAL DAS EMAS",
         "PARNA",
         "CERRADO",
         "MS;GO",
         14817.34939142367,
         11.16,
         2022
        ],
        [
         "0000.00.0142",
         "PARNA DA SERRA DA BOCAINA",
         "PARQUE NACIONAL DA SERRA DA BOCAINA",
         "PARNA",
         "MATA ATLANTICA",
         "RJ;SP",
         629.8043081480131,
         0.59,
         2022
        ],
        [
         "0000.00.0143",
         "PARNA DA SERRA DA BODOQUENA",
         "PARQUE NACIONAL DA SERRA DA BODOQUENA",
         "PARNA",
         "CERRADO",
         "MS",
         6.233298369152844,
         0.01,
         2022
        ],
        [
         "0000.00.0144",
         "PARNA DA SERRA DA CANASTRA",
         "PARQUE NACIONAL DA SERRA DA CANASTRA",
         "PARNA",
         "CERRADO",
         "MG",
         54959.17582680356,
         27.76,
         2022
        ],
        [
         "0000.00.0145",
         "PARNA DA SERRA DA CAPIVARA",
         "PARQUE NACIONAL DA SERRA DA CAPIVARA",
         "PARNA",
         "CAATINGA",
         "PI",
         41.53382271510213,
         0.04,
         2022
        ],
        [
         "0000.00.0146",
         "PARNA DA SERRA DAS CONFUSOES",
         "PARQUE NACIONAL DA SERRA DAS CONFUSOES",
         "PARNA",
         "CAATINGA",
         "PI",
         16301.52033857773,
         1.98,
         2022
        ],
        [
         "0000.00.0148",
         "PARNA DA SERRA DO CIPO",
         "PARQUE NACIONAL DA SERRA DO CIPO",
         "PARNA",
         "CERRADO",
         "MG",
         761.6145298466521,
         2.41,
         2022
        ],
        [
         "0000.00.3136",
         "PARNA DA SERRA DO GANDARELA",
         "PARQUE NACIONAL DA SERRA DO GANDARELA",
         "PARNA",
         "MATA ATLANTICA",
         "MG",
         2072.176226934783,
         6.63,
         2022
        ],
        [
         "0000.00.0150",
         "PARNA DA SERRA DO ITAJAI",
         "PARQUE NACIONAL DA SERRA DO ITAJAI",
         "PARNA",
         "MATA ATLANTICA",
         "SC",
         4.420108963432908,
         0.01,
         2022
        ],
        [
         "0000.00.0151",
         "PARNA DA SERRA DO PARDO",
         "PARQUE NACIONAL DA SERRA DO PARDO",
         "PARNA",
         "AMAZONIA",
         "PA",
         196.6176889859368,
         0.04,
         2022
        ],
        [
         "0000.00.0152",
         "PARNA DA SERRA DOS ORGAOS",
         "PARQUE NACIONAL DA SERRA DOS ORGAOS",
         "PARNA",
         "MATA ATLANTICA",
         "RJ",
         34.87399727248093,
         0.17,
         2022
        ],
        [
         "0000.00.0153",
         "PARNA DA SERRA GERAL",
         "PARQUE NACIONAL DA SERRA GERAL",
         "PARNA",
         "MATA ATLANTICA",
         "SC;RS",
         640.6834141016363,
         3.7,
         2022
        ],
        [
         "0000.00.0156",
         "PARNA DAS NASCENTES DO RIO PARNAIBA",
         "PARQUE NACIONAL DAS NASCENTES DO RIO PARNAIBA",
         "PARNA",
         "CERRADO",
         "MA;PI;BA",
         165651.8899353112,
         22.09,
         2022
        ],
        [
         "0000.00.0157",
         "PARNA DAS SEMPRE-VIVAS",
         "PARQUE NACIONAL DAS SEMPRE-VIVAS",
         "PARNA",
         "CERRADO",
         "MG",
         5366.887257507798,
         4.32,
         2022
        ],
        [
         "0000.00.0158",
         "PARNA DE APARADOS DA SERRA",
         "PARQUE NACIONAL DE APARADOS DA SERRA",
         "PARNA",
         "MATA ATLANTICA",
         "SC;RS",
         189.4068718466341,
         1.44,
         2022
        ],
        [
         "0000.00.0159",
         "PARNA DE BRASILIA",
         "PARQUE NACIONAL DE BRASILIA",
         "PARNA",
         "CERRADO",
         "DF",
         14675.94216165505,
         34.65,
         2022
        ],
        [
         "0000.00.0184",
         "PARNA DE ITATIAIA",
         "PARQUE NACIONAL DE ITATIAIA",
         "PARNA",
         "MATA ATLANTICA",
         "MG;RJ",
         147.0500073732611,
         0.52,
         2022
        ],
        [
         "0000.00.0163",
         "PARNA DE PACAAS NOVOS",
         "PARQUE NACIONAL DE PACAAS NOVOS",
         "PARNA",
         "AMAZONIA",
         "RO",
         10495.51191143831,
         1.48,
         2022
        ],
        [
         "0000.00.0165",
         "PARNA DE SAO JOAQUIM",
         "PARQUE NACIONAL DE SAO JOAQUIM",
         "PARNA",
         "MATA ATLANTICA",
         "SC",
         3372.458948027535,
         6.79,
         2022
        ],
        [
         "0000.00.0168",
         "PARNA DO ARAGUAIA",
         "PARQUE NACIONAL DO ARAGUAIA",
         "PARNA",
         "CERRADO",
         "TO",
         203292.5169332762,
         36.59,
         2022
        ],
        [
         "0000.00.3652",
         "PARNA DO BOQUEIRAO DA ONCA",
         "PARQUE NACIONAL DO BOQUEIRAO DA ONCA",
         "PARNA",
         "CAATINGA",
         "BA",
         635.7956299365637,
         0.18,
         2022
        ],
        [
         "0000.00.0267",
         "PARNA DO JAMANXIM",
         "PARQUE NACIONAL DO JAMANXIM",
         "PARNA",
         "AMAZONIA",
         "PA",
         2043.600403344188,
         0.24,
         2022
        ],
        [
         "0000.00.0173",
         "PARNA DO JAU",
         "PARQUE NACIONAL DO JAU",
         "PARNA",
         "AMAZONIA",
         "AM;RR",
         267.0671896980685,
         0.01,
         2022
        ],
        [
         "0000.00.0281",
         "PARNA DO JURUENA",
         "PARQUE NACIONAL DO JURUENA",
         "PARNA",
         "AMAZONIA",
         "AM;MT",
         883.2536552235869,
         0.05,
         2022
        ],
        [
         "0000.00.0174",
         "PARNA DO MONTE RORAIMA",
         "PARQUE NACIONAL DO MONTE RORAIMA",
         "PARNA",
         "AMAZONIA",
         "RR",
         0.8462349161542952,
         0.0,
         2022
        ],
        [
         "0000.00.0175",
         "PARNA DO PANTANAL MATOGROSSENSE",
         "PARQUE NACIONAL DO PANTANAL MATO-GROSSENSE",
         "PARNA",
         "PANTANAL",
         "MS;MT",
         18146.25257293748,
         13.35,
         2022
        ],
        [
         "0000.00.0264",
         "PARNA DO RIO NOVO",
         "PARQUE NACIONAL DO RIO NOVO",
         "PARNA",
         "AMAZONIA",
         "PA",
         1463.916343881122,
         0.27,
         2022
        ],
        [
         "0000.00.0284",
         "PARNA DOS CAMPOS AMAZONICOS",
         "PARQUE NACIONAL DOS CAMPOS AMAZONICOS",
         "PARNA",
         "AMAZONIA",
         "RO;MT;AM",
         25060.84610845047,
         2.61,
         2022
        ],
        [
         "0000.00.3519",
         "PARNA DOS CAMPOS FERRUGINOSOS",
         "PARQUE NACIONAL DOS CAMPOS FERRUGINOSOS",
         "PARNA",
         "AMAZONIA",
         "PA",
         2540.298912977985,
         3.21,
         2022
        ],
        [
         "0000.00.0182",
         "PARNA E HISTORICO DO MONTE PASCOAL",
         "PARQUE NACIONAL E HISTORICO DO MONTE PASCOAL",
         "PARNA",
         "MATA ATLANTICA",
         "BA",
         110.4524873893149,
         0.5,
         2022
        ],
        [
         "0000.00.0183",
         "PARNA GRANDE SERTAO VEREDAS",
         "PARQUE NACIONAL GRANDE SERTAO VEREDAS",
         "PARNA",
         "CERRADO",
         "BA;MG",
         6289.629999699486,
         2.72,
         2022
        ],
        [
         "0000.00.1633",
         "PARNA MAPINGUARI",
         "PARQUE NACIONAL MAPINGUARI",
         "PARNA",
         "AMAZONIA",
         "AM;RO",
         2876.322747,
         0.16,
         2022
        ],
        [
         "0000.00.0192",
         "REBIO DA CONTAGEM",
         "RESERVA BIOLOGICA DA CONTAGEM",
         "REBIO",
         "CERRADO",
         "DF",
         165.0701209690593,
         4.84,
         2022
        ],
        [
         "0000.00.0193",
         "REBIO DA MATA ESCURA",
         "RESERVA BIOLOGICA DA MATA ESCURA",
         "REBIO",
         "MATA ATLANTICA",
         "MG",
         191.7619821159042,
         0.38,
         2022
        ],
        [
         "0000.00.0276",
         "REBIO DAS ARAUCARIAS",
         "RESERVA BIOLOGICA DAS ARAUCARIAS",
         "REBIO",
         "MATA ATLANTICA",
         "PR",
         0.691386825,
         0.0,
         2022
        ],
        [
         "0000.00.0197",
         "REBIO DE PEDRA TALHADA",
         "RESERVA BIOLOGICA DE PEDRA TALHADA",
         "REBIO",
         "MATA ATLANTICA",
         "PE;AL",
         9.685647570481152,
         0.22,
         2022
        ],
        [
         "0000.00.0215",
         "REBIO DE POCO DAS ANTAS",
         "RESERVA BIOLOGICA DE POCO DAS ANTAS",
         "REBIO",
         "MATA ATLANTICA",
         "RJ",
         193.8972131244349,
         3.84,
         2022
        ],
        [
         "0000.00.0206",
         "REBIO DO GUAPORE",
         "RESERVA BIOLOGICA DO GUAPORE",
         "REBIO",
         "AMAZONIA",
         "RO",
         18517.33628560991,
         3.01,
         2022
        ],
        [
         "0000.00.0207",
         "REBIO DO GURUPI",
         "RESERVA BIOLOGICA DO GURUPI",
         "REBIO",
         "AMAZONIA",
         "MA",
         422.5123126035064,
         0.16,
         2022
        ],
        [
         "0000.00.0208",
         "REBIO DO JARU",
         "RESERVA BIOLOGICA DO JARU",
         "REBIO",
         "AMAZONIA",
         "RO",
         293.5354008392539,
         0.08,
         2022
        ],
        [
         "0000.00.0212",
         "REBIO DO TINGUA",
         "RESERVA BIOLOGICA DO TINGUA",
         "REBIO",
         "MATA ATLANTICA",
         "RJ",
         0.4539230657741428,
         0.0,
         2022
        ],
        [
         "0000.00.0216",
         "REBIO NASCENTES DA SERRA DO CACHIMBO",
         "RESERVA BIOLOGICA NASCENTES DA SERRA DO CACHIMBO",
         "REBIO",
         "AMAZONIA",
         "PA",
         16161.08937,
         4.72,
         2022
        ],
        [
         "0000.00.1564",
         "RESEX CHAPADA LIMPA",
         "RESERVA EXTRATIVISTA CHAPADA LIMPA",
         "RESEX",
         "CERRADO",
         "MA",
         488.6533488824398,
         4.08,
         2022
        ],
        [
         "0000.00.0222",
         "RESEX CHICO MENDES",
         "RESERVA EXTRATIVISTA CHICO MENDES",
         "RESEX",
         "AMAZONIA",
         "AC",
         102.6166378410463,
         0.01,
         2022
        ],
        [
         "0000.00.0226",
         "RESEX DA MATA GRANDE",
         "RESERVA EXTRATIVISTA MATA GRANDE",
         "RESEX",
         "CERRADO",
         "MA",
         207.5376882285468,
         1.82,
         2022
        ],
        [
         "0000.00.0286",
         "RESEX DE RECANTO DAS ARARAS DE TERRA RONCA",
         "RESERVA EXTRATIVISTA DE RECANTO DAS ARARAS DE TERRA RONCA",
         "RESEX",
         "CERRADO",
         "GO",
         1550.979128,
         12.56,
         2022
        ],
        [
         "0000.00.1517",
         "RESEX DO ALTO JURUA",
         "RESERVA EXTRATIVISTA DO ALTO JURUA",
         "RESEX",
         "AMAZONIA",
         "AC",
         0.8517544205702842,
         0.0,
         2022
        ],
        [
         "0000.00.1518",
         "RESEX DO RIO CAJARI",
         "RESERVA EXTRATIVISTA DO RIO CAJARI",
         "RESEX",
         "AMAZONIA",
         "AP",
         1898.542235052041,
         0.36,
         2022
        ],
        [
         "0000.00.0256",
         "RESEX DO RIO OURO PRETO",
         "RESERVA EXTRATIVISTA DO RIO OURO PRETO",
         "RESEX",
         "AMAZONIA",
         "RO",
         25.06254469134063,
         0.01,
         2022
        ],
        [
         "0000.00.1628",
         "RESEX ITUXI",
         "RESERVA EXTRATIVISTA ITUXI",
         "RESEX",
         "AMAZONIA",
         "AM",
         8.867539969944207,
         0.0,
         2022
        ],
        [
         "0000.00.0257",
         "RESEX RIOZINHO DA LIBERDADE",
         "RESERVA EXTRATIVISTA RIOZINHO DA LIBERDADE",
         "RESEX",
         "AMAZONIA",
         "AC;AM",
         1.388721966906614,
         0.0,
         2022
        ],
        [
         "0000.00.0259",
         "RESEX TAPAJOS-ARAPIUNS",
         "RESERVA EXTRATIVISTA TAPAJOS-ARAPIUNS",
         "RESEX",
         "AMAZONIA",
         "PA",
         14.32035699640438,
         0.0,
         2022
        ],
        [
         "0000.00.0219",
         "REVIS DAS VEREDAS DO OESTE BAIANO",
         "REFUGIO DE VIDA SILVESTRE DAS VEREDAS DO OESTE BAIANO",
         "REVIS",
         "CERRADO",
         "BA",
         9177.280584,
         7.17,
         2022
        ],
        [
         "0000.00.0278",
         "REVIS DOS CAMPOS DE PALMAS",
         "REFUGIO DE VIDA SILVESTRE DOS CAMPOS DE PALMAS",
         "REVIS",
         "MATA ATLANTICA",
         "PR;SC",
         1046.068004287936,
         6.3,
         2022
        ],
        [
         "0000.00.0011",
         "APA DA SERRA DA MANTIQUEIRA",
         "AREA DE PROTECAO AMBIENTAL DA SERRA DA MANTIQUEIRA",
         "APA",
         "MATA ATLANTICA",
         "MG;RJ;SP",
         1586.9,
         0.3626996321018411,
         2021
        ],
        [
         "0000.00.0047",
         "ESEC DA TERRA DO MEIO",
         "ESTACAO ECOLOGICA DA TERRA DO MEIO",
         "ESEC",
         "AMAZONIA",
         "PA",
         8117.579044,
         0.24065150586674502,
         2021
        ],
        [
         "0000.00.0065",
         "ESEC DE URUCUI-UNA",
         "ESTACAO ECOLOGICA DE URUCUI-UNA",
         "ESEC",
         "CERRADO",
         "PI",
         17915.96,
         13.259070595532625,
         2021
        ],
        [
         "0000.00.0074",
         "ESEC RASO DA CATARINA",
         "ESTACAO ECOLOGICA RASO DA CATARINA",
         "ESEC",
         "CAATINGA",
         "BA",
         556.68,
         0.5309582466466952,
         2021
        ],
        [
         "0000.00.0076",
         "ESEC SERRA GERAL DO TOCANTINS",
         "ESTACAO ECOLOGICA SERRA GERAL DO TOCANTINS",
         "ESEC",
         "CERRADO",
         "BA;TO",
         136794.97771,
         19.346252246008504,
         2021
        ],
        [
         "0000.00.0083",
         "FLONA DE ALTAMIRA",
         "FLORESTA NACIONAL DE ALTAMIRA",
         "FLONA",
         "AMAZONIA",
         "PA",
         11031.48,
         1.5259034517099295,
         2021
        ],
        [
         "0000.00.0086",
         "FLONA DE BRASILIA",
         "FLORESTA NACIONAL DE BRASILIA",
         "FLONA",
         "CERRADO",
         "DF",
         1988.87,
         21.302672608057573,
         2021
        ],
        [
         "0000.00.0096",
         "FLONA DE ITAITUBA II",
         "FLORESTA NACIONAL DE ITAITUBA II",
         "FLONA",
         "AMAZONIA",
         "PA",
         625.697569,
         0.15730750822336134,
         2021
        ],
        [
         "0000.00.0116",
         "FLONA DO BOM FUTURO",
         "FLORESTA NACIONAL DO BOM FUTURO",
         "FLONA",
         "AMAZONIA",
         "RO",
         7200.644236,
         7.195238607500101,
         2021
        ],
        [
         "0000.00.0117",
         "FLONA DO ITACAIUNAS",
         "FLORESTA NACIONAL DO ITACAIUNAS",
         "FLONA",
         "AMAZONIA",
         "PA",
         400.46,
         0.29298924935842313,
         2021
        ],
        [
         "0000.00.0266",
         "FLONA DO JAMANXIM",
         "FLORESTA NACIONAL DO JAMANXIM",
         "FLONA",
         "AMAZONIA",
         "PA",
         44461.549547,
         3.415659225557721,
         2021
        ],
        [
         "0000.00.0135",
         "PARNA CAVERNAS DO PERUACU",
         "PARQUE NACIONAL CAVERNAS DO PERUACU",
         "PARNA",
         "CERRADO",
         "MG",
         148.19,
         0.2625201323071599,
         2021
        ],
        [
         "0000.00.0272",
         "PARNA DA CHAPADA DAS MESAS",
         "PARQUE NACIONAL DA CHAPADA DAS MESAS",
         "PARNA",
         "CERRADO",
         "MA",
         33706.213584,
         21.072470715292887,
         2021
        ],
        [
         "0000.00.0137",
         "PARNA DA CHAPADA DIAMANTINA",
         "PARQUE NACIONAL DA CHAPADA DA DIAMANTINA",
         "PARNA",
         "CAATINGA",
         "BA",
         2765.26,
         1.8175291575345063,
         2021
        ],
        [
         "0000.00.0138",
         "PARNA DA CHAPADA DOS GUIMARAES",
         "PARQUE NACIONAL DA CHAPADA DOS GUIMARAES",
         "PARNA",
         "CERRADO",
         "MT",
         666.68,
         2.042097078364346,
         2021
        ],
        [
         "0000.00.0139",
         "PARNA DA CHAPADA DOS VEADEIROS",
         "PARQUE NACIONAL DA CHAPADA DOS VEADEIROS",
         "PARNA",
         "CERRADO",
         "GO",
         39125.913327999995,
         16.262717578446598,
         2021
        ],
        [
         "0000.00.0141",
         "PARNA DA RESTINGA DE JURUBATIBA",
         "PARQUE NACIONAL DA RESTINGA DE JURUBATIBA",
         "PARNA",
         "MATA ATLANTICA",
         "RJ",
         79.8,
         0.5348717301345105,
         2021
        ],
        [
         "0000.00.0143",
         "PARNA DA SERRA DA BODOQUENA",
         "PARQUE NACIONAL DA SERRA DA BODOQUENA",
         "PARNA",
         "CERRADO",
         "MS",
         13.62,
         0.017683259328503544,
         2021
        ],
        [
         "0000.00.0144",
         "PARNA DA SERRA DA CANASTRA",
         "PARQUE NACIONAL DA SERRA DA CANASTRA",
         "PARNA",
         "CERRADO",
         "MG",
         40667.717262,
         20.54216012352924,
         2021
        ],
        [
         "0000.00.0146",
         "PARNA DA SERRA DAS CONFUSOES",
         "PARQUE NACIONAL DA SERRA DAS CONFUSOES",
         "PARNA",
         "CAATINGA",
         "PI",
         39222.26,
         4.7608234388468285,
         2021
        ],
        [
         "0000.00.0155",
         "PARNA DAS EMAS",
         "PARQUE NACIONAL DAS EMAS",
         "PARNA",
         "CERRADO",
         "MS;GO",
         40029.19,
         30.145218018207434,
         2021
        ],
        [
         "0000.00.0156",
         "PARNA DAS NASCENTES DO RIO PARNAIBA",
         "PARQUE NACIONAL DAS NASCENTES DO RIO PARNAIBA",
         "PARNA",
         "CERRADO",
         "MA;PI;BA",
         159477.244095,
         21.27003694944607,
         2021
        ],
        [
         "0000.00.0159",
         "PARNA DE BRASILIA",
         "PARQUE NACIONAL DE BRASILIA",
         "PARNA",
         "CERRADO",
         "DF",
         9899.971341,
         23.373495868078493,
         2021
        ],
        [
         "0000.00.0161",
         "PARNA DE ILHA GRANDE",
         "PARQUE NACIONAL DE ILHA GRANDE",
         "PARNA",
         "MATA ATLANTICA",
         "MS;PR",
         42473.16,
         55.78430767207209,
         2021
        ],
        [
         "0000.00.0163",
         "PARNA DE PACAAS NOVOS",
         "PARQUE NACIONAL DE PACAAS NOVOS",
         "PARNA",
         "AMAZONIA",
         "RO",
         7671.681189999999,
         1.0825464923014851,
         2021
        ],
        [
         "0000.00.0168",
         "PARNA DO ARAGUAIA",
         "PARQUE NACIONAL DO ARAGUAIA",
         "PARNA",
         "CERRADO",
         "TO",
         243856.304718,
         43.896593535835905,
         2021
        ],
        [
         "0000.00.3652",
         "PARNA DO BOQUEIRAO DA ONCA",
         "PARQUE NACIONAL DO BOQUEIRAO DA ONCA",
         "PARNA",
         "CAATINGA",
         "BA",
         159.90241,
         0.04609359323758638,
         2021
        ],
        [
         "0000.00.0267",
         "PARNA DO JAMANXIM",
         "PARQUE NACIONAL DO JAMANXIM",
         "PARNA",
         "AMAZONIA",
         "PA",
         1033.83,
         0.1198094406424383,
         2021
        ],
        [
         "0000.00.0284",
         "PARNA DOS CAMPOS AMAZONICOS",
         "PARQUE NACIONAL DOS CAMPOS AMAZONICOS",
         "PARNA",
         "AMAZONIA",
         "RO;MT;AM",
         27950.969274,
         2.9075412919043075,
         2021
        ],
        [
         "0000.00.3519",
         "PARNA DOS CAMPOS FERRUGINOSOS",
         "PARQUE NACIONAL DOS CAMPOS FERRUGINOSOS",
         "PARNA",
         "AMAZONIA",
         "PA",
         649.04,
         0.8206758343770342,
         2021
        ],
        [
         "0000.00.0182",
         "PARNA E HISTORICO DO MONTE PASCOAL",
         "PARQUE NACIONAL E HISTORICO DO MONTE PASCOAL",
         "PARNA",
         "MATA ATLANTICA",
         "BA",
         830.59,
         3.7346933993010873,
         2021
        ],
        [
         "0000.00.0183",
         "PARNA GRANDE SERTAO VEREDAS",
         "PARQUE NACIONAL GRANDE SERTAO VEREDAS",
         "PARNA",
         "CERRADO",
         "BA;MG",
         826.7632140000001,
         0.3581291810065469,
         2021
        ],
        [
         "0000.00.1633",
         "PARNA MAPINGUARI",
         "PARQUE NACIONAL MAPINGUARI",
         "PARNA",
         "AMAZONIA",
         "AM;RO",
         16801.257114,
         0.9455242551918388,
         2021
        ],
        [
         "0000.00.0192",
         "REBIO DA CONTAGEM",
         "RESERVA BIOLOGICA DA CONTAGEM",
         "REBIO",
         "CERRADO",
         "DF",
         1945.8381,
         57.03398497080397,
         2021
        ],
        [
         "0000.00.0193",
         "REBIO DA MATA ESCURA",
         "RESERVA BIOLOGICA DA MATA ESCURA",
         "REBIO",
         "MATA ATLANTICA",
         "MG",
         921.387173,
         1.8104616617851166,
         2021
        ],
        [
         "0000.00.0197",
         "REBIO DE PEDRA TALHADA",
         "RESERVA BIOLOGICA DE PEDRA TALHADA",
         "REBIO",
         "MATA ATLANTICA",
         "PE;AL",
         9.954355,
         0.22714535105757935,
         2021
        ],
        [
         "0000.00.0206",
         "REBIO DO GUAPORE",
         "RESERVA BIOLOGICA DO GUAPORE",
         "REBIO",
         "AMAZONIA",
         "RO",
         9460.789153,
         1.536400264377731,
         2021
        ],
        [
         "0000.00.0216",
         "REBIO NASCENTES DA SERRA DO CACHIMBO",
         "RESERVA BIOLOGICA NASCENTES DA SERRA DO CACHIMBO",
         "REBIO",
         "AMAZONIA",
         "PA",
         5855.618579,
         1.7111896296400895,
         2021
        ],
        [
         "0000.00.0222",
         "RESEX CHICO MENDES",
         "RESERVA EXTRATIVISTA CHICO MENDES",
         "RESEX",
         "AMAZONIA",
         "AC",
         345.56,
         0.03709544502489046,
         2021
        ],
        [
         "0000.00.1808",
         "RESEX DE CASSURUBA",
         "RESERVA EXTRATIVISTA DE CASSURUBA",
         "RESEX",
         "MATA ATLANTICA",
         "BA",
         245.760115,
         0.24434686647329865,
         2021
        ],
        [
         "0000.00.0286",
         "RESEX DE RECANTO DAS ARARAS DE TERRA RONCA",
         "RESERVA EXTRATIVISTA DE RECANTO DAS ARARAS DE TERRA RONCA",
         "RESEX",
         "CERRADO",
         "GO",
         3982.085572,
         32.24535771765383,
         2021
        ],
        [
         "0000.00.1518",
         "RESEX DO RIO CAJARI",
         "RESERVA EXTRATIVISTA DO RIO CAJARI",
         "RESEX",
         "AMAZONIA",
         "AP",
         4931.07399,
         0.9261893715176188,
         2021
        ],
        [
         "0000.00.0219",
         "REVIS DAS VEREDAS DO OESTE BAIANO",
         "REFUGIO DE VIDA SILVESTRE DAS VEREDAS DO OESTE BAIANO",
         "REVIS",
         "CERRADO",
         "BA",
         52223.35,
         40.78338510689775,
         2021
        ],
        [
         "0000.00.1813",
         "REVIS DO RIO DOS FRADES",
         "REFUGIO DE VIDA SILVESTRE DO RIO DOS FRADES",
         "REVIS",
         "MATA ATLANTICA",
         "BA",
         38.931387,
         4.332071082006802,
         2021
        ],
        [
         "0000.00.0002",
         "APA CAVERNAS DO PERUACU",
         "AREA DE PROTECAO AMBIENTAL CAVERNAS DO PERUACU",
         "APA",
         "CERRADO",
         "MG",
         85.951499,
         0.059956854,
         2020
        ],
        [
         "0000.00.1521",
         "APA BACIA PARAIBA DO SUL",
         "AREA DE PROTECAO AMBIENTAL BACIA DO PARAIBA DO SUL",
         "APA",
         "MATA ATLANTICA",
         "MG;RJ;SP",
         187.92,
         0.064224213,
         2020
        ],
        [
         "0000.00.0010",
         "APA DA REGIAO SERRANA DE PETROPOLIS",
         "AREA DE PROTECAO AMBIENTAL DA REGIAO SERRANA DE PETROPOLIS",
         "APA",
         "MATA ATLANTICA",
         "RJ",
         549.993164,
         0.8061544141669784,
         2020
        ],
        [
         "0000.00.0011",
         "APA DA SERRA DA MANTIQUEIRA",
         "AREA DE PROTECAO AMBIENTAL DA SERRA DA MANTIQUEIRA",
         "APA",
         "MATA ATLANTICA",
         "MG;RJ;SP",
         547.590278,
         0.12515646378041773,
         2020
        ],
        [
         "0000.00.0075",
         "ESEC DA SERRA DAS ARARAS",
         "ESTACAO ECOLOGICA DA SERRA DAS ARARAS",
         "ESEC",
         "CERRADO",
         "MT",
         22664.36309,
         83.44847111,
         2020
        ],
        [
         "0000.00.0047",
         "ESEC DA TERRA DO MEIO",
         "ESTACAO ECOLOGICA DA TERRA DO MEIO",
         "ESEC",
         "AMAZONIA",
         "PA",
         8466.720824,
         0.25100155306860555,
         2020
        ],
        [
         "0000.00.0053",
         "ESEC DE CUNIA",
         "ESTACAO ECOLOGICA DE CUNIA",
         "ESEC",
         "AMAZONIA",
         "RO;AM",
         832.138542,
         0.44904340443041807,
         2020
        ],
        [
         "0000.00.0062",
         "ESEC DE TAIAMA",
         "ESTACAO ECOLOGICA DE TAIAMA",
         "ESEC",
         "PANTANAL",
         "MT",
         3996.831054,
         34.58967663531847,
         2020
        ],
        [
         "0000.00.0065",
         "ESEC DE URUCUI-UNA",
         "ESTACAO ECOLOGICA DE URUCUI-UNA",
         "ESEC",
         "CERRADO",
         "PI",
         43551.23092,
         32.23097424255375,
         2020
        ],
        [
         "0000.00.0076",
         "ESEC SERRA GERAL DO TOCANTINS",
         "ESTACAO ECOLOGICA SERRA GERAL DO TOCANTINS",
         "ESEC",
         "CERRADO",
         "BA;TO",
         261143.2174,
         36.932222524681485,
         2020
        ],
        [
         "0000.00.0083",
         "FLONA DE ALTAMIRA",
         "FLORESTA NACIONAL DE ALTAMIRA",
         "FLONA",
         "AMAZONIA",
         "PA",
         10442.96634,
         1.440460933875752,
         2020
        ],
        [
         "0000.00.0086",
         "FLONA DE BRASILIA",
         "FLORESTA NACIONAL DE BRASILIA",
         "FLONA",
         "CERRADO",
         "DF",
         445.481464,
         4.771526428241249,
         2020
        ],
        [
         "0000.00.0088",
         "FLONA DE CARAJAS",
         "FLORESTA NACIONAL DE CARAJAS",
         "FLONA",
         "AMAZONIA",
         "PA",
         10625.16781,
         2.7156073489998573,
         2020
        ],
        [
         "0000.00.3409",
         "FLONA DO ARIPUANA",
         "FLORESTA NACIONAL DO ARIPUANA",
         "FLONA",
         "AMAZONIA",
         "AM",
         2385.300613,
         0.3174888474228252,
         2020
        ],
        [
         "0000.00.0116",
         "FLONA DO BOM FUTURO",
         "FLORESTA NACIONAL DO BOM FUTURO",
         "FLONA",
         "AMAZONIA",
         "RO",
         3066.13866,
         3.0638368650519485,
         2020
        ],
        [
         "0000.00.0266",
         "FLONA DO JAMANXIM",
         "FLORESTA NACIONAL DO JAMANXIM",
         "FLONA",
         "AMAZONIA",
         "PA",
         66665.30269,
         5.121412962,
         2020
        ],
        [
         "0000.00.0272",
         "PARNA DA CHAPADA DAS MESAS",
         "PARQUE NACIONAL DA CHAPADA DAS MESAS",
         "PARNA",
         "CERRADO",
         "MA",
         38531.15625,
         24.088931343166756,
         2020
        ],
        [
         "0000.00.0137",
         "PARNA DA CHAPADA DIAMANTINA",
         "PARQUE NACIONAL DA CHAPADA DA DIAMANTINA",
         "PARNA",
         "CAATINGA",
         "BA",
         513.850939,
         0.3377400549167113,
         2020
        ],
        [
         "0000.00.0138",
         "PARNA DA CHAPADA DOS GUIMARAES",
         "PARQUE NACIONAL DA CHAPADA DOS GUIMARAES",
         "PARNA",
         "CERRADO",
         "MT",
         902.162026,
         2.763398388375668,
         2020
        ],
        [
         "0000.00.0139",
         "PARNA DA CHAPADA DOS VEADEIROS",
         "PARQUE NACIONAL DA CHAPADA DOS VEADEIROS",
         "PARNA",
         "CERRADO",
         "GO",
         42726.64233,
         17.759363504545753,
         2020
        ],
        [
         "0000.00.0144",
         "PARNA DA SERRA DA CANASTRA",
         "PARQUE NACIONAL DA SERRA DA CANASTRA",
         "PARNA",
         "CERRADO",
         "MG",
         84254.0174,
         42.55856076871611,
         2020
        ],
        [
         "0000.00.0146",
         "PARNA DA SERRA DAS CONFUSOES",
         "PARQUE NACIONAL DA SERRA DAS CONFUSOES",
         "PARNA",
         "CAATINGA",
         "PI",
         1070.108701,
         0.12989049039588063,
         2020
        ],
        [
         "0000.00.0148",
         "PARNA DA SERRA DO CIPO",
         "PARQUE NACIONAL DA SERRA DO CIPO",
         "PARNA",
         "CERRADO",
         "MG",
         18026.02072,
         56.973090477349125,
         2020
        ],
        [
         "0000.00.3136",
         "PARNA DA SERRA DO GANDARELA",
         "PARQUE NACIONAL DA SERRA DO GANDARELA",
         "PARNA",
         "MATA ATLANTICA",
         "MG",
         1437.74049,
         4.597705495071724,
         2020
        ],
        [
         "0000.00.0150",
         "PARNA DA SERRA DO ITAJAI",
         "PARQUE NACIONAL DA SERRA DO ITAJAI",
         "PARNA",
         "MATA ATLANTICA",
         "SC",
         2.92,
         0.005130177,
         2020
        ],
        [
         "0000.00.0152",
         "PARNA DA SERRA DOS ORGAOS",
         "PARQUE NACIONAL DA SERRA DOS ORGAOS",
         "PARNA",
         "MATA ATLANTICA",
         "RJ",
         328.358296,
         1.6400902090958116,
         2020
        ],
        [
         "0000.00.0155",
         "PARNA DAS EMAS",
         "PARQUE NACIONAL DAS EMAS",
         "PARNA",
         "CERRADO",
         "MS;GO",
         34436.51449,
         25.93348097097393,
         2020
        ],
        [
         "0000.00.0156",
         "PARNA DAS NASCENTES DO RIO PARNAIBA",
         "PARQUE NACIONAL DAS NASCENTES DO RIO PARNAIBA",
         "PARNA",
         "CERRADO",
         "MA;PI;BA",
         205335.9804,
         27.38637675361551,
         2020
        ],
        [
         "0000.00.0157",
         "PARNA DAS SEMPRE-VIVAS",
         "PARQUE NACIONAL DAS SEMPRE-VIVAS",
         "PARNA",
         "CERRADO",
         "MG",
         2409.912271,
         1.941037263856728,
         2020
        ],
        [
         "0000.00.0159",
         "PARNA DE BRASILIA",
         "PARQUE NACIONAL DE BRASILIA",
         "PARNA",
         "CERRADO",
         "DF",
         3037.617137,
         7.171711191637972,
         2020
        ],
        [
         "0000.00.0161",
         "PARNA DE ILHA GRANDE",
         "PARQUE NACIONAL DE ILHA GRANDE",
         "PARNA",
         "MATA ATLANTICA",
         "MS;PR",
         4306.114902,
         5.655657781680624,
         2020
        ],
        [
         "0000.00.0163",
         "PARNA DE PACAAS NOVOS",
         "PARQUE NACIONAL DE PACAAS NOVOS",
         "PARNA",
         "AMAZONIA",
         "RO",
         12130.53759,
         1.711733138654579,
         2020
        ],
        [
         "0000.00.0165",
         "PARNA DE SAO JOAQUIM",
         "PARQUE NACIONAL DE SAO JOAQUIM",
         "PARNA",
         "MATA ATLANTICA",
         "SC",
         4553.983848,
         9.168041160099387,
         2020
        ],
        [
         "0000.00.0168",
         "PARNA DO ARAGUAIA",
         "PARQUE NACIONAL DO ARAGUAIA",
         "PARNA",
         "CERRADO",
         "TO",
         254503.3305,
         45.81316553212965,
         2020
        ],
        [
         "0000.00.0175",
         "PARNA DO PANTANAL MATOGROSSENSE",
         "PARQUE NACIONAL DO PANTANAL MATO-GROSSENSE",
         "PARNA",
         "PANTANAL",
         "MS;MT",
         132679.51403299998,
         97.61398688681554,
         2020
        ],
        [
         "0000.00.0264",
         "PARNA DO RIO NOVO",
         "PARQUE NACIONAL DO RIO NOVO",
         "PARNA",
         "AMAZONIA",
         "PA",
         2272.033559,
         0.4221877518192064,
         2020
        ],
        [
         "0000.00.0284",
         "PARNA DOS CAMPOS AMAZONICOS",
         "PARQUE NACIONAL DOS CAMPOS AMAZONICOS",
         "PARNA",
         "AMAZONIA",
         "RO;MT;AM",
         20522.85743,
         2.1348474473511785,
         2020
        ],
        [
         "0000.00.0182",
         "PARNA E HISTORICO DO MONTE PASCOAL",
         "PARQUE NACIONAL E HISTORICO DO MONTE PASCOAL",
         "PARNA",
         "MATA ATLANTICA",
         "BA",
         322.124381,
         1.4484111288056065,
         2020
        ],
        [
         "0000.00.0183",
         "PARNA GRANDE SERTAO VEREDAS",
         "PARQUE NACIONAL GRANDE SERTAO VEREDAS",
         "PARNA",
         "CERRADO",
         "BA;MG",
         94140.23766,
         40.77874492042363,
         2020
        ],
        [
         "0000.00.0192",
         "REBIO DA CONTAGEM",
         "RESERVA BIOLOGICA DA CONTAGEM",
         "REBIO",
         "CERRADO",
         "DF",
         291.537871,
         3.1226454268581825,
         2020
        ],
        [
         "0000.00.0193",
         "REBIO DA MATA ESCURA",
         "RESERVA BIOLOGICA DA MATA ESCURA",
         "REBIO",
         "MATA ATLANTICA",
         "MG",
         2226.687908,
         4.375286750594372,
         2020
        ],
        [
         "0000.00.0206",
         "REBIO DO GUAPORE",
         "RESERVA BIOLOGICA DO GUAPORE",
         "REBIO",
         "AMAZONIA",
         "RO",
         47233.72187,
         7.670597198578037,
         2020
        ],
        [
         "0000.00.3411",
         "REBIO DO MANICORE",
         "RESERVA BIOLOGICA DO MANICORE",
         "REBIO",
         "AMAZONIA",
         "AM",
         1633.671454,
         0.4548874030303362,
         2020
        ],
        [
         "0000.00.0216",
         "REBIO NASCENTES DA SERRA DO CACHIMBO",
         "RESERVA BIOLOGICA NASCENTES DA SERRA DO CACHIMBO",
         "REBIO",
         "AMAZONIA",
         "PA",
         25926.71332,
         7.576573228,
         2020
        ],
        [
         "0000.00.0286",
         "RESEX DE RECANTO DAS ARARAS DE TERRA RONCA",
         "RESERVA EXTRATIVISTA DE RECANTO DAS ARARAS DE TERRA RONCA",
         "RESEX",
         "CERRADO",
         "GO",
         1363.117754,
         11.037989715258401,
         2020
        ],
        [
         "0000.00.0242",
         "RESEX DO LAGO DO CAPANA GRANDE",
         "RESERVA EXTRATIVISTA DO LAGO DO CAPANA GRANDE",
         "RESEX",
         "AMAZONIA",
         "AM",
         511.826749,
         0.16819064819740434,
         2020
        ],
        [
         "0000.00.0219",
         "REVIS DAS VEREDAS DO OESTE BAIANO",
         "REFUGIO DE VIDA SILVESTRE DAS VEREDAS DO OESTE BAIANO",
         "REVIS",
         "CERRADO",
         "BA",
         18139.17395,
         14.165635037980598,
         2020
        ],
        [
         "0000.00.0002",
         "APA CAVERNAS DO PERUACU",
         "AREA DE PROTECAO AMBIENTAL CAVERNAS DO PERUACU",
         "APA",
         "CERRADO",
         "MG",
         123.906377,
         0.086432894,
         2019
        ],
        [
         "0000.00.0075",
         "ESEC DA SERRA DAS ARARAS",
         "ESTACAO ECOLOGICA DA SERRA DAS ARARAS",
         "ESEC",
         "CERRADO",
         "MT",
         3482.467488,
         12.822182151429452,
         2019
        ],
        [
         "0000.00.0047",
         "ESEC DA TERRA DO MEIO",
         "ESTACAO ECOLOGICA DA TERRA DO MEIO",
         "ESEC",
         "AMAZONIA",
         "PA",
         8201.561971455063,
         0.24314074305937397,
         2019
        ],
        [
         "0000.00.0048",
         "ESEC DE AIUABA",
         "ESTACAO ECOLOGICA DE AIUABA",
         "ESEC",
         "CAATINGA",
         "CE",
         144.91,
         1.233614658655393,
         2019
        ],
        [
         "0000.00.0053",
         "ESEC DE CUNIA",
         "ESTACAO ECOLOGICA DE CUNIA",
         "ESEC",
         "AMAZONIA",
         "RO;AM",
         719.436725,
         0.3882265992509099,
         2019
        ],
        [
         "0000.00.0065",
         "ESEC DE URUCUI-UNA",
         "ESTACAO ECOLOGICA DE URUCUI-UNA",
         "ESEC",
         "CERRADO",
         "PI",
         39195.458277846126,
         22.742134069525566,
         2019
        ],
        [
         "0000.00.0076",
         "ESEC SERRA GERAL DO TOCANTINS",
         "ESTACAO ECOLOGICA SERRA GERAL DO TOCANTINS",
         "ESEC",
         "CERRADO",
         "BA;TO",
         172347.31867264572,
         24.37424792036406,
         2019
        ],
        [
         "0000.00.0083",
         "FLONA DE ALTAMIRA",
         "FLORESTA NACIONAL DE ALTAMIRA",
         "FLONA",
         "AMAZONIA",
         "PA",
         10089.86086,
         1.3917549791937052,
         2019
        ],
        [
         "0000.00.0086",
         "FLONA DE BRASILIA",
         "FLORESTA NACIONAL DE BRASILIA",
         "FLONA",
         "CERRADO",
         "DF",
         1523.819137,
         16.321539439080393,
         2019
        ],
        [
         "0000.00.0106",
         "FLONA DE RORAIMA",
         "FLORESTA NACIONAL DE RORAIMA",
         "FLONA",
         "AMAZONIA",
         "AM;RR",
         54500.40523772123,
         32.129235615823525,
         2019
        ],
        [
         "0000.00.0114",
         "FLONA DO AMAZONAS",
         "FLORESTA NACIONAL DO AMAZONAS",
         "FLONA",
         "AMAZONIA",
         "AM;RR",
         186.609476,
         0.009598117,
         2019
        ],
        [
         "0000.00.0115",
         "FLONA DO ARARIPE-APODI",
         "FLORESTA NACIONAL DO ARARIPE-APODI",
         "FLONA",
         "CAATINGA",
         "CE",
         999.451386,
         2.5679595201035146,
         2019
        ],
        [
         "0000.00.3409",
         "FLONA DO ARIPUANA",
         "FLORESTA NACIONAL DO ARIPUANA",
         "FLONA",
         "AMAZONIA",
         "AM",
         100.5273192,
         0.013380411064081981,
         2019
        ],
        [
         "0000.00.0116",
         "FLONA DO BOM FUTURO",
         "FLORESTA NACIONAL DO BOM FUTURO",
         "FLONA",
         "AMAZONIA",
         "RO",
         5069.957058,
         5.2060829861609825,
         2019
        ],
        [
         "0000.00.0266",
         "FLONA DO JAMANXIM",
         "FLORESTA NACIONAL DO JAMANXIM",
         "FLONA",
         "AMAZONIA",
         "PA",
         50227.77364861864,
         3.858636511549678,
         2019
        ],
        [
         "0000.00.0118",
         "FLONA DO JAMARI",
         "FLORESTA NACIONAL DO JAMARI",
         "FLONA",
         "AMAZONIA",
         "RO",
         1194.09,
         0.5374992961045446,
         2019
        ],
        [
         "0000.00.0272",
         "PARNA DA CHAPADA DAS MESAS",
         "PARQUE NACIONAL DA CHAPADA DAS MESAS",
         "PARNA",
         "CERRADO",
         "MA",
         14061.941247396777,
         8.791252817,
         2019
        ],
        [
         "0000.00.0138",
         "PARNA DA CHAPADA DOS GUIMARAES",
         "PARQUE NACIONAL DA CHAPADA DOS GUIMARAES",
         "PARNA",
         "CERRADO",
         "MT",
         7249.53083,
         22.205924473373614,
         2019
        ],
        [
         "0000.00.0139",
         "PARNA DA CHAPADA DOS VEADEIROS",
         "PARQUE NACIONAL DA CHAPADA DOS VEADEIROS",
         "PARNA",
         "CERRADO",
         "GO",
         41889.35384,
         17.411344107916918,
         2019
        ],
        [
         "0000.00.0139",
         "PARNA DA CHAPADA DOS VEADEIROS",
         "PARQUE NACIONAL DA CHAPADA DOS VEADEIROS",
         "PARNA",
         "CERRADO",
         "GO",
         1380.530609,
         0.5738186662725382,
         2019
        ],
        [
         "0000.00.0140",
         "PARNA DA LAGOA DO PEIXE",
         "PARQUE NACIONAL DA LAGOA DO PEIXE",
         "PARNA",
         "PAMPA",
         "RS",
         241.685005,
         0.6581489625793369,
         2019
        ],
        [
         "0000.00.0144",
         "PARNA DA SERRA DA CANASTRA",
         "PARQUE NACIONAL DA SERRA DA CANASTRA",
         "PARNA",
         "CERRADO",
         "MG",
         41897.359641467694,
         21.16327958521354,
         2019
        ],
        [
         "0000.00.0146",
         "PARNA DA SERRA DAS CONFUSOES",
         "PARQUE NACIONAL DA SERRA DAS CONFUSOES",
         "PARNA",
         "CAATINGA",
         "PI",
         2038.7282216990002,
         0.24746215778564504,
         2019
        ],
        [
         "0000.00.0148",
         "PARNA DA SERRA DO CIPO",
         "PARQUE NACIONAL DA SERRA DO CIPO",
         "PARNA",
         "CERRADO",
         "MG",
         5532.136346,
         17.48488529564634,
         2019
        ],
        [
         "0000.00.0148",
         "PARNA DA SERRA DO CIPO",
         "PARQUE NACIONAL DA SERRA DO CIPO",
         "PARNA",
         "CERRADO",
         "MG",
         884.561055,
         2.7957460945180608,
         2019
        ],
        [
         "0000.00.3136",
         "PARNA DA SERRA DO GANDARELA",
         "PARQUE NACIONAL DA SERRA DO GANDARELA",
         "PARNA",
         "MATA ATLANTICA",
         "MG",
         140.760147,
         0.45013248625209384,
         2019
        ],
        [
         "0000.00.0151",
         "PARNA DA SERRA DO PARDO",
         "PARQUE NACIONAL DA SERRA DO PARDO",
         "PARNA",
         "AMAZONIA",
         "PA",
         4765.906903069999,
         1.0699961872995964,
         2019
        ],
        [
         "0000.00.0155",
         "PARNA DAS EMAS",
         "PARQUE NACIONAL DAS EMAS",
         "PARNA",
         "CERRADO",
         "MS;GO",
         46500.66655,
         35.018763334492284,
         2019
        ],
        [
         "0000.00.0156",
         "PARNA DAS NASCENTES DO RIO PARNAIBA",
         "PARQUE NACIONAL DAS NASCENTES DO RIO PARNAIBA",
         "PARNA",
         "CERRADO",
         "MA;PI;BA",
         196611.26411856242,
         27.143905336548155,
         2019
        ],
        [
         "0000.00.0157",
         "PARNA DAS SEMPRE-VIVAS",
         "PARQUE NACIONAL DAS SEMPRE-VIVAS",
         "PARNA",
         "CERRADO",
         "MG",
         1421.781249,
         1.145158028769137,
         2019
        ],
        [
         "0000.00.0158",
         "PARNA DE APARADOS DA SERRA",
         "PARQUE NACIONAL DE APARADOS DA SERRA",
         "PARNA",
         "MATA ATLANTICA",
         "SC;RS",
         1661.399147,
         12.636010953648924,
         2019
        ],
        [
         "0000.00.0159",
         "PARNA DE BRASILIA",
         "PARQUE NACIONAL DE BRASILIA",
         "PARNA",
         "CERRADO",
         "DF",
         2722.693936,
         6.428188178942329,
         2019
        ],
        [
         "0000.00.0161",
         "PARNA DE ILHA GRANDE",
         "PARQUE NACIONAL DE ILHA GRANDE",
         "PARNA",
         "MATA ATLANTICA",
         "MS;PR",
         47440.619,
         62.30857526665513,
         2019
        ],
        [
         "0000.00.0184",
         "PARNA DE ITATIAIA",
         "PARQUE NACIONAL DE ITATIAIA",
         "PARNA",
         "MATA ATLANTICA",
         "MG;RJ",
         143.302753,
         0.5102220651489718,
         2019
        ],
        [
         "0000.00.0165",
         "PARNA DE SAO JOAQUIM",
         "PARQUE NACIONAL DE SAO JOAQUIM",
         "PARNA",
         "MATA ATLANTICA",
         "SC",
         1523.995841,
         3.0680953346473703,
         2019
        ],
        [
         "0000.00.0153",
         "PARNA DA SERRA GERAL",
         "PARQUE NACIONAL DA SERRA GERAL",
         "PARNA",
         "MATA ATLANTICA",
         "SC;RS",
         28.131898,
         0.16259323627717245,
         2019
        ],
        [
         "0000.00.3410",
         "PARNA DO ACARI",
         "PARQUE NACIONAL DO ACARI",
         "PARNA",
         "AMAZONIA",
         "AM",
         445.040838,
         0.049646966,
         2019
        ],
        [
         "0000.00.0168",
         "PARNA DO ARAGUAIA",
         "PARQUE NACIONAL DO ARAGUAIA",
         "PARNA",
         "CERRADO",
         "TO",
         329410.2527,
         59.29796076735725,
         2019
        ],
        [
         "0000.00.0169",
         "PARNA DO CABO ORANGE",
         "PARQUE NACIONAL DO CABO ORANGE",
         "PARNA",
         "AMAZONIA",
         "AP",
         1551.859206,
         0.23608605583178083,
         2019
        ],
        [
         "0000.00.0267",
         "PARNA DO JAMANXIM",
         "PARQUE NACIONAL DO JAMANXIM",
         "PARNA",
         "AMAZONIA",
         "PA",
         503.782865,
         0.058382851,
         2019
        ],
        [
         "0000.00.0174",
         "PARNA DO MONTE RORAIMA",
         "PARQUE NACIONAL DO MONTE RORAIMA",
         "PARNA",
         "AMAZONIA",
         "RR",
         609.535018,
         0.5220890671322571,
         2019
        ],
        [
         "0000.00.0175",
         "PARNA DO PANTANAL MATOGROSSENSE",
         "PARQUE NACIONAL DO PANTANAL MATO-GROSSENSE",
         "PARNA",
         "PANTANAL",
         "MS;MT",
         2176.66745,
         1.6014016140307235,
         2019
        ],
        [
         "0000.00.0264",
         "PARNA DO RIO NOVO",
         "PARQUE NACIONAL DO RIO NOVO",
         "PARNA",
         "AMAZONIA",
         "PA",
         1858.753911,
         0.3453924048620302,
         2019
        ],
        [
         "0000.00.0179",
         "PARNA DO VIRUA",
         "PARQUE NACIONAL DO VIRUA",
         "PARNA",
         "AMAZONIA",
         "RR",
         27780.26954,
         12.924029978412653,
         2019
        ],
        [
         "0000.00.0284",
         "PARNA DOS CAMPOS AMAZONICOS",
         "PARQUE NACIONAL DOS CAMPOS AMAZONICOS",
         "PARNA",
         "AMAZONIA",
         "RO;MT;AM",
         38784.29475,
         4.034455422352594,
         2019
        ],
        [
         "0000.00.3519",
         "PARNA DOS CAMPOS FERRUGINOSOS",
         "PARQUE NACIONAL DOS CAMPOS FERRUGINOSOS",
         "PARNA",
         "AMAZONIA",
         "PA",
         1354.43021,
         1.7126036165932215,
         2019
        ],
        [
         "0000.00.0182",
         "PARNA E HISTORICO DO MONTE PASCOAL",
         "PARQUE NACIONAL E HISTORICO DO MONTE PASCOAL",
         "PARNA",
         "MATA ATLANTICA",
         "BA",
         1479.45104,
         6.652254462101793,
         2019
        ],
        [
         "0000.00.0183",
         "PARNA GRANDE SERTAO VEREDAS",
         "PARQUE NACIONAL GRANDE SERTAO VEREDAS",
         "PARNA",
         "CERRADO",
         "BA;MG",
         1191.230374,
         0.5160054910603975,
         2019
        ],
        [
         "0000.00.1633",
         "PARNA MAPINGUARI",
         "PARQUE NACIONAL MAPINGUARI",
         "PARNA",
         "AMAZONIA",
         "AM;RO",
         4179.926998,
         0.2352332558854936,
         2019
        ],
        [
         "0000.00.0189",
         "PARNA SERRA DA MOCIDADE",
         "PARQUE NACIONAL SERRA DA MOCIDADE",
         "PARNA",
         "AMAZONIA",
         "AM;RR",
         10678.974588261002,
         2.966846517023324,
         2019
        ],
        [
         "0000.00.0192",
         "REBIO DA CONTAGEM",
         "RESERVA BIOLOGICA DA CONTAGEM",
         "REBIO",
         "CERRADO",
         "DF",
         1004.129931,
         29.43186645406556,
         2019
        ],
        [
         "0000.00.0193",
         "REBIO DA MATA ESCURA",
         "RESERVA BIOLOGICA DA MATA ESCURA",
         "REBIO",
         "MATA ATLANTICA",
         "MG",
         585.7591330386949,
         1.1509761049467424,
         2019
        ],
        [
         "0000.00.0275",
         "REBIO DAS PEROBAS",
         "RESERVA BIOLOGICA DAS PEROBAS",
         "REBIO",
         "MATA ATLANTICA",
         "PR",
         52.916817,
         0.6071093405656867,
         2019
        ],
        [
         "0000.00.0206",
         "REBIO DO GUAPORE",
         "RESERVA BIOLOGICA DO GUAPORE",
         "REBIO",
         "AMAZONIA",
         "RO",
         1748.698745,
         0.28398278104688074,
         2019
        ],
        [
         "0000.00.0216",
         "REBIO NASCENTES DA SERRA DO CACHIMBO",
         "RESERVA BIOLOGICA NASCENTES DA SERRA DO CACHIMBO",
         "REBIO",
         "AMAZONIA",
         "PA",
         8411.787483958882,
         2.4581798344770127,
         2019
        ],
        [
         "0000.00.0253",
         "RESEX DE CANAVIEIRAS",
         "RESERVA EXTRATIVISTA DE CANAVIEIRAS",
         "RESEX",
         "MATA ATLANTICA",
         "BA",
         1009.026612,
         1.0021278855600213,
         2019
        ],
        [
         "0000.00.1808",
         "RESEX DE CASSURUBA",
         "RESERVA EXTRATIVISTA DE CASSURUBA",
         "RESEX",
         "MATA ATLANTICA",
         "BA",
         36.7,
         0.036488956,
         2019
        ],
        [
         "0000.00.0286",
         "RESEX DE RECANTO DAS ARARAS DE TERRA RONCA",
         "RESERVA EXTRATIVISTA DE RECANTO DAS ARARAS DE TERRA RONCA",
         "RESEX",
         "CERRADO",
         "GO",
         407.35073994799995,
         3.2985655088008823,
         2019
        ],
        [
         "0000.00.1518",
         "RESEX DO RIO CAJARI",
         "RESERVA EXTRATIVISTA DO RIO CAJARI",
         "RESEX",
         "AMAZONIA",
         "AP",
         4661.468709,
         0.8755501919795909,
         2019
        ],
        [
         "0000.00.1907",
         "REVIS DE BOA NOVA",
         "REFUGIO DE VIDA SILVESTRE DE BOA NOVA",
         "REVIS",
         "MATA ATLANTICA",
         "BA",
         76.237451,
         0.5074358169518373,
         2019
        ],
        [
         "0000.00.1813",
         "REVIS DO RIO DOS FRADES",
         "REFUGIO DE VIDA SILVESTRE DO RIO DOS FRADES",
         "REVIS",
         "MATA ATLANTICA",
         "BA",
         75.314162,
         8.380546607953516,
         2019
        ],
        [
         "0000.00.0047",
         "ESEC DA TERRA DO MEIO",
         "ESTACAO ECOLOGICA DA TERRA DO MEIO",
         "ESEC",
         "AMAZONIA",
         "PA",
         365.316263,
         0.010830049777590384,
         2018
        ],
        [
         "0000.00.0053",
         "ESEC DE CUNIA",
         "ESTACAO ECOLOGICA DE CUNIA",
         "ESEC",
         "AMAZONIA",
         "RO;AM",
         1088.559555,
         0.5874147919259111,
         2018
        ],
        [
         "0000.00.0060",
         "ESEC NIQUIA",
         "ESTACAO ECOLOGICA NIQUIA",
         "ESEC",
         "AMAZONIA",
         "RR",
         71161.66,
         24.987360889905716,
         2018
        ],
        [
         "0000.00.0065",
         "ESEC DE URUCUI-UNA",
         "ESTACAO ECOLOGICA DE URUCUI-UNA",
         "ESEC",
         "CERRADO",
         "PI",
         19132.68,
         13.950389360398985,
         2018
        ],
        [
         "0000.00.0066",
         "ESEC DO CASTANHAO",
         "ESTACAO ECOLOGICA DO CASTANHAO",
         "ESEC",
         "CAATINGA",
         "CE",
         1513.108241,
         12.033023961738834,
         2018
        ],
        [
         "0000.00.0076",
         "ESEC SERRA GERAL DO TOCANTINS",
         "ESTACAO ECOLOGICA SERRA GERAL DO TOCANTINS",
         "ESEC",
         "CERRADO",
         "BA;TO",
         141042.1699,
         19.94691726963209,
         2018
        ],
        [
         "0000.00.0083",
         "FLONA DE ALTAMIRA",
         "FLORESTA NACIONAL DE ALTAMIRA",
         "FLONA",
         "AMAZONIA",
         "PA",
         306.78,
         0.042420623,
         2018
        ],
        [
         "0000.00.0085",
         "FLONA DE BALATA-TUFARI",
         "FLORESTA NACIONAL DE BALATA-TUFARI",
         "FLONA",
         "AMAZONIA",
         "AM",
         1103.92,
         0.1048401958176899,
         2018
        ],
        [
         "0000.00.0090",
         "FLONA DE CRISTOPOLIS",
         "FLORESTA NACIONAL DE CRISTOPOLIS",
         "FLONA",
         "CERRADO",
         "BA",
         328.796132,
         2.5605799376824763,
         2018
        ],
        [
         "0000.00.0094",
         "FLONA DE IPANEMA",
         "FLORESTA NACIONAL DE IPANEMA",
         "FLONA",
         "MATA ATLANTICA",
         "SP",
         11.37,
         0.21114911919061363,
         2018
        ],
        [
         "0000.00.0120",
         "FLONA DE MACAUA",
         "FLORESTA NACIONAL DO MACAUA",
         "FLONA",
         "AMAZONIA",
         "AC",
         13.603325,
         0.007713937,
         2018
        ],
        [
         "0000.00.0106",
         "FLONA DE RORAIMA",
         "FLORESTA NACIONAL DE RORAIMA",
         "FLONA",
         "AMAZONIA",
         "AM;RR",
         1382.426755,
         0.8152520630508365,
         2018
        ],
        [
         "0000.00.0107",
         "FLONA DE SANTA ROSA DO PURUS",
         "FLORESTA NACIONAL DE SANTA ROSA DO PURUS",
         "FLONA",
         "AMAZONIA",
         "AC",
         165.75107,
         0.071581147,
         2018
        ],
        [
         "0000.00.3409",
         "FLONA DO ARIPUANA",
         "FLORESTA NACIONAL DO ARIPUANA",
         "FLONA",
         "AMAZONIA",
         "AM",
         331.806381,
         0.044164171787231754,
         2018
        ],
        [
         "0000.00.0116",
         "FLONA DO BOM FUTURO",
         "FLORESTA NACIONAL DO BOM FUTURO",
         "FLONA",
         "AMAZONIA",
         "RO",
         2909.813681,
         2.987940790048372,
         2018
        ],
        [
         "0000.00.0266",
         "FLONA DO JAMANXIM",
         "FLORESTA NACIONAL DO JAMANXIM",
         "FLONA",
         "AMAZONIA",
         "PA",
         17203.86,
         1.3216502007946698,
         2018
        ],
        [
         "0000.00.0272",
         "PARNA DA CHAPADA DAS MESAS",
         "PARQUE NACIONAL DA CHAPADA DAS MESAS",
         "PARNA",
         "CERRADO",
         "MA",
         4045.109689,
         2.5289240985739756,
         2018
        ],
        [
         "0000.00.0137",
         "PARNA DA CHAPADA DIAMANTINA",
         "PARQUE NACIONAL DA CHAPADA DA DIAMANTINA",
         "PARNA",
         "CAATINGA",
         "BA",
         3958.817617,
         2.6020217417838154,
         2018
        ],
        [
         "0000.00.0139",
         "PARNA DA CHAPADA DOS VEADEIROS",
         "PARQUE NACIONAL DA CHAPADA DOS VEADEIROS",
         "PARNA",
         "CERRADO",
         "GO",
         13384.39355,
         5.563234101273156,
         2018
        ],
        [
         "0000.00.0144",
         "PARNA DA SERRA DA CANASTRA",
         "PARQUE NACIONAL DA SERRA DA CANASTRA",
         "PARNA",
         "CERRADO",
         "MG",
         44544.02514,
         22.51870498056206,
         2018
        ],
        [
         "0000.00.0146",
         "PARNA DA SERRA DAS CONFUSOES",
         "PARQUE NACIONAL DA SERRA DAS CONFUSOES",
         "PARNA",
         "CAATINGA",
         "PI",
         22306.62664,
         2.7075928522527777,
         2018
        ],
        [
         "0000.00.3136",
         "PARNA DA SERRA DO GANDARELA",
         "PARQUE NACIONAL DA SERRA DO GANDARELA",
         "PARNA",
         "MATA ATLANTICA",
         "MG",
         516.367451,
         1.6512756972794442,
         2018
        ],
        [
         "0000.00.0152",
         "PARNA DA SERRA DOS ORGAOS",
         "PARQUE NACIONAL DA SERRA DOS ORGAOS",
         "PARNA",
         "MATA ATLANTICA",
         "RJ",
         64.557317,
         0.322452202,
         2018
        ],
        [
         "0000.00.0155",
         "PARNA DAS EMAS",
         "PARQUE NACIONAL DAS EMAS",
         "PARNA",
         "CERRADO",
         "MS;GO",
         4491.172462,
         3.3822161619292617,
         2018
        ],
        [
         "0000.00.0156",
         "PARNA DAS NASCENTES DO RIO PARNAIBA",
         "PARQUE NACIONAL DAS NASCENTES DO RIO PARNAIBA",
         "PARNA",
         "CERRADO",
         "MA;PI;BA",
         84336.75101,
         11.643426412972797,
         2018
        ],
        [
         "0000.00.0157",
         "PARNA DAS SEMPRE-VIVAS",
         "PARQUE NACIONAL DAS SEMPRE-VIVAS",
         "PARNA",
         "CERRADO",
         "MG",
         311.38,
         0.25079758732001906,
         2018
        ],
        [
         "0000.00.0163",
         "PARNA DE PACAAS NOVOS",
         "PARQUE NACIONAL DE PACAAS NOVOS",
         "PARNA",
         "AMAZONIA",
         "RO",
         4706.298988,
         0.6641031301033103,
         2018
        ],
        [
         "0000.00.0168",
         "PARNA DO ARAGUAIA",
         "PARQUE NACIONAL DO ARAGUAIA",
         "PARNA",
         "CERRADO",
         "TO",
         138454.9113,
         24.92361372505252,
         2018
        ],
        [
         "0000.00.3652",
         "PARNA DO BOQUEIRAO DA ONCA",
         "PARQUE NACIONAL DO BOQUEIRAO DA ONCA",
         "PARNA",
         "CAATINGA",
         "BA",
         3224.423648,
         0.9294748805231127,
         2018
        ],
        [
         "0000.00.0281",
         "PARNA DO JURUENA",
         "PARQUE NACIONAL DO JURUENA",
         "PARNA",
         "AMAZONIA",
         "AM;MT",
         64.31,
         0.00328445,
         2018
        ],
        [
         "0000.00.0264",
         "PARNA DO RIO NOVO",
         "PARQUE NACIONAL DO RIO NOVO",
         "PARNA",
         "AMAZONIA",
         "PA",
         408.664484,
         0.075937761,
         2018
        ],
        [
         "0000.00.0284",
         "PARNA DOS CAMPOS AMAZONICOS",
         "PARQUE NACIONAL DOS CAMPOS AMAZONICOS",
         "PARNA",
         "AMAZONIA",
         "RO;MT;AM",
         26933.83285,
         2.801735822696019,
         2018
        ],
        [
         "0000.00.1633",
         "PARNA MAPINGUARI",
         "PARQUE NACIONAL MAPINGUARI",
         "PARNA",
         "AMAZONIA",
         "AM;RO",
         2241.437716,
         0.12614112448650575,
         2018
        ],
        [
         "0000.00.0193",
         "REBIO DA MATA ESCURA",
         "RESERVA BIOLOGICA DA MATA ESCURA",
         "REBIO",
         "MATA ATLANTICA",
         "MG",
         443.74,
         0.8719183500555486,
         2018
        ],
        [
         "0000.00.0216",
         "REBIO NASCENTES DA SERRA DO CACHIMBO",
         "RESERVA BIOLOGICA NASCENTES DA SERRA DO CACHIMBO",
         "REBIO",
         "AMAZONIA",
         "PA",
         2325.49,
         0.6795788270556353,
         2018
        ],
        [
         "0000.00.0206",
         "REBIO DO GUAPORE",
         "RESERVA BIOLOGICA DO GUAPORE",
         "REBIO",
         "AMAZONIA",
         "RO",
         18217.74436,
         2.9585003133930194,
         2018
        ],
        [
         "0000.00.0209",
         "REBIO DO LAGO PIRATUBA",
         "RESERVA BIOLOGICA DO LAGO PIRATUBA",
         "REBIO",
         "AMAZONIA",
         "AP",
         231.447624,
         0.058971328,
         2018
        ],
        [
         "0000.00.3411",
         "REBIO DO MANICORE",
         "RESERVA BIOLOGICA DO MANICORE",
         "REBIO",
         "AMAZONIA",
         "AM",
         716.663965,
         0.1995513933185598,
         2018
        ],
        [
         "0000.00.0285",
         "RESEX ARAPIXI",
         "RESERVA EXTRATIVISTA ARAPIXI",
         "RESEX",
         "AMAZONIA",
         "AM",
         113.5,
         0.084884241,
         2018
        ],
        [
         "0000.00.0222",
         "RESEX CHICO MENDES",
         "RESERVA EXTRATIVISTA CHICO MENDES",
         "RESEX",
         "AMAZONIA",
         "AC",
         6949.902096,
         0.7460635251016985,
         2018
        ],
        [
         "0000.00.0286",
         "RESEX DE RECANTO DAS ARARAS DE TERRA RONCA",
         "RESERVA EXTRATIVISTA DE RECANTO DAS ARARAS DE TERRA RONCA",
         "RESEX",
         "CERRADO",
         "GO",
         5763.329441,
         46.66916772870668,
         2018
        ],
        [
         "0000.00.1518",
         "RESEX DO RIO CAJARI",
         "RESERVA EXTRATIVISTA DO RIO CAJARI",
         "RESEX",
         "AMAZONIA",
         "AP",
         3218.483206,
         0.6045183957592879,
         2018
        ],
        [
         "0000.00.0219",
         "REVIS DAS VEREDAS DO OESTE BAIANO",
         "REFUGIO DE VIDA SILVESTRE DAS VEREDAS DO OESTE BAIANO",
         "REVIS",
         "CERRADO",
         "BA",
         321.24,
         0.25086967607714294,
         2018
        ]
       ],
       "datasetInfos": [],
       "dbfsResultPath": null,
       "isJsonSchema": true,
       "metadata": {},
       "overflow": false,
       "plotOptions": {
        "customPlotOptions": {},
        "displayType": "table",
        "pivotAggregation": null,
        "pivotColumns": null,
        "xColumns": null,
        "yColumns": null
       },
       "removedWidgets": [],
       "schema": [
        {
         "metadata": "{\"comment\":\"Codigo CNUC (MMA)\"}",
         "name": "CNUC",
         "type": "\"string\""
        },
        {
         "metadata": "{\"comment\":\"Unidade de Conservacao com a Categoria abreviada ou com iniciais\"}",
         "name": "TIPO_NOME",
         "type": "\"string\""
        },
        {
         "metadata": "{\"comment\":\"Unidade de Conservacao com descricao completa\"}",
         "name": "NOME_UC",
         "type": "\"string\""
        },
        {
         "metadata": "{\"comment\":\"Categorias de Unidade de Conservacao abreviado ou com iniciais. Ver mais em Lei 9985/2000-SNUC\"}",
         "name": "TIPO",
         "type": "\"string\""
        },
        {
         "metadata": "{\"comment\":\"Bioma (IBGE 1:250mil). Para as UCs que ocorrem em mais de um bioma considera-se a que abrange 50% ou mais de seu territorio\"}",
         "name": "Bioma_predominante",
         "type": "\"string\""
        },
        {
         "metadata": "{\"comment\":\"UF de Abrangencia\"}",
         "name": "UF",
         "type": "\"string\""
        },
        {
         "metadata": "{\"comment\":\"Area Queimada total em hectares. Nao e incluido o total de area com prevencao de incendios florestais\"}",
         "name": "Area_queimada",
         "type": "\"double\""
        },
        {
         "metadata": "{\"comment\":\"Percentual de area afetada pelo incendio em relacao a area da UC\"}",
         "name": "Perc_UC",
         "type": "\"double\""
        },
        {
         "metadata": "{\"comment\":\"Ano da ocorrencia do incendio\"}",
         "name": "ano",
         "type": "\"integer\""
        }
       ],
       "type": "table"
      }
     },
     "output_type": "display_data"
    }
   ],
   "source": [
    "%sql\n",
    "--este esquema seria o ideal para a tabela de incêndio.  Uma tabela única com uma coluna ano que identifique a ocorrência do incêndio e com id das UC, a CNUC\n",
    "SELECT *\n",
    "FROM HISTORICO_DADOS_UC"
   ]
  },
  {
   "cell_type": "markdown",
   "metadata": {
    "application/vnd.databricks.v1+cell": {
     "cellMetadata": {
      "byteLimit": 2048000,
      "rowLimit": 10000
     },
     "inputWidgets": {},
     "nuid": "217dcd2d-e20a-44a1-a824-f1eae765fec0",
     "showTitle": false,
     "title": ""
    }
   },
   "source": [
    "\n",
    "Vamos iniciar as consultas.  Primeira: pergunta quais foram as cinco UCs mais afetadas por incêndios no ano de 2018? Apresentar a resposta com o bioma predominante."
   ]
  },
  {
   "cell_type": "code",
   "execution_count": 0,
   "metadata": {
    "application/vnd.databricks.v1+cell": {
     "cellMetadata": {
      "byteLimit": 2048000,
      "implicitDf": true,
      "rowLimit": 10000
     },
     "inputWidgets": {},
     "nuid": "bdfdbed5-35b3-4959-b441-0bd05ab02378",
     "showTitle": false,
     "title": ""
    }
   },
   "outputs": [
    {
     "output_type": "display_data",
     "data": {
      "text/html": [
       "<style scoped>\n",
       "  .table-result-container {\n",
       "    max-height: 300px;\n",
       "    overflow: auto;\n",
       "  }\n",
       "  table, th, td {\n",
       "    border: 1px solid black;\n",
       "    border-collapse: collapse;\n",
       "  }\n",
       "  th, td {\n",
       "    padding: 5px;\n",
       "  }\n",
       "  th {\n",
       "    text-align: left;\n",
       "  }\n",
       "</style><div class='table-result-container'><table class='table-result'><thead style='background-color: white'><tr><th>NOME_UC</th><th>Bioma_predominante</th><th>Maiores_Areas_Queimadas_2018</th><th>Media_Percentual_AreaUC_Atingida_2018</th></tr></thead><tbody><tr><td>ESTACAO ECOLOGICA SERRA GERAL DO TOCANTINS</td><td>CERRADO</td><td>141042.1699</td><td>19.94691726963209</td></tr><tr><td>PARQUE NACIONAL DO ARAGUAIA</td><td>CERRADO</td><td>138454.9113</td><td>24.92361372505252</td></tr><tr><td>PARQUE NACIONAL DAS NASCENTES DO RIO PARNAIBA</td><td>CERRADO</td><td>84336.75101</td><td>11.643426412972797</td></tr><tr><td>ESTACAO ECOLOGICA NIQUIA</td><td>AMAZONIA</td><td>71161.66</td><td>24.987360889905716</td></tr><tr><td>PARQUE NACIONAL DA SERRA DA CANASTRA</td><td>CERRADO</td><td>44544.02514</td><td>22.51870498056206</td></tr></tbody></table></div>"
      ]
     },
     "metadata": {
      "application/vnd.databricks.v1+output": {
       "addedWidgets": {},
       "aggData": [],
       "aggError": "",
       "aggOverflow": false,
       "aggSchema": [],
       "aggSeriesLimitReached": false,
       "aggType": "",
       "arguments": {},
       "columnCustomDisplayInfos": {},
       "data": [
        [
         "ESTACAO ECOLOGICA SERRA GERAL DO TOCANTINS",
         "CERRADO",
         141042.1699,
         19.94691726963209
        ],
        [
         "PARQUE NACIONAL DO ARAGUAIA",
         "CERRADO",
         138454.9113,
         24.92361372505252
        ],
        [
         "PARQUE NACIONAL DAS NASCENTES DO RIO PARNAIBA",
         "CERRADO",
         84336.75101,
         11.643426412972797
        ],
        [
         "ESTACAO ECOLOGICA NIQUIA",
         "AMAZONIA",
         71161.66,
         24.987360889905716
        ],
        [
         "PARQUE NACIONAL DA SERRA DA CANASTRA",
         "CERRADO",
         44544.02514,
         22.51870498056206
        ]
       ],
       "datasetInfos": [],
       "dbfsResultPath": null,
       "isJsonSchema": true,
       "metadata": {},
       "overflow": false,
       "plotOptions": {
        "customPlotOptions": {},
        "displayType": "table",
        "pivotAggregation": null,
        "pivotColumns": null,
        "xColumns": null,
        "yColumns": null
       },
       "removedWidgets": [],
       "schema": [
        {
         "metadata": "{\"comment\":\"Unidade de Conservacao com descricao completa\"}",
         "name": "NOME_UC",
         "type": "\"string\""
        },
        {
         "metadata": "{\"comment\":\"Bioma (IBGE 1:250mil). Para as UCs que ocorrem em mais de um bioma considera-se a que abrange 50% ou mais de seu territorio\"}",
         "name": "Bioma_predominante",
         "type": "\"string\""
        },
        {
         "metadata": "{}",
         "name": "Maiores_Areas_Queimadas_2018",
         "type": "\"double\""
        },
        {
         "metadata": "{}",
         "name": "Media_Percentual_AreaUC_Atingida_2018",
         "type": "\"double\""
        }
       ],
       "type": "table"
      }
     },
     "output_type": "display_data"
    }
   ],
   "source": [
    "%sql\n",
    "-- Somar a área queimada e ter uma média do percentual da area UC atingida\n",
    "SELECT NOME_UC, Bioma_predominante, SUM(Area_queimada) AS Maiores_Areas_Queimadas_2018, AVG(PERC_UC) AS Media_Percentual_AreaUC_Atingida_2018\n",
    "FROM HISTORICO_DADOS_UC\n",
    "WHERE ano = 2018\n",
    "GROUP BY NOME_UC, Bioma_predominante\n",
    "ORDER BY Maiores_Areas_Queimadas_2018 DESC\n",
    "LIMIT 5;"
   ]
  },
  {
   "cell_type": "markdown",
   "metadata": {
    "application/vnd.databricks.v1+cell": {
     "cellMetadata": {
      "byteLimit": 2048000,
      "rowLimit": 10000
     },
     "inputWidgets": {},
     "nuid": "6397ed86-ffba-4454-8747-608d5f6f201d",
     "showTitle": false,
     "title": ""
    }
   },
   "source": [
    "E quais foram as cinco UCs mais afetadas por incêndios no ano de 2019? Apresentar a resposta com o bioma predominante."
   ]
  },
  {
   "cell_type": "code",
   "execution_count": 0,
   "metadata": {
    "application/vnd.databricks.v1+cell": {
     "cellMetadata": {
      "byteLimit": 2048000,
      "implicitDf": true,
      "rowLimit": 10000
     },
     "inputWidgets": {},
     "nuid": "bb496eae-ca67-4c1c-b549-1ba6ea3b18d3",
     "showTitle": false,
     "title": ""
    }
   },
   "outputs": [
    {
     "output_type": "display_data",
     "data": {
      "text/html": [
       "<style scoped>\n",
       "  .table-result-container {\n",
       "    max-height: 300px;\n",
       "    overflow: auto;\n",
       "  }\n",
       "  table, th, td {\n",
       "    border: 1px solid black;\n",
       "    border-collapse: collapse;\n",
       "  }\n",
       "  th, td {\n",
       "    padding: 5px;\n",
       "  }\n",
       "  th {\n",
       "    text-align: left;\n",
       "  }\n",
       "</style><div class='table-result-container'><table class='table-result'><thead style='background-color: white'><tr><th>NOME_UC</th><th>Bioma_predominante</th><th>Maiores_Areas_Queimadas_2019</th><th>Media_Percentual_AreaUC_Atingida_2019</th></tr></thead><tbody><tr><td>PARQUE NACIONAL DO ARAGUAIA</td><td>CERRADO</td><td>329410.2527</td><td>59.29796076735725</td></tr><tr><td>PARQUE NACIONAL DAS NASCENTES DO RIO PARNAIBA</td><td>CERRADO</td><td>196611.26411856242</td><td>27.143905336548155</td></tr><tr><td>ESTACAO ECOLOGICA SERRA GERAL DO TOCANTINS</td><td>CERRADO</td><td>172347.31867264572</td><td>24.37424792036406</td></tr><tr><td>FLORESTA NACIONAL DE RORAIMA</td><td>AMAZONIA</td><td>54500.40523772123</td><td>32.129235615823525</td></tr><tr><td>FLORESTA NACIONAL DO JAMANXIM</td><td>AMAZONIA</td><td>50227.77364861864</td><td>3.858636511549678</td></tr></tbody></table></div>"
      ]
     },
     "metadata": {
      "application/vnd.databricks.v1+output": {
       "addedWidgets": {},
       "aggData": [],
       "aggError": "",
       "aggOverflow": false,
       "aggSchema": [],
       "aggSeriesLimitReached": false,
       "aggType": "",
       "arguments": {},
       "columnCustomDisplayInfos": {},
       "data": [
        [
         "PARQUE NACIONAL DO ARAGUAIA",
         "CERRADO",
         329410.2527,
         59.29796076735725
        ],
        [
         "PARQUE NACIONAL DAS NASCENTES DO RIO PARNAIBA",
         "CERRADO",
         196611.26411856242,
         27.143905336548155
        ],
        [
         "ESTACAO ECOLOGICA SERRA GERAL DO TOCANTINS",
         "CERRADO",
         172347.31867264572,
         24.37424792036406
        ],
        [
         "FLORESTA NACIONAL DE RORAIMA",
         "AMAZONIA",
         54500.40523772123,
         32.129235615823525
        ],
        [
         "FLORESTA NACIONAL DO JAMANXIM",
         "AMAZONIA",
         50227.77364861864,
         3.858636511549678
        ]
       ],
       "datasetInfos": [],
       "dbfsResultPath": null,
       "isJsonSchema": true,
       "metadata": {},
       "overflow": false,
       "plotOptions": {
        "customPlotOptions": {},
        "displayType": "table",
        "pivotAggregation": null,
        "pivotColumns": null,
        "xColumns": null,
        "yColumns": null
       },
       "removedWidgets": [],
       "schema": [
        {
         "metadata": "{\"comment\":\"Unidade de Conservacao com descricao completa\"}",
         "name": "NOME_UC",
         "type": "\"string\""
        },
        {
         "metadata": "{\"comment\":\"Bioma (IBGE 1:250mil). Para as UCs que ocorrem em mais de um bioma considera-se a que abrange 50% ou mais de seu territorio\"}",
         "name": "Bioma_predominante",
         "type": "\"string\""
        },
        {
         "metadata": "{}",
         "name": "Maiores_Areas_Queimadas_2019",
         "type": "\"double\""
        },
        {
         "metadata": "{}",
         "name": "Media_Percentual_AreaUC_Atingida_2019",
         "type": "\"double\""
        }
       ],
       "type": "table"
      }
     },
     "output_type": "display_data"
    }
   ],
   "source": [
    "%sql\n",
    "-- Somar a área queimada e ter uma média do percentual da area UC atingida\n",
    "SELECT NOME_UC, Bioma_predominante, SUM(Area_queimada) AS Maiores_Areas_Queimadas_2019, AVG(PERC_UC) AS Media_Percentual_AreaUC_Atingida_2019\n",
    "FROM HISTORICO_DADOS_UC\n",
    "WHERE ano = 2019\n",
    "GROUP BY NOME_UC, Bioma_predominante\n",
    "ORDER BY Maiores_Areas_Queimadas_2019 DESC\n",
    "LIMIT 5;"
   ]
  },
  {
   "cell_type": "markdown",
   "metadata": {
    "application/vnd.databricks.v1+cell": {
     "cellMetadata": {
      "byteLimit": 2048000,
      "rowLimit": 10000
     },
     "inputWidgets": {},
     "nuid": "78efacf5-2207-4ca1-8516-0c82a608ce5d",
     "showTitle": false,
     "title": ""
    }
   },
   "source": [
    "E quais foram as cinco UCs mais afetadas por incêndios no ano de 2020? Apresentar a resposta com o bioma predominante."
   ]
  },
  {
   "cell_type": "code",
   "execution_count": 0,
   "metadata": {
    "application/vnd.databricks.v1+cell": {
     "cellMetadata": {
      "byteLimit": 2048000,
      "implicitDf": true,
      "rowLimit": 10000
     },
     "inputWidgets": {},
     "nuid": "9d103bec-4f56-4a66-8e04-5c9082fcd89b",
     "showTitle": false,
     "title": ""
    }
   },
   "outputs": [
    {
     "output_type": "display_data",
     "data": {
      "text/html": [
       "<style scoped>\n",
       "  .table-result-container {\n",
       "    max-height: 300px;\n",
       "    overflow: auto;\n",
       "  }\n",
       "  table, th, td {\n",
       "    border: 1px solid black;\n",
       "    border-collapse: collapse;\n",
       "  }\n",
       "  th, td {\n",
       "    padding: 5px;\n",
       "  }\n",
       "  th {\n",
       "    text-align: left;\n",
       "  }\n",
       "</style><div class='table-result-container'><table class='table-result'><thead style='background-color: white'><tr><th>NOME_UC</th><th>Bioma_predominante</th><th>Maiores_Areas_Queimadas_2020</th><th>Media_Percentual_AreaUC_Atingida_2020</th></tr></thead><tbody><tr><td>ESTACAO ECOLOGICA SERRA GERAL DO TOCANTINS</td><td>CERRADO</td><td>261143.2174</td><td>36.932222524681485</td></tr><tr><td>PARQUE NACIONAL DO ARAGUAIA</td><td>CERRADO</td><td>254503.3305</td><td>45.81316553212965</td></tr><tr><td>PARQUE NACIONAL DAS NASCENTES DO RIO PARNAIBA</td><td>CERRADO</td><td>205335.9804</td><td>27.38637675361551</td></tr><tr><td>PARQUE NACIONAL DO PANTANAL MATO-GROSSENSE</td><td>PANTANAL</td><td>132679.51403299998</td><td>97.61398688681554</td></tr><tr><td>PARQUE NACIONAL GRANDE SERTAO VEREDAS</td><td>CERRADO</td><td>94140.23766</td><td>40.77874492042363</td></tr></tbody></table></div>"
      ]
     },
     "metadata": {
      "application/vnd.databricks.v1+output": {
       "addedWidgets": {},
       "aggData": [],
       "aggError": "",
       "aggOverflow": false,
       "aggSchema": [],
       "aggSeriesLimitReached": false,
       "aggType": "",
       "arguments": {},
       "columnCustomDisplayInfos": {},
       "data": [
        [
         "ESTACAO ECOLOGICA SERRA GERAL DO TOCANTINS",
         "CERRADO",
         261143.2174,
         36.932222524681485
        ],
        [
         "PARQUE NACIONAL DO ARAGUAIA",
         "CERRADO",
         254503.3305,
         45.81316553212965
        ],
        [
         "PARQUE NACIONAL DAS NASCENTES DO RIO PARNAIBA",
         "CERRADO",
         205335.9804,
         27.38637675361551
        ],
        [
         "PARQUE NACIONAL DO PANTANAL MATO-GROSSENSE",
         "PANTANAL",
         132679.51403299998,
         97.61398688681554
        ],
        [
         "PARQUE NACIONAL GRANDE SERTAO VEREDAS",
         "CERRADO",
         94140.23766,
         40.77874492042363
        ]
       ],
       "datasetInfos": [],
       "dbfsResultPath": null,
       "isJsonSchema": true,
       "metadata": {},
       "overflow": false,
       "plotOptions": {
        "customPlotOptions": {},
        "displayType": "table",
        "pivotAggregation": null,
        "pivotColumns": null,
        "xColumns": null,
        "yColumns": null
       },
       "removedWidgets": [],
       "schema": [
        {
         "metadata": "{\"comment\":\"Unidade de Conservacao com descricao completa\"}",
         "name": "NOME_UC",
         "type": "\"string\""
        },
        {
         "metadata": "{\"comment\":\"Bioma (IBGE 1:250mil). Para as UCs que ocorrem em mais de um bioma considera-se a que abrange 50% ou mais de seu territorio\"}",
         "name": "Bioma_predominante",
         "type": "\"string\""
        },
        {
         "metadata": "{}",
         "name": "Maiores_Areas_Queimadas_2020",
         "type": "\"double\""
        },
        {
         "metadata": "{}",
         "name": "Media_Percentual_AreaUC_Atingida_2020",
         "type": "\"double\""
        }
       ],
       "type": "table"
      }
     },
     "output_type": "display_data"
    }
   ],
   "source": [
    "%sql\n",
    "-- Somar a área queimada e ter uma média do percentual da area UC atingida\n",
    "SELECT NOME_UC, Bioma_predominante, SUM(Area_queimada) AS Maiores_Areas_Queimadas_2020, AVG(PERC_UC) AS Media_Percentual_AreaUC_Atingida_2020\n",
    "FROM HISTORICO_DADOS_UC\n",
    "WHERE ano = 2020\n",
    "GROUP BY NOME_UC, Bioma_predominante\n",
    "ORDER BY Maiores_Areas_Queimadas_2020 DESC\n",
    "LIMIT 5;"
   ]
  },
  {
   "cell_type": "markdown",
   "metadata": {
    "application/vnd.databricks.v1+cell": {
     "cellMetadata": {
      "byteLimit": 2048000,
      "rowLimit": 10000
     },
     "inputWidgets": {},
     "nuid": "b5a13e42-59d4-483b-811f-418ef1cabcb8",
     "showTitle": false,
     "title": ""
    }
   },
   "source": [
    "E quais foram as cinco UCs mais afetadas por incêndios no ano de 2021? Apresentar a resposta com o bioma predominante."
   ]
  },
  {
   "cell_type": "code",
   "execution_count": 0,
   "metadata": {
    "application/vnd.databricks.v1+cell": {
     "cellMetadata": {
      "byteLimit": 2048000,
      "implicitDf": true,
      "rowLimit": 10000
     },
     "inputWidgets": {},
     "nuid": "983b0fde-e028-402d-af11-c516d3493863",
     "showTitle": false,
     "title": ""
    }
   },
   "outputs": [
    {
     "output_type": "display_data",
     "data": {
      "text/html": [
       "<style scoped>\n",
       "  .table-result-container {\n",
       "    max-height: 300px;\n",
       "    overflow: auto;\n",
       "  }\n",
       "  table, th, td {\n",
       "    border: 1px solid black;\n",
       "    border-collapse: collapse;\n",
       "  }\n",
       "  th, td {\n",
       "    padding: 5px;\n",
       "  }\n",
       "  th {\n",
       "    text-align: left;\n",
       "  }\n",
       "</style><div class='table-result-container'><table class='table-result'><thead style='background-color: white'><tr><th>NOME_UC</th><th>Bioma_predominante</th><th>Maiores_Areas_Queimadas_2021</th><th>Media_Percentual_AreaUC_Atingida_2021</th></tr></thead><tbody><tr><td>PARQUE NACIONAL DO ARAGUAIA</td><td>CERRADO</td><td>243856.304718</td><td>43.896593535835905</td></tr><tr><td>PARQUE NACIONAL DAS NASCENTES DO RIO PARNAIBA</td><td>CERRADO</td><td>159477.244095</td><td>21.27003694944607</td></tr><tr><td>ESTACAO ECOLOGICA SERRA GERAL DO TOCANTINS</td><td>CERRADO</td><td>136794.97771</td><td>19.346252246008504</td></tr><tr><td>REFUGIO DE VIDA SILVESTRE DAS VEREDAS DO OESTE BAIANO</td><td>CERRADO</td><td>52223.35</td><td>40.78338510689775</td></tr><tr><td>FLORESTA NACIONAL DO JAMANXIM</td><td>AMAZONIA</td><td>44461.549547</td><td>3.415659225557721</td></tr></tbody></table></div>"
      ]
     },
     "metadata": {
      "application/vnd.databricks.v1+output": {
       "addedWidgets": {},
       "aggData": [],
       "aggError": "",
       "aggOverflow": false,
       "aggSchema": [],
       "aggSeriesLimitReached": false,
       "aggType": "",
       "arguments": {},
       "columnCustomDisplayInfos": {},
       "data": [
        [
         "PARQUE NACIONAL DO ARAGUAIA",
         "CERRADO",
         243856.304718,
         43.896593535835905
        ],
        [
         "PARQUE NACIONAL DAS NASCENTES DO RIO PARNAIBA",
         "CERRADO",
         159477.244095,
         21.27003694944607
        ],
        [
         "ESTACAO ECOLOGICA SERRA GERAL DO TOCANTINS",
         "CERRADO",
         136794.97771,
         19.346252246008504
        ],
        [
         "REFUGIO DE VIDA SILVESTRE DAS VEREDAS DO OESTE BAIANO",
         "CERRADO",
         52223.35,
         40.78338510689775
        ],
        [
         "FLORESTA NACIONAL DO JAMANXIM",
         "AMAZONIA",
         44461.549547,
         3.415659225557721
        ]
       ],
       "datasetInfos": [],
       "dbfsResultPath": null,
       "isJsonSchema": true,
       "metadata": {},
       "overflow": false,
       "plotOptions": {
        "customPlotOptions": {},
        "displayType": "table",
        "pivotAggregation": null,
        "pivotColumns": null,
        "xColumns": null,
        "yColumns": null
       },
       "removedWidgets": [],
       "schema": [
        {
         "metadata": "{\"comment\":\"Unidade de Conservacao com descricao completa\"}",
         "name": "NOME_UC",
         "type": "\"string\""
        },
        {
         "metadata": "{\"comment\":\"Bioma (IBGE 1:250mil). Para as UCs que ocorrem em mais de um bioma considera-se a que abrange 50% ou mais de seu territorio\"}",
         "name": "Bioma_predominante",
         "type": "\"string\""
        },
        {
         "metadata": "{}",
         "name": "Maiores_Areas_Queimadas_2021",
         "type": "\"double\""
        },
        {
         "metadata": "{}",
         "name": "Media_Percentual_AreaUC_Atingida_2021",
         "type": "\"double\""
        }
       ],
       "type": "table"
      }
     },
     "output_type": "display_data"
    }
   ],
   "source": [
    "%sql\n",
    "-- Somar a área queimada e ter uma média do percentual da area UC atingida\n",
    "SELECT NOME_UC, Bioma_predominante, SUM(Area_queimada) AS Maiores_Areas_Queimadas_2021, AVG(PERC_UC) AS Media_Percentual_AreaUC_Atingida_2021\n",
    "FROM HISTORICO_DADOS_UC\n",
    "WHERE ano = 2021\n",
    "GROUP BY NOME_UC, Bioma_predominante\n",
    "ORDER BY Maiores_Areas_Queimadas_2021 DESC\n",
    "LIMIT 5;"
   ]
  },
  {
   "cell_type": "markdown",
   "metadata": {
    "application/vnd.databricks.v1+cell": {
     "cellMetadata": {
      "byteLimit": 2048000,
      "rowLimit": 10000
     },
     "inputWidgets": {},
     "nuid": "b8076abd-df84-4cc5-ae83-fda63acda15f",
     "showTitle": false,
     "title": ""
    }
   },
   "source": [
    "E quais foram as cinco UCs mais afetadas por incêndios no ano de 2022? Apresentar a resposta com o bioma predominante."
   ]
  },
  {
   "cell_type": "code",
   "execution_count": 0,
   "metadata": {
    "application/vnd.databricks.v1+cell": {
     "cellMetadata": {
      "byteLimit": 2048000,
      "implicitDf": true,
      "rowLimit": 10000
     },
     "inputWidgets": {},
     "nuid": "1aa559f9-3304-4204-adfb-90c1743d271b",
     "showTitle": false,
     "title": ""
    }
   },
   "outputs": [
    {
     "output_type": "display_data",
     "data": {
      "text/html": [
       "<style scoped>\n",
       "  .table-result-container {\n",
       "    max-height: 300px;\n",
       "    overflow: auto;\n",
       "  }\n",
       "  table, th, td {\n",
       "    border: 1px solid black;\n",
       "    border-collapse: collapse;\n",
       "  }\n",
       "  th, td {\n",
       "    padding: 5px;\n",
       "  }\n",
       "  th {\n",
       "    text-align: left;\n",
       "  }\n",
       "</style><div class='table-result-container'><table class='table-result'><thead style='background-color: white'><tr><th>NOME_UC</th><th>Bioma_predominante</th><th>Maiores_Areas_Queimadas_2022</th><th>Media_Percentual_AreaUC_Atingida_2022</th></tr></thead><tbody><tr><td>ESTACAO ECOLOGICA SERRA GERAL DO TOCANTINS</td><td>CERRADO</td><td>297816.7325890216</td><td>42.12</td></tr><tr><td>PARQUE NACIONAL DO ARAGUAIA</td><td>CERRADO</td><td>203292.5169332762</td><td>36.59</td></tr><tr><td>PARQUE NACIONAL DAS NASCENTES DO RIO PARNAIBA</td><td>CERRADO</td><td>165651.8899353112</td><td>22.09</td></tr><tr><td>PARQUE NACIONAL DA CHAPADA DOS VEADEIROS</td><td>CERRADO</td><td>64619.17947</td><td>26.86</td></tr><tr><td>PARQUE NACIONAL DA CHAPADA DAS MESAS</td><td>CERRADO</td><td>63967.66737698494</td><td>39.99</td></tr></tbody></table></div>"
      ]
     },
     "metadata": {
      "application/vnd.databricks.v1+output": {
       "addedWidgets": {},
       "aggData": [],
       "aggError": "",
       "aggOverflow": false,
       "aggSchema": [],
       "aggSeriesLimitReached": false,
       "aggType": "",
       "arguments": {},
       "columnCustomDisplayInfos": {},
       "data": [
        [
         "ESTACAO ECOLOGICA SERRA GERAL DO TOCANTINS",
         "CERRADO",
         297816.7325890216,
         42.12
        ],
        [
         "PARQUE NACIONAL DO ARAGUAIA",
         "CERRADO",
         203292.5169332762,
         36.59
        ],
        [
         "PARQUE NACIONAL DAS NASCENTES DO RIO PARNAIBA",
         "CERRADO",
         165651.8899353112,
         22.09
        ],
        [
         "PARQUE NACIONAL DA CHAPADA DOS VEADEIROS",
         "CERRADO",
         64619.17947,
         26.86
        ],
        [
         "PARQUE NACIONAL DA CHAPADA DAS MESAS",
         "CERRADO",
         63967.66737698494,
         39.99
        ]
       ],
       "datasetInfos": [],
       "dbfsResultPath": null,
       "isJsonSchema": true,
       "metadata": {},
       "overflow": false,
       "plotOptions": {
        "customPlotOptions": {},
        "displayType": "table",
        "pivotAggregation": null,
        "pivotColumns": null,
        "xColumns": null,
        "yColumns": null
       },
       "removedWidgets": [],
       "schema": [
        {
         "metadata": "{\"comment\":\"Unidade de Conservacao com descricao completa\"}",
         "name": "NOME_UC",
         "type": "\"string\""
        },
        {
         "metadata": "{\"comment\":\"Bioma (IBGE 1:250mil). Para as UCs que ocorrem em mais de um bioma considera-se a que abrange 50% ou mais de seu territorio\"}",
         "name": "Bioma_predominante",
         "type": "\"string\""
        },
        {
         "metadata": "{}",
         "name": "Maiores_Areas_Queimadas_2022",
         "type": "\"double\""
        },
        {
         "metadata": "{}",
         "name": "Media_Percentual_AreaUC_Atingida_2022",
         "type": "\"double\""
        }
       ],
       "type": "table"
      }
     },
     "output_type": "display_data"
    }
   ],
   "source": [
    "%sql\n",
    "-- Somar a área queimada e ter uma média do percentual da area UC atingida\n",
    "SELECT NOME_UC, Bioma_predominante, SUM(Area_queimada) AS Maiores_Areas_Queimadas_2022, AVG(PERC_UC) AS Media_Percentual_AreaUC_Atingida_2022\n",
    "FROM HISTORICO_DADOS_UC\n",
    "WHERE ano = 2022\n",
    "GROUP BY NOME_UC, Bioma_predominante\n",
    "ORDER BY Maiores_Areas_Queimadas_2022 DESC\n",
    "LIMIT 5;"
   ]
  },
  {
   "cell_type": "markdown",
   "metadata": {
    "application/vnd.databricks.v1+cell": {
     "cellMetadata": {
      "byteLimit": 2048000,
      "rowLimit": 10000
     },
     "inputWidgets": {},
     "nuid": "bbaf7532-9430-4ff0-abb5-af460b5bb714",
     "showTitle": false,
     "title": ""
    }
   },
   "source": [
    "E quais foram as cinco UCs mais afetadas por incêndios no ano de 2023? Apresentar a resposta com o bioma predominante."
   ]
  },
  {
   "cell_type": "code",
   "execution_count": 0,
   "metadata": {
    "application/vnd.databricks.v1+cell": {
     "cellMetadata": {
      "byteLimit": 2048000,
      "implicitDf": true,
      "rowLimit": 10000
     },
     "inputWidgets": {},
     "nuid": "1502393a-dfbf-4a3a-b01f-64119de47663",
     "showTitle": false,
     "title": ""
    }
   },
   "outputs": [
    {
     "output_type": "display_data",
     "data": {
      "text/html": [
       "<style scoped>\n",
       "  .table-result-container {\n",
       "    max-height: 300px;\n",
       "    overflow: auto;\n",
       "  }\n",
       "  table, th, td {\n",
       "    border: 1px solid black;\n",
       "    border-collapse: collapse;\n",
       "  }\n",
       "  th, td {\n",
       "    padding: 5px;\n",
       "  }\n",
       "  th {\n",
       "    text-align: left;\n",
       "  }\n",
       "</style><div class='table-result-container'><table class='table-result'><thead style='background-color: white'><tr><th>NOME_UC</th><th>Bioma_predominante</th><th>Maiores_Areas_Queimadas_2023</th><th>Media_Percentual_AreaUC_Atingida_2023</th></tr></thead><tbody><tr><td>ESTACAO ECOLOGICA SERRA GERAL DO TOCANTINS</td><td>CERRADO</td><td>172718.7743</td><td>24.43</td></tr><tr><td>PARQUE NACIONAL DO ARAGUAIA</td><td>CERRADO</td><td>155650.9251</td><td>28.02</td></tr><tr><td>AREA DE PROTECAO AMBIENTAL DOS MEANDROS DO RIO ARAGUAIA</td><td>CERRADO</td><td>59709.49648</td><td>16.62</td></tr><tr><td>PARQUE NACIONAL DO PANTANAL MATO-GROSSENSE</td><td>PANTANAL</td><td>53291.3074</td><td>39.21</td></tr><tr><td>PARQUE NACIONAL DA SERRA DA CANASTRA</td><td>CERRADO</td><td>46780.91214</td><td>23.63</td></tr></tbody></table></div>"
      ]
     },
     "metadata": {
      "application/vnd.databricks.v1+output": {
       "addedWidgets": {},
       "aggData": [],
       "aggError": "",
       "aggOverflow": false,
       "aggSchema": [],
       "aggSeriesLimitReached": false,
       "aggType": "",
       "arguments": {},
       "columnCustomDisplayInfos": {},
       "data": [
        [
         "ESTACAO ECOLOGICA SERRA GERAL DO TOCANTINS",
         "CERRADO",
         172718.7743,
         24.43
        ],
        [
         "PARQUE NACIONAL DO ARAGUAIA",
         "CERRADO",
         155650.9251,
         28.02
        ],
        [
         "AREA DE PROTECAO AMBIENTAL DOS MEANDROS DO RIO ARAGUAIA",
         "CERRADO",
         59709.49648,
         16.62
        ],
        [
         "PARQUE NACIONAL DO PANTANAL MATO-GROSSENSE",
         "PANTANAL",
         53291.3074,
         39.21
        ],
        [
         "PARQUE NACIONAL DA SERRA DA CANASTRA",
         "CERRADO",
         46780.91214,
         23.63
        ]
       ],
       "datasetInfos": [],
       "dbfsResultPath": null,
       "isJsonSchema": true,
       "metadata": {},
       "overflow": false,
       "plotOptions": {
        "customPlotOptions": {},
        "displayType": "table",
        "pivotAggregation": null,
        "pivotColumns": null,
        "xColumns": null,
        "yColumns": null
       },
       "removedWidgets": [],
       "schema": [
        {
         "metadata": "{\"comment\":\"Unidade de Conservacao com descricao completa\"}",
         "name": "NOME_UC",
         "type": "\"string\""
        },
        {
         "metadata": "{\"comment\":\"Bioma (IBGE 1:250mil). Para as UCs que ocorrem em mais de um bioma considera-se a que abrange 50% ou mais de seu territorio\"}",
         "name": "Bioma_predominante",
         "type": "\"string\""
        },
        {
         "metadata": "{}",
         "name": "Maiores_Areas_Queimadas_2023",
         "type": "\"double\""
        },
        {
         "metadata": "{}",
         "name": "Media_Percentual_AreaUC_Atingida_2023",
         "type": "\"double\""
        }
       ],
       "type": "table"
      }
     },
     "output_type": "display_data"
    }
   ],
   "source": [
    "%sql\n",
    "\n",
    "SELECT NOME_UC, Bioma_predominante, SUM(Area_queimada) AS Maiores_Areas_Queimadas_2023, AVG(PERC_UC) AS Media_Percentual_AreaUC_Atingida_2023\n",
    "FROM HISTORICO_DADOS_UC\n",
    "WHERE ano = 2023\n",
    "GROUP BY NOME_UC, Bioma_predominante\n",
    "ORDER BY Maiores_Areas_Queimadas_2023 DESC\n",
    "LIMIT 5;"
   ]
  },
  {
   "cell_type": "markdown",
   "metadata": {
    "application/vnd.databricks.v1+cell": {
     "cellMetadata": {
      "byteLimit": 2048000,
      "rowLimit": 10000
     },
     "inputWidgets": {},
     "nuid": "6c8cf5e7-2517-467f-9712-67037bbb04d1",
     "showTitle": false,
     "title": ""
    }
   },
   "source": [
    "<div style=\"text-align: justify;\">\n",
    "Pelas respostas é possível afirmar que o Bioma da UCs mais atingido por incêndios é o Cerrado. O Pantanal chama atenção pelo elevado percentual de área atingida em relação à área total da UC, o Parque Nacional do Pantanal Mato-Grossense. Em 2020 foi próximo de 100%, algo que impressiona. Em 2023, o percentual foi menor, próximo de 40%, mas ainda assim, signifativo. Com relação a persistência do problema entre o período de 2018-2023, a Estação Ecológica Serra Geral do Tocantins se manteve entre na liderança juntamente com O Parque Nacional do Araguaia.  São duas UCs que exigem maior atenção para a questão analisada aqui.  "
   ]
  },
  {
   "cell_type": "markdown",
   "metadata": {
    "application/vnd.databricks.v1+cell": {
     "cellMetadata": {
      "byteLimit": 2048000,
      "rowLimit": 10000
     },
     "inputWidgets": {},
     "nuid": "0ba08f7f-4e36-4ca1-ae50-0b0656138fca",
     "showTitle": false,
     "title": ""
    }
   },
   "source": [
    "<div style=\"text-align: justify;\">\n",
    "São muita perguntas que podem ser feitas, mas vamos encerrar duas perguntas finais. A primeira é para obter uma de quais as Unidades Conservação entre o período de 2018-2023 não registraram ocorrências de incêndios.  É importante destacar que por não existir uma coluna específica para data de criação legal das Unidades de Conservação, o resultado deve passar por um crivo depois para identificar quais são Unidades de Conservação mais recentes. Isto porque obviamente as UCs mais recentes não terão registros de incêndios antes de sua criação, o que não significa que o lugar não tenha sofrido deste problema.  Apesar desta ressalva, é melhor este tipo consulta do que verificar qual foi a menor área atingida por queimada em Unidade de Conservação. O motivo disto é muito simples: uma Unidade de Conservação server para proteção ambiental integral ou para manejo sustentável, ou seja, este lugares não é para sofrer com incêndios florestais, não importa a dimensão da área.\n",
    "\n",
    "A outra consulta é soma total das áreas queimadas por ano para visualização de como evolui as ocorrências de incêndios ao longo do referido período.  "
   ]
  },
  {
   "cell_type": "code",
   "execution_count": 0,
   "metadata": {
    "application/vnd.databricks.v1+cell": {
     "cellMetadata": {
      "byteLimit": 2048000,
      "implicitDf": true,
      "rowLimit": 10000
     },
     "inputWidgets": {},
     "nuid": "0942f76f-619c-45c6-952a-0bd86079e700",
     "showTitle": false,
     "title": ""
    }
   },
   "outputs": [
    {
     "output_type": "display_data",
     "data": {
      "text/html": [
       "<style scoped>\n",
       "  .table-result-container {\n",
       "    max-height: 300px;\n",
       "    overflow: auto;\n",
       "  }\n",
       "  table, th, td {\n",
       "    border: 1px solid black;\n",
       "    border-collapse: collapse;\n",
       "  }\n",
       "  th, td {\n",
       "    padding: 5px;\n",
       "  }\n",
       "  th {\n",
       "    text-align: left;\n",
       "  }\n",
       "</style><div class='table-result-container'><table class='table-result'><thead style='background-color: white'><tr><th>TIPO_NOME</th><th>Atos_legais</th></tr></thead><tbody><tr><td>APA ANHATOMIRIM</td><td>DEC  528 de 20/05/1992</td></tr><tr><td>APA COSTA DAS ALGAS</td><td>DEC S/N de 17/06/2010</td></tr><tr><td>APA DA ARARINHA AZUL</td><td>DEC 9.402 de 05/06/2018</td></tr><tr><td>APA DA BARRA DO RIO MAMANGUAPE</td><td>DEC  924 de 10/09/1993; DEC S;N 7/04/1998</td></tr><tr><td>APA DA COSTA DOS CORAIS</td><td>DEC S/N de 23/10/1997</td></tr><tr><td>APA DE FERNANDO DE NORONHA - ROCAS - SAO PEDRO E SAO PAULO</td><td>DEC 92.755 de 05/06/1986</td></tr><tr><td>APA DE GUARAQUECABA</td><td>DEC  90.883 de 31/01/1985</td></tr><tr><td>APA DE PIACABUCU</td><td>DEC  88.421 de 21/06/1983</td></tr><tr><td>APA DO ARQUIPELAGO DE SAO PEDRO E SAO PAULO</td><td>DEC 9.313 de 19/03/2018</td></tr><tr><td>APA DO ARQUIPELAGO DE TRINDADE E MARTIM VAZ</td><td>DEC 9.312 de 19/03/2018</td></tr><tr><td>APA DO IGARAPE GELADO</td><td>DEC  97.718 de 05/05/1989</td></tr><tr><td>APA DOS CAMPOS DE MANICORE</td><td>DEC S/N de 11/05/2016</td></tr><tr><td>APA SERRA DA MERUOCA</td><td>LEI 11.891 de 24/12/2008</td></tr><tr><td>ARIE BURITI DE VASSUNUNGA</td><td>DEC  99.276/1990</td></tr><tr><td>ARIE CAPETINGA - TAQUARA</td><td>DEC  91.303 de 03/06/1985</td></tr><tr><td>ARIE CERRADO PE-DE-GIGANTE</td><td>DEC  99.275 de 06/06/1990</td></tr><tr><td>ARIE DA MATA DE SANTA GENEBRA</td><td>DEC  91.885 de 05/11/1985</td></tr><tr><td>ARIE FLORESTA DA CICUTA</td><td>DEC  90.792 de 09/01/1985</td></tr><tr><td>ARIE ILHA DO AMEIXAL</td><td>DEC  91.889 de 05/11/1985</td></tr><tr><td>ARIE ILHAS DA QUEIMADA PEQUENA E QUEIMADA GRANDE</td><td>DEC  91.887 de 05/11/1985</td></tr><tr><td>ARIE JAVARI-BURITI</td><td>DEC  91.886 de 05/11/1985</td></tr><tr><td>ARIE MANGUEZAIS DA FOZ DO RIO MAMANGUAPE</td><td>DEC  91.890 de 05/11/1985</td></tr><tr><td>ARIE MATAO DE COSMOPOLIS</td><td>DEC  90.791 de 09/01/1985</td></tr><tr><td>ARIE PROJETO DINAMICA BIOLOGICA DE FRAGMENTOS FLORESTAIS</td><td>DEC  91.884 de 05/11/1985</td></tr><tr><td>ESEC ALTO MAUES</td><td>DEC S/N de 16/10/2014</td></tr><tr><td>ESEC DA GUANABARA</td><td>DEC S/N de 15/02/2006</td></tr><tr><td>ESEC DE ARACURI-ESMERALDA</td><td>DEC  86.061 de 2/6/1981.</td></tr><tr><td>ESEC DE CARIJOS</td><td>DEC 94.656. de 20/07/1987</td></tr><tr><td>ESEC DE GUARAQUECABA</td><td>DEC 87.222. de 31/05/1982; DEC  93.053. de 31/07/1986; LEI 9.513. de 20/11/1997</td></tr><tr><td>ESEC DE JUTAI-SOLIMOES</td><td>DEC  88.541. de 21/7/1983; Portaria 375. de 11/10/2001</td></tr><tr><td>ESEC DE MARACA</td><td>DEC  86.061. de 02/06/1981 e Decreto de ampliação de 11.684 de 05 /09/2023</td></tr><tr><td>ESEC DE MARACA-JIPIOCA</td><td>DEC 86.061 de 02/06/1981</td></tr><tr><td>ESEC DE MURICI</td><td>DEC S/N. de 28/05/2001</td></tr><tr><td>ESEC DE PIRAPITINGA</td><td>DEC 94.656. de 20/07/1987</td></tr><tr><td>ESEC DE TAMOIOS</td><td>DEC  98.864. de 23/01/1990</td></tr><tr><td>ESEC DO JARI</td><td>DEC  87.092. de 12/04/1982; DEC 89.440. de 13/03/1984</td></tr><tr><td>ESEC DO SERIDO</td><td>DEC  87.222. de 31/05/1982</td></tr><tr><td>ESEC DOS TUPINIQUINS</td><td>DEC 92.964. de 21/07/1986</td></tr><tr><td>ESEC JUAMI-JAPURA</td><td>DEC 91.307. de 03/06/1985</td></tr><tr><td>ESEC MICO-LEAO-PRETO</td><td>DEC S/N de 16/07/2002; DEC S/N de 14/05/2004</td></tr><tr><td>ESEC RIO ACRE</td><td>DEC 86.061. de 02/06/1981</td></tr><tr><td>ESEC TUPINAMBAS</td><td>DEC  94.656. de 20/07/1987</td></tr><tr><td>FLONA CONTENDAS DO SINCORA</td><td>DEC S/N. de 21/09/1999</td></tr><tr><td>FLONA DA RESTINGA DE CABEDELO</td><td>DEC S/N. de 02/06/2004</td></tr><tr><td>FLONA DE ACU</td><td>Portaria 245 de 18/07/2001</td></tr><tr><td>FLONA DE ANAUA</td><td>DEC S/N de 18/02/2005</td></tr><tr><td>FLONA DE ASSUNGUI</td><td>Portaria 559 de 25/10/1968</td></tr><tr><td>FLONA DE CACADOR</td><td>Portaria 560 de 25/10/1968</td></tr><tr><td>FLONA DE CANELA</td><td>Portaria 561 de 25/10/1968</td></tr><tr><td>FLONA DE CAPAO BONITO</td><td>Portaria 558 de 25/10/1968</td></tr><tr><td>FLONA DE CHAPECO</td><td>Portaria 560 de 25/10/1968</td></tr><tr><td>FLONA DE GOYTACAZES</td><td>DEC S/N de 05/06/2012</td></tr><tr><td>FLONA DE IBIRAMA</td><td>DEC  95.818. de 11/03/1988</td></tr><tr><td>FLONA DE IRATI</td><td>Portaria 559 de 25/10/1968</td></tr><tr><td>FLONA DE ITAITUBA I</td><td>DEC  2.481. de 02/02/1998; LEI 12.678. de 25/06/2012</td></tr><tr><td>FLONA DE LORENA</td><td>Portaria 246 de 18/07/2001</td></tr><tr><td>FLONA DE MULATA</td><td>DEC S/N de 01/08/2001</td></tr><tr><td>FLONA DE NISIA FLORESTA</td><td>DEC S/N de 27/09/2001</td></tr><tr><td>FLONA DE NEGREIROS</td><td>DEC S/N de 11/10/2007</td></tr><tr><td>FLONA DE PACOTUBA</td><td>DEC S/N de 13/12/2002</td></tr><tr><td>FLONA DE PALMARES</td><td>DEC S/N de 21/02/2005</td></tr><tr><td>FLONA DE PARAOPEBA</td><td>Portaria 248 de 18/07/2001</td></tr><tr><td>FLONA DE PASSA QUATRO</td><td>Portaria 562 de 25/10/1968</td></tr><tr><td>FLONA DE PASSO FUNDO</td><td>Portaria 561 de 25/10/1968</td></tr><tr><td>FLONA DE PAU-ROSA</td><td>DEC S/N de 07/08/2001.</td></tr><tr><td>FLONA DE PIRAI DO SUL</td><td>DEC S/N de 02/06/2004</td></tr><tr><td>FLONA DE RITAPOLIS</td><td>DEC S/N de 21/09/1999</td></tr><tr><td>FLONA DE SAO FRANCISCO</td><td>DEC S/N de 07/08/2001</td></tr><tr><td>FLONA DE SOBRAL</td><td>Portaria 358. de 27/09/2001</td></tr><tr><td>FLONA DE TEFE</td><td>DEC  97.629. de 10/04/1989.</td></tr><tr><td>FLONA DE TRES BARRAS</td><td>Portaria 560 de 25/12/1968</td></tr><tr><td>FLONA DO AMANA</td><td>DEC S/N de 13/02/2006; DEC S/N de 11/05/2016</td></tr><tr><td>FLONA DO AMAPA</td><td>DEC  97.630. de 10/04/1989.</td></tr><tr><td>FLONA DO IBURA</td><td>DEC S/N de 19/09/2005.</td></tr><tr><td>FLONA DO PARIMA</td><td>DEC 11.685 de 05/09/2023</td></tr><tr><td>FLONA DO PURUS</td><td>DEC  96.190 de 21/06/1988</td></tr><tr><td>FLONA DO RIO PRETO</td><td>DEC  98.845 de 17/01/1990</td></tr><tr><td>FLONA DO TAPIRAPE - AQUIRI</td><td>DEC  97.720 de 05/05/1989</td></tr><tr><td>FLONA MAPIA - INAUINI</td><td>DEC  98.051 de 14/08/1989</td></tr><tr><td>MN DAS ILHAS DE TRINDADE. MARTIM VAZ E DO MONTE COLUMBIA</td><td>DEC 9.312 de 19/03/2018</td></tr><tr><td>MN DO ARQUIPELAGO DAS ILHAS CAGARRAS</td><td>LEI 12.229 de 13/04/2010</td></tr><tr><td>MN DO ARQUIPELAGO DE SAO PEDRO E SAO PAULO</td><td>DEC 9.313 de 19/03/2018</td></tr><tr><td>MN DO RIO SAO FRANCISCO</td><td>DEC S/N. de 05/06/2009</td></tr><tr><td>MN DOS PONTOES CAPIXABAS</td><td>DEC S/N de 19/12/2002; Lei ordinária  n. 11.686. de 02/06/2008</td></tr><tr><td>PARNA DA FURNA FEIA</td><td>DEC S/N. de 05/06/2012</td></tr><tr><td>PARNA DA SERRA DAS LONTRAS</td><td>DEC S/N. de 11/06/2010</td></tr><tr><td>PARNA DA TIJUCA</td><td>DEC 50.923. de 06/07/1961 ;DEC 60.183. de 08/02/1967 ;DEC 70.186. de 23/02/1972 ;DEC S/N. de 03/06/2004</td></tr><tr><td>PARNA DE ANAVILHANAS</td><td>DEC 86.061. de 02/06/1981;LEI 11.799. de 29/10/2008</td></tr><tr><td>PARNA DE CAPARAO</td><td>DEC 50.646. de 24/05/1961; DEC S/N. de 20/11/1991; DEC S/N. de 20/11/1997</td></tr><tr><td>PARNA DE JERICOACOARA</td><td>DEC S/N. de 04/02/2002; LEI 11.486. de 15/06/2007</td></tr><tr><td>PARNA DE SAINT-HILAIRE/LANGE</td><td>LO 10.227. de 23/05/2001</td></tr><tr><td>PARNA DE UBAJARA</td><td>DEC 45.954. de 30/04/1959; DEC 72.144. de 26/04/1973; DEC S/N. de 13/12/2002</td></tr><tr><td>PARNA DO ALTO CARIRI</td><td>DEC S/N. de 11/06/2010</td></tr><tr><td>PARNA DO CATIMBAU</td><td>DEC S/N. de 13/12/2002</td></tr><tr><td>PARNA DO DESCOBRIMENTO</td><td>DEC S/N. de 05/06/2012</td></tr><tr><td>PARNA DO IGUACU</td><td>DEC  1.035. de 10/01/1939; DEC 86.676. de 01/12/1981</td></tr><tr><td>PARNA DO PAU BRASIL</td><td>DEC S/N. de 11/06/2010</td></tr><tr><td>PARNA DO SUPERAGUI</td><td>DEC 97.688 de 25/04/1989; DEC 9.513 de 20/11/1997</td></tr><tr><td>PARNA DOS CAMPOS GERAIS</td><td>DEC S/N de 23/03/2006</td></tr><tr><td>PARNA GUARICANA</td><td>DEC S/N. de 13/10/2014</td></tr><tr><td>PARNA MARINHO DAS ILHAS DOS CURRAIS</td><td>LEI 12.829. de 20/06/2013</td></tr><tr><td>PARNA MARINHO DE FERNANDO DE NORONHA</td><td>DEC 96.693. de 14/09/1988</td></tr><tr><td>PARNA MARINHO DOS ABROLHOS</td><td>DEC 88.218. de 06/04/1983</td></tr><tr><td>PARNA MONTANHAS DO TUMUCUMAQUE</td><td>DEC S/N. de 22/08/2002</td></tr><tr><td>PARNA NASCENTES DO LAGO JARI</td><td>DEC S/N. de 08/05/2008</td></tr><tr><td>PARNA SERRA DA CUTIA</td><td>DEC S/N. de 01/08/2001</td></tr><tr><td>PARNA SERRA DE ITABAIANA</td><td>DEC S/N. de 15/06/2005</td></tr><tr><td>REVIS DA ARARINHA AZUL</td><td>DEC 9.402 de 05/06/2018</td></tr><tr><td>REVIS DO ARQUIPELAGO DE ALCATRAZES</td><td>DEC S/N de 02/08/2016</td></tr><tr><td>REVIS DA ILHA DOS LOBOS</td><td>DEC 88.463. DE 04/07/1983; DEC S/N de 13/02/2006</td></tr><tr><td>REVIS DE SANTA CRUZ</td><td>DEC S/N de 17/06/2010</td></tr><tr><td>REBIO  AUGUSTO RUSCHI</td><td>DEC 87.589 de 20/09/1982; DEC 92.753 de 05/06/1986</td></tr><tr><td>REBIO BOM JESUS</td><td>DEC S/N de 05/06/2012</td></tr><tr><td>REBIO DE COMBOIOS</td><td>DEC  90.222 de 25/09/1984</td></tr><tr><td>REBIO DE SALTINHO</td><td>DEC  88.744 de 21/09/1983</td></tr><tr><td>REBIO DE SANTA ISABEL</td><td>DEC  96.999 de 20/10/1988</td></tr><tr><td>REBIO DE SERRA NEGRA</td><td>DEC  87.591 de 20/08/1982</td></tr><tr><td>REBIO DE SOORETAMA</td><td>DEC  87.588 de 20/09/1982</td></tr><tr><td>REBIO DE UNA</td><td>DEC  85.463 de 10/12/1980</td></tr><tr><td>REBIO DO ABUFARI</td><td>DEC  87.585 de 20/09/1982</td></tr><tr><td>REBIO DO ATOL DAS ROCAS</td><td>DEC  83.549 de 05/06/1979</td></tr><tr><td>REBIO DO CORREGO DO VEADO</td><td>DEC  87.590 de 20/09/1982; DEC 89.569 de 23/04/1984</td></tr><tr><td>REBIO DO CORREGO GRANDE</td><td>DEC  97.657 de 12/04/1989</td></tr><tr><td>REBIO DO TAPIRAPE</td><td>DEC  97.719 de 05/05/1989</td></tr><tr><td>REBIO DO UATUMA</td><td>DEC  99.277 de 06/06/1990; DEC S/N de 19/09/2002</td></tr><tr><td>REBIO GUARIBAS</td><td>DEC  98.884 de 25/01/1990</td></tr><tr><td>REBIO MARINHA DO ARVOREDO</td><td>DEC  99.142 de 12/03/1990</td></tr><tr><td>REBIO UNIAO</td><td>DEC S/N de 22/04/1998;  DEC S/N de 05/06/2017</td></tr><tr><td>RDS DE  ITATUPA-BAQUIA</td><td>DEC S/N de 14/06/2005</td></tr><tr><td>RDS NASCENTES GERAIZEIRAS</td><td>DEC S/N de 13/10/2014</td></tr><tr><td>RESEX ARAPIRANGA-TROMAI</td><td>DEC 9.339 de 05/04/2018</td></tr><tr><td>RESEX ARIOCA PRUANA</td><td>DEC S/N. de  16/11/2005</td></tr><tr><td>RESEX AUATI-PARANA</td><td>DEC S/N. de 07/08/2001</td></tr><tr><td>RESEX BAIXO RIO BRANCO-JAUAPERI</td><td>DEC 9.401 de 05/06/2018</td></tr><tr><td>RESEX BARREIRO DAS ANTAS</td><td>DEC S/N. de 07/08/2001</td></tr><tr><td>RESEX CHOCOARE-MATO GROSSO</td><td>DEC S/N. de 16/12/2002. DEC 11.551 de 05/06/2023</td></tr><tr><td>RESEX DA BAIA DO TUBARAO</td><td>DEC 9.340 de 05/04/2018</td></tr><tr><td>RESEX DE CURURUPU</td><td>DEC S/N. de 02/06/2004</td></tr><tr><td>RESEX DE SAO JOAO DA PONTA</td><td>DEC S/N. de 13/12/2002</td></tr><tr><td>RESEX DO ALTO TARAUACA</td><td>DEC S/N. de 8/11/2000</td></tr><tr><td>RESEX DO BAIXO JURUA</td><td>DEC S/N. de 01/08/2001</td></tr><tr><td>RESEX DO BATOQUE</td><td>DEC S/N. de 05/06/2003</td></tr><tr><td>RESEX DO CIRIACO</td><td>DEC S/N. de 17/06/2010</td></tr><tr><td>RESEX DO EXTREMO NORTE DO ESTADO DO TOCANTINS</td><td>DEC 535. de 20/05/1992</td></tr><tr><td>RESEX DO LAGO DO CUNIA</td><td>DEC 3.238. de 10/11/1999 ; DEC 9.638. de 26/12/2019</td></tr><tr><td>RESEX DO MEDIO JURUA</td><td>DEC S/N. de 04/03/1997 ; DEC S/N. de 13/10/2014</td></tr><tr><td>RESEX DO MEDIO PURAS</td><td>DEC S/N. de 08/05/2008</td></tr><tr><td>RESEX DO MANDIRA</td><td>DEC S/N. de 13/12/2002</td></tr><tr><td>RESEX DO QUILOMBO FLEXAL</td><td>DEC 536. de 20/05/1992</td></tr><tr><td>RESEX DO RIO DO CAUTARIO</td><td>DEC S/N. de 07/08/2001</td></tr><tr><td>RESEX DO RIO JUTAI</td><td>DEC S/N. de 16/07/2002</td></tr><tr><td>RESEX FILHOS DO MANGUE</td><td>DEC 11.959 de 24/03/2024</td></tr><tr><td>RESEX GURUPA-MELGACO</td><td>DEC S/N. de 30/11/2006</td></tr><tr><td>RESEX IPAA-ANILZINHO</td><td>DEC S/N. de 14/06/2005</td></tr><tr><td>RESEX ITAPETININGA</td><td>DEC 9.333 de 05/04/2018</td></tr><tr><td>RESEX LAGO DO CEDRO</td><td>DEC S/N.de 11/09/2006</td></tr><tr><td>RESEX MAE GRANDE DE CURUCA</td><td>DEC S/N. de 13/12/2002</td></tr><tr><td>RESEX MAPUA</td><td>DEC S/N. de 20/05/2005</td></tr><tr><td>RESEX MARACANA</td><td>DEC S/N. de 13/12/2002</td></tr><tr><td>RESEX MARINHA CUINARANA</td><td>DEC S/N. de 10/10/2014</td></tr><tr><td>RESEX MARINHA DA LAGOA DO JEQUIA</td><td>DEC S/N. de 27/09/2001</td></tr><tr><td>RESEX MARINHA DE ARAI-PEROBA</td><td>DEC S/N. de 20/05/2005; DEC S/N. de 10/10/2014</td></tr><tr><td>RESEX MARINHA DE CAETE-TAPERACU</td><td>DEC S/N. de 20/05/2005</td></tr><tr><td>RESEX MARINHA DE GURUPI-PIRIA</td><td>DEC S/N. de 20/05/2005</td></tr><tr><td>RESEX MARINHA DE SOURE</td><td>DEC de 22/11/2001</td></tr><tr><td>RESEX MARINHA DE TRACUATEUA</td><td>DEC S/N. de 20/05/2005</td></tr><tr><td>RESEX MARINHA DO ARRAIAL DO CABO</td><td>DEC S/N. de 03/01/1997</td></tr><tr><td>RESEX MARINHA DO CORUMBAU</td><td>DEC S/N. de 21/09/2000</td></tr><tr><td>RESEX MARINHA DO DELTA DO PARNAIBA</td><td>DEC S/N. de 16/11/2000</td></tr><tr><td>RESEX MARINHA DO PIRAJUBAE</td><td>DEC 533. de 20/05/1992</td></tr><tr><td>RESEX MARINHA MESTRE LUCINDO</td><td>DEC S/N. de 10/10/2014</td></tr><tr><td>RESEX MARINHA MOCAPAJUBA</td><td>DEC S/N. de 10/10/2014</td></tr><tr><td>RESEX PRAINHA DO CANTO VERDE</td><td>DEC S/N. de 05/06/2009</td></tr><tr><td>RESEX RENASCER</td><td>DEC S/N. de 05/06/2009</td></tr><tr><td>RESEX RIO IRIRI</td><td>DEC S/N. de 05/06/2006</td></tr><tr><td>RESEX RIOZINHO DO ANFRISIO</td><td>DEC S/N. de 08/11/2004</td></tr><tr><td>RESEX TERRA GRANDE-PRACUUBA</td><td>DEC S/N. de 05/06/2006</td></tr><tr><td>RESEX VIRIANDEUA</td><td>DEC 11.958 de 21/03/2024</td></tr><tr><td>MN CAVERNAS DE SAO DESIDERIO</td><td>Decreto 12.042 de 5 de junho de 2024</td></tr><tr><td>REVIS DO SAUIM-DE-COLEIRA</td><td>Decreto 12.047 de 5 de junho de 2024</td></tr></tbody></table></div>"
      ]
     },
     "metadata": {
      "application/vnd.databricks.v1+output": {
       "addedWidgets": {},
       "aggData": [],
       "aggError": "",
       "aggOverflow": false,
       "aggSchema": [],
       "aggSeriesLimitReached": false,
       "aggType": "",
       "arguments": {},
       "columnCustomDisplayInfos": {},
       "data": [
        [
         "APA ANHATOMIRIM",
         "DEC  528 de 20/05/1992"
        ],
        [
         "APA COSTA DAS ALGAS",
         "DEC S/N de 17/06/2010"
        ],
        [
         "APA DA ARARINHA AZUL",
         "DEC 9.402 de 05/06/2018"
        ],
        [
         "APA DA BARRA DO RIO MAMANGUAPE",
         "DEC  924 de 10/09/1993; DEC S;N 7/04/1998"
        ],
        [
         "APA DA COSTA DOS CORAIS",
         "DEC S/N de 23/10/1997"
        ],
        [
         "APA DE FERNANDO DE NORONHA - ROCAS - SAO PEDRO E SAO PAULO",
         "DEC 92.755 de 05/06/1986"
        ],
        [
         "APA DE GUARAQUECABA",
         "DEC  90.883 de 31/01/1985"
        ],
        [
         "APA DE PIACABUCU",
         "DEC  88.421 de 21/06/1983"
        ],
        [
         "APA DO ARQUIPELAGO DE SAO PEDRO E SAO PAULO",
         "DEC 9.313 de 19/03/2018"
        ],
        [
         "APA DO ARQUIPELAGO DE TRINDADE E MARTIM VAZ",
         "DEC 9.312 de 19/03/2018"
        ],
        [
         "APA DO IGARAPE GELADO",
         "DEC  97.718 de 05/05/1989"
        ],
        [
         "APA DOS CAMPOS DE MANICORE",
         "DEC S/N de 11/05/2016"
        ],
        [
         "APA SERRA DA MERUOCA",
         "LEI 11.891 de 24/12/2008"
        ],
        [
         "ARIE BURITI DE VASSUNUNGA",
         "DEC  99.276/1990"
        ],
        [
         "ARIE CAPETINGA - TAQUARA",
         "DEC  91.303 de 03/06/1985"
        ],
        [
         "ARIE CERRADO PE-DE-GIGANTE",
         "DEC  99.275 de 06/06/1990"
        ],
        [
         "ARIE DA MATA DE SANTA GENEBRA",
         "DEC  91.885 de 05/11/1985"
        ],
        [
         "ARIE FLORESTA DA CICUTA",
         "DEC  90.792 de 09/01/1985"
        ],
        [
         "ARIE ILHA DO AMEIXAL",
         "DEC  91.889 de 05/11/1985"
        ],
        [
         "ARIE ILHAS DA QUEIMADA PEQUENA E QUEIMADA GRANDE",
         "DEC  91.887 de 05/11/1985"
        ],
        [
         "ARIE JAVARI-BURITI",
         "DEC  91.886 de 05/11/1985"
        ],
        [
         "ARIE MANGUEZAIS DA FOZ DO RIO MAMANGUAPE",
         "DEC  91.890 de 05/11/1985"
        ],
        [
         "ARIE MATAO DE COSMOPOLIS",
         "DEC  90.791 de 09/01/1985"
        ],
        [
         "ARIE PROJETO DINAMICA BIOLOGICA DE FRAGMENTOS FLORESTAIS",
         "DEC  91.884 de 05/11/1985"
        ],
        [
         "ESEC ALTO MAUES",
         "DEC S/N de 16/10/2014"
        ],
        [
         "ESEC DA GUANABARA",
         "DEC S/N de 15/02/2006"
        ],
        [
         "ESEC DE ARACURI-ESMERALDA",
         "DEC  86.061 de 2/6/1981."
        ],
        [
         "ESEC DE CARIJOS",
         "DEC 94.656. de 20/07/1987"
        ],
        [
         "ESEC DE GUARAQUECABA",
         "DEC 87.222. de 31/05/1982; DEC  93.053. de 31/07/1986; LEI 9.513. de 20/11/1997"
        ],
        [
         "ESEC DE JUTAI-SOLIMOES",
         "DEC  88.541. de 21/7/1983; Portaria 375. de 11/10/2001"
        ],
        [
         "ESEC DE MARACA",
         "DEC  86.061. de 02/06/1981 e Decreto de ampliação de 11.684 de 05 /09/2023"
        ],
        [
         "ESEC DE MARACA-JIPIOCA",
         "DEC 86.061 de 02/06/1981"
        ],
        [
         "ESEC DE MURICI",
         "DEC S/N. de 28/05/2001"
        ],
        [
         "ESEC DE PIRAPITINGA",
         "DEC 94.656. de 20/07/1987"
        ],
        [
         "ESEC DE TAMOIOS",
         "DEC  98.864. de 23/01/1990"
        ],
        [
         "ESEC DO JARI",
         "DEC  87.092. de 12/04/1982; DEC 89.440. de 13/03/1984"
        ],
        [
         "ESEC DO SERIDO",
         "DEC  87.222. de 31/05/1982"
        ],
        [
         "ESEC DOS TUPINIQUINS",
         "DEC 92.964. de 21/07/1986"
        ],
        [
         "ESEC JUAMI-JAPURA",
         "DEC 91.307. de 03/06/1985"
        ],
        [
         "ESEC MICO-LEAO-PRETO",
         "DEC S/N de 16/07/2002; DEC S/N de 14/05/2004"
        ],
        [
         "ESEC RIO ACRE",
         "DEC 86.061. de 02/06/1981"
        ],
        [
         "ESEC TUPINAMBAS",
         "DEC  94.656. de 20/07/1987"
        ],
        [
         "FLONA CONTENDAS DO SINCORA",
         "DEC S/N. de 21/09/1999"
        ],
        [
         "FLONA DA RESTINGA DE CABEDELO",
         "DEC S/N. de 02/06/2004"
        ],
        [
         "FLONA DE ACU",
         "Portaria 245 de 18/07/2001"
        ],
        [
         "FLONA DE ANAUA",
         "DEC S/N de 18/02/2005"
        ],
        [
         "FLONA DE ASSUNGUI",
         "Portaria 559 de 25/10/1968"
        ],
        [
         "FLONA DE CACADOR",
         "Portaria 560 de 25/10/1968"
        ],
        [
         "FLONA DE CANELA",
         "Portaria 561 de 25/10/1968"
        ],
        [
         "FLONA DE CAPAO BONITO",
         "Portaria 558 de 25/10/1968"
        ],
        [
         "FLONA DE CHAPECO",
         "Portaria 560 de 25/10/1968"
        ],
        [
         "FLONA DE GOYTACAZES",
         "DEC S/N de 05/06/2012"
        ],
        [
         "FLONA DE IBIRAMA",
         "DEC  95.818. de 11/03/1988"
        ],
        [
         "FLONA DE IRATI",
         "Portaria 559 de 25/10/1968"
        ],
        [
         "FLONA DE ITAITUBA I",
         "DEC  2.481. de 02/02/1998; LEI 12.678. de 25/06/2012"
        ],
        [
         "FLONA DE LORENA",
         "Portaria 246 de 18/07/2001"
        ],
        [
         "FLONA DE MULATA",
         "DEC S/N de 01/08/2001"
        ],
        [
         "FLONA DE NISIA FLORESTA",
         "DEC S/N de 27/09/2001"
        ],
        [
         "FLONA DE NEGREIROS",
         "DEC S/N de 11/10/2007"
        ],
        [
         "FLONA DE PACOTUBA",
         "DEC S/N de 13/12/2002"
        ],
        [
         "FLONA DE PALMARES",
         "DEC S/N de 21/02/2005"
        ],
        [
         "FLONA DE PARAOPEBA",
         "Portaria 248 de 18/07/2001"
        ],
        [
         "FLONA DE PASSA QUATRO",
         "Portaria 562 de 25/10/1968"
        ],
        [
         "FLONA DE PASSO FUNDO",
         "Portaria 561 de 25/10/1968"
        ],
        [
         "FLONA DE PAU-ROSA",
         "DEC S/N de 07/08/2001."
        ],
        [
         "FLONA DE PIRAI DO SUL",
         "DEC S/N de 02/06/2004"
        ],
        [
         "FLONA DE RITAPOLIS",
         "DEC S/N de 21/09/1999"
        ],
        [
         "FLONA DE SAO FRANCISCO",
         "DEC S/N de 07/08/2001"
        ],
        [
         "FLONA DE SOBRAL",
         "Portaria 358. de 27/09/2001"
        ],
        [
         "FLONA DE TEFE",
         "DEC  97.629. de 10/04/1989."
        ],
        [
         "FLONA DE TRES BARRAS",
         "Portaria 560 de 25/12/1968"
        ],
        [
         "FLONA DO AMANA",
         "DEC S/N de 13/02/2006; DEC S/N de 11/05/2016"
        ],
        [
         "FLONA DO AMAPA",
         "DEC  97.630. de 10/04/1989."
        ],
        [
         "FLONA DO IBURA",
         "DEC S/N de 19/09/2005."
        ],
        [
         "FLONA DO PARIMA",
         "DEC 11.685 de 05/09/2023"
        ],
        [
         "FLONA DO PURUS",
         "DEC  96.190 de 21/06/1988"
        ],
        [
         "FLONA DO RIO PRETO",
         "DEC  98.845 de 17/01/1990"
        ],
        [
         "FLONA DO TAPIRAPE - AQUIRI",
         "DEC  97.720 de 05/05/1989"
        ],
        [
         "FLONA MAPIA - INAUINI",
         "DEC  98.051 de 14/08/1989"
        ],
        [
         "MN DAS ILHAS DE TRINDADE. MARTIM VAZ E DO MONTE COLUMBIA",
         "DEC 9.312 de 19/03/2018"
        ],
        [
         "MN DO ARQUIPELAGO DAS ILHAS CAGARRAS",
         "LEI 12.229 de 13/04/2010"
        ],
        [
         "MN DO ARQUIPELAGO DE SAO PEDRO E SAO PAULO",
         "DEC 9.313 de 19/03/2018"
        ],
        [
         "MN DO RIO SAO FRANCISCO",
         "DEC S/N. de 05/06/2009"
        ],
        [
         "MN DOS PONTOES CAPIXABAS",
         "DEC S/N de 19/12/2002; Lei ordinária  n. 11.686. de 02/06/2008"
        ],
        [
         "PARNA DA FURNA FEIA",
         "DEC S/N. de 05/06/2012"
        ],
        [
         "PARNA DA SERRA DAS LONTRAS",
         "DEC S/N. de 11/06/2010"
        ],
        [
         "PARNA DA TIJUCA",
         "DEC 50.923. de 06/07/1961 ;DEC 60.183. de 08/02/1967 ;DEC 70.186. de 23/02/1972 ;DEC S/N. de 03/06/2004"
        ],
        [
         "PARNA DE ANAVILHANAS",
         "DEC 86.061. de 02/06/1981;LEI 11.799. de 29/10/2008"
        ],
        [
         "PARNA DE CAPARAO",
         "DEC 50.646. de 24/05/1961; DEC S/N. de 20/11/1991; DEC S/N. de 20/11/1997"
        ],
        [
         "PARNA DE JERICOACOARA",
         "DEC S/N. de 04/02/2002; LEI 11.486. de 15/06/2007"
        ],
        [
         "PARNA DE SAINT-HILAIRE/LANGE",
         "LO 10.227. de 23/05/2001"
        ],
        [
         "PARNA DE UBAJARA",
         "DEC 45.954. de 30/04/1959; DEC 72.144. de 26/04/1973; DEC S/N. de 13/12/2002"
        ],
        [
         "PARNA DO ALTO CARIRI",
         "DEC S/N. de 11/06/2010"
        ],
        [
         "PARNA DO CATIMBAU",
         "DEC S/N. de 13/12/2002"
        ],
        [
         "PARNA DO DESCOBRIMENTO",
         "DEC S/N. de 05/06/2012"
        ],
        [
         "PARNA DO IGUACU",
         "DEC  1.035. de 10/01/1939; DEC 86.676. de 01/12/1981"
        ],
        [
         "PARNA DO PAU BRASIL",
         "DEC S/N. de 11/06/2010"
        ],
        [
         "PARNA DO SUPERAGUI",
         "DEC 97.688 de 25/04/1989; DEC 9.513 de 20/11/1997"
        ],
        [
         "PARNA DOS CAMPOS GERAIS",
         "DEC S/N de 23/03/2006"
        ],
        [
         "PARNA GUARICANA",
         "DEC S/N. de 13/10/2014"
        ],
        [
         "PARNA MARINHO DAS ILHAS DOS CURRAIS",
         "LEI 12.829. de 20/06/2013"
        ],
        [
         "PARNA MARINHO DE FERNANDO DE NORONHA",
         "DEC 96.693. de 14/09/1988"
        ],
        [
         "PARNA MARINHO DOS ABROLHOS",
         "DEC 88.218. de 06/04/1983"
        ],
        [
         "PARNA MONTANHAS DO TUMUCUMAQUE",
         "DEC S/N. de 22/08/2002"
        ],
        [
         "PARNA NASCENTES DO LAGO JARI",
         "DEC S/N. de 08/05/2008"
        ],
        [
         "PARNA SERRA DA CUTIA",
         "DEC S/N. de 01/08/2001"
        ],
        [
         "PARNA SERRA DE ITABAIANA",
         "DEC S/N. de 15/06/2005"
        ],
        [
         "REVIS DA ARARINHA AZUL",
         "DEC 9.402 de 05/06/2018"
        ],
        [
         "REVIS DO ARQUIPELAGO DE ALCATRAZES",
         "DEC S/N de 02/08/2016"
        ],
        [
         "REVIS DA ILHA DOS LOBOS",
         "DEC 88.463. DE 04/07/1983; DEC S/N de 13/02/2006"
        ],
        [
         "REVIS DE SANTA CRUZ",
         "DEC S/N de 17/06/2010"
        ],
        [
         "REBIO  AUGUSTO RUSCHI",
         "DEC 87.589 de 20/09/1982; DEC 92.753 de 05/06/1986"
        ],
        [
         "REBIO BOM JESUS",
         "DEC S/N de 05/06/2012"
        ],
        [
         "REBIO DE COMBOIOS",
         "DEC  90.222 de 25/09/1984"
        ],
        [
         "REBIO DE SALTINHO",
         "DEC  88.744 de 21/09/1983"
        ],
        [
         "REBIO DE SANTA ISABEL",
         "DEC  96.999 de 20/10/1988"
        ],
        [
         "REBIO DE SERRA NEGRA",
         "DEC  87.591 de 20/08/1982"
        ],
        [
         "REBIO DE SOORETAMA",
         "DEC  87.588 de 20/09/1982"
        ],
        [
         "REBIO DE UNA",
         "DEC  85.463 de 10/12/1980"
        ],
        [
         "REBIO DO ABUFARI",
         "DEC  87.585 de 20/09/1982"
        ],
        [
         "REBIO DO ATOL DAS ROCAS",
         "DEC  83.549 de 05/06/1979"
        ],
        [
         "REBIO DO CORREGO DO VEADO",
         "DEC  87.590 de 20/09/1982; DEC 89.569 de 23/04/1984"
        ],
        [
         "REBIO DO CORREGO GRANDE",
         "DEC  97.657 de 12/04/1989"
        ],
        [
         "REBIO DO TAPIRAPE",
         "DEC  97.719 de 05/05/1989"
        ],
        [
         "REBIO DO UATUMA",
         "DEC  99.277 de 06/06/1990; DEC S/N de 19/09/2002"
        ],
        [
         "REBIO GUARIBAS",
         "DEC  98.884 de 25/01/1990"
        ],
        [
         "REBIO MARINHA DO ARVOREDO",
         "DEC  99.142 de 12/03/1990"
        ],
        [
         "REBIO UNIAO",
         "DEC S/N de 22/04/1998;  DEC S/N de 05/06/2017"
        ],
        [
         "RDS DE  ITATUPA-BAQUIA",
         "DEC S/N de 14/06/2005"
        ],
        [
         "RDS NASCENTES GERAIZEIRAS",
         "DEC S/N de 13/10/2014"
        ],
        [
         "RESEX ARAPIRANGA-TROMAI",
         "DEC 9.339 de 05/04/2018"
        ],
        [
         "RESEX ARIOCA PRUANA",
         "DEC S/N. de  16/11/2005"
        ],
        [
         "RESEX AUATI-PARANA",
         "DEC S/N. de 07/08/2001"
        ],
        [
         "RESEX BAIXO RIO BRANCO-JAUAPERI",
         "DEC 9.401 de 05/06/2018"
        ],
        [
         "RESEX BARREIRO DAS ANTAS",
         "DEC S/N. de 07/08/2001"
        ],
        [
         "RESEX CHOCOARE-MATO GROSSO",
         "DEC S/N. de 16/12/2002. DEC 11.551 de 05/06/2023"
        ],
        [
         "RESEX DA BAIA DO TUBARAO",
         "DEC 9.340 de 05/04/2018"
        ],
        [
         "RESEX DE CURURUPU",
         "DEC S/N. de 02/06/2004"
        ],
        [
         "RESEX DE SAO JOAO DA PONTA",
         "DEC S/N. de 13/12/2002"
        ],
        [
         "RESEX DO ALTO TARAUACA",
         "DEC S/N. de 8/11/2000"
        ],
        [
         "RESEX DO BAIXO JURUA",
         "DEC S/N. de 01/08/2001"
        ],
        [
         "RESEX DO BATOQUE",
         "DEC S/N. de 05/06/2003"
        ],
        [
         "RESEX DO CIRIACO",
         "DEC S/N. de 17/06/2010"
        ],
        [
         "RESEX DO EXTREMO NORTE DO ESTADO DO TOCANTINS",
         "DEC 535. de 20/05/1992"
        ],
        [
         "RESEX DO LAGO DO CUNIA",
         "DEC 3.238. de 10/11/1999 ; DEC 9.638. de 26/12/2019"
        ],
        [
         "RESEX DO MEDIO JURUA",
         "DEC S/N. de 04/03/1997 ; DEC S/N. de 13/10/2014"
        ],
        [
         "RESEX DO MEDIO PURAS",
         "DEC S/N. de 08/05/2008"
        ],
        [
         "RESEX DO MANDIRA",
         "DEC S/N. de 13/12/2002"
        ],
        [
         "RESEX DO QUILOMBO FLEXAL",
         "DEC 536. de 20/05/1992"
        ],
        [
         "RESEX DO RIO DO CAUTARIO",
         "DEC S/N. de 07/08/2001"
        ],
        [
         "RESEX DO RIO JUTAI",
         "DEC S/N. de 16/07/2002"
        ],
        [
         "RESEX FILHOS DO MANGUE",
         "DEC 11.959 de 24/03/2024"
        ],
        [
         "RESEX GURUPA-MELGACO",
         "DEC S/N. de 30/11/2006"
        ],
        [
         "RESEX IPAA-ANILZINHO",
         "DEC S/N. de 14/06/2005"
        ],
        [
         "RESEX ITAPETININGA",
         "DEC 9.333 de 05/04/2018"
        ],
        [
         "RESEX LAGO DO CEDRO",
         "DEC S/N.de 11/09/2006"
        ],
        [
         "RESEX MAE GRANDE DE CURUCA",
         "DEC S/N. de 13/12/2002"
        ],
        [
         "RESEX MAPUA",
         "DEC S/N. de 20/05/2005"
        ],
        [
         "RESEX MARACANA",
         "DEC S/N. de 13/12/2002"
        ],
        [
         "RESEX MARINHA CUINARANA",
         "DEC S/N. de 10/10/2014"
        ],
        [
         "RESEX MARINHA DA LAGOA DO JEQUIA",
         "DEC S/N. de 27/09/2001"
        ],
        [
         "RESEX MARINHA DE ARAI-PEROBA",
         "DEC S/N. de 20/05/2005; DEC S/N. de 10/10/2014"
        ],
        [
         "RESEX MARINHA DE CAETE-TAPERACU",
         "DEC S/N. de 20/05/2005"
        ],
        [
         "RESEX MARINHA DE GURUPI-PIRIA",
         "DEC S/N. de 20/05/2005"
        ],
        [
         "RESEX MARINHA DE SOURE",
         "DEC de 22/11/2001"
        ],
        [
         "RESEX MARINHA DE TRACUATEUA",
         "DEC S/N. de 20/05/2005"
        ],
        [
         "RESEX MARINHA DO ARRAIAL DO CABO",
         "DEC S/N. de 03/01/1997"
        ],
        [
         "RESEX MARINHA DO CORUMBAU",
         "DEC S/N. de 21/09/2000"
        ],
        [
         "RESEX MARINHA DO DELTA DO PARNAIBA",
         "DEC S/N. de 16/11/2000"
        ],
        [
         "RESEX MARINHA DO PIRAJUBAE",
         "DEC 533. de 20/05/1992"
        ],
        [
         "RESEX MARINHA MESTRE LUCINDO",
         "DEC S/N. de 10/10/2014"
        ],
        [
         "RESEX MARINHA MOCAPAJUBA",
         "DEC S/N. de 10/10/2014"
        ],
        [
         "RESEX PRAINHA DO CANTO VERDE",
         "DEC S/N. de 05/06/2009"
        ],
        [
         "RESEX RENASCER",
         "DEC S/N. de 05/06/2009"
        ],
        [
         "RESEX RIO IRIRI",
         "DEC S/N. de 05/06/2006"
        ],
        [
         "RESEX RIOZINHO DO ANFRISIO",
         "DEC S/N. de 08/11/2004"
        ],
        [
         "RESEX TERRA GRANDE-PRACUUBA",
         "DEC S/N. de 05/06/2006"
        ],
        [
         "RESEX VIRIANDEUA",
         "DEC 11.958 de 21/03/2024"
        ],
        [
         "MN CAVERNAS DE SAO DESIDERIO",
         "Decreto 12.042 de 5 de junho de 2024"
        ],
        [
         "REVIS DO SAUIM-DE-COLEIRA",
         "Decreto 12.047 de 5 de junho de 2024"
        ]
       ],
       "datasetInfos": [],
       "dbfsResultPath": null,
       "isJsonSchema": true,
       "metadata": {},
       "overflow": false,
       "plotOptions": {
        "customPlotOptions": {},
        "displayType": "table",
        "pivotAggregation": null,
        "pivotColumns": null,
        "xColumns": null,
        "yColumns": null
       },
       "removedWidgets": [],
       "schema": [
        {
         "metadata": "{\"comment\":\"Unidade de Conservacao com a Categoria abreviada ou com iniciais\"}",
         "name": "TIPO_NOME",
         "type": "\"string\""
        },
        {
         "metadata": "{\"comment\":\"Atos legais (Criacao ou redefinicao)\"}",
         "name": "Atos_legais",
         "type": "\"string\""
        }
       ],
       "type": "table"
      }
     },
     "output_type": "display_data"
    }
   ],
   "source": [
    "%sql\n",
    "--UCs não atingidas por incêndios. Observação: verificar a data de criação da Unidade de Conservação para validação da resposta\n",
    "SELECT TIPO_NOME, Atos_legais\n",
    "FROM DADOS_UC\n",
    "WHERE TIPO_NOME NOT IN \n",
    "                (SELECT TIPO_NOME\n",
    "                FROM HISTORICO_DADOS_UC)"
   ]
  },
  {
   "cell_type": "code",
   "execution_count": 0,
   "metadata": {
    "application/vnd.databricks.v1+cell": {
     "cellMetadata": {
      "byteLimit": 2048000,
      "implicitDf": true,
      "rowLimit": 10000
     },
     "inputWidgets": {},
     "nuid": "2d4c06d8-4054-4c6f-9f6a-5a7ff547f1d4",
     "showTitle": false,
     "title": ""
    }
   },
   "outputs": [
    {
     "output_type": "display_data",
     "data": {
      "text/html": [
       "<style scoped>\n",
       "  .table-result-container {\n",
       "    max-height: 300px;\n",
       "    overflow: auto;\n",
       "  }\n",
       "  table, th, td {\n",
       "    border: 1px solid black;\n",
       "    border-collapse: collapse;\n",
       "  }\n",
       "  th, td {\n",
       "    padding: 5px;\n",
       "  }\n",
       "  th {\n",
       "    text-align: left;\n",
       "  }\n",
       "</style><div class='table-result-container'><table class='table-result'><thead style='background-color: white'><tr><th>AREA_QUEIM_ANO</th><th>ano</th></tr></thead><tbody><tr><td>915223.419561141</td><td>2023</td></tr><tr><td>1236528.0334871493</td><td>2022</td></tr><tr><td>1018696.7040600003</td><td>2021</td></tr><tr><td>1491426.500577</td><td>2020</td></tr><tr><td>1206317.7612448896</td><td>2019</td></tr><tr><td>650356.2418569999</td><td>2018</td></tr></tbody></table></div>"
      ]
     },
     "metadata": {
      "application/vnd.databricks.v1+output": {
       "addedWidgets": {},
       "aggData": [],
       "aggError": "",
       "aggOverflow": false,
       "aggSchema": [],
       "aggSeriesLimitReached": false,
       "aggType": "",
       "arguments": {},
       "columnCustomDisplayInfos": {},
       "data": [
        [
         915223.419561141,
         2023
        ],
        [
         1236528.0334871493,
         2022
        ],
        [
         1018696.7040600003,
         2021
        ],
        [
         1491426.500577,
         2020
        ],
        [
         1206317.7612448896,
         2019
        ],
        [
         650356.2418569999,
         2018
        ]
       ],
       "datasetInfos": [],
       "dbfsResultPath": null,
       "isJsonSchema": true,
       "metadata": {},
       "overflow": false,
       "plotOptions": {
        "customPlotOptions": {},
        "displayType": "table",
        "pivotAggregation": null,
        "pivotColumns": null,
        "xColumns": null,
        "yColumns": null
       },
       "removedWidgets": [],
       "schema": [
        {
         "metadata": "{}",
         "name": "AREA_QUEIM_ANO",
         "type": "\"double\""
        },
        {
         "metadata": "{\"comment\":\"Ano da ocorrencia do incendio\"}",
         "name": "ano",
         "type": "\"integer\""
        }
       ],
       "type": "table"
      }
     },
     "output_type": "display_data"
    },
    {
     "output_type": "display_data",
     "data": {
      "text/plain": [
       "Databricks visualization. Run in Databricks to view."
      ]
     },
     "metadata": {
      "application/vnd.databricks.v1.subcommand+json": {
       "baseErrorDetails": null,
       "bindings": {},
       "collapsed": false,
       "command": "%sql WITH q AS (SELECT SUM(Area_queimada) AS AREA_QUEIM_ANO, ano\nFROM HISTORICO_DADOS_UC\nGROUP BY ano) SELECT `ano`,SUM(`AREA_QUEIM_ANO`) `column_9e86fe5a6` FROM q GROUP BY `ano`",
       "commandTitle": "Visualization 1",
       "commandType": "auto",
       "commandVersion": 0,
       "commentThread": [],
       "commentsVisible": false,
       "contentSha256Hex": null,
       "customPlotOptions": {
        "redashChart": [
         {
          "key": "type",
          "value": "CHART"
         },
         {
          "key": "options",
          "value": {
           "alignYAxesAtZero": true,
           "coefficient": 1,
           "columnConfigurationMap": {
            "x": {
             "column": "ano",
             "id": "column_9e86fe5a9"
            },
            "y": [
             {
              "column": "AREA_QUEIM_ANO",
              "id": "column_9e86fe5a6",
              "transform": "SUM"
             }
            ]
           },
           "dateTimeFormat": "DD/MM/YYYY HH:mm",
           "direction": {
            "type": "counterclockwise"
           },
           "error_y": {
            "type": "data",
            "visible": true
           },
           "globalSeriesType": "line",
           "isAggregationOn": true,
           "legend": {
            "traceorder": "normal"
           },
           "missingValuesAsZero": true,
           "numberFormat": "0,0.[00000]",
           "percentFormat": "0[.]00%",
           "series": {
            "error_y": {
             "type": "data",
             "visible": true
            },
            "stacking": null
           },
           "seriesOptions": {
            "column_9e86fe5a6": {
             "name": "ano",
             "type": "line",
             "yAxis": 0
            }
           },
           "showDataLabels": false,
           "sizemode": "diameter",
           "sortX": true,
           "sortY": true,
           "swappedAxes": false,
           "textFormat": "",
           "useAggregationsUi": true,
           "valuesOptions": {},
           "version": 2,
           "xAxis": {
            "labels": {
             "enabled": true
            },
            "type": "-"
           },
           "yAxis": [
            {
             "type": "-"
            },
            {
             "opposite": true,
             "type": "-"
            }
           ]
          }
         }
        ]
       },
       "datasetPreviewNameToCmdIdMap": {},
       "diffDeletes": [],
       "diffInserts": [],
       "displayType": "redashChart",
       "error": null,
       "errorDetails": null,
       "errorSummary": null,
       "errorTraceType": null,
       "finishTime": 0,
       "globalVars": {},
       "guid": "",
       "height": "auto",
       "hideCommandCode": false,
       "hideCommandResult": false,
       "iPythonMetadata": null,
       "inputWidgets": {},
       "isLockedInExamMode": false,
       "latestUser": "a user",
       "latestUserId": null,
       "listResultMetadata": null,
       "metadata": {
        "byteLimit": 2048000,
        "implicitDf": true,
        "rowLimit": 10000
       },
       "nuid": "1380aa6c-5fe5-4402-bb39-5d32cd8788e1",
       "origId": 0,
       "parentHierarchy": [],
       "pivotAggregation": null,
       "pivotColumns": null,
       "position": 49.115203373134136,
       "resultDbfsErrorMessage": null,
       "resultDbfsStatus": "INLINED_IN_TREE",
       "results": null,
       "showCommandTitle": false,
       "startTime": 0,
       "state": "input",
       "streamStates": {},
       "subcommandOptions": {
        "queryPlan": {
         "groups": [
          {
           "column": "ano",
           "type": "column"
          }
         ],
         "selects": [
          {
           "column": "ano",
           "type": "column"
          },
          {
           "alias": "column_9e86fe5a6",
           "args": [
            {
             "column": "AREA_QUEIM_ANO",
             "type": "column"
            }
           ],
           "function": "SUM",
           "type": "function"
          }
         ]
        }
       },
       "submitTime": 0,
       "subtype": "tableResultSubCmd.visualization",
       "tableResultIndex": 0,
       "useConsistentColors": false,
       "version": "CommandV1",
       "width": "auto",
       "workflows": [],
       "xColumns": null,
       "yColumns": null
      }
     },
     "output_type": "display_data"
    }
   ],
   "source": [
    "%sql\n",
    "--Gráfico que registra a evolução das áreas Queimadas entre o período de 2018 à 2023\n",
    "SELECT SUM(Area_queimada) AS AREA_QUEIM_ANO, ano\n",
    "FROM HISTORICO_DADOS_UC\n",
    "GROUP BY ano"
   ]
  },
  {
   "cell_type": "markdown",
   "metadata": {
    "application/vnd.databricks.v1+cell": {
     "cellMetadata": {
      "byteLimit": 2048000,
      "rowLimit": 10000
     },
     "inputWidgets": {},
     "nuid": "3a334ff7-9a95-4e6c-b8f1-0bb0c5a57314",
     "showTitle": false,
     "title": ""
    }
   },
   "source": [
    "Pelos gráfico acima é possível perceber que entre 2018 à 2020, houve uma expansão significativa da área atingidas por queimmadas nas UCs. A partir de 2020 à 2023, a área atingida diminui e fica oscilando entre 2021 à 2023.  Infelizmente a queda da área atingida não foi o suficiente para voltar ao número de área afetada em 2018. E possívelmente quando tivermos os dados consolidados das áreas atingidas deste ano, teremos um aumento significativo, vide as notícias a respeito do incêndio do Pantanal em 2024. "
   ]
  },
  {
   "cell_type": "markdown",
   "metadata": {
    "application/vnd.databricks.v1+cell": {
     "cellMetadata": {
      "byteLimit": 2048000,
      "rowLimit": 10000
     },
     "inputWidgets": {},
     "nuid": "b2037887-61c0-4d87-bed1-d263c3b5ebb8",
     "showTitle": false,
     "title": ""
    }
   },
   "source": [
    "<div style=\"text-align: justify;\">\n",
    "4 - Encerramento do Trabalho e Conclusão \n",
    "\n",
    "O trabalho se iniciou pelo tratamento dos arquivos em formato xlsx no Colab do Google Driver. Após isto, os arquivos foram convertidos em CSV, armazenados no GitHub e foram carregados para dentro da Plataforma Databricks. Após o upload, foram verificado quais ajustes e correções necessárias que foram realizadas já com as tabelas em formato delta. O ajuste final foi acréscimo da coluna \"ano\" para cada tabela de ocorrências, o que foi fundamental na etapa final de união de várias tabelas em uma apenas.  Durante a consulta constatou-se que o bioma mais afetado nas UCs é o Cerrado.  O Pantanal não esteve presente em todos os anos do  (2018 à 2023), mas quando aparece, especialmente em 2020, surge com percentual alarmante de área afetada em relação a área de abragência da UC. No gráfico de evolução, é possível perceber que 2020 foi o pior ano com as maiores áreas atingidas pelo fogo.  \n",
    "\n",
    "Foi interessante desenvolver este projeto e trabalhar com dados que me são muito caros. Acredito que os objetivos do trabalho foram alcançados e que foi cumprido todo o ciclo de vida de produção do dado, apesar do curtíssimo espaço de tempo para aprender a utilizar o Databricks, uma plataforma que até então desconhecia. Mas reconheço que oferece bastantes recursos mesmo na versão gratuita, dois que cito é a possibilidade de usar diferentes linguagens em um só notebook e a outra é a facilidade de gerar a visualização dos dados pelos gráficos. Pontos que entendo que o banco de dados que construi precisa de melhorias são: criação de uma coluna com a data da criação da UC e criação de nova tabela onde tenhas as UCs e as UFs, estas como valores únicos. Oportunamente serão adotadas estas melhorias, pois a ideia é continuar alimentado este banco de dados relativos aos incêndios a medida que a ICMBio for atualizando os dados no site GOV.BR.  \n",
    "\n",
    "Encerro saudando o trabalho dos servidores do Ministério do Meio Ambiente e fico na torcida para que os políticos se sensibilizem para a questão ambiental, que é urgente, e parem de cortar orçamento para a Pasta Ambiental. O futuro do nosso país agradece. "
   ]
  }
 ],
 "metadata": {
  "application/vnd.databricks.v1+notebook": {
   "dashboards": [],
   "environmentMetadata": null,
   "language": "python",
   "notebookMetadata": {
    "mostRecentlyExecutedCommandWithImplicitDF": {
     "commandId": 1813990037129856,
     "dataframes": [
      "_sqldf"
     ]
    },
    "pythonIndentUnit": 4
   },
   "notebookName": "MVP Engenharia de Dados - Pós-Graduação PUC RIO Ciencia de Dados e Analise - Ana Paula Pessoa da Silva - Jul 2024",
   "widgets": {}
  }
 },
 "nbformat": 4,
 "nbformat_minor": 0
}
